{
 "cells": [
  {
   "cell_type": "code",
   "execution_count": 1,
   "id": "e970afe4",
   "metadata": {},
   "outputs": [],
   "source": [
    "import pandas as pd\n",
    "import plotly.graph_objects as go\n",
    "import datetime\n",
    "import numpy as np\n",
    "import cProfile\n",
    "import sys\n",
    "import pickle\n",
    "import random\n",
    "\n",
    "from graph import TransportGraph\n",
    "from forward_search import FCH"
   ]
  },
  {
   "cell_type": "markdown",
   "id": "2a9e5e1c",
   "metadata": {},
   "source": [
    "# Build transport graph"
   ]
  },
  {
   "cell_type": "code",
   "execution_count": 2,
   "id": "4e3e04f4",
   "metadata": {},
   "outputs": [],
   "source": [
    "CITY = 'kuopio' #belfast, kuopio"
   ]
  },
  {
   "cell_type": "markdown",
   "id": "44cad3f3",
   "metadata": {},
   "source": [
    "## Optional \n",
    "### Add inverted road connections"
   ]
  },
  {
   "cell_type": "code",
   "execution_count": 3,
   "id": "8639e0a2",
   "metadata": {},
   "outputs": [],
   "source": [
    "transport_connections = pd.read_csv(F'data/{CITY}/network_temporal_day.csv', sep=';')\n",
    "walk_connections = pd.read_csv(F'data/{CITY}/network_walk.csv', sep=';')"
   ]
  },
  {
   "cell_type": "code",
   "execution_count": 4,
   "id": "cd49be14",
   "metadata": {},
   "outputs": [
    {
     "data": {
      "text/plain": [
       "1000"
      ]
     },
     "execution_count": 4,
     "metadata": {},
     "output_type": "execute_result"
    }
   ],
   "source": [
    "walk_connections['d_walk'].max()"
   ]
  },
  {
   "cell_type": "code",
   "execution_count": 5,
   "id": "e5c02912",
   "metadata": {},
   "outputs": [],
   "source": [
    "transport_connections = transport_connections[\n",
    "    transport_connections['from_stop_I']!=transport_connections['to_stop_I']]"
   ]
  },
  {
   "cell_type": "code",
   "execution_count": 6,
   "id": "6a43904e",
   "metadata": {},
   "outputs": [],
   "source": [
    "df_walk_invert = walk_connections.copy()\n",
    "df_walk_invert = df_walk_invert.rename(columns={'from_stop_I': 'to_stop_I', 'to_stop_I': 'from_stop_I'})\n",
    "walk_connections = pd.concat((walk_connections, df_walk_invert))"
   ]
  },
  {
   "cell_type": "code",
   "execution_count": 7,
   "id": "ec246f9f",
   "metadata": {
    "scrolled": false
   },
   "outputs": [],
   "source": [
    "tg = TransportGraph(transport_connections=transport_connections, walk_connections=walk_connections)"
   ]
  },
  {
   "cell_type": "code",
   "execution_count": 8,
   "id": "fb30be11",
   "metadata": {},
   "outputs": [
    {
     "data": {
      "text/plain": [
       "(8891,\n",
       " 549,\n",
       " {'min_size': 0,\n",
       "  'mean_size': 3.2843324710381285,\n",
       "  'std_size': 15.760627889293113,\n",
       "  'max_size': 306})"
      ]
     },
     "execution_count": 8,
     "metadata": {},
     "output_type": "execute_result"
    }
   ],
   "source": [
    "tg.edges_cnt, tg.nodes_cnt, tg.timetable_stats"
   ]
  },
  {
   "cell_type": "markdown",
   "id": "f8a0f3e7",
   "metadata": {},
   "source": [
    "# Build CH graph"
   ]
  },
  {
   "cell_type": "markdown",
   "id": "3a841342",
   "metadata": {},
   "source": [
    "### Calculate Sparce-CH"
   ]
  },
  {
   "cell_type": "code",
   "execution_count": 9,
   "id": "661e42f6",
   "metadata": {
    "scrolled": true
   },
   "outputs": [
    {
     "name": "stderr",
     "output_type": "stream",
     "text": [
      "100%|███████████████████████████████████████████████████████████████████████████████████████████████████████████████████████████████████████████████████████████████████████████████████| 549/549 [00:01<00:00, 484.01it/s]"
     ]
    },
    {
     "name": "stdout",
     "output_type": "stream",
     "text": [
      "         19875792 function calls (16681592 primitive calls) in 9.101 seconds\n",
      "\n",
      "   Ordered by: standard name\n",
      "\n",
      "   ncalls  tottime  percall  cumtime  percall filename:lineno(function)\n",
      "       20    0.000    0.000    0.000    0.000 <frozen importlib._bootstrap>:100(acquire)\n",
      "     10/3    0.000    0.000    0.019    0.006 <frozen importlib._bootstrap>:1022(_find_and_load)\n",
      "     14/7    0.000    0.000    0.010    0.001 <frozen importlib._bootstrap>:1053(_handle_fromlist)\n",
      "       20    0.000    0.000    0.000    0.000 <frozen importlib._bootstrap>:125(release)\n",
      "       10    0.000    0.000    0.000    0.000 <frozen importlib._bootstrap>:165(__init__)\n",
      "       10    0.000    0.000    0.000    0.000 <frozen importlib._bootstrap>:169(__enter__)\n",
      "       10    0.000    0.000    0.000    0.000 <frozen importlib._bootstrap>:173(__exit__)\n",
      "       20    0.000    0.000    0.000    0.000 <frozen importlib._bootstrap>:179(_get_module_lock)\n",
      "       10    0.000    0.000    0.000    0.000 <frozen importlib._bootstrap>:198(cb)\n",
      "       10    0.000    0.000    0.000    0.000 <frozen importlib._bootstrap>:216(_lock_unlock_module)\n",
      "     18/3    0.000    0.000    0.014    0.005 <frozen importlib._bootstrap>:233(_call_with_frames_removed)\n",
      "       85    0.000    0.000    0.000    0.000 <frozen importlib._bootstrap>:244(_verbose_message)\n",
      "       10    0.000    0.000    0.000    0.000 <frozen importlib._bootstrap>:357(__init__)\n",
      "       18    0.000    0.000    0.000    0.000 <frozen importlib._bootstrap>:391(cached)\n",
      "       26    0.000    0.000    0.000    0.000 <frozen importlib._bootstrap>:404(parent)\n",
      "       10    0.000    0.000    0.000    0.000 <frozen importlib._bootstrap>:412(has_location)\n",
      "        8    0.000    0.000    0.000    0.000 <frozen importlib._bootstrap>:48(_new_module)\n",
      "       10    0.000    0.000    0.000    0.000 <frozen importlib._bootstrap>:492(_init_module_attrs)\n",
      "       10    0.000    0.000    0.003    0.000 <frozen importlib._bootstrap>:564(module_from_spec)\n",
      "     10/3    0.000    0.000    0.018    0.006 <frozen importlib._bootstrap>:664(_load_unlocked)\n",
      "       10    0.000    0.000    0.000    0.000 <frozen importlib._bootstrap>:71(__init__)\n",
      "       10    0.000    0.000    0.000    0.000 <frozen importlib._bootstrap>:746(find_spec)\n",
      "       10    0.000    0.000    0.000    0.000 <frozen importlib._bootstrap>:826(find_spec)\n",
      "       40    0.000    0.000    0.000    0.000 <frozen importlib._bootstrap>:893(__enter__)\n",
      "       40    0.000    0.000    0.000    0.000 <frozen importlib._bootstrap>:897(__exit__)\n",
      "       10    0.000    0.000    0.005    0.001 <frozen importlib._bootstrap>:921(_find_spec)\n",
      "     10/3    0.000    0.000    0.019    0.006 <frozen importlib._bootstrap>:987(_find_and_load_unlocked)\n",
      "        8    0.000    0.000    0.000    0.000 <frozen importlib._bootstrap_external>:1040(__init__)\n",
      "        8    0.000    0.000    0.000    0.000 <frozen importlib._bootstrap_external>:1065(get_filename)\n",
      "        8    0.000    0.000    0.007    0.001 <frozen importlib._bootstrap_external>:1070(get_data)\n",
      "        8    0.000    0.000    0.000    0.000 <frozen importlib._bootstrap_external>:1089(path_stats)\n",
      "        2    0.000    0.000    0.000    0.000 <frozen importlib._bootstrap_external>:1163(__init__)\n",
      "        2    0.000    0.000    0.003    0.001 <frozen importlib._bootstrap_external>:1174(create_module)\n",
      "        2    0.000    0.000    0.000    0.000 <frozen importlib._bootstrap_external>:1182(exec_module)\n",
      "       76    0.000    0.000    0.000    0.000 <frozen importlib._bootstrap_external>:126(_path_join)\n",
      "       76    0.000    0.000    0.000    0.000 <frozen importlib._bootstrap_external>:128(<listcomp>)\n",
      "       16    0.000    0.000    0.000    0.000 <frozen importlib._bootstrap_external>:132(_path_split)\n",
      "       32    0.000    0.000    0.000    0.000 <frozen importlib._bootstrap_external>:134(<genexpr>)\n",
      "        1    0.000    0.000    0.000    0.000 <frozen importlib._bootstrap_external>:1343(_path_hooks)\n",
      "       18    0.000    0.000    0.000    0.000 <frozen importlib._bootstrap_external>:1356(_path_importer_cache)\n",
      "       10    0.000    0.000    0.005    0.000 <frozen importlib._bootstrap_external>:1399(_get_spec)\n",
      "       38    0.000    0.000    0.004    0.000 <frozen importlib._bootstrap_external>:140(_path_stat)\n",
      "       10    0.000    0.000    0.005    0.001 <frozen importlib._bootstrap_external>:1431(find_spec)\n",
      "        1    0.000    0.000    0.000    0.000 <frozen importlib._bootstrap_external>:1494(__init__)\n",
      "       14    0.000    0.000    0.004    0.000 <frozen importlib._bootstrap_external>:150(_path_is_mode_type)\n",
      "        8    0.000    0.000    0.000    0.000 <frozen importlib._bootstrap_external>:1500(<genexpr>)\n",
      "       10    0.000    0.000    0.000    0.000 <frozen importlib._bootstrap_external>:1531(_get_spec)\n",
      "       15    0.000    0.000    0.005    0.000 <frozen importlib._bootstrap_external>:1536(find_spec)\n",
      "        1    0.000    0.000    0.000    0.000 <frozen importlib._bootstrap_external>:1587(_fill_cache)\n",
      "       13    0.000    0.000    0.004    0.000 <frozen importlib._bootstrap_external>:159(_path_isfile)\n",
      "        1    0.000    0.000    0.000    0.000 <frozen importlib._bootstrap_external>:1616(<setcomp>)\n",
      "        1    0.000    0.000    0.000    0.000 <frozen importlib._bootstrap_external>:1628(path_hook_for_FileFinder)\n",
      "        1    0.000    0.000    0.000    0.000 <frozen importlib._bootstrap_external>:164(_path_isdir)\n",
      "       11    0.000    0.000    0.000    0.000 <frozen importlib._bootstrap_external>:180(_path_isabs)\n",
      "       16    0.000    0.000    0.000    0.000 <frozen importlib._bootstrap_external>:380(cache_from_source)\n",
      "       10    0.000    0.000    0.000    0.000 <frozen importlib._bootstrap_external>:510(_get_cached)\n",
      "        8    0.000    0.000    0.000    0.000 <frozen importlib._bootstrap_external>:542(_check_name_wrapper)\n",
      "        8    0.000    0.000    0.000    0.000 <frozen importlib._bootstrap_external>:585(_classify_pyc)\n",
      "        8    0.000    0.000    0.000    0.000 <frozen importlib._bootstrap_external>:618(_validate_timestamp_pyc)\n",
      "       15    0.000    0.000    0.000    0.000 <frozen importlib._bootstrap_external>:67(_relax_case)\n",
      "        8    0.000    0.000    0.001    0.000 <frozen importlib._bootstrap_external>:670(_compile_bytecode)\n",
      "       10    0.000    0.000    0.000    0.000 <frozen importlib._bootstrap_external>:721(spec_from_file_location)\n",
      "       24    0.000    0.000    0.000    0.000 <frozen importlib._bootstrap_external>:84(_unpack_uint32)\n",
      "        8    0.000    0.000    0.000    0.000 <frozen importlib._bootstrap_external>:874(create_module)\n",
      "      8/3    0.000    0.000    0.018    0.006 <frozen importlib._bootstrap_external>:877(exec_module)\n",
      "        8    0.000    0.000    0.009    0.001 <frozen importlib._bootstrap_external>:950(get_code)\n",
      "        1    0.000    0.000    0.000    0.000 <frozen zipimport>:64(__init__)\n",
      "        1    0.000    0.000    9.101    9.101 <string>:1(<module>)\n",
      "        1    0.000    0.000    0.007    0.007 __init__.py:1(<module>)\n",
      "        1    0.000    0.000    0.000    0.000 __init__.py:22(<listcomp>)\n",
      "       38    0.000    0.000    0.000    0.000 __init__.py:23(<genexpr>)\n",
      "       10    0.000    0.000    0.000    0.000 __init__.py:89(find_spec)\n",
      "        3    0.000    0.000    0.000    0.000 __init__.py:96(<lambda>)\n",
      "     9146    0.009    0.000    0.161    0.000 _collections_abc.py:957(pop)\n",
      "        1    0.000    0.000    0.000    0.000 _collections_abc.py:991(update)\n",
      "        1    0.000    0.000    0.002    0.002 _monitor.py:30(__init__)\n",
      "        1    0.000    0.000    0.000    0.000 _weakrefset.py:111(remove)\n",
      "        2    0.000    0.000    0.000    0.000 _weakrefset.py:17(__init__)\n",
      "        2    0.000    0.000    0.000    0.000 _weakrefset.py:21(__enter__)\n",
      "        2    0.000    0.000    0.000    0.000 _weakrefset.py:27(__exit__)\n",
      "        1    0.000    0.000    0.000    0.000 _weakrefset.py:37(__init__)\n",
      "        2    0.000    0.000    0.000    0.000 _weakrefset.py:53(_commit_removals)\n",
      "        3    0.000    0.000    0.000    0.000 _weakrefset.py:63(__iter__)\n",
      "        2    0.000    0.000    0.000    0.000 _weakrefset.py:86(add)\n",
      "        1    0.000    0.000    0.000    0.000 abc.py:105(__new__)\n",
      "        1    0.000    0.000    0.000    0.000 abc.py:117(__instancecheck__)\n",
      "    28185    0.013    0.000    0.017    0.000 atf.py:11(__init__)\n",
      "    51587    0.250    0.000    0.515    0.000 atf.py:164(composition_buses)\n",
      "    13702    0.081    0.000    0.095    0.000 atf.py:22(cut)\n",
      "    13702    0.028    0.000    0.205    0.000 atf.py:273(min_atf)\n",
      "        1    0.000    0.000    0.004    0.004 context.py:1(<module>)\n",
      "        1    0.000    0.000    0.000    0.000 context.py:14(ProcessError)\n",
      "        1    0.000    0.000    0.000    0.000 context.py:17(BufferTooShort)\n",
      "        1    0.000    0.000    0.000    0.000 context.py:197(get_start_method)\n",
      "        1    0.000    0.000    0.000    0.000 context.py:20(TimeoutError)\n",
      "        1    0.000    0.000    0.000    0.000 context.py:203(reducer)\n",
      "        1    0.000    0.000    0.000    0.000 context.py:220(Process)\n",
      "        1    0.000    0.000    0.000    0.000 context.py:23(AuthenticationError)\n",
      "        1    0.000    0.000    0.000    0.000 context.py:230(DefaultContext)\n",
      "        1    0.000    0.000    0.000    0.000 context.py:233(__init__)\n",
      "        1    0.000    0.000    0.000    0.000 context.py:237(get_context)\n",
      "        1    0.000    0.000    0.000    0.000 context.py:276(ForkProcess)\n",
      "        1    0.000    0.000    0.000    0.000 context.py:283(SpawnProcess)\n",
      "        1    0.000    0.000    0.000    0.000 context.py:295(ForkServerProcess)\n",
      "        1    0.000    0.000    0.000    0.000 context.py:30(BaseContext)\n",
      "        1    0.000    0.000    0.000    0.000 context.py:302(ForkContext)\n",
      "        1    0.000    0.000    0.000    0.000 context.py:306(SpawnContext)\n",
      "        1    0.000    0.000    0.000    0.000 context.py:310(ForkServerContext)\n",
      "        1    0.000    0.000    0.014    0.014 context.py:70(RLock)\n",
      "2691783/5    3.163    0.000    7.880    1.576 copy.py:128(deepcopy)\n",
      "  1937855    0.196    0.000    0.196    0.000 copy.py:182(_deepcopy_atomic)\n",
      "223497/106693    0.747    0.000    5.382    0.000 copy.py:201(_deepcopy_list)\n",
      "    35564    0.071    0.000    7.207    0.000 copy.py:210(_deepcopy_tuple)\n",
      "    35564    0.029    0.000    7.133    0.000 copy.py:211(<listcomp>)\n",
      "190126/2194    0.814    0.000    7.866    0.004 copy.py:227(_deepcopy_dict)\n",
      "   637124    0.316    0.000    0.445    0.000 copy.py:243(_keep_alive)\n",
      " 187937/5    0.793    0.000    7.880    1.576 copy.py:259(_reconstruct)\n",
      "   375874    0.095    0.000    0.380    0.000 copy.py:264(<genexpr>)\n",
      "   187932    0.069    0.000    0.095    0.000 copyreg.py:100(__newobj__)\n",
      "        3    0.000    0.000    0.000    0.000 copyreg.py:109(_slotnames)\n",
      "        2    0.000    0.000    0.000    0.000 enum.py:359(__call__)\n",
      "        2    0.000    0.000    0.000    0.000 enum.py:678(__new__)\n",
      "        1    0.000    0.000    0.000    0.000 functools.py:393(__get__)\n",
      "        1    0.020    0.020    3.803    3.803 graph.py:141(__init__)\n",
      "     9695    0.011    0.000    0.014    0.000 graph.py:73(edge_difference)\n",
      "        1    0.203    0.203    9.101    9.101 graph.py:88(contraction_hierarchy)\n",
      "     9695    0.003    0.000    0.004    0.000 heapdict.py:105(__len__)\n",
      "        1    0.000    0.000    0.000    0.000 heapdict.py:20(__init__)\n",
      "     9695    0.021    0.000    0.205    0.000 heapdict.py:30(__setitem__)\n",
      "     9693    0.060    0.000    0.084    0.000 heapdict.py:39(_min_heapify)\n",
      "     9695    0.010    0.000    0.013    0.000 heapdict.py:60(_decrease_key)\n",
      "   108573    0.046    0.000    0.046    0.000 heapdict.py:69(_swap)\n",
      "     9146    0.032    0.000    0.149    0.000 heapdict.py:75(__delitem__)\n",
      "     9146    0.003    0.000    0.003    0.000 heapdict.py:85(__getitem__)\n",
      "     9695    0.016    0.000    0.103    0.000 heapdict.py:93(popitem)\n",
      "       26    0.000    0.000    0.003    0.000 iostream.py:202(schedule)\n",
      "        2    0.000    0.000    0.000    0.000 iostream.py:304(fileno)\n",
      "        9    0.000    0.000    0.000    0.000 iostream.py:437(_is_master_process)\n",
      "        9    0.000    0.000    0.001    0.000 iostream.py:456(_schedule_flush)\n",
      "        9    0.000    0.000    0.008    0.001 iostream.py:471(flush)\n",
      "        9    0.000    0.000    0.001    0.000 iostream.py:526(write)\n",
      "       26    0.000    0.000    0.000    0.000 iostream.py:90(_event_pipe)\n",
      "        1    0.000    0.000    0.000    0.000 os.py:805(fsencode)\n",
      "        1    0.000    0.000    0.000    0.000 posixpath.py:337(normpath)\n",
      "        1    0.000    0.000    0.000    0.000 posixpath.py:376(abspath)\n",
      "        1    0.000    0.000    0.000    0.000 posixpath.py:41(_get_sep)\n",
      "        1    0.000    0.000    0.000    0.000 posixpath.py:60(isabs)\n",
      "        1    0.000    0.000    0.000    0.000 process.py:1(<module>)\n",
      "        1    0.000    0.000    0.000    0.000 process.py:349(AuthenticationString)\n",
      "        1    0.000    0.000    0.000    0.000 process.py:364(_ParentProcess)\n",
      "        1    0.000    0.000    0.000    0.000 process.py:37(current_process)\n",
      "        1    0.000    0.000    0.000    0.000 process.py:397(_MainProcess)\n",
      "        1    0.000    0.000    0.000    0.000 process.py:399(__init__)\n",
      "        1    0.000    0.000    0.000    0.000 process.py:71(BaseProcess)\n",
      "        1    0.000    0.000    0.000    0.000 random.py:119(__init__)\n",
      "        1    0.000    0.000    0.000    0.000 random.py:128(seed)\n",
      "        1    0.000    0.000    0.000    0.000 random.py:506(choices)\n",
      "        1    0.000    0.000    0.000    0.000 random.py:519(<listcomp>)\n",
      "        1    0.000    0.000    0.000    0.000 reduction.py:1(<module>)\n",
      "        1    0.000    0.000    0.000    0.000 reduction.py:211(_C)\n",
      "        1    0.000    0.000    0.000    0.000 reduction.py:251(AbstractReducer)\n",
      "        1    0.000    0.000    0.000    0.000 reduction.py:33(ForkingPickler)\n",
      "        5    0.000    0.000    0.000    0.000 reduction.py:43(register)\n",
      "        1    0.000    0.000    0.003    0.003 resource_tracker.py:1(<module>)\n",
      "        1    0.000    0.000    0.003    0.003 resource_tracker.py:153(register)\n",
      "        1    0.000    0.000    0.003    0.003 resource_tracker.py:161(_send)\n",
      "        1    0.000    0.000    0.000    0.000 resource_tracker.py:54(ResourceTracker)\n",
      "        1    0.000    0.000    0.000    0.000 resource_tracker.py:56(__init__)\n",
      "        1    0.000    0.000    0.003    0.003 resource_tracker.py:78(ensure_running)\n",
      "        2    0.000    0.000    0.000    0.000 signal.py:24(_int_to_enum)\n",
      "        2    0.000    0.000    0.000    0.000 signal.py:67(pthread_sigmask)\n",
      "        4    0.000    0.000    0.000    0.000 signal.py:70(<genexpr>)\n",
      "       26    0.002    0.000    0.002    0.000 socket.py:543(send)\n",
      "        1    0.000    0.000    0.000    0.000 spawn.py:1(<module>)\n",
      "        1    0.000    0.000    0.000    0.000 spawn.py:45(get_executable)\n",
      "       10    0.000    0.000    0.000    0.000 std.py:102(acquire)\n",
      "       10    0.000    0.000    0.000    0.000 std.py:106(release)\n",
      "        4    0.000    0.000    0.000    0.000 std.py:110(__enter__)\n",
      "        4    0.000    0.000    0.000    0.000 std.py:113(__exit__)\n",
      "        1    0.000    0.000    0.000    0.000 std.py:1148(__del__)\n",
      "        7    0.000    0.000    0.003    0.000 std.py:1151(__str__)\n",
      "        2    0.000    0.000    0.000    0.000 std.py:1154(_comparable)\n",
      "        2    0.000    0.000    0.000    0.000 std.py:1158(__hash__)\n",
      "        1    0.000    0.000    0.023    0.023 std.py:116(create_mp_lock)\n",
      "      550    0.001    0.000    0.009    0.000 std.py:1161(__iter__)\n",
      "        5    0.000    0.000    0.007    0.001 std.py:1199(update)\n",
      "        2    0.000    0.000    0.001    0.001 std.py:1266(close)\n",
      "        2    0.000    0.000    0.000    0.000 std.py:1287(fp_write)\n",
      "        1    0.000    0.000    0.000    0.000 std.py:1302(<lambda>)\n",
      "        6    0.000    0.000    0.010    0.002 std.py:1326(refresh)\n",
      "        7    0.000    0.000    0.000    0.000 std.py:1447(format_dict)\n",
      "        7    0.000    0.000    0.010    0.001 std.py:1465(display)\n",
      "        7    0.000    0.000    0.000    0.000 std.py:153(__init__)\n",
      "        7    0.000    0.000    0.000    0.000 std.py:163(colour)\n",
      "        7    0.000    0.000    0.000    0.000 std.py:167(colour)\n",
      "        7    0.000    0.000    0.000    0.000 std.py:186(__format__)\n",
      "        3    0.000    0.000    0.000    0.000 std.py:226(__init__)\n",
      "       31    0.000    0.000    0.000    0.000 std.py:231(__call__)\n",
      "       13    0.000    0.000    0.000    0.000 std.py:400(format_interval)\n",
      "        1    0.000    0.000    0.003    0.003 std.py:441(status_printer)\n",
      "        7    0.000    0.000    0.007    0.001 std.py:454(fp_write)\n",
      "        7    0.000    0.000    0.007    0.001 std.py:460(print_status)\n",
      "        7    0.000    0.000    0.003    0.000 std.py:467(format_meter)\n",
      "        1    0.001    0.001    0.026    0.026 std.py:666(__new__)\n",
      "        1    0.000    0.000    0.000    0.000 std.py:682(_get_free_pos)\n",
      "        1    0.000    0.000    0.000    0.000 std.py:685(<setcomp>)\n",
      "        1    0.000    0.000    0.000    0.000 std.py:689(_decr_instances)\n",
      "        1    0.000    0.000    0.024    0.024 std.py:763(get_lock)\n",
      "        1    0.000    0.000    0.023    0.023 std.py:90(__init__)\n",
      "        1    0.000    0.000    0.008    0.008 std.py:953(__init__)\n",
      "        1    0.000    0.000    0.000    0.000 std.py:98(<listcomp>)\n",
      "        1    0.000    0.000    0.000    0.000 subprocess.py:268(_optim_args_from_interpreter_flags)\n",
      "        1    0.000    0.000    0.000    0.000 subprocess.py:278(_args_from_interpreter_flags)\n",
      "        1    0.000    0.000    0.004    0.004 synchronize.py:1(<module>)\n",
      "        1    0.000    0.000    0.000    0.000 synchronize.py:114(_make_name)\n",
      "        1    0.000    0.000    0.000    0.000 synchronize.py:123(Semaphore)\n",
      "        1    0.000    0.000    0.000    0.000 synchronize.py:142(BoundedSemaphore)\n",
      "        1    0.000    0.000    0.000    0.000 synchronize.py:159(Lock)\n",
      "        1    0.000    0.000    0.000    0.000 synchronize.py:184(RLock)\n",
      "        1    0.000    0.000    0.008    0.008 synchronize.py:186(__init__)\n",
      "        1    0.000    0.000    0.000    0.000 synchronize.py:210(Condition)\n",
      "        1    0.000    0.000    0.000    0.000 synchronize.py:321(Event)\n",
      "        1    0.000    0.000    0.000    0.000 synchronize.py:360(Barrier)\n",
      "        1    0.000    0.000    0.000    0.000 synchronize.py:46(SemLock)\n",
      "        1    0.000    0.000    0.008    0.008 synchronize.py:50(__init__)\n",
      "        1    0.000    0.000    0.000    0.000 synchronize.py:90(_make_methods)\n",
      "        1    0.000    0.000    0.000    0.000 tempfile.py:142(rng)\n",
      "        1    0.000    0.000    0.000    0.000 tempfile.py:153(__next__)\n",
      "       35    0.000    0.000    0.000    0.000 threading.py:1102(_wait_for_tstate_lock)\n",
      "       18    0.000    0.000    0.000    0.000 threading.py:1145(ident)\n",
      "       35    0.000    0.000    0.000    0.000 threading.py:1169(is_alive)\n",
      "        1    0.000    0.000    0.000    0.000 threading.py:1183(daemon)\n",
      "        1    0.000    0.000    0.000    0.000 threading.py:1198(daemon)\n",
      "        1    0.000    0.000    0.000    0.000 threading.py:1301(_make_invoke_excepthook)\n",
      "       10    0.000    0.000    0.000    0.000 threading.py:1430(current_thread)\n",
      "       11    0.000    0.000    0.000    0.000 threading.py:236(__init__)\n",
      "       10    0.000    0.000    0.000    0.000 threading.py:264(__enter__)\n",
      "       10    0.000    0.000    0.000    0.000 threading.py:267(__exit__)\n",
      "       10    0.000    0.000    0.000    0.000 threading.py:273(_release_save)\n",
      "       10    0.000    0.000    0.000    0.000 threading.py:276(_acquire_restore)\n",
      "       10    0.000    0.000    0.000    0.000 threading.py:279(_is_owned)\n",
      "       10    0.000    0.000    0.006    0.001 threading.py:288(wait)\n",
      "       11    0.000    0.000    0.000    0.000 threading.py:545(__init__)\n",
      "       37    0.000    0.000    0.000    0.000 threading.py:553(is_set)\n",
      "       10    0.000    0.000    0.007    0.001 threading.py:589(wait)\n",
      "        1    0.000    0.000    0.000    0.000 threading.py:782(_newname)\n",
      "        1    0.000    0.000    0.001    0.001 threading.py:827(__init__)\n",
      "        1    0.000    0.000    0.001    0.001 threading.py:916(start)\n",
      "   192999    0.043    0.000    0.043    0.000 trip.py:18(__lt__)\n",
      "    51587    0.022    0.000    0.023    0.000 trip.py:27(__init__)\n",
      "    45461    0.227    0.000    0.227    0.000 trip.py:9(__init__)\n",
      "        1    0.000    0.000    0.000    0.000 util.py:1(<module>)\n",
      "        1    0.000    0.000    0.000    0.000 util.py:108(_platform_supports_abstract_sockets)\n",
      "        1    0.000    0.000    0.000    0.000 util.py:171(register_after_fork)\n",
      "        1    0.000    0.000    0.000    0.000 util.py:182(Finalize)\n",
      "        1    0.000    0.000    0.000    0.000 util.py:186(__init__)\n",
      "        1    0.000    0.000    0.000    0.000 util.py:368(ForkAwareThreadLock)\n",
      "        1    0.000    0.000    0.000    0.000 util.py:385(ForkAwareLocal)\n",
      "        1    0.000    0.000    0.003    0.003 util.py:447(spawnv_passfds)\n",
      "        1    0.000    0.000    0.000    0.000 util.py:48(debug)\n",
      "        7    0.000    0.000    0.000    0.000 utils.py:107(__init__)\n",
      "        7    0.000    0.000    0.000    0.000 utils.py:111(__format__)\n",
      "        1    0.000    0.000    0.000    0.000 utils.py:124(__eq__)\n",
      "        2    0.000    0.000    0.000    0.000 utils.py:138(__getattr__)\n",
      "        3    0.000    0.000    0.000    0.000 utils.py:151(wrapper_setattr)\n",
      "        1    0.000    0.000    0.000    0.000 utils.py:155(__init__)\n",
      "        2    0.000    0.000    0.000    0.000 utils.py:186(disable_on_exception)\n",
      "       16    0.000    0.000    0.007    0.000 utils.py:193(inner)\n",
      "        1    0.000    0.000    0.000    0.000 utils.py:212(__init__)\n",
      "        2    0.000    0.000    0.000    0.000 utils.py:221(__eq__)\n",
      "        1    0.000    0.000    0.000    0.000 utils.py:251(_is_utf)\n",
      "        1    0.000    0.000    0.000    0.000 utils.py:265(_supports_unicode)\n",
      "       14    0.000    0.000    0.000    0.000 utils.py:272(_is_ascii)\n",
      "        1    0.000    0.000    0.000    0.000 utils.py:281(_screen_shape_wrapper)\n",
      "        1    0.000    0.000    0.001    0.001 utils.py:332(_screen_shape_linux)\n",
      "       21    0.000    0.000    0.003    0.000 utils.py:373(_text_width)\n",
      "     3357    0.001    0.000    0.002    0.000 utils.py:374(<genexpr>)\n",
      "       21    0.000    0.000    0.003    0.000 utils.py:377(disp_len)\n",
      "        7    0.000    0.000    0.001    0.000 utils.py:385(disp_trim)\n",
      "        1    0.000    0.000    0.000    0.000 weakref.py:105(__init__)\n",
      "        1    0.000    0.000    0.000    0.000 weakref.py:165(__setitem__)\n",
      "        1    0.000    0.000    0.000    0.000 weakref.py:290(update)\n",
      "        1    0.000    0.000    0.000    0.000 weakref.py:348(__new__)\n",
      "        1    0.000    0.000    0.000    0.000 weakref.py:353(__init__)\n",
      "   187935    0.026    0.000    0.026    0.000 {built-in method __new__ of type object at 0x10f9be920}\n",
      "        1    0.000    0.000    0.000    0.000 {built-in method _abc._abc_init}\n",
      "        1    0.000    0.000    0.000    0.000 {built-in method _abc._abc_instancecheck}\n",
      "        8    0.000    0.000    0.000    0.000 {built-in method _imp._fix_co_filename}\n",
      "       70    0.000    0.000    0.000    0.000 {built-in method _imp.acquire_lock}\n",
      "        2    0.003    0.001    0.003    0.001 {built-in method _imp.create_dynamic}\n",
      "        2    0.000    0.000    0.000    0.000 {built-in method _imp.exec_dynamic}\n",
      "        3    0.000    0.000    0.000    0.000 {built-in method _imp.is_builtin}\n",
      "       10    0.000    0.000    0.000    0.000 {built-in method _imp.is_frozen}\n",
      "       70    0.000    0.000    0.000    0.000 {built-in method _imp.release_lock}\n",
      "        1    0.003    0.003    0.003    0.003 {built-in method _posixsubprocess.fork_exec}\n",
      "        2    0.000    0.000    0.000    0.000 {built-in method _signal.pthread_sigmask}\n",
      "       42    0.000    0.000    0.000    0.000 {built-in method _thread.allocate_lock}\n",
      "       50    0.000    0.000    0.000    0.000 {built-in method _thread.get_ident}\n",
      "        1    0.000    0.000    0.000    0.000 {built-in method _thread.start_new_thread}\n",
      "        2    0.000    0.000    0.000    0.000 {built-in method _weakref.proxy}\n",
      "        2    0.000    0.000    0.000    0.000 {built-in method atexit.register}\n",
      "       32    0.001    0.000    0.001    0.000 {built-in method builtins.__build_class__}\n",
      "      6/3    0.000    0.000    0.010    0.003 {built-in method builtins.__import__}\n",
      "        9    0.000    0.000    0.000    0.000 {built-in method builtins.abs}\n",
      "        1    0.000    0.000    0.000    0.000 {built-in method builtins.dir}\n",
      "       33    0.000    0.000    0.000    0.000 {built-in method builtins.divmod}\n",
      "      9/1    0.000    0.000    9.101    9.101 {built-in method builtins.exec}\n",
      "   375995    0.066    0.000    0.066    0.000 {built-in method builtins.getattr}\n",
      "        2    0.000    0.000    0.000    0.000 {built-in method builtins.globals}\n",
      "   188012    0.027    0.000    0.027    0.000 {built-in method builtins.hasattr}\n",
      "  3966039    0.414    0.000    0.414    0.000 {built-in method builtins.id}\n",
      "   375950    0.054    0.000    0.054    0.000 {built-in method builtins.isinstance}\n",
      "   187937    0.025    0.000    0.025    0.000 {built-in method builtins.issubclass}\n",
      "156901/147206    0.022    0.000    0.025    0.000 {built-in method builtins.len}\n",
      "        3    0.000    0.000    0.000    0.000 {built-in method builtins.locals}\n",
      "     9176    0.004    0.000    0.004    0.000 {built-in method builtins.max}\n",
      "        1    0.000    0.000    0.000    0.000 {built-in method builtins.min}\n",
      "        3    0.000    0.000    0.000    0.000 {built-in method builtins.next}\n",
      "      147    0.000    0.000    0.000    0.000 {built-in method builtins.ord}\n",
      "   106699    0.016    0.000    0.016    0.000 {built-in method builtins.setattr}\n",
      "        1    0.000    0.000    0.000    0.000 {built-in method builtins.sorted}\n",
      "       21    0.000    0.000    0.003    0.000 {built-in method builtins.sum}\n",
      "        1    0.001    0.001    0.001    0.001 {built-in method fcntl.ioctl}\n",
      "       24    0.000    0.000    0.000    0.000 {built-in method from_bytes}\n",
      "        8    0.005    0.001    0.005    0.001 {built-in method io.open_code}\n",
      "        8    0.001    0.000    0.001    0.000 {built-in method marshal.loads}\n",
      "        8    0.000    0.000    0.000    0.000 {built-in method math.floor}\n",
      "        6    0.000    0.000    0.000    0.000 {built-in method now}\n",
      "        3    0.000    0.000    0.000    0.000 {built-in method posix.close}\n",
      "       30    0.000    0.000    0.000    0.000 {built-in method posix.fspath}\n",
      "        1    0.000    0.000    0.000    0.000 {built-in method posix.getcwd}\n",
      "       11    0.000    0.000    0.000    0.000 {built-in method posix.getpid}\n",
      "        1    0.000    0.000    0.000    0.000 {built-in method posix.listdir}\n",
      "        2    0.000    0.000    0.000    0.000 {built-in method posix.pipe}\n",
      "       38    0.004    0.000    0.004    0.000 {built-in method posix.stat}\n",
      "        1    0.000    0.000    0.000    0.000 {built-in method posix.sysconf}\n",
      "        1    0.000    0.000    0.000    0.000 {built-in method posix.urandom}\n",
      "        1    0.000    0.000    0.000    0.000 {built-in method posix.write}\n",
      "      143    0.000    0.000    0.000    0.000 {built-in method time.time}\n",
      "     3336    0.001    0.000    0.001    0.000 {built-in method unicodedata.east_asian_width}\n",
      "        1    0.000    0.000    0.000    0.000 {built-in method utcfromtimestamp}\n",
      "        1    0.000    0.000    0.000    0.000 {function Random.seed at 0x7fc66cc47b50}\n",
      "       10    0.000    0.000    0.000    0.000 {method '__enter__' of '_thread.lock' objects}\n",
      "        8    0.000    0.000    0.000    0.000 {method '__exit__' of '_io._IOBase' objects}\n",
      "       10    0.000    0.000    0.000    0.000 {method '__exit__' of '_thread.RLock' objects}\n",
      "       51    0.000    0.000    0.000    0.000 {method '__exit__' of '_thread.lock' objects}\n",
      "   187937    0.102    0.000    0.102    0.000 {method '__reduce_ex__' of 'object' objects}\n",
      "       10    0.000    0.000    0.000    0.000 {method 'acquire' of '_multiprocessing.SemLock' objects}\n",
      "       11    0.000    0.000    0.000    0.000 {method 'acquire' of '_thread.RLock' objects}\n",
      "       75    0.006    0.000    0.006    0.000 {method 'acquire' of '_thread.lock' objects}\n",
      "        4    0.000    0.000    0.000    0.000 {method 'add' of 'set' objects}\n",
      "       36    0.000    0.000    0.000    0.000 {method 'append' of 'collections.deque' objects}\n",
      "  1135523    0.120    0.000    0.120    0.000 {method 'append' of 'list' objects}\n",
      "        1    0.000    0.000    0.000    0.000 {method 'difference' of 'set' objects}\n",
      "        1    0.000    0.000    0.000    0.000 {method 'disable' of '_lsprof.Profiler' objects}\n",
      "        3    0.000    0.000    0.000    0.000 {method 'encode' of 'str' objects}\n",
      "       12    0.000    0.000    0.000    0.000 {method 'endswith' of 'str' objects}\n",
      "        3    0.000    0.000    0.000    0.000 {method 'extend' of 'list' objects}\n",
      "       56    0.000    0.000    0.000    0.000 {method 'format' of 'str' objects}\n",
      "  5469205    0.649    0.000    0.649    0.000 {method 'get' of 'dict' objects}\n",
      "        3    0.000    0.000    0.000    0.000 {method 'get' of 'mappingproxy' objects}\n",
      "   230519    0.055    0.000    0.055    0.000 {method 'items' of 'dict' objects}\n",
      "       94    0.000    0.000    0.000    0.000 {method 'join' of 'str' objects}\n",
      "       23    0.000    0.000    0.000    0.000 {method 'lower' of 'str' objects}\n",
      "       10    0.000    0.000    0.000    0.000 {method 'pop' of 'dict' objects}\n",
      "    21675    0.003    0.000    0.003    0.000 {method 'pop' of 'list' objects}\n",
      "     4827    0.001    0.000    0.001    0.000 {method 'popitem' of 'dict' objects}\n",
      "        8    0.000    0.000    0.000    0.000 {method 'random' of '_random.Random' objects}\n",
      "        8    0.003    0.000    0.003    0.000 {method 'read' of '_io.BufferedReader' objects}\n",
      "       10    0.000    0.000    0.000    0.000 {method 'release' of '_multiprocessing.SemLock' objects}\n",
      "       11    0.000    0.000    0.000    0.000 {method 'release' of '_thread.RLock' objects}\n",
      "       10    0.000    0.000    0.000    0.000 {method 'release' of '_thread.lock' objects}\n",
      "        3    0.000    0.000    0.000    0.000 {method 'remove' of 'set' objects}\n",
      "       16    0.000    0.000    0.000    0.000 {method 'rfind' of 'str' objects}\n",
      "       72    0.000    0.000    0.000    0.000 {method 'rpartition' of 'str' objects}\n",
      "      168    0.000    0.000    0.000    0.000 {method 'rstrip' of 'str' objects}\n",
      "        6    0.000    0.000    0.000    0.000 {method 'setter' of 'property' objects}\n",
      "    13702    0.031    0.000    0.074    0.000 {method 'sort' of 'list' objects}\n",
      "        1    0.000    0.000    0.000    0.000 {method 'split' of 'str' objects}\n",
      "       92    0.000    0.000    0.000    0.000 {method 'startswith' of 'str' objects}\n",
      "       21    0.000    0.000    0.000    0.000 {method 'sub' of 're.Pattern' objects}\n",
      "   152378    0.051    0.000    0.051    0.000 {method 'update' of 'dict' objects}\n",
      "        9    0.000    0.000    0.000    0.000 {method 'write' of '_io.StringIO' objects}\n",
      "\n",
      "\n",
      "CPU times: user 8.95 s, sys: 116 ms, total: 9.06 s\n",
      "Wall time: 9.11 s\n"
     ]
    },
    {
     "name": "stderr",
     "output_type": "stream",
     "text": [
      "\n"
     ]
    }
   ],
   "source": [
    "%%time\n",
    "cProfile.run('ch_tg = tg.contraction_hierarchy(just_buses=True, max_walk_duration=1000)')"
   ]
  },
  {
   "cell_type": "code",
   "execution_count": 10,
   "id": "9d6ddbb3",
   "metadata": {},
   "outputs": [
    {
     "data": {
      "text/plain": [
       "(9672,\n",
       " 549,\n",
       " {'min_size': 0,\n",
       "  'mean_size': 6.403846153846154,\n",
       "  'std_size': 19.320836541443924,\n",
       "  'max_size': 306})"
      ]
     },
     "execution_count": 10,
     "metadata": {},
     "output_type": "execute_result"
    }
   ],
   "source": [
    "ch_tg.edges_cnt, ch_tg.nodes_cnt, ch_tg.timetable_stats"
   ]
  },
  {
   "cell_type": "markdown",
   "id": "10254ae1",
   "metadata": {},
   "source": [
    "### Calculate Full-CH"
   ]
  },
  {
   "cell_type": "code",
   "execution_count": 11,
   "id": "07ef602a",
   "metadata": {},
   "outputs": [
    {
     "name": "stderr",
     "output_type": "stream",
     "text": [
      "100%|████████████████████████████████████████████████████████████████████████████████████████████████████████████████████████████████████████████████████████████████████████████████████| 549/549 [01:29<00:00,  6.10it/s]\n"
     ]
    },
    {
     "name": "stdout",
     "output_type": "stream",
     "text": [
      "         118523158 function calls (115322650 primitive calls) in 99.118 seconds\n",
      "\n",
      "   Ordered by: standard name\n",
      "\n",
      "   ncalls  tottime  percall  cumtime  percall filename:lineno(function)\n",
      "        1    0.000    0.000   99.118   99.118 <string>:1(<module>)\n",
      "    15513    0.028    0.000    0.363    0.000 _collections_abc.py:957(pop)\n",
      "        1    0.000    0.000    0.000    0.000 _collections_abc.py:991(update)\n",
      "        1    0.000    0.000    0.000    0.000 _monitor.py:94(report)\n",
      "        1    0.000    0.000    0.000    0.000 _weakrefset.py:111(remove)\n",
      "        2    0.000    0.000    0.000    0.000 _weakrefset.py:17(__init__)\n",
      "        2    0.000    0.000    0.000    0.000 _weakrefset.py:21(__enter__)\n",
      "        2    0.000    0.000    0.000    0.000 _weakrefset.py:27(__exit__)\n",
      "        2    0.000    0.000    0.000    0.000 _weakrefset.py:53(_commit_removals)\n",
      "        3    0.000    0.000    0.000    0.000 _weakrefset.py:63(__iter__)\n",
      "        1    0.000    0.000    0.000    0.000 _weakrefset.py:86(add)\n",
      "        1    0.000    0.000    0.000    0.000 abc.py:117(__instancecheck__)\n",
      "   264610    0.175    0.000    0.213    0.000 atf.py:11(__init__)\n",
      "   264610   17.132    0.000   20.240    0.000 atf.py:22(cut)\n",
      "   128726    0.474    0.000   25.258    0.000 atf.py:273(min_atf)\n",
      "   154038   44.022    0.000   60.967    0.000 atf.py:40(composition)\n",
      "2691783/5    3.361    0.000    9.128    1.826 copy.py:128(deepcopy)\n",
      "  1937855    0.212    0.000    0.212    0.000 copy.py:182(_deepcopy_atomic)\n",
      "223497/106693    0.357    0.000    5.492    0.000 copy.py:201(_deepcopy_list)\n",
      "    35564    0.084    0.000    8.377    0.000 copy.py:210(_deepcopy_tuple)\n",
      "    35564    0.033    0.000    8.290    0.000 copy.py:211(<listcomp>)\n",
      "190126/2194    1.035    0.000    9.113    0.004 copy.py:227(_deepcopy_dict)\n",
      "   637124    0.337    0.000    0.477    0.000 copy.py:243(_keep_alive)\n",
      " 187937/5    1.194    0.000    9.128    1.826 copy.py:259(_reconstruct)\n",
      "   375874    0.107    0.000    0.417    0.000 copy.py:264(<genexpr>)\n",
      "   187932    0.078    0.000    0.107    0.000 copyreg.py:100(__newobj__)\n",
      "        1    0.000    0.000    0.000    0.000 functools.py:393(__get__)\n",
      "        1    0.029    0.029    4.188    4.188 graph.py:141(__init__)\n",
      "    16062    0.027    0.000    0.032    0.000 graph.py:73(edge_difference)\n",
      "        1    2.910    2.910   99.118   99.118 graph.py:88(contraction_hierarchy)\n",
      "    16062    0.008    0.000    0.010    0.000 heapdict.py:105(__len__)\n",
      "        1    0.000    0.000    0.000    0.000 heapdict.py:20(__init__)\n",
      "    16062    0.055    0.000    0.461    0.000 heapdict.py:30(__setitem__)\n",
      "    16060    0.135    0.000    0.173    0.000 heapdict.py:39(_min_heapify)\n",
      "    16062    0.017    0.000    0.020    0.000 heapdict.py:60(_decrease_key)\n",
      "   179048    0.078    0.000    0.078    0.000 heapdict.py:69(_swap)\n",
      "    15513    0.078    0.000    0.325    0.000 heapdict.py:75(__delitem__)\n",
      "    15513    0.010    0.000    0.010    0.000 heapdict.py:85(__getitem__)\n",
      "    16062    0.039    0.000    0.216    0.000 heapdict.py:93(popitem)\n",
      "      710    0.003    0.000    0.028    0.000 iostream.py:202(schedule)\n",
      "        1    0.000    0.000    0.000    0.000 iostream.py:304(fileno)\n",
      "      237    0.001    0.000    0.001    0.000 iostream.py:437(_is_master_process)\n",
      "      237    0.001    0.000    0.023    0.000 iostream.py:456(_schedule_flush)\n",
      "      237    0.003    0.000    0.127    0.001 iostream.py:471(flush)\n",
      "      237    0.002    0.000    0.027    0.000 iostream.py:526(write)\n",
      "      710    0.001    0.000    0.001    0.000 iostream.py:90(_event_pipe)\n",
      "      710    0.022    0.000    0.022    0.000 socket.py:543(send)\n",
      "      238    0.001    0.000    0.003    0.000 std.py:102(acquire)\n",
      "      238    0.001    0.000    0.002    0.000 std.py:106(release)\n",
      "        4    0.000    0.000    0.000    0.000 std.py:110(__enter__)\n",
      "        4    0.000    0.000    0.000    0.000 std.py:113(__exit__)\n",
      "        1    0.000    0.000    0.000    0.000 std.py:1148(__del__)\n",
      "      235    0.002    0.000    0.059    0.000 std.py:1151(__str__)\n",
      "        2    0.000    0.000    0.000    0.000 std.py:1154(_comparable)\n",
      "        2    0.000    0.000    0.000    0.000 std.py:1158(__hash__)\n",
      "      550    0.002    0.000    0.256    0.000 std.py:1161(__iter__)\n",
      "      233    0.003    0.000    0.252    0.001 std.py:1199(update)\n",
      "        2    0.000    0.000    0.002    0.001 std.py:1266(close)\n",
      "        2    0.000    0.000    0.000    0.000 std.py:1287(fp_write)\n",
      "        1    0.000    0.000    0.000    0.000 std.py:1302(<lambda>)\n",
      "      234    0.001    0.000    0.248    0.001 std.py:1326(refresh)\n",
      "      235    0.002    0.000    0.002    0.000 std.py:1447(format_dict)\n",
      "      235    0.001    0.000    0.242    0.001 std.py:1465(display)\n",
      "      235    0.001    0.000    0.001    0.000 std.py:153(__init__)\n",
      "      235    0.000    0.000    0.000    0.000 std.py:163(colour)\n",
      "      235    0.000    0.000    0.000    0.000 std.py:167(colour)\n",
      "      235    0.002    0.000    0.002    0.000 std.py:186(__format__)\n",
      "        3    0.000    0.000    0.000    0.000 std.py:226(__init__)\n",
      "     1399    0.002    0.000    0.002    0.000 std.py:231(__call__)\n",
      "      469    0.001    0.000    0.002    0.000 std.py:400(format_interval)\n",
      "        1    0.000    0.000    0.001    0.001 std.py:441(status_printer)\n",
      "      235    0.001    0.000    0.155    0.001 std.py:454(fp_write)\n",
      "      235    0.001    0.000    0.182    0.001 std.py:460(print_status)\n",
      "      235    0.009    0.000    0.055    0.000 std.py:467(format_meter)\n",
      "        1    0.000    0.000    0.000    0.000 std.py:666(__new__)\n",
      "        1    0.000    0.000    0.000    0.000 std.py:682(_get_free_pos)\n",
      "        1    0.000    0.000    0.000    0.000 std.py:685(<setcomp>)\n",
      "        1    0.000    0.000    0.000    0.000 std.py:689(_decr_instances)\n",
      "        1    0.000    0.000    0.000    0.000 std.py:763(get_lock)\n",
      "        1    0.000    0.000    0.002    0.002 std.py:953(__init__)\n",
      "      947    0.001    0.000    0.002    0.000 threading.py:1102(_wait_for_tstate_lock)\n",
      "      474    0.000    0.000    0.000    0.000 threading.py:1145(ident)\n",
      "      947    0.002    0.000    0.003    0.000 threading.py:1169(is_alive)\n",
      "      237    0.000    0.000    0.001    0.000 threading.py:1430(current_thread)\n",
      "      237    0.002    0.000    0.002    0.000 threading.py:236(__init__)\n",
      "      237    0.000    0.000    0.000    0.000 threading.py:264(__enter__)\n",
      "      237    0.000    0.000    0.000    0.000 threading.py:267(__exit__)\n",
      "      237    0.000    0.000    0.000    0.000 threading.py:273(_release_save)\n",
      "      237    0.000    0.000    0.000    0.000 threading.py:276(_acquire_restore)\n",
      "      237    0.000    0.000    0.000    0.000 threading.py:279(_is_owned)\n",
      "      237    0.002    0.000    0.111    0.000 threading.py:288(wait)\n",
      "      237    0.001    0.000    0.003    0.000 threading.py:545(__init__)\n",
      "      948    0.000    0.000    0.000    0.000 threading.py:553(is_set)\n",
      "      237    0.001    0.000    0.113    0.000 threading.py:589(wait)\n",
      " 48679884    8.307    0.000    8.307    0.000 trip.py:18(__lt__)\n",
      "   154038    0.102    0.000    0.104    0.000 trip.py:27(__init__)\n",
      "  8379668    5.545    0.000    5.545    0.000 trip.py:9(__init__)\n",
      "      235    0.000    0.000    0.000    0.000 utils.py:107(__init__)\n",
      "      235    0.000    0.000    0.000    0.000 utils.py:111(__format__)\n",
      "        1    0.000    0.000    0.000    0.000 utils.py:124(__eq__)\n",
      "        2    0.000    0.000    0.000    0.000 utils.py:138(__getattr__)\n",
      "        3    0.000    0.000    0.000    0.000 utils.py:151(wrapper_setattr)\n",
      "        1    0.000    0.000    0.000    0.000 utils.py:155(__init__)\n",
      "        2    0.000    0.000    0.000    0.000 utils.py:186(disable_on_exception)\n",
      "      472    0.001    0.000    0.155    0.000 utils.py:193(inner)\n",
      "        1    0.000    0.000    0.000    0.000 utils.py:212(__init__)\n",
      "        2    0.000    0.000    0.000    0.000 utils.py:221(__eq__)\n",
      "        1    0.000    0.000    0.000    0.000 utils.py:251(_is_utf)\n",
      "        1    0.000    0.000    0.000    0.000 utils.py:265(_supports_unicode)\n",
      "      470    0.002    0.000    0.002    0.000 utils.py:272(_is_ascii)\n",
      "        1    0.000    0.000    0.000    0.000 utils.py:281(_screen_shape_wrapper)\n",
      "        1    0.000    0.000    0.000    0.000 utils.py:332(_screen_shape_linux)\n",
      "      705    0.001    0.000    0.057    0.000 utils.py:373(_text_width)\n",
      "   112791    0.031    0.000    0.043    0.000 utils.py:374(<genexpr>)\n",
      "      705    0.001    0.000    0.059    0.000 utils.py:377(disp_len)\n",
      "      235    0.000    0.000    0.026    0.000 utils.py:385(disp_trim)\n",
      "   187933    0.029    0.000    0.029    0.000 {built-in method __new__ of type object at 0x10f9be920}\n",
      "        1    0.000    0.000    0.000    0.000 {built-in method _abc._abc_instancecheck}\n",
      "      474    0.001    0.000    0.001    0.000 {built-in method _thread.allocate_lock}\n",
      "      237    0.000    0.000    0.000    0.000 {built-in method _thread.get_ident}\n",
      "        2    0.000    0.000    0.000    0.000 {built-in method _weakref.proxy}\n",
      "      237    0.000    0.000    0.000    0.000 {built-in method builtins.abs}\n",
      "     1173    0.000    0.000    0.000    0.000 {built-in method builtins.divmod}\n",
      "        1    0.000    0.000   99.118   99.118 {built-in method builtins.exec}\n",
      "   375886    0.073    0.000    0.073    0.000 {built-in method builtins.getattr}\n",
      "   188407    0.030    0.000    0.030    0.000 {built-in method builtins.hasattr}\n",
      "  3966038    0.441    0.000    0.441    0.000 {built-in method builtins.id}\n",
      "   376577    0.060    0.000    0.060    0.000 {built-in method builtins.isinstance}\n",
      "   187937    0.027    0.000    0.027    0.000 {built-in method builtins.issubclass}\n",
      "690576/674514    0.099    0.000    0.107    0.000 {built-in method builtins.len}\n",
      "    15983    0.015    0.000    0.015    0.000 {built-in method builtins.max}\n",
      "        1    0.000    0.000    0.000    0.000 {built-in method builtins.min}\n",
      "     4935    0.001    0.000    0.001    0.000 {built-in method builtins.ord}\n",
      "   106692    0.018    0.000    0.018    0.000 {built-in method builtins.setattr}\n",
      "      705    0.013    0.000    0.056    0.000 {built-in method builtins.sum}\n",
      "        1    0.000    0.000    0.000    0.000 {built-in method fcntl.ioctl}\n",
      "      234    0.001    0.000    0.001    0.000 {built-in method now}\n",
      "      237    0.000    0.000    0.000    0.000 {built-in method posix.getpid}\n",
      "     1036    0.000    0.000    0.000    0.000 {built-in method time.time}\n",
      "   112086    0.012    0.000    0.012    0.000 {built-in method unicodedata.east_asian_width}\n",
      "        1    0.000    0.000    0.000    0.000 {built-in method utcfromtimestamp}\n",
      "      237    0.000    0.000    0.000    0.000 {method '__enter__' of '_thread.lock' objects}\n",
      "      237    0.000    0.000    0.000    0.000 {method '__exit__' of '_thread.RLock' objects}\n",
      "      237    0.000    0.000    0.000    0.000 {method '__exit__' of '_thread.lock' objects}\n",
      "   187937    0.121    0.000    0.121    0.000 {method '__reduce_ex__' of 'object' objects}\n",
      "      238    0.002    0.000    0.002    0.000 {method 'acquire' of '_multiprocessing.SemLock' objects}\n",
      "      238    0.000    0.000    0.000    0.000 {method 'acquire' of '_thread.RLock' objects}\n",
      "     1895    0.109    0.000    0.109    0.000 {method 'acquire' of '_thread.lock' objects}\n",
      "        3    0.000    0.000    0.000    0.000 {method 'add' of 'set' objects}\n",
      "      947    0.000    0.000    0.000    0.000 {method 'append' of 'collections.deque' objects}\n",
      " 33668814    3.384    0.000    3.384    0.000 {method 'append' of 'list' objects}\n",
      "        1    0.000    0.000    0.000    0.000 {method 'difference' of 'set' objects}\n",
      "        1    0.000    0.000    0.000    0.000 {method 'disable' of '_lsprof.Profiler' objects}\n",
      "        1    0.000    0.000    0.000    0.000 {method 'encode' of 'str' objects}\n",
      "     1642    0.004    0.000    0.006    0.000 {method 'format' of 'str' objects}\n",
      "  5590583    0.767    0.000    0.767    0.000 {method 'get' of 'dict' objects}\n",
      "   233519    0.646    0.000    0.646    0.000 {method 'items' of 'dict' objects}\n",
      "  7193209    0.686    0.000    0.686    0.000 {method 'pop' of 'list' objects}\n",
      "     7828    0.003    0.000    0.003    0.000 {method 'popitem' of 'dict' objects}\n",
      "      238    0.001    0.000    0.001    0.000 {method 'release' of '_multiprocessing.SemLock' objects}\n",
      "      238    0.000    0.000    0.000    0.000 {method 'release' of '_thread.RLock' objects}\n",
      "      237    0.000    0.000    0.000    0.000 {method 'release' of '_thread.lock' objects}\n",
      "        3    0.000    0.000    0.000    0.000 {method 'remove' of 'set' objects}\n",
      "   282764    6.442    0.000   14.749    0.000 {method 'sort' of 'list' objects}\n",
      "      705    0.001    0.000    0.001    0.000 {method 'sub' of 're.Pattern' objects}\n",
      "   152603    0.053    0.000    0.053    0.000 {method 'update' of 'dict' objects}\n",
      "      237    0.000    0.000    0.000    0.000 {method 'write' of '_io.StringIO' objects}\n",
      "\n",
      "\n",
      "CPU times: user 1min 38s, sys: 782 ms, total: 1min 38s\n",
      "Wall time: 1min 39s\n"
     ]
    }
   ],
   "source": [
    "%%time\n",
    "cProfile.run('ch_tg_optimal = tg.contraction_hierarchy(just_buses=False)')"
   ]
  },
  {
   "cell_type": "code",
   "execution_count": 10,
   "id": "26755ad6",
   "metadata": {},
   "outputs": [
    {
     "name": "stderr",
     "output_type": "stream",
     "text": [
      "100%|████████████████████████████████████████████████████████████████████████████████████████████████████████████████████████████████████████████████████████████████████████████████████| 549/549 [05:48<00:00,  1.57it/s]"
     ]
    },
    {
     "name": "stdout",
     "output_type": "stream",
     "text": [
      "         430987112 function calls (428251135 primitive calls) in 356.385 seconds\n",
      "\n",
      "   Ordered by: standard name\n",
      "\n",
      "   ncalls  tottime  percall  cumtime  percall filename:lineno(function)\n",
      "        1    0.000    0.000  356.385  356.385 <string>:1(<module>)\n",
      "    18198    0.035    0.000    0.443    0.000 _collections_abc.py:957(pop)\n",
      "        1    0.000    0.000    0.000    0.000 _collections_abc.py:991(update)\n",
      "        1    0.000    0.000    0.000    0.000 _monitor.py:94(report)\n",
      "        1    0.000    0.000    0.000    0.000 _weakrefset.py:111(remove)\n",
      "        2    0.000    0.000    0.000    0.000 _weakrefset.py:17(__init__)\n",
      "        2    0.000    0.000    0.000    0.000 _weakrefset.py:21(__enter__)\n",
      "        2    0.000    0.000    0.000    0.000 _weakrefset.py:27(__exit__)\n",
      "        2    0.000    0.000    0.000    0.000 _weakrefset.py:53(_commit_removals)\n",
      "        3    0.000    0.000    0.000    0.000 _weakrefset.py:63(__iter__)\n",
      "        1    0.000    0.000    0.000    0.000 _weakrefset.py:86(add)\n",
      "        1    0.000    0.000    0.000    0.000 abc.py:117(__instancecheck__)\n",
      "   430629    0.333    0.000    0.412    0.000 atf.py:11(__init__)\n",
      "   210392    1.271    0.000   75.774    0.000 atf.py:181(min_atf)\n",
      "   430629   70.837    0.000   82.810    0.000 atf.py:22(cut)\n",
      "   220266  169.651    0.001  257.613    0.001 atf.py:40(composition)\n",
      "2224567/5    3.299    0.000    7.644    1.529 copy.py:128(deepcopy)\n",
      "  1470639    0.161    0.000    0.161    0.000 copy.py:182(_deepcopy_atomic)\n",
      "223497/106693    0.523    0.000    4.917    0.000 copy.py:201(_deepcopy_list)\n",
      "    35564    0.076    0.000    6.935    0.000 copy.py:210(_deepcopy_tuple)\n",
      "    35564    0.030    0.000    6.855    0.000 copy.py:211(<listcomp>)\n",
      "190126/2194    0.585    0.000    7.630    0.003 copy.py:227(_deepcopy_dict)\n",
      "   637124    0.330    0.000    0.462    0.000 copy.py:243(_keep_alive)\n",
      " 187937/5    0.617    0.000    7.644    1.529 copy.py:259(_reconstruct)\n",
      "   375874    0.101    0.000    0.398    0.000 copy.py:264(<genexpr>)\n",
      "   187932    0.075    0.000    0.102    0.000 copyreg.py:100(__newobj__)\n",
      "        1    0.000    0.000    0.000    0.000 functools.py:393(__get__)\n",
      "        1    0.025    0.025    3.991    3.991 graph.py:141(__init__)\n",
      "    18747    0.031    0.000    0.038    0.000 graph.py:73(edge_difference)\n",
      "        1   14.287   14.287  356.385  356.385 graph.py:88(contraction_hierarchy)\n",
      "    18747    0.009    0.000    0.011    0.000 heapdict.py:105(__len__)\n",
      "        1    0.000    0.000    0.000    0.000 heapdict.py:20(__init__)\n",
      "    18747    0.065    0.000    0.562    0.000 heapdict.py:30(__setitem__)\n",
      "    18745    0.165    0.000    0.210    0.000 heapdict.py:39(_min_heapify)\n",
      "    18747    0.022    0.000    0.026    0.000 heapdict.py:60(_decrease_key)\n",
      "   211715    0.093    0.000    0.093    0.000 heapdict.py:69(_swap)\n",
      "    18198    0.096    0.000    0.395    0.000 heapdict.py:75(__delitem__)\n",
      "    18198    0.013    0.000    0.013    0.000 heapdict.py:85(__getitem__)\n",
      "    18747    0.046    0.000    0.262    0.000 heapdict.py:93(popitem)\n",
      "      914    0.004    0.000    0.039    0.000 iostream.py:202(schedule)\n",
      "        1    0.000    0.000    0.000    0.000 iostream.py:304(fileno)\n",
      "      305    0.001    0.000    0.001    0.000 iostream.py:437(_is_master_process)\n",
      "      305    0.001    0.000    0.033    0.000 iostream.py:456(_schedule_flush)\n",
      "      305    0.003    0.000    0.156    0.001 iostream.py:471(flush)\n",
      "      305    0.003    0.000    0.037    0.000 iostream.py:526(write)\n",
      "      914    0.001    0.000    0.001    0.000 iostream.py:90(_event_pipe)\n",
      "      914    0.031    0.000    0.031    0.000 socket.py:543(send)\n",
      "      306    0.002    0.000    0.004    0.000 std.py:102(acquire)\n",
      "      306    0.001    0.000    0.003    0.000 std.py:106(release)\n",
      "        4    0.000    0.000    0.000    0.000 std.py:110(__enter__)\n",
      "        4    0.000    0.000    0.000    0.000 std.py:113(__exit__)\n",
      "        1    0.000    0.000    0.000    0.000 std.py:1148(__del__)\n",
      "      303    0.002    0.000    0.075    0.000 std.py:1151(__str__)\n",
      "        2    0.000    0.000    0.000    0.000 std.py:1154(_comparable)\n",
      "        2    0.000    0.000    0.000    0.000 std.py:1158(__hash__)\n",
      "      550    0.002    0.000    0.323    0.001 std.py:1161(__iter__)\n",
      "      301    0.005    0.000    0.319    0.001 std.py:1199(update)\n",
      "        2    0.000    0.000    0.001    0.001 std.py:1266(close)\n",
      "        2    0.000    0.000    0.000    0.000 std.py:1287(fp_write)\n",
      "        1    0.000    0.000    0.000    0.000 std.py:1302(<lambda>)\n",
      "      302    0.002    0.000    0.313    0.001 std.py:1326(refresh)\n",
      "      303    0.002    0.000    0.003    0.000 std.py:1447(format_dict)\n",
      "      303    0.002    0.000    0.306    0.001 std.py:1465(display)\n",
      "      303    0.001    0.000    0.001    0.000 std.py:153(__init__)\n",
      "      303    0.000    0.000    0.000    0.000 std.py:163(colour)\n",
      "      303    0.000    0.000    0.000    0.000 std.py:167(colour)\n",
      "      303    0.002    0.000    0.002    0.000 std.py:186(__format__)\n",
      "        3    0.000    0.000    0.000    0.000 std.py:226(__init__)\n",
      "     1805    0.003    0.000    0.003    0.000 std.py:231(__call__)\n",
      "      605    0.001    0.000    0.003    0.000 std.py:400(format_interval)\n",
      "        1    0.000    0.000    0.001    0.001 std.py:441(status_printer)\n",
      "      303    0.001    0.000    0.195    0.001 std.py:454(fp_write)\n",
      "      303    0.001    0.000    0.228    0.001 std.py:460(print_status)\n",
      "      303    0.011    0.000    0.070    0.000 std.py:467(format_meter)\n",
      "        1    0.000    0.000    0.000    0.000 std.py:666(__new__)\n",
      "        1    0.000    0.000    0.000    0.000 std.py:682(_get_free_pos)\n",
      "        1    0.000    0.000    0.000    0.000 std.py:685(<setcomp>)\n",
      "        1    0.000    0.000    0.000    0.000 std.py:689(_decr_instances)\n",
      "        1    0.000    0.000    0.000    0.000 std.py:763(get_lock)\n",
      "        1    0.000    0.000    0.002    0.002 std.py:953(__init__)\n",
      "     1219    0.001    0.000    0.002    0.000 threading.py:1102(_wait_for_tstate_lock)\n",
      "      610    0.000    0.000    0.000    0.000 threading.py:1145(ident)\n",
      "     1219    0.002    0.000    0.004    0.000 threading.py:1169(is_alive)\n",
      "      305    0.001    0.000    0.001    0.000 threading.py:1430(current_thread)\n",
      "      305    0.003    0.000    0.003    0.000 threading.py:236(__init__)\n",
      "      305    0.000    0.000    0.000    0.000 threading.py:264(__enter__)\n",
      "      305    0.000    0.000    0.001    0.000 threading.py:267(__exit__)\n",
      "      305    0.000    0.000    0.000    0.000 threading.py:273(_release_save)\n",
      "      305    0.000    0.000    0.001    0.000 threading.py:276(_acquire_restore)\n",
      "      305    0.000    0.000    0.000    0.000 threading.py:279(_is_owned)\n",
      "      305    0.002    0.000    0.136    0.000 threading.py:288(wait)\n",
      "      305    0.001    0.000    0.004    0.000 threading.py:545(__init__)\n",
      "     1220    0.000    0.000    0.000    0.000 threading.py:553(is_set)\n",
      "      305    0.002    0.000    0.139    0.000 threading.py:589(wait)\n",
      "196612522   33.003    0.000   33.003    0.000 trip.py:15(__lt__)\n",
      "   220266    0.284    0.000    0.312    0.000 trip.py:24(__init__)\n",
      " 42195613   15.659    0.000   15.659    0.000 trip.py:9(__init__)\n",
      "      303    0.000    0.000    0.000    0.000 utils.py:107(__init__)\n",
      "      303    0.000    0.000    0.000    0.000 utils.py:111(__format__)\n",
      "        1    0.000    0.000    0.000    0.000 utils.py:124(__eq__)\n",
      "        2    0.000    0.000    0.000    0.000 utils.py:138(__getattr__)\n",
      "        3    0.000    0.000    0.000    0.000 utils.py:151(wrapper_setattr)\n",
      "        1    0.000    0.000    0.000    0.000 utils.py:155(__init__)\n",
      "        2    0.000    0.000    0.000    0.000 utils.py:186(disable_on_exception)\n",
      "      608    0.002    0.000    0.194    0.000 utils.py:193(inner)\n",
      "        1    0.000    0.000    0.000    0.000 utils.py:212(__init__)\n",
      "        2    0.000    0.000    0.000    0.000 utils.py:221(__eq__)\n",
      "        1    0.000    0.000    0.000    0.000 utils.py:251(_is_utf)\n",
      "        1    0.000    0.000    0.000    0.000 utils.py:265(_supports_unicode)\n",
      "      606    0.002    0.000    0.003    0.000 utils.py:272(_is_ascii)\n",
      "        1    0.000    0.000    0.000    0.000 utils.py:281(_screen_shape_wrapper)\n",
      "        1    0.000    0.000    0.000    0.000 utils.py:332(_screen_shape_linux)\n",
      "      909    0.001    0.000    0.072    0.000 utils.py:373(_text_width)\n",
      "   145432    0.039    0.000    0.055    0.000 utils.py:374(<genexpr>)\n",
      "      909    0.001    0.000    0.075    0.000 utils.py:377(disp_len)\n",
      "      303    0.000    0.000    0.033    0.000 utils.py:385(disp_trim)\n",
      "   187933    0.027    0.000    0.027    0.000 {built-in method __new__ of type object at 0x10f2eb920}\n",
      "        1    0.000    0.000    0.000    0.000 {built-in method _abc._abc_instancecheck}\n",
      "      610    0.001    0.000    0.001    0.000 {built-in method _thread.allocate_lock}\n",
      "      305    0.000    0.000    0.000    0.000 {built-in method _thread.get_ident}\n",
      "        2    0.000    0.000    0.000    0.000 {built-in method _weakref.proxy}\n",
      "      305    0.000    0.000    0.000    0.000 {built-in method builtins.abs}\n",
      "     1513    0.000    0.000    0.000    0.000 {built-in method builtins.divmod}\n",
      "        1    0.000    0.000  356.385  356.385 {built-in method builtins.exec}\n",
      "   375886    0.068    0.000    0.068    0.000 {built-in method builtins.getattr}\n",
      "   188543    0.028    0.000    0.028    0.000 {built-in method builtins.hasattr}\n",
      "  3498822    0.381    0.000    0.381    0.000 {built-in method builtins.id}\n",
      "   376781    0.059    0.000    0.059    0.000 {built-in method builtins.isinstance}\n",
      "   187937    0.026    0.000    0.026    0.000 {built-in method builtins.issubclass}\n",
      "1249229/1230482    0.195    0.000    0.204    0.000 {built-in method builtins.len}\n",
      "    18804    0.020    0.000    0.020    0.000 {built-in method builtins.max}\n",
      "        1    0.000    0.000    0.000    0.000 {built-in method builtins.min}\n",
      "     6363    0.001    0.000    0.001    0.000 {built-in method builtins.ord}\n",
      "   106692    0.017    0.000    0.017    0.000 {built-in method builtins.setattr}\n",
      "      909    0.016    0.000    0.071    0.000 {built-in method builtins.sum}\n",
      "        1    0.000    0.000    0.000    0.000 {built-in method fcntl.ioctl}\n",
      "      302    0.002    0.000    0.002    0.000 {built-in method now}\n",
      "      305    0.000    0.000    0.000    0.000 {built-in method posix.getpid}\n",
      "     1288    0.001    0.000    0.001    0.000 {built-in method time.time}\n",
      "   144523    0.016    0.000    0.016    0.000 {built-in method unicodedata.east_asian_width}\n",
      "        1    0.000    0.000    0.000    0.000 {built-in method utcfromtimestamp}\n",
      "      305    0.000    0.000    0.000    0.000 {method '__enter__' of '_thread.lock' objects}\n",
      "      305    0.000    0.000    0.000    0.000 {method '__exit__' of '_thread.RLock' objects}\n",
      "      305    0.000    0.000    0.000    0.000 {method '__exit__' of '_thread.lock' objects}\n",
      "   187937    0.114    0.000    0.114    0.000 {method '__reduce_ex__' of 'object' objects}\n",
      "      306    0.002    0.000    0.002    0.000 {method 'acquire' of '_multiprocessing.SemLock' objects}\n",
      "      306    0.000    0.000    0.000    0.000 {method 'acquire' of '_thread.RLock' objects}\n",
      "     2439    0.134    0.000    0.134    0.000 {method 'acquire' of '_thread.lock' objects}\n",
      "        3    0.000    0.000    0.000    0.000 {method 'add' of 'set' objects}\n",
      "     1219    0.000    0.000    0.000    0.000 {method 'append' of 'collections.deque' objects}\n",
      "132736815   12.987    0.000   12.987    0.000 {method 'append' of 'list' objects}\n",
      "        1    0.000    0.000    0.000    0.000 {method 'difference' of 'set' objects}\n",
      "        1    0.000    0.000    0.000    0.000 {method 'disable' of '_lsprof.Profiler' objects}\n",
      "        1    0.000    0.000    0.000    0.000 {method 'encode' of 'str' objects}\n",
      "     2118    0.005    0.000    0.007    0.000 {method 'format' of 'str' objects}\n",
      "  4740504    0.665    0.000    0.665    0.000 {method 'get' of 'dict' objects}\n",
      "   235150    0.392    0.000    0.392    0.000 {method 'items' of 'dict' objects}\n",
      " 39701564    3.529    0.000    3.529    0.000 {method 'pop' of 'list' objects}\n",
      "     9459    0.004    0.000    0.004    0.000 {method 'popitem' of 'dict' objects}\n",
      "      306    0.001    0.000    0.001    0.000 {method 'release' of '_multiprocessing.SemLock' objects}\n",
      "      306    0.000    0.000    0.000    0.000 {method 'release' of '_thread.RLock' objects}\n",
      "      305    0.000    0.000    0.000    0.000 {method 'release' of '_thread.lock' objects}\n",
      "        3    0.000    0.000    0.000    0.000 {method 'remove' of 'set' objects}\n",
      "   430658   25.781    0.000   58.784    0.000 {method 'sort' of 'list' objects}\n",
      "      909    0.001    0.000    0.001    0.000 {method 'sub' of 're.Pattern' objects}\n",
      "   152671    0.048    0.000    0.048    0.000 {method 'update' of 'dict' objects}\n",
      "      305    0.000    0.000    0.000    0.000 {method 'write' of '_io.StringIO' objects}\n",
      "\n",
      "\n",
      "CPU times: user 5min 51s, sys: 2.24 s, total: 5min 54s\n",
      "Wall time: 5min 56s\n"
     ]
    },
    {
     "name": "stderr",
     "output_type": "stream",
     "text": [
      "\n"
     ]
    }
   ],
   "source": [
    "%%time\n",
    "cProfile.run('ch_tg_optimal = tg.contraction_hierarchy(just_buses=False)')"
   ]
  },
  {
   "cell_type": "code",
   "execution_count": 12,
   "id": "17bdb8ab",
   "metadata": {},
   "outputs": [
    {
     "data": {
      "text/plain": [
       "(16049,\n",
       " 549,\n",
       " {'min_size': 0,\n",
       "  'mean_size': 62.92940370116518,\n",
       "  'std_size': 63.75892593551478,\n",
       "  'max_size': 542})"
      ]
     },
     "execution_count": 12,
     "metadata": {},
     "output_type": "execute_result"
    }
   ],
   "source": [
    "ch_tg_optimal.edges_cnt, ch_tg_optimal.nodes_cnt, ch_tg_optimal.timetable_stats"
   ]
  },
  {
   "cell_type": "markdown",
   "id": "12610952",
   "metadata": {},
   "source": [
    "# Precalculate Geometrical containers for FCH"
   ]
  },
  {
   "cell_type": "code",
   "execution_count": 13,
   "id": "d71ece71",
   "metadata": {
    "scrolled": true
   },
   "outputs": [
    {
     "name": "stderr",
     "output_type": "stream",
     "text": [
      "100%|██████████████████████████████████████████████████████████████████████████████████████████████████████████████████████████████████████████████████████████████████████████████████| 549/549 [00:00<00:00, 3123.67it/s]"
     ]
    },
    {
     "name": "stdout",
     "output_type": "stream",
     "text": [
      "CPU times: user 176 ms, sys: 6.27 ms, total: 182 ms\n",
      "Wall time: 183 ms\n"
     ]
    },
    {
     "name": "stderr",
     "output_type": "stream",
     "text": [
      "\n"
     ]
    }
   ],
   "source": [
    "%%time\n",
    "ch_tg_optimal.geometrical_container()"
   ]
  },
  {
   "cell_type": "code",
   "execution_count": 13,
   "id": "f8bdec92",
   "metadata": {},
   "outputs": [],
   "source": [
    "pickle.dump(ch_tg_optimal, open(F'{CITY}_original.pkl', 'wb'), \n",
    "            pickle.HIGHEST_PROTOCOL)"
   ]
  },
  {
   "cell_type": "code",
   "execution_count": 14,
   "id": "fb870e5a",
   "metadata": {},
   "outputs": [],
   "source": [
    "pickle.dump(ch_tg, open(F'{CITY}_trunc.pkl', 'wb'), \n",
    "            pickle.HIGHEST_PROTOCOL)"
   ]
  },
  {
   "cell_type": "code",
   "execution_count": 7,
   "id": "892bbe5a",
   "metadata": {},
   "outputs": [],
   "source": [
    "ch_tg = pickle.load(open(F'kuopio_trunc.pkl', 'rb'))\n",
    "ch_tg_optimal = pickle.load(open(F'kuopio_original.pkl', 'rb'))"
   ]
  },
  {
   "cell_type": "markdown",
   "id": "25731a5d",
   "metadata": {},
   "source": [
    "# Pathfinding"
   ]
  },
  {
   "cell_type": "code",
   "execution_count": 16,
   "id": "2686e568",
   "metadata": {},
   "outputs": [
    {
     "data": {
      "text/plain": [
       "(1481511600, 1481585460)"
      ]
     },
     "execution_count": 16,
     "metadata": {},
     "output_type": "execute_result"
    }
   ],
   "source": [
    "transport_connections['dep_time_ut'].min(), transport_connections['dep_time_ut'].max()"
   ]
  },
  {
   "cell_type": "code",
   "execution_count": 17,
   "id": "c44b3a2f",
   "metadata": {},
   "outputs": [
    {
     "name": "stdout",
     "output_type": "stream",
     "text": [
      "Path duration 0:55:37\n",
      "Calculation duration 0:01:08\n",
      "\n",
      "Path duration 0:05:00\n",
      "Calculation duration 0:00:07\n",
      "\n",
      "Path duration 0:27:20\n",
      "Calculation duration 0:01:06\n",
      "\n",
      "Path duration 0:00:00\n",
      "Calculation duration 0:00:00\n",
      "\n",
      "Path duration 0:07:00\n",
      "Calculation duration 0:00:11\n",
      "\n",
      "Path duration 0:05:55\n",
      "Calculation duration 0:00:05\n",
      "\n",
      "Path duration 0:04:20\n",
      "Calculation duration 0:00:04\n",
      "\n",
      "Path duration 0:22:26\n",
      "Calculation duration 0:00:29\n",
      "\n"
     ]
    }
   ],
   "source": [
    "test_pairs = pd.DataFrame([\n",
    "    {'start_time': 1481514083, 'start_node': 330, 'end_node': 54},\n",
    "    {'start_time': 1481519880, 'start_node': 345, 'end_node': 141},\n",
    "    {'start_time': 1481518900, 'start_node': 1, 'end_node': 132},\n",
    "    {'start_time': 1481514540, 'start_node': 116, 'end_node': 118},\n",
    "    {'start_time': 1481519640, 'start_node': 1, 'end_node': 50}, \n",
    "    {'start_time': 1481515900, 'start_node': 1, 'end_node': 51},\n",
    "    {'start_time': 1481515900, 'start_node': 1, 'end_node': 50}, \n",
    "    {'start_time': 1481571574, 'start_node': 146, 'end_node': 7}\n",
    "])\n",
    "for index, row in test_pairs.iterrows():\n",
    "    pathfinding = FCH(graph=ch_tg_optimal,\n",
    "                      start_time=row['start_time'],\n",
    "                      start_node=row['start_node'], \n",
    "                      end_node=row['end_node'])\n",
    "    path = pathfinding.shortest_path(60)\n",
    "    print('Path duration', datetime.timedelta(seconds=int(path['arrival'] - row['start_time'])))\n",
    "    print('Calculation duration', datetime.timedelta(seconds=int(path['duration'])))\n",
    "    print()"
   ]
  },
  {
   "cell_type": "code",
   "execution_count": 18,
   "id": "99f0c419",
   "metadata": {},
   "outputs": [
    {
     "name": "stdout",
     "output_type": "stream",
     "text": [
      "Path duration 0:55:37\n",
      "Calculation duration 0:00:35\n",
      "\n",
      "Path duration 0:05:00\n",
      "Calculation duration 0:00:05\n",
      "\n",
      "Path duration 0:27:20\n",
      "Calculation duration 0:00:43\n",
      "\n",
      "Path duration 0:00:00\n",
      "Calculation duration 0:00:00\n",
      "\n",
      "Path duration 0:07:00\n",
      "Calculation duration 0:00:07\n",
      "\n",
      "Path duration 0:05:55\n",
      "Calculation duration 0:00:04\n",
      "\n",
      "Path duration 0:04:20\n",
      "Calculation duration 0:00:03\n",
      "\n",
      "Path duration 0:22:26\n",
      "Calculation duration 0:00:21\n",
      "\n"
     ]
    }
   ],
   "source": [
    "test_pairs = pd.DataFrame([\n",
    "    {'start_time': 1481514083, 'start_node': 330, 'end_node': 54},\n",
    "    {'start_time': 1481519880, 'start_node': 345, 'end_node': 141},\n",
    "    {'start_time': 1481518900, 'start_node': 1, 'end_node': 132},\n",
    "    {'start_time': 1481514540, 'start_node': 116, 'end_node': 118},\n",
    "    {'start_time': 1481519640, 'start_node': 1, 'end_node': 50}, \n",
    "    {'start_time': 1481515900, 'start_node': 1, 'end_node': 51},\n",
    "    {'start_time': 1481515900, 'start_node': 1, 'end_node': 50}, \n",
    "    {'start_time': 1481571574, 'start_node': 146, 'end_node': 7}\n",
    "])\n",
    "for index, row in test_pairs.iterrows():\n",
    "    pathfinding = FCH(graph=ch_tg,\n",
    "                      start_time=row['start_time'],\n",
    "                      start_node=row['start_node'], \n",
    "                      end_node=row['end_node'])\n",
    "    path = pathfinding.shortest_path(60, geometrical_containers=False)\n",
    "    print('Path duration', datetime.timedelta(seconds=int(path['arrival'] - row['start_time'])))\n",
    "    print('Calculation duration', datetime.timedelta(seconds=int(path['duration'])))\n",
    "    print()"
   ]
  },
  {
   "cell_type": "markdown",
   "id": "a81304ed",
   "metadata": {},
   "source": [
    "# Compare 2 solutions"
   ]
  },
  {
   "cell_type": "code",
   "execution_count": 14,
   "id": "745d3947",
   "metadata": {
    "scrolled": true
   },
   "outputs": [
    {
     "name": "stderr",
     "output_type": "stream",
     "text": [
      "/var/folders/y3/4nz44bj52pz9p2mrm1s72mxc0000gn/T/ipykernel_31939/140951379.py:4: DeprecationWarning: Sampling from a set deprecated\n",
      "since Python 3.9 and will be removed in a subsequent version.\n",
      "  'start_node' : [random.sample(ch_tg.nodes, 1)[0] for i in range(N)],\n",
      "/var/folders/y3/4nz44bj52pz9p2mrm1s72mxc0000gn/T/ipykernel_31939/140951379.py:5: DeprecationWarning: Sampling from a set deprecated\n",
      "since Python 3.9 and will be removed in a subsequent version.\n",
      "  'end_node' : [random.sample(ch_tg.nodes, 1)[0] for i in range(N)]\n",
      "WARNING:root:Target 231 not reachable from node 67\n",
      "WARNING:root:Target 231 not reachable from node 67\n",
      "WARNING:root:Target 769 not reachable from node 189\n",
      "WARNING:root:Target 769 not reachable from node 189\n",
      "WARNING:root:Target 401 not reachable from node 816\n",
      "WARNING:root:Target 401 not reachable from node 816\n",
      "WARNING:root:Target 452 not reachable from node 368\n",
      "WARNING:root:Target 452 not reachable from node 368\n",
      "WARNING:root:Target 166 not reachable from node 394\n",
      "WARNING:root:Target 166 not reachable from node 394\n",
      "WARNING:root:Target 448 not reachable from node 772\n",
      "WARNING:root:Target 448 not reachable from node 772\n",
      "WARNING:root:Target 465 not reachable from node 848\n",
      "WARNING:root:Target 465 not reachable from node 848\n",
      "WARNING:root:Target 771 not reachable from node 390\n",
      "WARNING:root:Target 771 not reachable from node 390\n"
     ]
    },
    {
     "ename": "AssertionError",
     "evalue": "",
     "output_type": "error",
     "traceback": [
      "\u001b[0;31m---------------------------------------------------------------------------\u001b[0m",
      "\u001b[0;31mAssertionError\u001b[0m                            Traceback (most recent call last)",
      "Cell \u001b[0;32mIn[14], line 34\u001b[0m\n\u001b[1;32m     31\u001b[0m optimal_arrival \u001b[38;5;241m=\u001b[39m path[\u001b[38;5;124m'\u001b[39m\u001b[38;5;124marrival\u001b[39m\u001b[38;5;124m'\u001b[39m]\n\u001b[1;32m     33\u001b[0m \u001b[38;5;66;03m# validate\u001b[39;00m\n\u001b[0;32m---> 34\u001b[0m \u001b[38;5;28;01massert\u001b[39;00m new_arrival \u001b[38;5;241m==\u001b[39m optimal_arrival\n",
      "\u001b[0;31mAssertionError\u001b[0m: "
     ]
    }
   ],
   "source": [
    "N = 1_000\n",
    "test_data = pd.DataFrame({'start_time': [random.randint(transport_connections['dep_time_ut'].min(), \n",
    "                                           transport_connections['dep_time_ut'].max()) for i in range(N)],\n",
    "             'start_node' : [random.sample(ch_tg.nodes, 1)[0] for i in range(N)], \n",
    "              'end_node' : [random.sample(ch_tg.nodes, 1)[0] for i in range(N)]\n",
    "             })\n",
    "new_duration = []\n",
    "optimal_duration = []\n",
    "for index, row in test_data.iterrows():\n",
    "    \n",
    "    # new search\n",
    "    pathfinding = FCH(graph=ch_tg,\n",
    "                      start_time=row['start_time'],\n",
    "                      start_node=row['start_node'], \n",
    "                      end_node=row['end_node'])\n",
    "    path = pathfinding.shortest_path(60, search_with_switching_graphs=True, geometrical_containers=False,\n",
    "                                    max_walk_duration=1000)\n",
    "    if path['path']:\n",
    "        new_duration.append(path['duration'])\n",
    "    new_arrival = path['arrival']\n",
    "    \n",
    "    # optimal_duration\n",
    "    pathfinding = FCH(graph=ch_tg_optimal,\n",
    "                      start_time=row['start_time'],\n",
    "                      start_node=row['start_node'], \n",
    "                      end_node=row['end_node'])\n",
    "    path = pathfinding.shortest_path(60, search_with_switching_graphs=False, geometrical_containers=True,\n",
    "                                    max_walk_duration=1000)\n",
    "    if path['path']:\n",
    "        optimal_duration.append(path['duration'])\n",
    "    optimal_arrival = path['arrival']\n",
    "    \n",
    "    # validate\n",
    "    assert new_arrival == optimal_arrival"
   ]
  },
  {
   "cell_type": "code",
   "execution_count": 61,
   "id": "6873d008",
   "metadata": {
    "scrolled": true
   },
   "outputs": [
    {
     "data": {
      "text/plain": [
       "{'path': [269, 251, 252, 253, 250, 249],\n",
       " 'routes': ['walk', '6', 'walk', '6', '6'],\n",
       " 'arrival': 1481558580,\n",
       " 'duration': 12}"
      ]
     },
     "execution_count": 61,
     "metadata": {},
     "output_type": "execute_result"
    }
   ],
   "source": [
    "pathfinding = FCH(graph=ch_tg,\n",
    "                      start_time=1481556212,\n",
    "                      start_node=269, \n",
    "                      end_node=249)\n",
    "pathfinding.shortest_path(60, search_with_switching_graphs=True, geometrical_containers=False, max_walk_duration=1000)"
   ]
  },
  {
   "cell_type": "code",
   "execution_count": 53,
   "id": "aa372859",
   "metadata": {},
   "outputs": [
    {
     "data": {
      "text/plain": [
       "{'path': [251, 250, 249],\n",
       " 'routes': ['walk', '6'],\n",
       " 'arrival': 1481557380,\n",
       " 'duration': 1}"
      ]
     },
     "execution_count": 53,
     "metadata": {},
     "output_type": "execute_result"
    }
   ],
   "source": [
    "pathfinding = FCH(graph=ch_tg,\n",
    "                      start_time=1481557204,\n",
    "                      start_node=251, \n",
    "                      end_node=249)\n",
    "pathfinding.shortest_path(60, search_with_switching_graphs=True, geometrical_containers=False, max_walk_duration=1000)"
   ]
  },
  {
   "cell_type": "code",
   "execution_count": 47,
   "id": "4bbbb688",
   "metadata": {},
   "outputs": [
    {
     "name": "stdout",
     "output_type": "stream",
     "text": [
      "269 202 1481556212\n",
      "251 397 1481557204\n",
      "252 153 1481557638\n",
      "253 140 1481557670\n",
      "250 357 1481558061\n"
     ]
    }
   ],
   "source": [
    "path = [269, 251, 252, 253, 250, 249]\n",
    "start_time = row['start_time']\n",
    "for i, node in enumerate(path[:-1]):\n",
    "    print(node, ch_tg.hierarchy[node], start_time)\n",
    "    start_time = tg.graph[node][path[i+1]].arrival(start_time, max_walk_duration=1000)[0]\n"
   ]
  },
  {
   "cell_type": "code",
   "execution_count": 71,
   "id": "e6907ad7",
   "metadata": {
    "scrolled": true
   },
   "outputs": [
    {
     "data": {
      "text/plain": [
       "{'path': [269, 251, 252, 253, 250],\n",
       " 'routes': ['walk', '6', 'walk', '6'],\n",
       " 'arrival': 1481558580,\n",
       " 'duration': 20}"
      ]
     },
     "execution_count": 71,
     "metadata": {},
     "output_type": "execute_result"
    }
   ],
   "source": [
    "pathfinding = FCH(graph=ch_tg_optimal,\n",
    "                      start_time=1481556212,\n",
    "                      start_node=269, \n",
    "                      end_node=250)\n",
    "pathfinding.shortest_path(60, search_with_switching_graphs=False, geometrical_containers=True, max_walk_duration=1000)"
   ]
  },
  {
   "cell_type": "code",
   "execution_count": 81,
   "id": "ef6f86b3",
   "metadata": {},
   "outputs": [
    {
     "data": {
      "text/plain": [
       "{'path': [269, 251, 252, 254, 256, 1131, 233, 257, 255, 253, 250, 249],\n",
       " 'routes': ['walk', '6', '6', '6', 'walk', 'walk', '6', '6', '6', '6', '6'],\n",
       " 'arrival': 1481559480,\n",
       " 'duration': 47}"
      ]
     },
     "execution_count": 81,
     "metadata": {},
     "output_type": "execute_result"
    }
   ],
   "source": [
    "pathfinding = FCH(graph=ch_tg_optimal,\n",
    "                      start_time=1481556212,\n",
    "                      start_node=269, \n",
    "                      end_node=249)\n",
    "pathfinding.shortest_path(60, search_with_switching_graphs=False, geometrical_containers=True, max_walk_duration=1000)"
   ]
  },
  {
   "cell_type": "code",
   "execution_count": 72,
   "id": "0adbc1f2",
   "metadata": {},
   "outputs": [
    {
     "name": "stdout",
     "output_type": "stream",
     "text": [
      "269 210 1481556212\n",
      "251 399 1481557204\n",
      "252 125 1481557638\n",
      "253 140 1481557670\n"
     ]
    }
   ],
   "source": [
    "path = [269, 251, 252, 253, 250]\n",
    "start_time = row['start_time']\n",
    "for i, node in enumerate(path[:-1]):\n",
    "    print(node, ch_tg_optimal.hierarchy[node], start_time)\n",
    "    start_time = tg.graph[node][path[i+1]].arrival(start_time, max_walk_duration=1000)[0]\n"
   ]
  },
  {
   "cell_type": "code",
   "execution_count": 78,
   "id": "af28b6db",
   "metadata": {},
   "outputs": [
    {
     "data": {
      "text/plain": [
       "992"
      ]
     },
     "execution_count": 78,
     "metadata": {},
     "output_type": "execute_result"
    }
   ],
   "source": [
    "1481557204 - 1481556212"
   ]
  },
  {
   "cell_type": "code",
   "execution_count": 79,
   "id": "46141c71",
   "metadata": {},
   "outputs": [
    {
     "data": {
      "text/plain": [
       "(1481560386, [251, 252, 250, 249], ['6', 'walk', 'walk'], 846)"
      ]
     },
     "execution_count": 79,
     "metadata": {},
     "output_type": "execute_result"
    }
   ],
   "source": [
    "ch_tg_optimal.graph[251][249].arrival(1481557204, walk_duration=992, max_walk_duration=1000)"
   ]
  },
  {
   "cell_type": "code",
   "execution_count": 80,
   "id": "6f22c222",
   "metadata": {},
   "outputs": [
    {
     "name": "stdout",
     "output_type": "stream",
     "text": [
      "251 399 1481557204\n",
      "252 125 1481557638\n",
      "250 253 1481558054\n"
     ]
    }
   ],
   "source": [
    "path = [251, 252, 250, 249]\n",
    "start_time = 1481557204\n",
    "for i, node in enumerate(path[:-1]):\n",
    "    print(node, ch_tg_optimal.hierarchy[node], start_time)\n",
    "    start_time = tg.graph[node][path[i+1]].arrival(start_time, max_walk_duration=1000)[0]"
   ]
  },
  {
   "cell_type": "code",
   "execution_count": 21,
   "id": "a3168560",
   "metadata": {},
   "outputs": [
    {
     "data": {
      "text/plain": [
       "1481556212"
      ]
     },
     "execution_count": 21,
     "metadata": {},
     "output_type": "execute_result"
    }
   ],
   "source": [
    "tg.graph()"
   ]
  },
  {
   "cell_type": "code",
   "execution_count": 24,
   "id": "4014c1d3",
   "metadata": {},
   "outputs": [
    {
     "data": {
      "text/plain": [
       "(1481556334, [269, 268], ['walk'], 0)"
      ]
     },
     "execution_count": 24,
     "metadata": {},
     "output_type": "execute_result"
    }
   ],
   "source": [
    "tg.graph[256][1131].arrival(1481556212)"
   ]
  },
  {
   "cell_type": "code",
   "execution_count": 26,
   "id": "15b62b86",
   "metadata": {},
   "outputs": [
    {
     "data": {
      "text/plain": [
       "(1481557329, [268, 244], ['walk'], 0)"
      ]
     },
     "execution_count": 26,
     "metadata": {},
     "output_type": "execute_result"
    }
   ],
   "source": [
    "tg.graph[268][244].arrival(1481556334)"
   ]
  },
  {
   "cell_type": "code",
   "execution_count": 27,
   "id": "353fc59e",
   "metadata": {},
   "outputs": [
    {
     "data": {
      "text/plain": [
       "1117"
      ]
     },
     "execution_count": 27,
     "metadata": {},
     "output_type": "execute_result"
    }
   ],
   "source": [
    "1481557329 - 1481556212"
   ]
  },
  {
   "cell_type": "code",
   "execution_count": 37,
   "id": "f891ec78",
   "metadata": {},
   "outputs": [
    {
     "name": "stdout",
     "output_type": "stream",
     "text": [
      "249 316 1481579006\n",
      "270 436 1481579711\n",
      "246 439 1481580184\n",
      "248 342 1481580401\n",
      "266 341 1481581363\n",
      "268 269 1481581606\n",
      "113 239 1481582115\n",
      "155 212 1481582793\n",
      "107 270 1481583004\n",
      "105 297 1481583498\n"
     ]
    }
   ],
   "source": [
    "path = [249, 270, 246, 248, 266, 268, 113, 155, 107, 105, 109]\n",
    "start_time = row['start_time']\n",
    "for i, node in enumerate(path[:-1]):\n",
    "    print(node, ch_tg.hierarchy[node], start_time)\n",
    "    start_time = tg.graph[node][path[i+1]].arrival(start_time, max_walk_duration=1000)[0]\n"
   ]
  },
  {
   "cell_type": "code",
   "execution_count": 29,
   "id": "d0ec2c85",
   "metadata": {},
   "outputs": [
    {
     "data": {
      "text/plain": [
       "(270, 270)"
      ]
     },
     "execution_count": 29,
     "metadata": {},
     "output_type": "execute_result"
    }
   ],
   "source": [
    "node, path[i+1]"
   ]
  },
  {
   "cell_type": "code",
   "execution_count": 41,
   "id": "b772c7af",
   "metadata": {
    "scrolled": true
   },
   "outputs": [
    {
     "data": {
      "text/plain": [
       "{'path': [249, 266, 268, 112, 109],\n",
       " 'routes': ['walk', 'walk', 'walk', 'walk'],\n",
       " 'arrival': 1481581283,\n",
       " 'duration': 331}"
      ]
     },
     "execution_count": 41,
     "metadata": {},
     "output_type": "execute_result"
    }
   ],
   "source": [
    "pathfinding = FCH(graph=ch_tg_optimal,\n",
    "                      start_time=row['start_time'],\n",
    "                      start_node=row['start_node'], \n",
    "                      end_node=row['end_node'])\n",
    "pathfinding.shortest_path(60, search_with_switching_graphs=False, geometrical_containers=True)"
   ]
  },
  {
   "cell_type": "code",
   "execution_count": 42,
   "id": "79a9dcc1",
   "metadata": {},
   "outputs": [
    {
     "data": {
      "text/plain": [
       "{'path': [249, 266, 268],\n",
       " 'routes': ['walk', 'walk'],\n",
       " 'arrival': 1481580234,\n",
       " 'duration': 120}"
      ]
     },
     "execution_count": 42,
     "metadata": {},
     "output_type": "execute_result"
    }
   ],
   "source": [
    "pathfinding = FCH(graph=ch_tg_optimal,\n",
    "                      start_time=row['start_time'],\n",
    "                      start_node=row['start_node'], \n",
    "                      end_node=268)\n",
    "pathfinding.shortest_path(60, search_with_switching_graphs=False, geometrical_containers=True)"
   ]
  },
  {
   "cell_type": "code",
   "execution_count": 48,
   "id": "f6b1f0b5",
   "metadata": {
    "scrolled": true
   },
   "outputs": [
    {
     "data": {
      "text/plain": [
       "{'path': [249, 270, 246, 248, 266, 268, 113, 155, 107, 105, 109],\n",
       " 'routes': ['walk',\n",
       "  'walk',\n",
       "  '6',\n",
       "  'walk',\n",
       "  'walk',\n",
       "  'walk',\n",
       "  'walk',\n",
       "  '41',\n",
       "  '41',\n",
       "  'walk'],\n",
       " 'arrival': 1481584401,\n",
       " 'duration': 20}"
      ]
     },
     "execution_count": 48,
     "metadata": {},
     "output_type": "execute_result"
    }
   ],
   "source": [
    "pathfinding = FCH(graph=ch_tg_optimal,\n",
    "                      start_time=row['start_time'],\n",
    "                      start_node=row['start_node'], \n",
    "                      end_node=row['end_node'])\n",
    "pathfinding.shortest_path(60, search_with_switching_graphs=False, geometrical_containers=True,\n",
    "                          max_walk_duration=1000)"
   ]
  },
  {
   "cell_type": "code",
   "execution_count": 53,
   "id": "853b5026",
   "metadata": {},
   "outputs": [
    {
     "data": {
      "text/plain": [
       "240"
      ]
     },
     "execution_count": 53,
     "metadata": {},
     "output_type": "execute_result"
    }
   ],
   "source": [
    "ch_tg_optimal.graph[249][246].walk.w"
   ]
  },
  {
   "cell_type": "code",
   "execution_count": 47,
   "id": "2808c3ef",
   "metadata": {},
   "outputs": [
    {
     "data": {
      "text/plain": [
       "{'path': [249, 246], 'routes': ['walk'], 'arrival': 1481579246, 'duration': 0}"
      ]
     },
     "execution_count": 47,
     "metadata": {},
     "output_type": "execute_result"
    }
   ],
   "source": [
    "pathfinding = FCH(graph=ch_tg_optimal,\n",
    "                      start_time=row['start_time'],\n",
    "                      start_node=row['start_node'], \n",
    "                      end_node=246)\n",
    "pathfinding.shortest_path(60, search_with_switching_graphs=False, geometrical_containers=True,\n",
    "                          max_walk_duration=1000)"
   ]
  },
  {
   "cell_type": "code",
   "execution_count": 29,
   "id": "319b0de0",
   "metadata": {},
   "outputs": [
    {
     "data": {
      "text/plain": [
       "{'path': [43, 143, 36, 148, 33, 36],\n",
       " 'routes': ['walk', 'walk', '41', '41', 'walk'],\n",
       " 'arrival': 1481579434,\n",
       " 'duration': 51}"
      ]
     },
     "execution_count": 29,
     "metadata": {},
     "output_type": "execute_result"
    }
   ],
   "source": [
    "pathfinding = FCH(graph=ch_tg_optimal,\n",
    "                      start_time=row['start_time'],\n",
    "                      start_node=43, \n",
    "                      end_node=36)\n",
    "pathfinding.shortest_path(60, search_with_switching_graphs=False, geometrical_containers=True,\n",
    "                          max_walk_duration=1000)"
   ]
  },
  {
   "cell_type": "code",
   "execution_count": 23,
   "id": "03633c66",
   "metadata": {},
   "outputs": [
    {
     "name": "stdout",
     "output_type": "stream",
     "text": [
      "275 502\n",
      "274 503\n",
      "265 491\n",
      "289 497\n",
      "210 154\n",
      "208 361\n",
      "206 314\n",
      "203 267\n",
      "201 438\n",
      "140 405\n",
      "119 192\n",
      "117 260\n",
      "115 305\n",
      "344 545\n",
      "75 358\n",
      "49 510\n",
      "51 509\n",
      "453 442\n"
     ]
    }
   ],
   "source": [
    "path = [249, 270, 246, 248, 266, 268, 113, 155, 107, 105, 109]\n",
    "for i, node in enumerat(path):\n",
    "    print(node, ch_tg_optimal.hierarchy[node], tg.graph[node[i], node[i+1]].arrival())"
   ]
  },
  {
   "cell_type": "code",
   "execution_count": null,
   "id": "23aaafe4",
   "metadata": {},
   "outputs": [],
   "source": []
  },
  {
   "cell_type": "code",
   "execution_count": 86,
   "id": "c98a03a9",
   "metadata": {},
   "outputs": [
    {
     "data": {
      "text/plain": [
       "[1335, 245, 62, 64, 68, 70, 72, 53, 54, 71, 69, 67, 68]"
      ]
     },
     "execution_count": 86,
     "metadata": {},
     "output_type": "execute_result"
    }
   ],
   "source": [
    "pathfinding.candidate_sequences[68]"
   ]
  },
  {
   "cell_type": "code",
   "execution_count": 71,
   "id": "4c3ca42a",
   "metadata": {},
   "outputs": [
    {
     "data": {
      "text/plain": [
       "{'path': [1335, 64, 70],\n",
       " 'routes': ['walk', 'walk'],\n",
       " 'arrival': 1481547860,\n",
       " 'duration': 6}"
      ]
     },
     "execution_count": 71,
     "metadata": {},
     "output_type": "execute_result"
    }
   ],
   "source": [
    "pathfinding = FCH(graph=ch_tg_optimal,\n",
    "                      start_time=row['start_time'],\n",
    "                      start_node=row['start_node'], \n",
    "                      end_node=70)\n",
    "pathfinding.shortest_path(60, search_with_switching_graphs=True, geometrical_containers=False)"
   ]
  },
  {
   "cell_type": "code",
   "execution_count": 72,
   "id": "c2265a59",
   "metadata": {},
   "outputs": [
    {
     "data": {
      "text/plain": [
       "1444"
      ]
     },
     "execution_count": 72,
     "metadata": {},
     "output_type": "execute_result"
    }
   ],
   "source": [
    "1481547860 - row['start_time']"
   ]
  },
  {
   "cell_type": "code",
   "execution_count": 68,
   "id": "62536214",
   "metadata": {},
   "outputs": [
    {
     "data": {
      "text/plain": [
       "[1335, 64, 68, 70, 72, 71, 69, 68]"
      ]
     },
     "execution_count": 68,
     "metadata": {},
     "output_type": "execute_result"
    }
   ],
   "source": [
    "pathfinding.candidate_sequences[68]"
   ]
  },
  {
   "cell_type": "code",
   "execution_count": 60,
   "id": "4df87c1b",
   "metadata": {},
   "outputs": [
    {
     "data": {
      "text/plain": [
       "{'path': [1335, 64, 68, 70, 72, 53],\n",
       " 'routes': ['walk', '6', 'walk', '6', '6'],\n",
       " 'arrival': 1481548140,\n",
       " 'duration': 2}"
      ]
     },
     "execution_count": 60,
     "metadata": {},
     "output_type": "execute_result"
    }
   ],
   "source": [
    "pathfinding_opt = FCH(graph=ch_tg_optimal,\n",
    "                      start_time=row['start_time'],\n",
    "                      start_node=row['start_node'], \n",
    "                      end_node=53)\n",
    "pathfinding_opt.shortest_path(60, search_with_switching_graphs=False, geometrical_containers=True,\n",
    "                                    max_walk_duration=1000)"
   ]
  },
  {
   "cell_type": "code",
   "execution_count": 61,
   "id": "6628b751",
   "metadata": {},
   "outputs": [
    {
     "data": {
      "text/plain": [
       "{'path': [1335, 245, 62, 64, 68, 70, 72, 53],\n",
       " 'routes': ['walk', '6', '6', '6', '6', '6', '6'],\n",
       " 'arrival': 1481549340,\n",
       " 'duration': 7}"
      ]
     },
     "execution_count": 61,
     "metadata": {},
     "output_type": "execute_result"
    }
   ],
   "source": [
    "pathfinding = FCH(graph=ch_tg,\n",
    "                      start_time=row['start_time'],\n",
    "                      start_node=row['start_node'], \n",
    "                      end_node=53)\n",
    "pathfinding.shortest_path(60, search_with_switching_graphs=True, geometrical_containers=False, max_walk_duration=1000)"
   ]
  },
  {
   "cell_type": "code",
   "execution_count": 57,
   "id": "d42df993",
   "metadata": {
    "scrolled": false
   },
   "outputs": [
    {
     "ename": "KeyError",
     "evalue": "70",
     "output_type": "error",
     "traceback": [
      "\u001b[0;31m---------------------------------------------------------------------------\u001b[0m",
      "\u001b[0;31mKeyError\u001b[0m                                  Traceback (most recent call last)",
      "Cell \u001b[0;32mIn[57], line 1\u001b[0m\n\u001b[0;32m----> 1\u001b[0m \u001b[43mpathfinding\u001b[49m\u001b[38;5;241;43m.\u001b[39;49m\u001b[43mcandidate_priorities\u001b[49m\u001b[43m[\u001b[49m\u001b[38;5;241;43m70\u001b[39;49m\u001b[43m]\u001b[49m\n",
      "File \u001b[0;32m~/anaconda3/lib/python3.10/site-packages/heapdict.py:87\u001b[0m, in \u001b[0;36mheapdict.__getitem__\u001b[0;34m(self, key)\u001b[0m\n\u001b[1;32m     85\u001b[0m \u001b[38;5;129m@doc\u001b[39m(\u001b[38;5;28mdict\u001b[39m\u001b[38;5;241m.\u001b[39m\u001b[38;5;21m__getitem__\u001b[39m)\n\u001b[1;32m     86\u001b[0m \u001b[38;5;28;01mdef\u001b[39;00m \u001b[38;5;21m__getitem__\u001b[39m(\u001b[38;5;28mself\u001b[39m, key):\n\u001b[0;32m---> 87\u001b[0m     \u001b[38;5;28;01mreturn\u001b[39;00m \u001b[38;5;28;43mself\u001b[39;49m\u001b[38;5;241;43m.\u001b[39;49m\u001b[43md\u001b[49m\u001b[43m[\u001b[49m\u001b[43mkey\u001b[49m\u001b[43m]\u001b[49m[\u001b[38;5;241m0\u001b[39m]\n",
      "\u001b[0;31mKeyError\u001b[0m: 70"
     ]
    }
   ],
   "source": [
    "ch_tg.graph[1335]"
   ]
  },
  {
   "cell_type": "code",
   "execution_count": 64,
   "id": "7e976dd3",
   "metadata": {},
   "outputs": [
    {
     "data": {
      "text/plain": [
       "974"
      ]
     },
     "execution_count": 64,
     "metadata": {},
     "output_type": "execute_result"
    }
   ],
   "source": [
    "1481555669 - row['start_time']"
   ]
  },
  {
   "cell_type": "code",
   "execution_count": 65,
   "id": "bd5a676c",
   "metadata": {},
   "outputs": [
    {
     "data": {
      "text/plain": [
       "1481554695"
      ]
     },
     "execution_count": 65,
     "metadata": {},
     "output_type": "execute_result"
    }
   ],
   "source": [
    "row['start_time']"
   ]
  },
  {
   "cell_type": "code",
   "execution_count": null,
   "id": "39ae7987",
   "metadata": {},
   "outputs": [],
   "source": []
  },
  {
   "cell_type": "code",
   "execution_count": null,
   "id": "707662da",
   "metadata": {},
   "outputs": [],
   "source": []
  },
  {
   "cell_type": "code",
   "execution_count": null,
   "id": "375dfa9a",
   "metadata": {},
   "outputs": [],
   "source": []
  },
  {
   "cell_type": "code",
   "execution_count": 16,
   "id": "ef3a6644",
   "metadata": {},
   "outputs": [
    {
     "data": {
      "text/plain": [
       "(13.254444444444445, 13.0, 7.552684013148514)"
      ]
     },
     "execution_count": 16,
     "metadata": {},
     "output_type": "execute_result"
    }
   ],
   "source": [
    "np.mean(optimal_duration), np.median(optimal_duration), np.std(optimal_duration)"
   ]
  },
  {
   "cell_type": "code",
   "execution_count": 17,
   "id": "2dd09971",
   "metadata": {},
   "outputs": [
    {
     "data": {
      "text/plain": [
       "(32.285555555555554, 35.0, 16.963084501424532)"
      ]
     },
     "execution_count": 17,
     "metadata": {},
     "output_type": "execute_result"
    }
   ],
   "source": [
    "np.mean(new_duration), np.median(new_duration), np.std(new_duration)"
   ]
  },
  {
   "cell_type": "markdown",
   "id": "1373dcfc",
   "metadata": {},
   "source": [
    "### Withoout geometrical containers"
   ]
  },
  {
   "cell_type": "code",
   "execution_count": 18,
   "id": "9814b1ab",
   "metadata": {
    "scrolled": true
   },
   "outputs": [
    {
     "name": "stderr",
     "output_type": "stream",
     "text": [
      "/var/folders/y3/4nz44bj52pz9p2mrm1s72mxc0000gn/T/ipykernel_78265/2655839994.py:4: DeprecationWarning: Sampling from a set deprecated\n",
      "since Python 3.9 and will be removed in a subsequent version.\n",
      "  'start_node' : [random.sample(ch_tg.nodes, 1)[0] for i in range(N)],\n",
      "/var/folders/y3/4nz44bj52pz9p2mrm1s72mxc0000gn/T/ipykernel_78265/2655839994.py:5: DeprecationWarning: Sampling from a set deprecated\n",
      "since Python 3.9 and will be removed in a subsequent version.\n",
      "  'end_node' : [random.sample(ch_tg.nodes, 1)[0] for i in range(N)]\n",
      "WARNING:root:Target 766 not reachable from node 466\n",
      "WARNING:root:Target 766 not reachable from node 466\n",
      "WARNING:root:Target 89 not reachable from node 770\n",
      "WARNING:root:Target 89 not reachable from node 770\n",
      "WARNING:root:Target 405 not reachable from node 767\n",
      "WARNING:root:Target 405 not reachable from node 767\n",
      "WARNING:root:Target 756 not reachable from node 387\n",
      "WARNING:root:Target 756 not reachable from node 387\n",
      "WARNING:root:Target 852 not reachable from node 772\n",
      "WARNING:root:Target 852 not reachable from node 772\n",
      "WARNING:root:Target 773 not reachable from node 298\n",
      "WARNING:root:Target 773 not reachable from node 298\n",
      "WARNING:root:Target 415 not reachable from node 1198\n",
      "WARNING:root:Target 415 not reachable from node 1198\n",
      "WARNING:root:Target 427 not reachable from node 816\n",
      "WARNING:root:Target 427 not reachable from node 816\n",
      "WARNING:root:Target 261 not reachable from node 771\n",
      "WARNING:root:Target 261 not reachable from node 771\n",
      "WARNING:root:Target 767 not reachable from node 255\n",
      "WARNING:root:Target 767 not reachable from node 255\n",
      "WARNING:root:Target 770 not reachable from node 181\n",
      "WARNING:root:Target 770 not reachable from node 181\n",
      "WARNING:root:Target 773 not reachable from node 130\n",
      "WARNING:root:Target 773 not reachable from node 130\n",
      "WARNING:root:Target 765 not reachable from node 79\n",
      "WARNING:root:Target 765 not reachable from node 79\n",
      "WARNING:root:Target 773 not reachable from node 191\n",
      "WARNING:root:Target 773 not reachable from node 191\n",
      "WARNING:root:Target 774 not reachable from node 467\n",
      "WARNING:root:Target 774 not reachable from node 467\n",
      "WARNING:root:Target 234 not reachable from node 1224\n",
      "WARNING:root:Target 234 not reachable from node 1224\n",
      "WARNING:root:Target 774 not reachable from node 409\n",
      "WARNING:root:Target 774 not reachable from node 409\n",
      "WARNING:root:Target 763 not reachable from node 7\n",
      "WARNING:root:Target 763 not reachable from node 7\n",
      "WARNING:root:Target 334 not reachable from node 775\n",
      "WARNING:root:Target 334 not reachable from node 775\n",
      "WARNING:root:Target 55 not reachable from node 761\n",
      "WARNING:root:Target 55 not reachable from node 761\n",
      "WARNING:root:Target 202 not reachable from node 1224\n",
      "WARNING:root:Target 202 not reachable from node 1224\n",
      "WARNING:root:Target 767 not reachable from node 446\n",
      "WARNING:root:Target 767 not reachable from node 446\n",
      "WARNING:root:Target 135 not reachable from node 766\n",
      "WARNING:root:Target 135 not reachable from node 766\n",
      "WARNING:root:Target 458 not reachable from node 33\n",
      "WARNING:root:Target 458 not reachable from node 33\n",
      "WARNING:root:Target 102 not reachable from node 761\n",
      "WARNING:root:Target 102 not reachable from node 761\n",
      "WARNING:root:Target 19 not reachable from node 771\n",
      "WARNING:root:Target 19 not reachable from node 771\n",
      "WARNING:root:Target 768 not reachable from node 274\n",
      "WARNING:root:Target 768 not reachable from node 274\n",
      "WARNING:root:Target 91 not reachable from node 775\n",
      "WARNING:root:Target 91 not reachable from node 775\n",
      "WARNING:root:Target 760 not reachable from node 106\n",
      "WARNING:root:Target 760 not reachable from node 106\n",
      "WARNING:root:Target 1052 not reachable from node 274\n",
      "WARNING:root:Target 1052 not reachable from node 274\n",
      "WARNING:root:Target 1198 not reachable from node 121\n",
      "WARNING:root:Target 1198 not reachable from node 121\n",
      "WARNING:root:Target 817 not reachable from node 172\n",
      "WARNING:root:Target 817 not reachable from node 172\n",
      "WARNING:root:Target 435 not reachable from node 768\n",
      "WARNING:root:Target 435 not reachable from node 768\n",
      "WARNING:root:Target 757 not reachable from node 174\n",
      "WARNING:root:Target 757 not reachable from node 174\n",
      "WARNING:root:Target 1054 not reachable from node 467\n",
      "WARNING:root:Target 1054 not reachable from node 467\n",
      "WARNING:root:Target 335 not reachable from node 1133\n",
      "WARNING:root:Target 335 not reachable from node 1133\n",
      "WARNING:root:Target 343 not reachable from node 1054\n",
      "WARNING:root:Target 343 not reachable from node 1054\n",
      "WARNING:root:Target 210 not reachable from node 455\n",
      "WARNING:root:Target 210 not reachable from node 455\n",
      "WARNING:root:Target 282 not reachable from node 477\n",
      "WARNING:root:Target 282 not reachable from node 477\n",
      "WARNING:root:Target 240 not reachable from node 768\n",
      "WARNING:root:Target 240 not reachable from node 768\n",
      "WARNING:root:Target 1223 not reachable from node 414\n",
      "WARNING:root:Target 1223 not reachable from node 414\n",
      "WARNING:root:Target 356 not reachable from node 478\n",
      "WARNING:root:Target 356 not reachable from node 478\n",
      "WARNING:root:Target 353 not reachable from node 1223\n",
      "WARNING:root:Target 353 not reachable from node 1223\n",
      "WARNING:root:Target 126 not reachable from node 759\n",
      "WARNING:root:Target 126 not reachable from node 759\n",
      "WARNING:root:Target 1198 not reachable from node 283\n",
      "WARNING:root:Target 1198 not reachable from node 283\n",
      "WARNING:root:Target 765 not reachable from node 269\n",
      "WARNING:root:Target 765 not reachable from node 269\n",
      "WARNING:root:Target 774 not reachable from node 64\n",
      "WARNING:root:Target 774 not reachable from node 64\n",
      "WARNING:root:Target 763 not reachable from node 105\n",
      "WARNING:root:Target 763 not reachable from node 105\n",
      "WARNING:root:Target 481 not reachable from node 765\n",
      "WARNING:root:Target 481 not reachable from node 765\n",
      "WARNING:root:Target 407 not reachable from node 1056\n",
      "WARNING:root:Target 407 not reachable from node 1056\n",
      "WARNING:root:Target 817 not reachable from node 1337\n",
      "WARNING:root:Target 817 not reachable from node 1337\n",
      "WARNING:root:Target 416 not reachable from node 768\n",
      "WARNING:root:Target 416 not reachable from node 768\n",
      "WARNING:root:Target 2 not reachable from node 768\n",
      "WARNING:root:Target 2 not reachable from node 768\n",
      "WARNING:root:Target 771 not reachable from node 237\n",
      "WARNING:root:Target 771 not reachable from node 237\n",
      "WARNING:root:Target 769 not reachable from node 185\n",
      "WARNING:root:Target 769 not reachable from node 185\n",
      "WARNING:root:Target 205 not reachable from node 763\n",
      "WARNING:root:Target 205 not reachable from node 763\n",
      "WARNING:root:Target 1056 not reachable from node 417\n",
      "WARNING:root:Target 1056 not reachable from node 417\n",
      "WARNING:root:Target 761 not reachable from node 1271\n",
      "WARNING:root:Target 761 not reachable from node 1271\n",
      "WARNING:root:Target 768 not reachable from node 426\n",
      "WARNING:root:Target 768 not reachable from node 426\n",
      "WARNING:root:Target 1224 not reachable from node 157\n",
      "WARNING:root:Target 1224 not reachable from node 157\n",
      "WARNING:root:Target 773 not reachable from node 162\n",
      "WARNING:root:Target 773 not reachable from node 162\n",
      "WARNING:root:Target 761 not reachable from node 30\n",
      "WARNING:root:Target 761 not reachable from node 30\n",
      "WARNING:root:Target 341 not reachable from node 770\n",
      "WARNING:root:Target 341 not reachable from node 770\n",
      "WARNING:root:Target 219 not reachable from node 775\n",
      "WARNING:root:Target 219 not reachable from node 775\n",
      "WARNING:root:Target 366 not reachable from node 764\n",
      "WARNING:root:Target 366 not reachable from node 764\n",
      "WARNING:root:Target 85 not reachable from node 772\n",
      "WARNING:root:Target 85 not reachable from node 772\n",
      "WARNING:root:Target 765 not reachable from node 350\n",
      "WARNING:root:Target 765 not reachable from node 350\n",
      "WARNING:root:Target 179 not reachable from node 769\n",
      "WARNING:root:Target 179 not reachable from node 769\n",
      "WARNING:root:Target 766 not reachable from node 458\n",
      "WARNING:root:Target 766 not reachable from node 458\n",
      "WARNING:root:Target 762 not reachable from node 324\n",
      "WARNING:root:Target 762 not reachable from node 324\n",
      "WARNING:root:Target 352 not reachable from node 458\n",
      "WARNING:root:Target 352 not reachable from node 458\n",
      "WARNING:root:Target 80 not reachable from node 773\n",
      "WARNING:root:Target 80 not reachable from node 773\n",
      "WARNING:root:Target 468 not reachable from node 766\n",
      "WARNING:root:Target 468 not reachable from node 766\n",
      "WARNING:root:Target 1242 not reachable from node 764\n",
      "WARNING:root:Target 1242 not reachable from node 764\n"
     ]
    },
    {
     "name": "stderr",
     "output_type": "stream",
     "text": [
      "WARNING:root:Target 149 not reachable from node 759\n",
      "WARNING:root:Target 149 not reachable from node 759\n",
      "WARNING:root:Target 48 not reachable from node 762\n",
      "WARNING:root:Target 48 not reachable from node 762\n",
      "WARNING:root:Target 771 not reachable from node 814\n",
      "WARNING:root:Target 771 not reachable from node 814\n",
      "WARNING:root:Target 762 not reachable from node 35\n",
      "WARNING:root:Target 762 not reachable from node 35\n",
      "WARNING:root:Target 768 not reachable from node 42\n",
      "WARNING:root:Target 768 not reachable from node 42\n",
      "WARNING:root:Target 435 not reachable from node 773\n",
      "WARNING:root:Target 435 not reachable from node 773\n",
      "WARNING:root:Target 1323 not reachable from node 49\n",
      "WARNING:root:Target 1323 not reachable from node 49\n",
      "WARNING:root:Target 434 not reachable from node 763\n",
      "WARNING:root:Target 434 not reachable from node 763\n",
      "WARNING:root:Target 119 not reachable from node 762\n",
      "WARNING:root:Target 119 not reachable from node 762\n",
      "WARNING:root:Target 767 not reachable from node 480\n",
      "WARNING:root:Target 767 not reachable from node 480\n",
      "WARNING:root:Target 388 not reachable from node 1056\n",
      "WARNING:root:Target 388 not reachable from node 1056\n",
      "WARNING:root:Target 308 not reachable from node 766\n",
      "WARNING:root:Target 308 not reachable from node 766\n",
      "WARNING:root:Target 771 not reachable from node 286\n",
      "WARNING:root:Target 771 not reachable from node 286\n",
      "WARNING:root:Target 425 not reachable from node 772\n",
      "WARNING:root:Target 425 not reachable from node 772\n",
      "WARNING:root:Target 756 not reachable from node 813\n",
      "WARNING:root:Target 756 not reachable from node 813\n",
      "WARNING:root:Target 427 not reachable from node 1323\n",
      "WARNING:root:Target 427 not reachable from node 1323\n",
      "WARNING:root:Target 467 not reachable from node 7\n",
      "WARNING:root:Target 467 not reachable from node 7\n",
      "WARNING:root:Target 102 not reachable from node 758\n",
      "WARNING:root:Target 102 not reachable from node 758\n",
      "WARNING:root:Target 767 not reachable from node 426\n",
      "WARNING:root:Target 767 not reachable from node 426\n",
      "WARNING:root:Target 767 not reachable from node 134\n",
      "WARNING:root:Target 767 not reachable from node 134\n",
      "WARNING:root:Target 848 not reachable from node 1198\n",
      "WARNING:root:Target 848 not reachable from node 1198\n",
      "WARNING:root:Target 764 not reachable from node 432\n",
      "WARNING:root:Target 764 not reachable from node 432\n",
      "WARNING:root:Target 451 not reachable from node 760\n",
      "WARNING:root:Target 451 not reachable from node 760\n",
      "WARNING:root:Target 415 not reachable from node 1053\n",
      "WARNING:root:Target 415 not reachable from node 1053\n",
      "WARNING:root:Target 767 not reachable from node 340\n",
      "WARNING:root:Target 767 not reachable from node 340\n",
      "WARNING:root:Target 775 not reachable from node 421\n",
      "WARNING:root:Target 775 not reachable from node 421\n",
      "WARNING:root:Target 764 not reachable from node 260\n",
      "WARNING:root:Target 764 not reachable from node 260\n",
      "WARNING:root:Target 321 not reachable from node 771\n",
      "WARNING:root:Target 321 not reachable from node 771\n",
      "WARNING:root:Target 300 not reachable from node 481\n",
      "WARNING:root:Target 300 not reachable from node 481\n",
      "WARNING:root:Target 761 not reachable from node 344\n",
      "WARNING:root:Target 761 not reachable from node 344\n",
      "WARNING:root:Target 1054 not reachable from node 405\n",
      "WARNING:root:Target 1054 not reachable from node 405\n",
      "WARNING:root:Target 416 not reachable from node 774\n",
      "WARNING:root:Target 416 not reachable from node 774\n",
      "WARNING:root:Target 441 not reachable from node 758\n",
      "WARNING:root:Target 441 not reachable from node 758\n",
      "WARNING:root:Target 37 not reachable from node 1323\n",
      "WARNING:root:Target 37 not reachable from node 1323\n",
      "WARNING:root:Target 362 not reachable from node 758\n",
      "WARNING:root:Target 362 not reachable from node 758\n",
      "WARNING:root:Target 1056 not reachable from node 178\n",
      "WARNING:root:Target 1056 not reachable from node 178\n"
     ]
    }
   ],
   "source": [
    "N = 1_000\n",
    "test_data = pd.DataFrame({'start_time': [random.randint(transport_connections['dep_time_ut'].min(), \n",
    "                                           transport_connections['dep_time_ut'].max()) for i in range(N)],\n",
    "             'start_node' : [random.sample(ch_tg.nodes, 1)[0] for i in range(N)], \n",
    "              'end_node' : [random.sample(ch_tg.nodes, 1)[0] for i in range(N)]\n",
    "             })\n",
    "new_duration = []\n",
    "optimal_duration = []\n",
    "for index, row in test_data.iterrows():\n",
    "    \n",
    "    # new search\n",
    "    pathfinding = FCH(graph=ch_tg,\n",
    "                      start_time=row['start_time'],\n",
    "                      start_node=row['start_node'], \n",
    "                      end_node=row['end_node'])\n",
    "    path = pathfinding.shortest_path(60, search_with_switching_graphs=True, geometrical_containers=False)\n",
    "    if path['path']:\n",
    "        new_duration.append(path['duration'])\n",
    "    new_arrival = path['arrival']\n",
    "    \n",
    "    # optimal_duration\n",
    "    pathfinding = FCH(graph=ch_tg_optimal,\n",
    "                      start_time=row['start_time'],\n",
    "                      start_node=row['start_node'], \n",
    "                      end_node=row['end_node'])\n",
    "    path = pathfinding.shortest_path(60, search_with_switching_graphs=False, geometrical_containers=False)\n",
    "    if path['path']:\n",
    "        optimal_duration.append(path['duration'])\n",
    "    optimal_arrival = path['arrival']\n",
    "    \n",
    "    # validate\n",
    "    assert new_arrival == optimal_arrival"
   ]
  },
  {
   "cell_type": "code",
   "execution_count": 19,
   "id": "af81aec4",
   "metadata": {},
   "outputs": [
    {
     "data": {
      "text/plain": [
       "(44.326966292134834, 42.0, 150.25644689868335)"
      ]
     },
     "execution_count": 19,
     "metadata": {},
     "output_type": "execute_result"
    }
   ],
   "source": [
    "np.mean(optimal_duration), np.median(optimal_duration), np.std(optimal_duration)"
   ]
  },
  {
   "cell_type": "code",
   "execution_count": 20,
   "id": "e15fc7d3",
   "metadata": {},
   "outputs": [
    {
     "data": {
      "text/plain": [
       "(32.63820224719101, 34.0, 16.91928960722136)"
      ]
     },
     "execution_count": 20,
     "metadata": {},
     "output_type": "execute_result"
    }
   ],
   "source": [
    "np.mean(new_duration), np.median(new_duration), np.std(new_duration)"
   ]
  },
  {
   "cell_type": "markdown",
   "id": "d2634fbb",
   "metadata": {},
   "source": [
    "# Visualize path"
   ]
  },
  {
   "cell_type": "code",
   "execution_count": 8,
   "id": "8f719fd1",
   "metadata": {},
   "outputs": [
    {
     "name": "stdout",
     "output_type": "stream",
     "text": [
      "CPU times: user 4.06 ms, sys: 1.18 ms, total: 5.24 ms\n",
      "Wall time: 6.07 ms\n"
     ]
    }
   ],
   "source": [
    "%%time\n",
    "pathfinding = FCH(graph=ch_tg,\n",
    "                      start_time=1481519880,\n",
    "                      start_node=345, \n",
    "                      end_node=141)\n",
    "path = pathfinding.shortest_path(60)"
   ]
  },
  {
   "cell_type": "code",
   "execution_count": 9,
   "id": "84966fc9",
   "metadata": {},
   "outputs": [],
   "source": [
    "nodes = pd.read_csv(F'data/{CITY}/network_nodes.csv', sep=';')\n",
    "nodes_dict = nodes.set_index('stop_I').to_dict('index')"
   ]
  },
  {
   "cell_type": "code",
   "execution_count": 12,
   "id": "750c292a",
   "metadata": {
    "scrolled": true
   },
   "outputs": [
    {
     "name": "stdout",
     "output_type": "stream",
     "text": [
      "345 62.894633 27.645134 Canthia E\n",
      "114 62.891878 27.637245 Snellmania E\n",
      "116 62.88952 27.632591 Teknia E\n",
      "118 62.888191 27.630635 Technopolis E\n",
      "141 62.88333 27.61765 Neulamäentie 5 L\n"
     ]
    }
   ],
   "source": [
    "for station in path['path']:\n",
    "    print(station, nodes_dict[station]['lat'], nodes_dict[station]['lon'], nodes_dict[station]['name'])"
   ]
  },
  {
   "cell_type": "code",
   "execution_count": 13,
   "id": "2851b3b1",
   "metadata": {},
   "outputs": [
    {
     "data": {
      "application/vnd.plotly.v1+json": {
       "config": {
        "plotlyServerURL": "https://plot.ly"
       },
       "data": [
        {
         "lat": [
          62.894633,
          62.891878,
          62.88952,
          62.888191,
          62.88333
         ],
         "lon": [
          27.645134,
          27.637245,
          27.632591,
          27.630635,
          27.61765
         ],
         "marker": {
          "size": 10
         },
         "mode": "markers+lines",
         "name": "41",
         "text": [
          "(345, 'Canthia E')",
          "(114, 'Snellmania E')",
          "(116, 'Teknia E')",
          "(118, 'Technopolis E')",
          "(141, 'Neulamäentie 5 L')"
         ],
         "type": "scattermapbox"
        }
       ],
       "layout": {
        "mapbox": {
         "center": {
          "lat": 62.893025,
          "lon": 27.6761
         },
         "style": "stamen-terrain",
         "zoom": 9
        },
        "showlegend": true,
        "template": {
         "data": {
          "bar": [
           {
            "error_x": {
             "color": "#2a3f5f"
            },
            "error_y": {
             "color": "#2a3f5f"
            },
            "marker": {
             "line": {
              "color": "#E5ECF6",
              "width": 0.5
             },
             "pattern": {
              "fillmode": "overlay",
              "size": 10,
              "solidity": 0.2
             }
            },
            "type": "bar"
           }
          ],
          "barpolar": [
           {
            "marker": {
             "line": {
              "color": "#E5ECF6",
              "width": 0.5
             },
             "pattern": {
              "fillmode": "overlay",
              "size": 10,
              "solidity": 0.2
             }
            },
            "type": "barpolar"
           }
          ],
          "carpet": [
           {
            "aaxis": {
             "endlinecolor": "#2a3f5f",
             "gridcolor": "white",
             "linecolor": "white",
             "minorgridcolor": "white",
             "startlinecolor": "#2a3f5f"
            },
            "baxis": {
             "endlinecolor": "#2a3f5f",
             "gridcolor": "white",
             "linecolor": "white",
             "minorgridcolor": "white",
             "startlinecolor": "#2a3f5f"
            },
            "type": "carpet"
           }
          ],
          "choropleth": [
           {
            "colorbar": {
             "outlinewidth": 0,
             "ticks": ""
            },
            "type": "choropleth"
           }
          ],
          "contour": [
           {
            "colorbar": {
             "outlinewidth": 0,
             "ticks": ""
            },
            "colorscale": [
             [
              0,
              "#0d0887"
             ],
             [
              0.1111111111111111,
              "#46039f"
             ],
             [
              0.2222222222222222,
              "#7201a8"
             ],
             [
              0.3333333333333333,
              "#9c179e"
             ],
             [
              0.4444444444444444,
              "#bd3786"
             ],
             [
              0.5555555555555556,
              "#d8576b"
             ],
             [
              0.6666666666666666,
              "#ed7953"
             ],
             [
              0.7777777777777778,
              "#fb9f3a"
             ],
             [
              0.8888888888888888,
              "#fdca26"
             ],
             [
              1,
              "#f0f921"
             ]
            ],
            "type": "contour"
           }
          ],
          "contourcarpet": [
           {
            "colorbar": {
             "outlinewidth": 0,
             "ticks": ""
            },
            "type": "contourcarpet"
           }
          ],
          "heatmap": [
           {
            "colorbar": {
             "outlinewidth": 0,
             "ticks": ""
            },
            "colorscale": [
             [
              0,
              "#0d0887"
             ],
             [
              0.1111111111111111,
              "#46039f"
             ],
             [
              0.2222222222222222,
              "#7201a8"
             ],
             [
              0.3333333333333333,
              "#9c179e"
             ],
             [
              0.4444444444444444,
              "#bd3786"
             ],
             [
              0.5555555555555556,
              "#d8576b"
             ],
             [
              0.6666666666666666,
              "#ed7953"
             ],
             [
              0.7777777777777778,
              "#fb9f3a"
             ],
             [
              0.8888888888888888,
              "#fdca26"
             ],
             [
              1,
              "#f0f921"
             ]
            ],
            "type": "heatmap"
           }
          ],
          "heatmapgl": [
           {
            "colorbar": {
             "outlinewidth": 0,
             "ticks": ""
            },
            "colorscale": [
             [
              0,
              "#0d0887"
             ],
             [
              0.1111111111111111,
              "#46039f"
             ],
             [
              0.2222222222222222,
              "#7201a8"
             ],
             [
              0.3333333333333333,
              "#9c179e"
             ],
             [
              0.4444444444444444,
              "#bd3786"
             ],
             [
              0.5555555555555556,
              "#d8576b"
             ],
             [
              0.6666666666666666,
              "#ed7953"
             ],
             [
              0.7777777777777778,
              "#fb9f3a"
             ],
             [
              0.8888888888888888,
              "#fdca26"
             ],
             [
              1,
              "#f0f921"
             ]
            ],
            "type": "heatmapgl"
           }
          ],
          "histogram": [
           {
            "marker": {
             "pattern": {
              "fillmode": "overlay",
              "size": 10,
              "solidity": 0.2
             }
            },
            "type": "histogram"
           }
          ],
          "histogram2d": [
           {
            "colorbar": {
             "outlinewidth": 0,
             "ticks": ""
            },
            "colorscale": [
             [
              0,
              "#0d0887"
             ],
             [
              0.1111111111111111,
              "#46039f"
             ],
             [
              0.2222222222222222,
              "#7201a8"
             ],
             [
              0.3333333333333333,
              "#9c179e"
             ],
             [
              0.4444444444444444,
              "#bd3786"
             ],
             [
              0.5555555555555556,
              "#d8576b"
             ],
             [
              0.6666666666666666,
              "#ed7953"
             ],
             [
              0.7777777777777778,
              "#fb9f3a"
             ],
             [
              0.8888888888888888,
              "#fdca26"
             ],
             [
              1,
              "#f0f921"
             ]
            ],
            "type": "histogram2d"
           }
          ],
          "histogram2dcontour": [
           {
            "colorbar": {
             "outlinewidth": 0,
             "ticks": ""
            },
            "colorscale": [
             [
              0,
              "#0d0887"
             ],
             [
              0.1111111111111111,
              "#46039f"
             ],
             [
              0.2222222222222222,
              "#7201a8"
             ],
             [
              0.3333333333333333,
              "#9c179e"
             ],
             [
              0.4444444444444444,
              "#bd3786"
             ],
             [
              0.5555555555555556,
              "#d8576b"
             ],
             [
              0.6666666666666666,
              "#ed7953"
             ],
             [
              0.7777777777777778,
              "#fb9f3a"
             ],
             [
              0.8888888888888888,
              "#fdca26"
             ],
             [
              1,
              "#f0f921"
             ]
            ],
            "type": "histogram2dcontour"
           }
          ],
          "mesh3d": [
           {
            "colorbar": {
             "outlinewidth": 0,
             "ticks": ""
            },
            "type": "mesh3d"
           }
          ],
          "parcoords": [
           {
            "line": {
             "colorbar": {
              "outlinewidth": 0,
              "ticks": ""
             }
            },
            "type": "parcoords"
           }
          ],
          "pie": [
           {
            "automargin": true,
            "type": "pie"
           }
          ],
          "scatter": [
           {
            "fillpattern": {
             "fillmode": "overlay",
             "size": 10,
             "solidity": 0.2
            },
            "type": "scatter"
           }
          ],
          "scatter3d": [
           {
            "line": {
             "colorbar": {
              "outlinewidth": 0,
              "ticks": ""
             }
            },
            "marker": {
             "colorbar": {
              "outlinewidth": 0,
              "ticks": ""
             }
            },
            "type": "scatter3d"
           }
          ],
          "scattercarpet": [
           {
            "marker": {
             "colorbar": {
              "outlinewidth": 0,
              "ticks": ""
             }
            },
            "type": "scattercarpet"
           }
          ],
          "scattergeo": [
           {
            "marker": {
             "colorbar": {
              "outlinewidth": 0,
              "ticks": ""
             }
            },
            "type": "scattergeo"
           }
          ],
          "scattergl": [
           {
            "marker": {
             "colorbar": {
              "outlinewidth": 0,
              "ticks": ""
             }
            },
            "type": "scattergl"
           }
          ],
          "scattermapbox": [
           {
            "marker": {
             "colorbar": {
              "outlinewidth": 0,
              "ticks": ""
             }
            },
            "type": "scattermapbox"
           }
          ],
          "scatterpolar": [
           {
            "marker": {
             "colorbar": {
              "outlinewidth": 0,
              "ticks": ""
             }
            },
            "type": "scatterpolar"
           }
          ],
          "scatterpolargl": [
           {
            "marker": {
             "colorbar": {
              "outlinewidth": 0,
              "ticks": ""
             }
            },
            "type": "scatterpolargl"
           }
          ],
          "scatterternary": [
           {
            "marker": {
             "colorbar": {
              "outlinewidth": 0,
              "ticks": ""
             }
            },
            "type": "scatterternary"
           }
          ],
          "surface": [
           {
            "colorbar": {
             "outlinewidth": 0,
             "ticks": ""
            },
            "colorscale": [
             [
              0,
              "#0d0887"
             ],
             [
              0.1111111111111111,
              "#46039f"
             ],
             [
              0.2222222222222222,
              "#7201a8"
             ],
             [
              0.3333333333333333,
              "#9c179e"
             ],
             [
              0.4444444444444444,
              "#bd3786"
             ],
             [
              0.5555555555555556,
              "#d8576b"
             ],
             [
              0.6666666666666666,
              "#ed7953"
             ],
             [
              0.7777777777777778,
              "#fb9f3a"
             ],
             [
              0.8888888888888888,
              "#fdca26"
             ],
             [
              1,
              "#f0f921"
             ]
            ],
            "type": "surface"
           }
          ],
          "table": [
           {
            "cells": {
             "fill": {
              "color": "#EBF0F8"
             },
             "line": {
              "color": "white"
             }
            },
            "header": {
             "fill": {
              "color": "#C8D4E3"
             },
             "line": {
              "color": "white"
             }
            },
            "type": "table"
           }
          ]
         },
         "layout": {
          "annotationdefaults": {
           "arrowcolor": "#2a3f5f",
           "arrowhead": 0,
           "arrowwidth": 1
          },
          "autotypenumbers": "strict",
          "coloraxis": {
           "colorbar": {
            "outlinewidth": 0,
            "ticks": ""
           }
          },
          "colorscale": {
           "diverging": [
            [
             0,
             "#8e0152"
            ],
            [
             0.1,
             "#c51b7d"
            ],
            [
             0.2,
             "#de77ae"
            ],
            [
             0.3,
             "#f1b6da"
            ],
            [
             0.4,
             "#fde0ef"
            ],
            [
             0.5,
             "#f7f7f7"
            ],
            [
             0.6,
             "#e6f5d0"
            ],
            [
             0.7,
             "#b8e186"
            ],
            [
             0.8,
             "#7fbc41"
            ],
            [
             0.9,
             "#4d9221"
            ],
            [
             1,
             "#276419"
            ]
           ],
           "sequential": [
            [
             0,
             "#0d0887"
            ],
            [
             0.1111111111111111,
             "#46039f"
            ],
            [
             0.2222222222222222,
             "#7201a8"
            ],
            [
             0.3333333333333333,
             "#9c179e"
            ],
            [
             0.4444444444444444,
             "#bd3786"
            ],
            [
             0.5555555555555556,
             "#d8576b"
            ],
            [
             0.6666666666666666,
             "#ed7953"
            ],
            [
             0.7777777777777778,
             "#fb9f3a"
            ],
            [
             0.8888888888888888,
             "#fdca26"
            ],
            [
             1,
             "#f0f921"
            ]
           ],
           "sequentialminus": [
            [
             0,
             "#0d0887"
            ],
            [
             0.1111111111111111,
             "#46039f"
            ],
            [
             0.2222222222222222,
             "#7201a8"
            ],
            [
             0.3333333333333333,
             "#9c179e"
            ],
            [
             0.4444444444444444,
             "#bd3786"
            ],
            [
             0.5555555555555556,
             "#d8576b"
            ],
            [
             0.6666666666666666,
             "#ed7953"
            ],
            [
             0.7777777777777778,
             "#fb9f3a"
            ],
            [
             0.8888888888888888,
             "#fdca26"
            ],
            [
             1,
             "#f0f921"
            ]
           ]
          },
          "colorway": [
           "#636efa",
           "#EF553B",
           "#00cc96",
           "#ab63fa",
           "#FFA15A",
           "#19d3f3",
           "#FF6692",
           "#B6E880",
           "#FF97FF",
           "#FECB52"
          ],
          "font": {
           "color": "#2a3f5f"
          },
          "geo": {
           "bgcolor": "white",
           "lakecolor": "white",
           "landcolor": "#E5ECF6",
           "showlakes": true,
           "showland": true,
           "subunitcolor": "white"
          },
          "hoverlabel": {
           "align": "left"
          },
          "hovermode": "closest",
          "mapbox": {
           "style": "light"
          },
          "paper_bgcolor": "white",
          "plot_bgcolor": "#E5ECF6",
          "polar": {
           "angularaxis": {
            "gridcolor": "white",
            "linecolor": "white",
            "ticks": ""
           },
           "bgcolor": "#E5ECF6",
           "radialaxis": {
            "gridcolor": "white",
            "linecolor": "white",
            "ticks": ""
           }
          },
          "scene": {
           "xaxis": {
            "backgroundcolor": "#E5ECF6",
            "gridcolor": "white",
            "gridwidth": 2,
            "linecolor": "white",
            "showbackground": true,
            "ticks": "",
            "zerolinecolor": "white"
           },
           "yaxis": {
            "backgroundcolor": "#E5ECF6",
            "gridcolor": "white",
            "gridwidth": 2,
            "linecolor": "white",
            "showbackground": true,
            "ticks": "",
            "zerolinecolor": "white"
           },
           "zaxis": {
            "backgroundcolor": "#E5ECF6",
            "gridcolor": "white",
            "gridwidth": 2,
            "linecolor": "white",
            "showbackground": true,
            "ticks": "",
            "zerolinecolor": "white"
           }
          },
          "shapedefaults": {
           "line": {
            "color": "#2a3f5f"
           }
          },
          "ternary": {
           "aaxis": {
            "gridcolor": "white",
            "linecolor": "white",
            "ticks": ""
           },
           "baxis": {
            "gridcolor": "white",
            "linecolor": "white",
            "ticks": ""
           },
           "bgcolor": "#E5ECF6",
           "caxis": {
            "gridcolor": "white",
            "linecolor": "white",
            "ticks": ""
           }
          },
          "title": {
           "x": 0.05
          },
          "xaxis": {
           "automargin": true,
           "gridcolor": "white",
           "linecolor": "white",
           "ticks": "",
           "title": {
            "standoff": 15
           },
           "zerolinecolor": "white",
           "zerolinewidth": 2
          },
          "yaxis": {
           "automargin": true,
           "gridcolor": "white",
           "linecolor": "white",
           "ticks": "",
           "title": {
            "standoff": 15
           },
           "zerolinecolor": "white",
           "zerolinewidth": 2
          }
         }
        }
       }
      },
      "text/html": [
       "<div>                            <div id=\"048694fd-73b5-4c0c-b70e-9c63e08cb2b2\" class=\"plotly-graph-div\" style=\"height:525px; width:100%;\"></div>            <script type=\"text/javascript\">                require([\"plotly\"], function(Plotly) {                    window.PLOTLYENV=window.PLOTLYENV || {};                                    if (document.getElementById(\"048694fd-73b5-4c0c-b70e-9c63e08cb2b2\")) {                    Plotly.newPlot(                        \"048694fd-73b5-4c0c-b70e-9c63e08cb2b2\",                        [{\"lat\":[62.894633,62.891878,62.88952,62.888191,62.88333],\"lon\":[27.645134,27.637245,27.632591,27.630635,27.61765],\"marker\":{\"size\":10},\"mode\":\"markers+lines\",\"name\":\"41\",\"text\":[\"(345, 'Canthia E')\",\"(114, 'Snellmania E')\",\"(116, 'Teknia E')\",\"(118, 'Technopolis E')\",\"(141, 'Neulamäentie 5 L')\"],\"type\":\"scattermapbox\"}],                        {\"template\":{\"data\":{\"histogram2dcontour\":[{\"type\":\"histogram2dcontour\",\"colorbar\":{\"outlinewidth\":0,\"ticks\":\"\"},\"colorscale\":[[0.0,\"#0d0887\"],[0.1111111111111111,\"#46039f\"],[0.2222222222222222,\"#7201a8\"],[0.3333333333333333,\"#9c179e\"],[0.4444444444444444,\"#bd3786\"],[0.5555555555555556,\"#d8576b\"],[0.6666666666666666,\"#ed7953\"],[0.7777777777777778,\"#fb9f3a\"],[0.8888888888888888,\"#fdca26\"],[1.0,\"#f0f921\"]]}],\"choropleth\":[{\"type\":\"choropleth\",\"colorbar\":{\"outlinewidth\":0,\"ticks\":\"\"}}],\"histogram2d\":[{\"type\":\"histogram2d\",\"colorbar\":{\"outlinewidth\":0,\"ticks\":\"\"},\"colorscale\":[[0.0,\"#0d0887\"],[0.1111111111111111,\"#46039f\"],[0.2222222222222222,\"#7201a8\"],[0.3333333333333333,\"#9c179e\"],[0.4444444444444444,\"#bd3786\"],[0.5555555555555556,\"#d8576b\"],[0.6666666666666666,\"#ed7953\"],[0.7777777777777778,\"#fb9f3a\"],[0.8888888888888888,\"#fdca26\"],[1.0,\"#f0f921\"]]}],\"heatmap\":[{\"type\":\"heatmap\",\"colorbar\":{\"outlinewidth\":0,\"ticks\":\"\"},\"colorscale\":[[0.0,\"#0d0887\"],[0.1111111111111111,\"#46039f\"],[0.2222222222222222,\"#7201a8\"],[0.3333333333333333,\"#9c179e\"],[0.4444444444444444,\"#bd3786\"],[0.5555555555555556,\"#d8576b\"],[0.6666666666666666,\"#ed7953\"],[0.7777777777777778,\"#fb9f3a\"],[0.8888888888888888,\"#fdca26\"],[1.0,\"#f0f921\"]]}],\"heatmapgl\":[{\"type\":\"heatmapgl\",\"colorbar\":{\"outlinewidth\":0,\"ticks\":\"\"},\"colorscale\":[[0.0,\"#0d0887\"],[0.1111111111111111,\"#46039f\"],[0.2222222222222222,\"#7201a8\"],[0.3333333333333333,\"#9c179e\"],[0.4444444444444444,\"#bd3786\"],[0.5555555555555556,\"#d8576b\"],[0.6666666666666666,\"#ed7953\"],[0.7777777777777778,\"#fb9f3a\"],[0.8888888888888888,\"#fdca26\"],[1.0,\"#f0f921\"]]}],\"contourcarpet\":[{\"type\":\"contourcarpet\",\"colorbar\":{\"outlinewidth\":0,\"ticks\":\"\"}}],\"contour\":[{\"type\":\"contour\",\"colorbar\":{\"outlinewidth\":0,\"ticks\":\"\"},\"colorscale\":[[0.0,\"#0d0887\"],[0.1111111111111111,\"#46039f\"],[0.2222222222222222,\"#7201a8\"],[0.3333333333333333,\"#9c179e\"],[0.4444444444444444,\"#bd3786\"],[0.5555555555555556,\"#d8576b\"],[0.6666666666666666,\"#ed7953\"],[0.7777777777777778,\"#fb9f3a\"],[0.8888888888888888,\"#fdca26\"],[1.0,\"#f0f921\"]]}],\"surface\":[{\"type\":\"surface\",\"colorbar\":{\"outlinewidth\":0,\"ticks\":\"\"},\"colorscale\":[[0.0,\"#0d0887\"],[0.1111111111111111,\"#46039f\"],[0.2222222222222222,\"#7201a8\"],[0.3333333333333333,\"#9c179e\"],[0.4444444444444444,\"#bd3786\"],[0.5555555555555556,\"#d8576b\"],[0.6666666666666666,\"#ed7953\"],[0.7777777777777778,\"#fb9f3a\"],[0.8888888888888888,\"#fdca26\"],[1.0,\"#f0f921\"]]}],\"mesh3d\":[{\"type\":\"mesh3d\",\"colorbar\":{\"outlinewidth\":0,\"ticks\":\"\"}}],\"scatter\":[{\"fillpattern\":{\"fillmode\":\"overlay\",\"size\":10,\"solidity\":0.2},\"type\":\"scatter\"}],\"parcoords\":[{\"type\":\"parcoords\",\"line\":{\"colorbar\":{\"outlinewidth\":0,\"ticks\":\"\"}}}],\"scatterpolargl\":[{\"type\":\"scatterpolargl\",\"marker\":{\"colorbar\":{\"outlinewidth\":0,\"ticks\":\"\"}}}],\"bar\":[{\"error_x\":{\"color\":\"#2a3f5f\"},\"error_y\":{\"color\":\"#2a3f5f\"},\"marker\":{\"line\":{\"color\":\"#E5ECF6\",\"width\":0.5},\"pattern\":{\"fillmode\":\"overlay\",\"size\":10,\"solidity\":0.2}},\"type\":\"bar\"}],\"scattergeo\":[{\"type\":\"scattergeo\",\"marker\":{\"colorbar\":{\"outlinewidth\":0,\"ticks\":\"\"}}}],\"scatterpolar\":[{\"type\":\"scatterpolar\",\"marker\":{\"colorbar\":{\"outlinewidth\":0,\"ticks\":\"\"}}}],\"histogram\":[{\"marker\":{\"pattern\":{\"fillmode\":\"overlay\",\"size\":10,\"solidity\":0.2}},\"type\":\"histogram\"}],\"scattergl\":[{\"type\":\"scattergl\",\"marker\":{\"colorbar\":{\"outlinewidth\":0,\"ticks\":\"\"}}}],\"scatter3d\":[{\"type\":\"scatter3d\",\"line\":{\"colorbar\":{\"outlinewidth\":0,\"ticks\":\"\"}},\"marker\":{\"colorbar\":{\"outlinewidth\":0,\"ticks\":\"\"}}}],\"scattermapbox\":[{\"type\":\"scattermapbox\",\"marker\":{\"colorbar\":{\"outlinewidth\":0,\"ticks\":\"\"}}}],\"scatterternary\":[{\"type\":\"scatterternary\",\"marker\":{\"colorbar\":{\"outlinewidth\":0,\"ticks\":\"\"}}}],\"scattercarpet\":[{\"type\":\"scattercarpet\",\"marker\":{\"colorbar\":{\"outlinewidth\":0,\"ticks\":\"\"}}}],\"carpet\":[{\"aaxis\":{\"endlinecolor\":\"#2a3f5f\",\"gridcolor\":\"white\",\"linecolor\":\"white\",\"minorgridcolor\":\"white\",\"startlinecolor\":\"#2a3f5f\"},\"baxis\":{\"endlinecolor\":\"#2a3f5f\",\"gridcolor\":\"white\",\"linecolor\":\"white\",\"minorgridcolor\":\"white\",\"startlinecolor\":\"#2a3f5f\"},\"type\":\"carpet\"}],\"table\":[{\"cells\":{\"fill\":{\"color\":\"#EBF0F8\"},\"line\":{\"color\":\"white\"}},\"header\":{\"fill\":{\"color\":\"#C8D4E3\"},\"line\":{\"color\":\"white\"}},\"type\":\"table\"}],\"barpolar\":[{\"marker\":{\"line\":{\"color\":\"#E5ECF6\",\"width\":0.5},\"pattern\":{\"fillmode\":\"overlay\",\"size\":10,\"solidity\":0.2}},\"type\":\"barpolar\"}],\"pie\":[{\"automargin\":true,\"type\":\"pie\"}]},\"layout\":{\"autotypenumbers\":\"strict\",\"colorway\":[\"#636efa\",\"#EF553B\",\"#00cc96\",\"#ab63fa\",\"#FFA15A\",\"#19d3f3\",\"#FF6692\",\"#B6E880\",\"#FF97FF\",\"#FECB52\"],\"font\":{\"color\":\"#2a3f5f\"},\"hovermode\":\"closest\",\"hoverlabel\":{\"align\":\"left\"},\"paper_bgcolor\":\"white\",\"plot_bgcolor\":\"#E5ECF6\",\"polar\":{\"bgcolor\":\"#E5ECF6\",\"angularaxis\":{\"gridcolor\":\"white\",\"linecolor\":\"white\",\"ticks\":\"\"},\"radialaxis\":{\"gridcolor\":\"white\",\"linecolor\":\"white\",\"ticks\":\"\"}},\"ternary\":{\"bgcolor\":\"#E5ECF6\",\"aaxis\":{\"gridcolor\":\"white\",\"linecolor\":\"white\",\"ticks\":\"\"},\"baxis\":{\"gridcolor\":\"white\",\"linecolor\":\"white\",\"ticks\":\"\"},\"caxis\":{\"gridcolor\":\"white\",\"linecolor\":\"white\",\"ticks\":\"\"}},\"coloraxis\":{\"colorbar\":{\"outlinewidth\":0,\"ticks\":\"\"}},\"colorscale\":{\"sequential\":[[0.0,\"#0d0887\"],[0.1111111111111111,\"#46039f\"],[0.2222222222222222,\"#7201a8\"],[0.3333333333333333,\"#9c179e\"],[0.4444444444444444,\"#bd3786\"],[0.5555555555555556,\"#d8576b\"],[0.6666666666666666,\"#ed7953\"],[0.7777777777777778,\"#fb9f3a\"],[0.8888888888888888,\"#fdca26\"],[1.0,\"#f0f921\"]],\"sequentialminus\":[[0.0,\"#0d0887\"],[0.1111111111111111,\"#46039f\"],[0.2222222222222222,\"#7201a8\"],[0.3333333333333333,\"#9c179e\"],[0.4444444444444444,\"#bd3786\"],[0.5555555555555556,\"#d8576b\"],[0.6666666666666666,\"#ed7953\"],[0.7777777777777778,\"#fb9f3a\"],[0.8888888888888888,\"#fdca26\"],[1.0,\"#f0f921\"]],\"diverging\":[[0,\"#8e0152\"],[0.1,\"#c51b7d\"],[0.2,\"#de77ae\"],[0.3,\"#f1b6da\"],[0.4,\"#fde0ef\"],[0.5,\"#f7f7f7\"],[0.6,\"#e6f5d0\"],[0.7,\"#b8e186\"],[0.8,\"#7fbc41\"],[0.9,\"#4d9221\"],[1,\"#276419\"]]},\"xaxis\":{\"gridcolor\":\"white\",\"linecolor\":\"white\",\"ticks\":\"\",\"title\":{\"standoff\":15},\"zerolinecolor\":\"white\",\"automargin\":true,\"zerolinewidth\":2},\"yaxis\":{\"gridcolor\":\"white\",\"linecolor\":\"white\",\"ticks\":\"\",\"title\":{\"standoff\":15},\"zerolinecolor\":\"white\",\"automargin\":true,\"zerolinewidth\":2},\"scene\":{\"xaxis\":{\"backgroundcolor\":\"#E5ECF6\",\"gridcolor\":\"white\",\"linecolor\":\"white\",\"showbackground\":true,\"ticks\":\"\",\"zerolinecolor\":\"white\",\"gridwidth\":2},\"yaxis\":{\"backgroundcolor\":\"#E5ECF6\",\"gridcolor\":\"white\",\"linecolor\":\"white\",\"showbackground\":true,\"ticks\":\"\",\"zerolinecolor\":\"white\",\"gridwidth\":2},\"zaxis\":{\"backgroundcolor\":\"#E5ECF6\",\"gridcolor\":\"white\",\"linecolor\":\"white\",\"showbackground\":true,\"ticks\":\"\",\"zerolinecolor\":\"white\",\"gridwidth\":2}},\"shapedefaults\":{\"line\":{\"color\":\"#2a3f5f\"}},\"annotationdefaults\":{\"arrowcolor\":\"#2a3f5f\",\"arrowhead\":0,\"arrowwidth\":1},\"geo\":{\"bgcolor\":\"white\",\"landcolor\":\"#E5ECF6\",\"subunitcolor\":\"white\",\"showland\":true,\"showlakes\":true,\"lakecolor\":\"white\"},\"title\":{\"x\":0.05},\"mapbox\":{\"style\":\"light\"}}},\"mapbox\":{\"center\":{\"lon\":27.6761,\"lat\":62.893025},\"style\":\"stamen-terrain\",\"zoom\":9},\"showlegend\":true},                        {\"responsive\": true}                    ).then(function(){\n",
       "                            \n",
       "var gd = document.getElementById('048694fd-73b5-4c0c-b70e-9c63e08cb2b2');\n",
       "var x = new MutationObserver(function (mutations, observer) {{\n",
       "        var display = window.getComputedStyle(gd).display;\n",
       "        if (!display || display === 'none') {{\n",
       "            console.log([gd, 'removed!']);\n",
       "            Plotly.purge(gd);\n",
       "            observer.disconnect();\n",
       "        }}\n",
       "}});\n",
       "\n",
       "// Listen for the removal of the full notebook cells\n",
       "var notebookContainer = gd.closest('#notebook-container');\n",
       "if (notebookContainer) {{\n",
       "    x.observe(notebookContainer, {childList: true});\n",
       "}}\n",
       "\n",
       "// Listen for the clearing of the current output cell\n",
       "var outputEl = gd.closest('.output');\n",
       "if (outputEl) {{\n",
       "    x.observe(outputEl, {childList: true});\n",
       "}}\n",
       "\n",
       "                        })                };                });            </script>        </div>"
      ]
     },
     "metadata": {},
     "output_type": "display_data"
    }
   ],
   "source": [
    "i = 0\n",
    "k = 0\n",
    "while i < len(path['routes']):\n",
    "    x = path['routes'][i]\n",
    "    if k == 0:\n",
    "        i += 1\n",
    "        if i == len(path['routes']):\n",
    "            fig = go.Figure(go.Scattermapbox(\n",
    "            mode = \"markers+lines\",\n",
    "            lon = [nodes_dict[path['path'][j]]['lon'] for j in range(k, i+1)],\n",
    "            lat = [nodes_dict[path['path'][j]]['lat'] for j in range(k, i+1)],\n",
    "            text = [(path['path'][j], nodes_dict[path['path'][j]]['name']) for j in range(k, i+1)],\n",
    "            name = path['routes'][k],\n",
    "            marker = {'size': 10}))\n",
    "            k = i\n",
    "        elif x != path['routes'][i]:\n",
    "            fig = go.Figure(go.Scattermapbox(\n",
    "            mode = \"markers+lines\",\n",
    "            lon = [nodes_dict[path['path'][j]]['lon'] for j in range(k, i+1)],\n",
    "            lat = [nodes_dict[path['path'][j]]['lat'] for j in range(k, i+1)],\n",
    "            text = [(path['path'][j], nodes_dict[path['path'][j]]['name']) for j in range(k, i+1)],\n",
    "            name = path['routes'][k],\n",
    "            marker = {'size': 10}))\n",
    "            k = i\n",
    "    else:\n",
    "        i += 1\n",
    "        if i < len(path['routes']):\n",
    "            if x != path['routes'][i]:\n",
    "                fig.add_trace(go.Scattermapbox(\n",
    "                mode = \"markers+lines\",\n",
    "                lon = [nodes_dict[path['path'][j]]['lon'] for j in range(k, i+1)],\n",
    "                lat = [nodes_dict[path['path'][j]]['lat'] for j in range(k, i+1)],\n",
    "                text = [(path['path'][j], nodes_dict[path['path'][j]]['name']) for j in range(k, i+1)],\n",
    "                name = path['routes'][k],\n",
    "                marker = {'size': 10}))\n",
    "                k = i\n",
    "        else:\n",
    "            fig.add_trace(go.Scattermapbox(\n",
    "            mode = \"markers+lines\",\n",
    "            lon = [nodes_dict[path['path'][j]]['lon'] for j in range(k, i+1)],\n",
    "            lat = [nodes_dict[path['path'][j]]['lat'] for j in range(k, i+1)],\n",
    "            text = [(path['path'][j], nodes_dict[path['path'][j]]['name']) for j in range(k, i+1)],\n",
    "            name = path['routes'][k],\n",
    "            marker = {'size': 10}))\n",
    "            k = i\n",
    "        \n",
    "\n",
    "fig.update_layout(\n",
    "    mapbox = {\n",
    "        'style': \"stamen-terrain\",\n",
    "        'center': {'lon': nodes['lon'].iloc[0], 'lat': nodes['lat'].iloc[0]},\n",
    "        'zoom': 9}, \n",
    "    showlegend=True)\n",
    "\n",
    "fig.show()"
   ]
  },
  {
   "cell_type": "code",
   "execution_count": null,
   "id": "3ec77b56",
   "metadata": {},
   "outputs": [],
   "source": []
  },
  {
   "cell_type": "code",
   "execution_count": null,
   "id": "c4bdcc73",
   "metadata": {},
   "outputs": [],
   "source": []
  }
 ],
 "metadata": {
  "kernelspec": {
   "display_name": "Python 3 (ipykernel)",
   "language": "python",
   "name": "python3"
  },
  "language_info": {
   "codemirror_mode": {
    "name": "ipython",
    "version": 3
   },
   "file_extension": ".py",
   "mimetype": "text/x-python",
   "name": "python",
   "nbconvert_exporter": "python",
   "pygments_lexer": "ipython3",
   "version": "3.10.9"
  }
 },
 "nbformat": 4,
 "nbformat_minor": 5
}
