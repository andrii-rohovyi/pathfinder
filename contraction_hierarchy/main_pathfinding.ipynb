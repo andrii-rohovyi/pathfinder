{
 "cells": [
  {
   "cell_type": "code",
   "execution_count": 1,
   "id": "e970afe4",
   "metadata": {},
   "outputs": [],
   "source": [
    "import pandas as pd\n",
    "import plotly.graph_objects as go\n",
    "import datetime\n",
    "import numpy as np\n",
    "import cProfile\n",
    "import sys\n",
    "import pickle\n",
    "import random\n",
    "\n",
    "from graph import TransportGraph\n",
    "from forward_search import FCH"
   ]
  },
  {
   "cell_type": "markdown",
   "id": "2a9e5e1c",
   "metadata": {},
   "source": [
    "# Build transport graph"
   ]
  },
  {
   "cell_type": "code",
   "execution_count": 2,
   "id": "4e3e04f4",
   "metadata": {},
   "outputs": [],
   "source": [
    "CITY = 'kuopio' #belfast, kuopio"
   ]
  },
  {
   "cell_type": "markdown",
   "id": "44cad3f3",
   "metadata": {},
   "source": [
    "## Optional \n",
    "### Add inverted road connections"
   ]
  },
  {
   "cell_type": "code",
   "execution_count": 3,
   "id": "8639e0a2",
   "metadata": {},
   "outputs": [],
   "source": [
    "transport_connections = pd.read_csv(F'data/{CITY}/network_temporal_day.csv', sep=';')\n",
    "walk_connections = pd.read_csv(F'data/{CITY}/network_walk.csv', sep=';')"
   ]
  },
  {
   "cell_type": "code",
   "execution_count": 4,
   "id": "fd179360",
   "metadata": {},
   "outputs": [],
   "source": [
    "transport_connections = transport_connections[\n",
    "    transport_connections['from_stop_I']!=transport_connections['to_stop_I']]"
   ]
  },
  {
   "cell_type": "code",
   "execution_count": 5,
   "id": "6a43904e",
   "metadata": {},
   "outputs": [],
   "source": [
    "df_walk_invert = walk_connections.copy()\n",
    "df_walk_invert = df_walk_invert.rename(columns={'from_stop_I': 'to_stop_I', 'to_stop_I': 'from_stop_I'})\n",
    "walk_connections = pd.concat((walk_connections, df_walk_invert))"
   ]
  },
  {
   "cell_type": "code",
   "execution_count": 6,
   "id": "ec246f9f",
   "metadata": {
    "scrolled": false
   },
   "outputs": [],
   "source": [
    "tg = TransportGraph(transport_connections=transport_connections, walk_connections=walk_connections)"
   ]
  },
  {
   "cell_type": "code",
   "execution_count": 7,
   "id": "0336eaae",
   "metadata": {},
   "outputs": [
    {
     "data": {
      "text/plain": [
       "16.666666666666668"
      ]
     },
     "execution_count": 7,
     "metadata": {},
     "output_type": "execute_result"
    }
   ],
   "source": [
    "1000/60"
   ]
  },
  {
   "cell_type": "code",
   "execution_count": 8,
   "id": "fb30be11",
   "metadata": {},
   "outputs": [
    {
     "data": {
      "text/plain": [
       "(8891,\n",
       " 549,\n",
       " {'min_size': 0,\n",
       "  'mean_size': 3.2843324710381285,\n",
       "  'std_size': 15.760627889293113,\n",
       "  'max_size': 306})"
      ]
     },
     "execution_count": 8,
     "metadata": {},
     "output_type": "execute_result"
    }
   ],
   "source": [
    "tg.edges_cnt, tg.nodes_cnt, tg.timetable_stats"
   ]
  },
  {
   "cell_type": "markdown",
   "id": "f8a0f3e7",
   "metadata": {},
   "source": [
    "# Build CH graph"
   ]
  },
  {
   "cell_type": "markdown",
   "id": "3a841342",
   "metadata": {},
   "source": [
    "### Calculate Sparce-CH"
   ]
  },
  {
   "cell_type": "code",
   "execution_count": 9,
   "id": "661e42f6",
   "metadata": {
    "scrolled": true
   },
   "outputs": [
    {
     "name": "stderr",
     "output_type": "stream",
     "text": [
      "100%|███████████████████████████████████████████████████████████████████████████████████████████████████████████████████████████████████████████████████████████████████████████████████| 549/549 [00:03<00:00, 178.68it/s]"
     ]
    },
    {
     "name": "stdout",
     "output_type": "stream",
     "text": [
      "         20231346 function calls (17497975 primitive calls) in 10.583 seconds\n",
      "\n",
      "   Ordered by: standard name\n",
      "\n",
      "   ncalls  tottime  percall  cumtime  percall filename:lineno(function)\n",
      "       20    0.000    0.000    0.000    0.000 <frozen importlib._bootstrap>:100(acquire)\n",
      "     10/3    0.000    0.000    0.020    0.007 <frozen importlib._bootstrap>:1022(_find_and_load)\n",
      "     14/7    0.000    0.000    0.010    0.001 <frozen importlib._bootstrap>:1053(_handle_fromlist)\n",
      "       20    0.000    0.000    0.000    0.000 <frozen importlib._bootstrap>:125(release)\n",
      "       10    0.000    0.000    0.000    0.000 <frozen importlib._bootstrap>:165(__init__)\n",
      "       10    0.000    0.000    0.000    0.000 <frozen importlib._bootstrap>:169(__enter__)\n",
      "       10    0.000    0.000    0.000    0.000 <frozen importlib._bootstrap>:173(__exit__)\n",
      "       20    0.000    0.000    0.000    0.000 <frozen importlib._bootstrap>:179(_get_module_lock)\n",
      "       10    0.000    0.000    0.000    0.000 <frozen importlib._bootstrap>:198(cb)\n",
      "       10    0.000    0.000    0.000    0.000 <frozen importlib._bootstrap>:216(_lock_unlock_module)\n",
      "     18/3    0.000    0.000    0.014    0.005 <frozen importlib._bootstrap>:233(_call_with_frames_removed)\n",
      "       85    0.000    0.000    0.000    0.000 <frozen importlib._bootstrap>:244(_verbose_message)\n",
      "       10    0.000    0.000    0.000    0.000 <frozen importlib._bootstrap>:357(__init__)\n",
      "       18    0.000    0.000    0.000    0.000 <frozen importlib._bootstrap>:391(cached)\n",
      "       26    0.000    0.000    0.000    0.000 <frozen importlib._bootstrap>:404(parent)\n",
      "       10    0.000    0.000    0.000    0.000 <frozen importlib._bootstrap>:412(has_location)\n",
      "        8    0.000    0.000    0.000    0.000 <frozen importlib._bootstrap>:48(_new_module)\n",
      "       10    0.000    0.000    0.000    0.000 <frozen importlib._bootstrap>:492(_init_module_attrs)\n",
      "       10    0.000    0.000    0.004    0.000 <frozen importlib._bootstrap>:564(module_from_spec)\n",
      "     10/3    0.000    0.000    0.019    0.006 <frozen importlib._bootstrap>:664(_load_unlocked)\n",
      "       10    0.000    0.000    0.000    0.000 <frozen importlib._bootstrap>:71(__init__)\n",
      "       10    0.000    0.000    0.000    0.000 <frozen importlib._bootstrap>:746(find_spec)\n",
      "       10    0.000    0.000    0.000    0.000 <frozen importlib._bootstrap>:826(find_spec)\n",
      "       40    0.000    0.000    0.000    0.000 <frozen importlib._bootstrap>:893(__enter__)\n",
      "       40    0.000    0.000    0.000    0.000 <frozen importlib._bootstrap>:897(__exit__)\n",
      "       10    0.000    0.000    0.002    0.000 <frozen importlib._bootstrap>:921(_find_spec)\n",
      "     10/3    0.000    0.000    0.020    0.007 <frozen importlib._bootstrap>:987(_find_and_load_unlocked)\n",
      "        8    0.000    0.000    0.000    0.000 <frozen importlib._bootstrap_external>:1040(__init__)\n",
      "        8    0.000    0.000    0.000    0.000 <frozen importlib._bootstrap_external>:1065(get_filename)\n",
      "        8    0.000    0.000    0.010    0.001 <frozen importlib._bootstrap_external>:1070(get_data)\n",
      "        8    0.000    0.000    0.000    0.000 <frozen importlib._bootstrap_external>:1089(path_stats)\n",
      "        2    0.000    0.000    0.000    0.000 <frozen importlib._bootstrap_external>:1163(__init__)\n",
      "        2    0.000    0.000    0.004    0.002 <frozen importlib._bootstrap_external>:1174(create_module)\n",
      "        2    0.000    0.000    0.000    0.000 <frozen importlib._bootstrap_external>:1182(exec_module)\n",
      "       76    0.000    0.000    0.000    0.000 <frozen importlib._bootstrap_external>:126(_path_join)\n",
      "       76    0.000    0.000    0.000    0.000 <frozen importlib._bootstrap_external>:128(<listcomp>)\n",
      "       16    0.000    0.000    0.000    0.000 <frozen importlib._bootstrap_external>:132(_path_split)\n",
      "       32    0.000    0.000    0.000    0.000 <frozen importlib._bootstrap_external>:134(<genexpr>)\n",
      "        1    0.000    0.000    0.000    0.000 <frozen importlib._bootstrap_external>:1343(_path_hooks)\n",
      "       18    0.000    0.000    0.000    0.000 <frozen importlib._bootstrap_external>:1356(_path_importer_cache)\n",
      "       10    0.000    0.000    0.002    0.000 <frozen importlib._bootstrap_external>:1399(_get_spec)\n",
      "       38    0.000    0.000    0.001    0.000 <frozen importlib._bootstrap_external>:140(_path_stat)\n",
      "       10    0.000    0.000    0.002    0.000 <frozen importlib._bootstrap_external>:1431(find_spec)\n",
      "        1    0.000    0.000    0.000    0.000 <frozen importlib._bootstrap_external>:1494(__init__)\n",
      "       14    0.000    0.000    0.000    0.000 <frozen importlib._bootstrap_external>:150(_path_is_mode_type)\n",
      "        8    0.000    0.000    0.000    0.000 <frozen importlib._bootstrap_external>:1500(<genexpr>)\n",
      "       10    0.000    0.000    0.000    0.000 <frozen importlib._bootstrap_external>:1531(_get_spec)\n",
      "       15    0.000    0.000    0.001    0.000 <frozen importlib._bootstrap_external>:1536(find_spec)\n",
      "        1    0.000    0.000    0.000    0.000 <frozen importlib._bootstrap_external>:1587(_fill_cache)\n",
      "       13    0.000    0.000    0.000    0.000 <frozen importlib._bootstrap_external>:159(_path_isfile)\n",
      "        1    0.000    0.000    0.000    0.000 <frozen importlib._bootstrap_external>:1616(<setcomp>)\n",
      "        1    0.000    0.000    0.000    0.000 <frozen importlib._bootstrap_external>:1628(path_hook_for_FileFinder)\n",
      "        1    0.000    0.000    0.000    0.000 <frozen importlib._bootstrap_external>:164(_path_isdir)\n",
      "       11    0.000    0.000    0.000    0.000 <frozen importlib._bootstrap_external>:180(_path_isabs)\n",
      "       16    0.000    0.000    0.000    0.000 <frozen importlib._bootstrap_external>:380(cache_from_source)\n",
      "       10    0.000    0.000    0.000    0.000 <frozen importlib._bootstrap_external>:510(_get_cached)\n",
      "        8    0.000    0.000    0.000    0.000 <frozen importlib._bootstrap_external>:542(_check_name_wrapper)\n",
      "        8    0.000    0.000    0.000    0.000 <frozen importlib._bootstrap_external>:585(_classify_pyc)\n",
      "        8    0.000    0.000    0.000    0.000 <frozen importlib._bootstrap_external>:618(_validate_timestamp_pyc)\n",
      "       15    0.000    0.000    0.000    0.000 <frozen importlib._bootstrap_external>:67(_relax_case)\n",
      "        8    0.000    0.000    0.001    0.000 <frozen importlib._bootstrap_external>:670(_compile_bytecode)\n",
      "       10    0.000    0.000    0.000    0.000 <frozen importlib._bootstrap_external>:721(spec_from_file_location)\n",
      "       24    0.000    0.000    0.000    0.000 <frozen importlib._bootstrap_external>:84(_unpack_uint32)\n",
      "        8    0.000    0.000    0.000    0.000 <frozen importlib._bootstrap_external>:874(create_module)\n",
      "      8/3    0.000    0.000    0.019    0.006 <frozen importlib._bootstrap_external>:877(exec_module)\n",
      "        8    0.000    0.000    0.011    0.001 <frozen importlib._bootstrap_external>:950(get_code)\n",
      "        1    0.000    0.000    0.000    0.000 <frozen zipimport>:64(__init__)\n",
      "        1    0.000    0.000   10.582   10.582 <string>:1(<module>)\n",
      "        1    0.000    0.000    0.006    0.006 __init__.py:1(<module>)\n",
      "        1    0.000    0.000    0.000    0.000 __init__.py:22(<listcomp>)\n",
      "       38    0.000    0.000    0.000    0.000 __init__.py:23(<genexpr>)\n",
      "       10    0.000    0.000    0.000    0.000 __init__.py:89(find_spec)\n",
      "        3    0.000    0.000    0.000    0.000 __init__.py:96(<lambda>)\n",
      "    15533    0.016    0.000    0.283    0.000 _collections_abc.py:957(pop)\n",
      "        1    0.000    0.000    0.000    0.000 _collections_abc.py:991(update)\n",
      "        1    0.000    0.000    0.002    0.002 _monitor.py:30(__init__)\n",
      "        1    0.000    0.000    0.000    0.000 _weakrefset.py:111(remove)\n",
      "        2    0.000    0.000    0.000    0.000 _weakrefset.py:17(__init__)\n",
      "        2    0.000    0.000    0.000    0.000 _weakrefset.py:21(__enter__)\n",
      "        2    0.000    0.000    0.000    0.000 _weakrefset.py:27(__exit__)\n",
      "        1    0.000    0.000    0.000    0.000 _weakrefset.py:37(__init__)\n",
      "        2    0.000    0.000    0.000    0.000 _weakrefset.py:53(_commit_removals)\n",
      "        3    0.000    0.000    0.000    0.000 _weakrefset.py:63(__iter__)\n",
      "        2    0.000    0.000    0.000    0.000 _weakrefset.py:86(add)\n",
      "        1    0.000    0.000    0.000    0.000 abc.py:105(__new__)\n",
      "        1    0.000    0.000    0.000    0.000 abc.py:117(__instancecheck__)\n",
      "   324112    0.129    0.000    0.161    0.000 atf.py:11(__init__)\n",
      "   169604    0.535    0.000    0.980    0.000 atf.py:121(composition_buses)\n",
      "   158370    0.265    0.000    1.086    0.000 atf.py:180(min_atf)\n",
      "   158370    0.399    0.000    0.470    0.000 atf.py:22(cut)\n",
      "        1    0.000    0.000    0.004    0.004 context.py:1(<module>)\n",
      "        1    0.000    0.000    0.000    0.000 context.py:14(ProcessError)\n",
      "        1    0.000    0.000    0.000    0.000 context.py:17(BufferTooShort)\n",
      "        1    0.000    0.000    0.000    0.000 context.py:197(get_start_method)\n",
      "        1    0.000    0.000    0.000    0.000 context.py:20(TimeoutError)\n",
      "        1    0.000    0.000    0.000    0.000 context.py:203(reducer)\n",
      "        1    0.000    0.000    0.000    0.000 context.py:220(Process)\n",
      "        1    0.000    0.000    0.000    0.000 context.py:23(AuthenticationError)\n",
      "        1    0.000    0.000    0.000    0.000 context.py:230(DefaultContext)\n",
      "        1    0.000    0.000    0.000    0.000 context.py:233(__init__)\n",
      "        1    0.000    0.000    0.000    0.000 context.py:237(get_context)\n",
      "        1    0.000    0.000    0.000    0.000 context.py:276(ForkProcess)\n",
      "        1    0.000    0.000    0.000    0.000 context.py:283(SpawnProcess)\n",
      "        1    0.000    0.000    0.000    0.000 context.py:295(ForkServerProcess)\n",
      "        1    0.000    0.000    0.000    0.000 context.py:30(BaseContext)\n",
      "        1    0.000    0.000    0.000    0.000 context.py:302(ForkContext)\n",
      "        1    0.000    0.000    0.000    0.000 context.py:306(SpawnContext)\n",
      "        1    0.000    0.000    0.000    0.000 context.py:310(ForkServerContext)\n",
      "        1    0.000    0.000    0.016    0.016 context.py:70(RLock)\n",
      "2224567/5    3.024    0.000    7.428    1.486 copy.py:128(deepcopy)\n",
      "  1470639    0.164    0.000    0.164    0.000 copy.py:182(_deepcopy_atomic)\n",
      "223497/106693    0.305    0.000    4.854    0.000 copy.py:201(_deepcopy_list)\n",
      "    35564    0.072    0.000    6.732    0.000 copy.py:210(_deepcopy_tuple)\n",
      "    35564    0.030    0.000    6.656    0.000 copy.py:211(<listcomp>)\n",
      "190126/2194    0.705    0.000    7.415    0.003 copy.py:227(_deepcopy_dict)\n",
      "   637124    0.320    0.000    0.452    0.000 copy.py:243(_keep_alive)\n",
      " 187937/5    0.811    0.000    7.428    1.486 copy.py:259(_reconstruct)\n",
      "   375874    0.098    0.000    0.395    0.000 copy.py:264(<genexpr>)\n",
      "   187932    0.069    0.000    0.096    0.000 copyreg.py:100(__newobj__)\n",
      "        3    0.000    0.000    0.000    0.000 copyreg.py:109(_slotnames)\n",
      "        2    0.000    0.000    0.000    0.000 enum.py:359(__call__)\n",
      "        2    0.000    0.000    0.000    0.000 enum.py:678(__new__)\n",
      "        1    0.000    0.000    0.000    0.000 functools.py:393(__get__)\n",
      "        1    0.020    0.020    3.596    3.596 graph.py:141(__init__)\n",
      "    16082    0.017    0.000    0.021    0.000 graph.py:73(edge_difference)\n",
      "        1    0.589    0.589   10.582   10.582 graph.py:88(contraction_hierarchy)\n",
      "    16082    0.006    0.000    0.008    0.000 heapdict.py:105(__len__)\n",
      "        1    0.000    0.000    0.000    0.000 heapdict.py:20(__init__)\n",
      "    16082    0.035    0.000    0.355    0.000 heapdict.py:30(__setitem__)\n",
      "    16080    0.103    0.000    0.142    0.000 heapdict.py:39(_min_heapify)\n",
      "    16082    0.014    0.000    0.018    0.000 heapdict.py:60(_decrease_key)\n",
      "   180680    0.077    0.000    0.077    0.000 heapdict.py:69(_swap)\n",
      "    15533    0.057    0.000    0.261    0.000 heapdict.py:75(__delitem__)\n",
      "    15533    0.006    0.000    0.006    0.000 heapdict.py:85(__getitem__)\n",
      "    16082    0.029    0.000    0.175    0.000 heapdict.py:93(popitem)\n",
      "       50    0.000    0.000    0.003    0.000 iostream.py:202(schedule)\n",
      "        2    0.000    0.000    0.000    0.000 iostream.py:304(fileno)\n",
      "       17    0.000    0.000    0.000    0.000 iostream.py:437(_is_master_process)\n",
      "       17    0.000    0.000    0.002    0.000 iostream.py:456(_schedule_flush)\n",
      "       17    0.000    0.000    0.010    0.001 iostream.py:471(flush)\n",
      "       17    0.000    0.000    0.003    0.000 iostream.py:526(write)\n",
      "       50    0.000    0.000    0.000    0.000 iostream.py:90(_event_pipe)\n",
      "        1    0.000    0.000    0.000    0.000 os.py:805(fsencode)\n",
      "        1    0.000    0.000    0.000    0.000 posixpath.py:337(normpath)\n",
      "        1    0.000    0.000    0.000    0.000 posixpath.py:376(abspath)\n",
      "        1    0.000    0.000    0.000    0.000 posixpath.py:41(_get_sep)\n",
      "        1    0.000    0.000    0.000    0.000 posixpath.py:60(isabs)\n",
      "        1    0.000    0.000    0.000    0.000 process.py:1(<module>)\n",
      "        1    0.000    0.000    0.000    0.000 process.py:349(AuthenticationString)\n",
      "        1    0.000    0.000    0.000    0.000 process.py:364(_ParentProcess)\n",
      "        1    0.000    0.000    0.000    0.000 process.py:37(current_process)\n",
      "        1    0.000    0.000    0.000    0.000 process.py:397(_MainProcess)\n",
      "        1    0.000    0.000    0.000    0.000 process.py:399(__init__)\n",
      "        1    0.000    0.000    0.000    0.000 process.py:71(BaseProcess)\n",
      "        1    0.000    0.000    0.000    0.000 random.py:119(__init__)\n",
      "        1    0.000    0.000    0.000    0.000 random.py:128(seed)\n",
      "        1    0.000    0.000    0.000    0.000 random.py:506(choices)\n",
      "        1    0.000    0.000    0.000    0.000 random.py:519(<listcomp>)\n",
      "        1    0.000    0.000    0.000    0.000 reduction.py:1(<module>)\n",
      "        1    0.000    0.000    0.000    0.000 reduction.py:211(_C)\n",
      "        1    0.000    0.000    0.000    0.000 reduction.py:251(AbstractReducer)\n",
      "        1    0.000    0.000    0.000    0.000 reduction.py:33(ForkingPickler)\n",
      "        5    0.000    0.000    0.000    0.000 reduction.py:43(register)\n",
      "        1    0.000    0.000    0.004    0.004 resource_tracker.py:1(<module>)\n",
      "        1    0.000    0.000    0.003    0.003 resource_tracker.py:153(register)\n",
      "        1    0.000    0.000    0.003    0.003 resource_tracker.py:161(_send)\n",
      "        1    0.000    0.000    0.000    0.000 resource_tracker.py:54(ResourceTracker)\n",
      "        1    0.000    0.000    0.000    0.000 resource_tracker.py:56(__init__)\n",
      "        1    0.000    0.000    0.003    0.003 resource_tracker.py:78(ensure_running)\n",
      "        2    0.000    0.000    0.000    0.000 signal.py:24(_int_to_enum)\n",
      "        2    0.000    0.000    0.000    0.000 signal.py:67(pthread_sigmask)\n",
      "        4    0.000    0.000    0.000    0.000 signal.py:70(<genexpr>)\n",
      "       50    0.003    0.000    0.003    0.000 socket.py:543(send)\n",
      "        1    0.000    0.000    0.000    0.000 spawn.py:1(<module>)\n",
      "        1    0.000    0.000    0.000    0.000 spawn.py:45(get_executable)\n",
      "       18    0.000    0.000    0.000    0.000 std.py:102(acquire)\n",
      "       18    0.000    0.000    0.000    0.000 std.py:106(release)\n",
      "        4    0.000    0.000    0.000    0.000 std.py:110(__enter__)\n",
      "        4    0.000    0.000    0.000    0.000 std.py:113(__exit__)\n",
      "        1    0.000    0.000    0.000    0.000 std.py:1148(__del__)\n",
      "       15    0.000    0.000    0.004    0.000 std.py:1151(__str__)\n",
      "        2    0.000    0.000    0.000    0.000 std.py:1154(_comparable)\n",
      "        2    0.000    0.000    0.000    0.000 std.py:1158(__hash__)\n",
      "        1    0.000    0.000    0.024    0.024 std.py:116(create_mp_lock)\n",
      "      550    0.001    0.000    0.017    0.000 std.py:1161(__iter__)\n",
      "       13    0.000    0.000    0.014    0.001 std.py:1199(update)\n",
      "        2    0.000    0.000    0.001    0.001 std.py:1266(close)\n",
      "        2    0.000    0.000    0.000    0.000 std.py:1287(fp_write)\n",
      "        1    0.000    0.000    0.000    0.000 std.py:1302(<lambda>)\n",
      "       14    0.000    0.000    0.016    0.001 std.py:1326(refresh)\n",
      "       15    0.000    0.000    0.000    0.000 std.py:1447(format_dict)\n",
      "       15    0.000    0.000    0.016    0.001 std.py:1465(display)\n",
      "       15    0.000    0.000    0.000    0.000 std.py:153(__init__)\n",
      "       15    0.000    0.000    0.000    0.000 std.py:163(colour)\n",
      "       15    0.000    0.000    0.000    0.000 std.py:167(colour)\n",
      "       15    0.000    0.000    0.000    0.000 std.py:186(__format__)\n",
      "        3    0.000    0.000    0.000    0.000 std.py:226(__init__)\n",
      "       79    0.000    0.000    0.000    0.000 std.py:231(__call__)\n",
      "       29    0.000    0.000    0.000    0.000 std.py:400(format_interval)\n",
      "        1    0.000    0.000    0.002    0.002 std.py:441(status_printer)\n",
      "       15    0.000    0.000    0.010    0.001 std.py:454(fp_write)\n",
      "       15    0.000    0.000    0.012    0.001 std.py:460(print_status)\n",
      "       15    0.001    0.000    0.004    0.000 std.py:467(format_meter)\n",
      "        1    0.001    0.001    0.026    0.026 std.py:666(__new__)\n",
      "        1    0.000    0.000    0.000    0.000 std.py:682(_get_free_pos)\n",
      "        1    0.000    0.000    0.000    0.000 std.py:685(<setcomp>)\n",
      "        1    0.000    0.000    0.000    0.000 std.py:689(_decr_instances)\n",
      "        1    0.000    0.000    0.024    0.024 std.py:763(get_lock)\n",
      "        1    0.000    0.000    0.024    0.024 std.py:90(__init__)\n",
      "        1    0.000    0.000    0.005    0.005 std.py:953(__init__)\n",
      "        1    0.000    0.000    0.000    0.000 std.py:98(<listcomp>)\n",
      "        1    0.000    0.000    0.000    0.000 subprocess.py:268(_optim_args_from_interpreter_flags)\n",
      "        1    0.000    0.000    0.000    0.000 subprocess.py:278(_args_from_interpreter_flags)\n",
      "        1    0.000    0.000    0.005    0.005 synchronize.py:1(<module>)\n",
      "        1    0.000    0.000    0.000    0.000 synchronize.py:114(_make_name)\n",
      "        1    0.000    0.000    0.000    0.000 synchronize.py:123(Semaphore)\n",
      "        1    0.000    0.000    0.000    0.000 synchronize.py:142(BoundedSemaphore)\n",
      "        1    0.000    0.000    0.000    0.000 synchronize.py:159(Lock)\n",
      "        1    0.000    0.000    0.000    0.000 synchronize.py:184(RLock)\n",
      "        1    0.000    0.000    0.009    0.009 synchronize.py:186(__init__)\n",
      "        1    0.000    0.000    0.000    0.000 synchronize.py:210(Condition)\n",
      "        1    0.000    0.000    0.000    0.000 synchronize.py:321(Event)\n",
      "        1    0.000    0.000    0.000    0.000 synchronize.py:360(Barrier)\n",
      "        1    0.000    0.000    0.000    0.000 synchronize.py:46(SemLock)\n",
      "        1    0.000    0.000    0.009    0.009 synchronize.py:50(__init__)\n",
      "        1    0.000    0.000    0.000    0.000 synchronize.py:90(_make_methods)\n",
      "        1    0.000    0.000    0.000    0.000 tempfile.py:142(rng)\n",
      "        1    0.000    0.000    0.000    0.000 tempfile.py:153(__next__)\n",
      "       67    0.000    0.000    0.000    0.000 threading.py:1102(_wait_for_tstate_lock)\n",
      "       34    0.000    0.000    0.000    0.000 threading.py:1145(ident)\n",
      "       67    0.000    0.000    0.000    0.000 threading.py:1169(is_alive)\n",
      "        1    0.000    0.000    0.000    0.000 threading.py:1183(daemon)\n",
      "        1    0.000    0.000    0.000    0.000 threading.py:1198(daemon)\n",
      "        1    0.000    0.000    0.000    0.000 threading.py:1301(_make_invoke_excepthook)\n",
      "       18    0.000    0.000    0.000    0.000 threading.py:1430(current_thread)\n",
      "       19    0.001    0.000    0.001    0.000 threading.py:236(__init__)\n",
      "       18    0.000    0.000    0.000    0.000 threading.py:264(__enter__)\n",
      "       18    0.000    0.000    0.000    0.000 threading.py:267(__exit__)\n",
      "       18    0.000    0.000    0.000    0.000 threading.py:273(_release_save)\n",
      "       18    0.000    0.000    0.000    0.000 threading.py:276(_acquire_restore)\n",
      "       18    0.000    0.000    0.000    0.000 threading.py:279(_is_owned)\n",
      "       18    0.000    0.000    0.008    0.000 threading.py:288(wait)\n",
      "       19    0.000    0.000    0.001    0.000 threading.py:545(__init__)\n",
      "       69    0.000    0.000    0.000    0.000 threading.py:553(is_set)\n",
      "       18    0.000    0.000    0.009    0.000 threading.py:589(wait)\n",
      "        1    0.000    0.000    0.000    0.000 threading.py:782(_newname)\n",
      "        1    0.000    0.000    0.001    0.001 threading.py:827(__init__)\n",
      "        1    0.000    0.000    0.001    0.001 threading.py:916(start)\n",
      "   579034    0.168    0.000    0.168    0.000 trip.py:15(__lt__)\n",
      "   169604    0.128    0.000    0.145    0.000 trip.py:24(__init__)\n",
      "    46700    0.211    0.000    0.211    0.000 trip.py:9(__init__)\n",
      "        1    0.000    0.000    0.000    0.000 util.py:1(<module>)\n",
      "        1    0.000    0.000    0.000    0.000 util.py:108(_platform_supports_abstract_sockets)\n",
      "        1    0.000    0.000    0.000    0.000 util.py:171(register_after_fork)\n",
      "        1    0.000    0.000    0.000    0.000 util.py:182(Finalize)\n",
      "        1    0.000    0.000    0.000    0.000 util.py:186(__init__)\n",
      "        1    0.000    0.000    0.000    0.000 util.py:368(ForkAwareThreadLock)\n",
      "        1    0.000    0.000    0.000    0.000 util.py:385(ForkAwareLocal)\n",
      "        1    0.000    0.000    0.003    0.003 util.py:447(spawnv_passfds)\n",
      "        1    0.000    0.000    0.000    0.000 util.py:48(debug)\n",
      "       15    0.000    0.000    0.000    0.000 utils.py:107(__init__)\n",
      "       15    0.000    0.000    0.000    0.000 utils.py:111(__format__)\n",
      "        1    0.000    0.000    0.000    0.000 utils.py:124(__eq__)\n",
      "        2    0.000    0.000    0.000    0.000 utils.py:138(__getattr__)\n",
      "        3    0.000    0.000    0.000    0.000 utils.py:151(wrapper_setattr)\n",
      "        1    0.000    0.000    0.000    0.000 utils.py:155(__init__)\n",
      "        2    0.000    0.000    0.000    0.000 utils.py:186(disable_on_exception)\n",
      "       32    0.000    0.000    0.011    0.000 utils.py:193(inner)\n",
      "        1    0.000    0.000    0.000    0.000 utils.py:212(__init__)\n",
      "        2    0.000    0.000    0.000    0.000 utils.py:221(__eq__)\n",
      "        1    0.000    0.000    0.000    0.000 utils.py:251(_is_utf)\n",
      "        1    0.000    0.000    0.000    0.000 utils.py:265(_supports_unicode)\n",
      "       30    0.000    0.000    0.000    0.000 utils.py:272(_is_ascii)\n",
      "        1    0.000    0.000    0.000    0.000 utils.py:281(_screen_shape_wrapper)\n",
      "        1    0.000    0.000    0.000    0.000 utils.py:332(_screen_shape_linux)\n",
      "       45    0.000    0.000    0.004    0.000 utils.py:373(_text_width)\n",
      "     7202    0.002    0.000    0.003    0.000 utils.py:374(<genexpr>)\n",
      "       45    0.000    0.000    0.004    0.000 utils.py:377(disp_len)\n",
      "       15    0.000    0.000    0.002    0.000 utils.py:385(disp_trim)\n",
      "        1    0.000    0.000    0.000    0.000 weakref.py:105(__init__)\n",
      "        1    0.000    0.000    0.000    0.000 weakref.py:165(__setitem__)\n",
      "        1    0.000    0.000    0.000    0.000 weakref.py:290(update)\n",
      "        1    0.000    0.000    0.000    0.000 weakref.py:348(__new__)\n",
      "        1    0.000    0.000    0.000    0.000 weakref.py:353(__init__)\n",
      "   187935    0.027    0.000    0.027    0.000 {built-in method __new__ of type object at 0x109024920}\n",
      "        1    0.000    0.000    0.000    0.000 {built-in method _abc._abc_init}\n",
      "        1    0.000    0.000    0.000    0.000 {built-in method _abc._abc_instancecheck}\n",
      "        8    0.000    0.000    0.000    0.000 {built-in method _imp._fix_co_filename}\n",
      "       70    0.000    0.000    0.000    0.000 {built-in method _imp.acquire_lock}\n",
      "        2    0.004    0.002    0.004    0.002 {built-in method _imp.create_dynamic}\n",
      "        2    0.000    0.000    0.000    0.000 {built-in method _imp.exec_dynamic}\n",
      "        3    0.000    0.000    0.000    0.000 {built-in method _imp.is_builtin}\n",
      "       10    0.000    0.000    0.000    0.000 {built-in method _imp.is_frozen}\n",
      "       70    0.000    0.000    0.000    0.000 {built-in method _imp.release_lock}\n",
      "        1    0.003    0.003    0.003    0.003 {built-in method _posixsubprocess.fork_exec}\n",
      "        2    0.000    0.000    0.000    0.000 {built-in method _signal.pthread_sigmask}\n",
      "       58    0.000    0.000    0.000    0.000 {built-in method _thread.allocate_lock}\n",
      "       58    0.000    0.000    0.000    0.000 {built-in method _thread.get_ident}\n",
      "        1    0.000    0.000    0.000    0.000 {built-in method _thread.start_new_thread}\n",
      "        2    0.000    0.000    0.000    0.000 {built-in method _weakref.proxy}\n",
      "        2    0.000    0.000    0.000    0.000 {built-in method atexit.register}\n",
      "       32    0.001    0.000    0.001    0.000 {built-in method builtins.__build_class__}\n",
      "      6/3    0.000    0.000    0.009    0.003 {built-in method builtins.__import__}\n",
      "       17    0.000    0.000    0.000    0.000 {built-in method builtins.abs}\n",
      "        1    0.000    0.000    0.000    0.000 {built-in method builtins.dir}\n",
      "       73    0.000    0.000    0.000    0.000 {built-in method builtins.divmod}\n",
      "      9/1    0.000    0.000   10.583   10.583 {built-in method builtins.exec}\n",
      "   375995    0.066    0.000    0.066    0.000 {built-in method builtins.getattr}\n",
      "        2    0.000    0.000    0.000    0.000 {built-in method builtins.globals}\n",
      "   188028    0.028    0.000    0.028    0.000 {built-in method builtins.hasattr}\n",
      "  3498823    0.382    0.000    0.382    0.000 {built-in method builtins.id}\n",
      "   375974    0.057    0.000    0.057    0.000 {built-in method builtins.isinstance}\n",
      "   187937    0.026    0.000    0.026    0.000 {built-in method builtins.issubclass}\n",
      "800307/784225    0.088    0.000    0.094    0.000 {built-in method builtins.len}\n",
      "        3    0.000    0.000    0.000    0.000 {built-in method builtins.locals}\n",
      "    15579    0.007    0.000    0.007    0.000 {built-in method builtins.max}\n",
      "        1    0.000    0.000    0.000    0.000 {built-in method builtins.min}\n",
      "        3    0.000    0.000    0.000    0.000 {built-in method builtins.next}\n",
      "      315    0.000    0.000    0.000    0.000 {built-in method builtins.ord}\n",
      "   106699    0.017    0.000    0.017    0.000 {built-in method builtins.setattr}\n",
      "        1    0.000    0.000    0.000    0.000 {built-in method builtins.sorted}\n",
      "       45    0.001    0.000    0.004    0.000 {built-in method builtins.sum}\n",
      "        1    0.000    0.000    0.000    0.000 {built-in method fcntl.ioctl}\n",
      "       24    0.000    0.000    0.000    0.000 {built-in method from_bytes}\n",
      "        8    0.005    0.001    0.005    0.001 {built-in method io.open_code}\n",
      "        8    0.001    0.000    0.001    0.000 {built-in method marshal.loads}\n",
      "        8    0.000    0.000    0.000    0.000 {built-in method math.floor}\n",
      "       14    0.000    0.000    0.000    0.000 {built-in method now}\n",
      "        3    0.000    0.000    0.000    0.000 {built-in method posix.close}\n",
      "       30    0.000    0.000    0.000    0.000 {built-in method posix.fspath}\n",
      "        1    0.000    0.000    0.000    0.000 {built-in method posix.getcwd}\n",
      "       19    0.000    0.000    0.000    0.000 {built-in method posix.getpid}\n",
      "        1    0.000    0.000    0.000    0.000 {built-in method posix.listdir}\n",
      "        2    0.000    0.000    0.000    0.000 {built-in method posix.pipe}\n",
      "       38    0.001    0.000    0.001    0.000 {built-in method posix.stat}\n",
      "        1    0.000    0.000    0.000    0.000 {built-in method posix.sysconf}\n",
      "        1    0.000    0.000    0.000    0.000 {built-in method posix.urandom}\n",
      "        1    0.000    0.000    0.000    0.000 {built-in method posix.write}\n",
      "      174    0.000    0.000    0.000    0.000 {built-in method time.time}\n",
      "     7157    0.001    0.000    0.001    0.000 {built-in method unicodedata.east_asian_width}\n",
      "        1    0.000    0.000    0.000    0.000 {built-in method utcfromtimestamp}\n",
      "        1    0.000    0.000    0.000    0.000 {function Random.seed at 0x7f84e99f7b50}\n",
      "       18    0.000    0.000    0.000    0.000 {method '__enter__' of '_thread.lock' objects}\n",
      "        8    0.000    0.000    0.000    0.000 {method '__exit__' of '_io._IOBase' objects}\n",
      "       18    0.000    0.000    0.000    0.000 {method '__exit__' of '_thread.RLock' objects}\n",
      "       59    0.000    0.000    0.000    0.000 {method '__exit__' of '_thread.lock' objects}\n",
      "   187937    0.108    0.000    0.108    0.000 {method '__reduce_ex__' of 'object' objects}\n",
      "       18    0.000    0.000    0.000    0.000 {method 'acquire' of '_multiprocessing.SemLock' objects}\n",
      "       19    0.000    0.000    0.000    0.000 {method 'acquire' of '_thread.RLock' objects}\n",
      "      139    0.008    0.000    0.008    0.000 {method 'acquire' of '_thread.lock' objects}\n",
      "        4    0.000    0.000    0.000    0.000 {method 'add' of 'set' objects}\n",
      "       68    0.000    0.000    0.000    0.000 {method 'append' of 'collections.deque' objects}\n",
      "  1521287    0.164    0.000    0.164    0.000 {method 'append' of 'list' objects}\n",
      "        1    0.000    0.000    0.000    0.000 {method 'difference' of 'set' objects}\n",
      "        1    0.000    0.000    0.000    0.000 {method 'disable' of '_lsprof.Profiler' objects}\n",
      "        3    0.000    0.000    0.000    0.000 {method 'encode' of 'str' objects}\n",
      "       12    0.000    0.000    0.000    0.000 {method 'endswith' of 'str' objects}\n",
      "        3    0.000    0.000    0.000    0.000 {method 'extend' of 'list' objects}\n",
      "      112    0.000    0.000    0.000    0.000 {method 'format' of 'str' objects}\n",
      "  4686032    0.624    0.000    0.624    0.000 {method 'get' of 'dict' objects}\n",
      "        3    0.000    0.000    0.000    0.000 {method 'get' of 'mappingproxy' objects}\n",
      "   233811    0.379    0.000    0.379    0.000 {method 'items' of 'dict' objects}\n",
      "       94    0.000    0.000    0.000    0.000 {method 'join' of 'str' objects}\n",
      "       23    0.000    0.000    0.000    0.000 {method 'lower' of 'str' objects}\n",
      "       10    0.000    0.000    0.000    0.000 {method 'pop' of 'dict' objects}\n",
      "    28218    0.004    0.000    0.004    0.000 {method 'pop' of 'list' objects}\n",
      "     8116    0.002    0.000    0.002    0.000 {method 'popitem' of 'dict' objects}\n",
      "        8    0.000    0.000    0.000    0.000 {method 'random' of '_random.Random' objects}\n",
      "        8    0.005    0.001    0.005    0.001 {method 'read' of '_io.BufferedReader' objects}\n",
      "       18    0.000    0.000    0.000    0.000 {method 'release' of '_multiprocessing.SemLock' objects}\n",
      "       19    0.000    0.000    0.000    0.000 {method 'release' of '_thread.RLock' objects}\n",
      "       18    0.000    0.000    0.000    0.000 {method 'release' of '_thread.lock' objects}\n",
      "        3    0.000    0.000    0.000    0.000 {method 'remove' of 'set' objects}\n",
      "       16    0.000    0.000    0.000    0.000 {method 'rfind' of 'str' objects}\n",
      "       72    0.000    0.000    0.000    0.000 {method 'rpartition' of 'str' objects}\n",
      "      168    0.000    0.000    0.000    0.000 {method 'rstrip' of 'str' objects}\n",
      "        6    0.000    0.000    0.000    0.000 {method 'setter' of 'property' objects}\n",
      "   158370    0.105    0.000    0.273    0.000 {method 'sort' of 'list' objects}\n",
      "        1    0.000    0.000    0.000    0.000 {method 'split' of 'str' objects}\n",
      "       92    0.000    0.000    0.000    0.000 {method 'startswith' of 'str' objects}\n",
      "       45    0.000    0.000    0.000    0.000 {method 'sub' of 're.Pattern' objects}\n",
      "   152386    0.050    0.000    0.050    0.000 {method 'update' of 'dict' objects}\n",
      "       17    0.000    0.000    0.000    0.000 {method 'write' of '_io.StringIO' objects}\n",
      "\n",
      "\n",
      "CPU times: user 10.4 s, sys: 121 ms, total: 10.5 s\n",
      "Wall time: 10.6 s\n"
     ]
    },
    {
     "name": "stderr",
     "output_type": "stream",
     "text": [
      "\n"
     ]
    }
   ],
   "source": [
    "%%time\n",
    "cProfile.run('ch_tg = tg.contraction_hierarchy(just_buses=True)')"
   ]
  },
  {
   "cell_type": "code",
   "execution_count": 10,
   "id": "83c529cb",
   "metadata": {},
   "outputs": [
    {
     "data": {
      "text/plain": [
       "(16263,\n",
       " 549,\n",
       " {'min_size': 0,\n",
       "  'mean_size': 3.872471253766218,\n",
       "  'std_size': 15.344007708222097,\n",
       "  'max_size': 306})"
      ]
     },
     "execution_count": 10,
     "metadata": {},
     "output_type": "execute_result"
    }
   ],
   "source": [
    "ch_tg.edges_cnt, ch_tg.nodes_cnt, ch_tg.timetable_stats"
   ]
  },
  {
   "cell_type": "markdown",
   "id": "10254ae1",
   "metadata": {},
   "source": [
    "### Calculate Full-CH"
   ]
  },
  {
   "cell_type": "code",
   "execution_count": null,
   "id": "26755ad6",
   "metadata": {},
   "outputs": [
    {
     "name": "stderr",
     "output_type": "stream",
     "text": [
      " 58%|███████████████████████████████████████████████████████████████████████████████████████████████████████▌                                                                            | 316/549 [00:23<00:59,  3.91it/s]"
     ]
    }
   ],
   "source": [
    "%%time\n",
    "cProfile.run('ch_tg_optimal = tg.contraction_hierarchy(just_buses=False)')"
   ]
  },
  {
   "cell_type": "code",
   "execution_count": null,
   "id": "2666a654",
   "metadata": {},
   "outputs": [],
   "source": [
    "ch_tg_optimal.edges_cnt, ch_tg_optimal.nodes_cnt, ch_tg_optimal.timetable_stats"
   ]
  },
  {
   "cell_type": "markdown",
   "id": "12610952",
   "metadata": {},
   "source": [
    "# Precalculate Geometrical containers for FCH"
   ]
  },
  {
   "cell_type": "code",
   "execution_count": null,
   "id": "d71ece71",
   "metadata": {
    "scrolled": true
   },
   "outputs": [],
   "source": [
    "%%time\n",
    "ch_tg_optimal.geometrical_container()"
   ]
  },
  {
   "cell_type": "code",
   "execution_count": null,
   "id": "f8bdec92",
   "metadata": {},
   "outputs": [],
   "source": [
    "pickle.dump(ch_tg_optimal, open(F'{CITY}_original.pkl', 'wb'), \n",
    "            pickle.HIGHEST_PROTOCOL)"
   ]
  },
  {
   "cell_type": "code",
   "execution_count": null,
   "id": "fb870e5a",
   "metadata": {},
   "outputs": [],
   "source": [
    "pickle.dump(ch_tg, open(F'{CITY}_trunc.pkl', 'wb'), \n",
    "            pickle.HIGHEST_PROTOCOL)"
   ]
  },
  {
   "cell_type": "code",
   "execution_count": 7,
   "id": "892bbe5a",
   "metadata": {},
   "outputs": [],
   "source": [
    "ch_tg = pickle.load(open(F'kuopio_trunc.pkl', 'rb'))\n",
    "ch_tg_optimal = pickle.load(open(F'kuopio_original.pkl', 'rb'))"
   ]
  },
  {
   "cell_type": "markdown",
   "id": "25731a5d",
   "metadata": {},
   "source": [
    "# Pathfinding"
   ]
  },
  {
   "cell_type": "code",
   "execution_count": null,
   "id": "2686e568",
   "metadata": {},
   "outputs": [],
   "source": [
    "transport_connections['dep_time_ut'].min(), transport_connections['dep_time_ut'].max()"
   ]
  },
  {
   "cell_type": "code",
   "execution_count": null,
   "id": "c44b3a2f",
   "metadata": {},
   "outputs": [],
   "source": [
    "test_pairs = pd.DataFrame([\n",
    "    {'start_time': 1481514083, 'start_node': 330, 'end_node': 54},\n",
    "    {'start_time': 1481519880, 'start_node': 345, 'end_node': 141},\n",
    "    {'start_time': 1481518900, 'start_node': 1, 'end_node': 132},\n",
    "    {'start_time': 1481514540, 'start_node': 116, 'end_node': 118},\n",
    "    {'start_time': 1481519640, 'start_node': 1, 'end_node': 50}, \n",
    "    {'start_time': 1481515900, 'start_node': 1, 'end_node': 51},\n",
    "    {'start_time': 1481515900, 'start_node': 1, 'end_node': 50}, \n",
    "    {'start_time': 1481571574, 'start_node': 146, 'end_node': 7}\n",
    "])\n",
    "for index, row in test_pairs.iterrows():\n",
    "    pathfinding = FCH(graph=ch_tg_optimal,\n",
    "                      start_time=row['start_time'],\n",
    "                      start_node=row['start_node'], \n",
    "                      end_node=row['end_node'])\n",
    "    path = pathfinding.shortest_path(60)\n",
    "    print('Path duration', datetime.timedelta(seconds=int(path['arrival'] - row['start_time'])))\n",
    "    print('Calculation duration', datetime.timedelta(seconds=int(path['duration'])))\n",
    "    print()"
   ]
  },
  {
   "cell_type": "code",
   "execution_count": null,
   "id": "8c34c58d",
   "metadata": {},
   "outputs": [],
   "source": [
    "test_pairs = pd.DataFrame([\n",
    "    {'start_time': 1481514083, 'start_node': 330, 'end_node': 54},\n",
    "    {'start_time': 1481519880, 'start_node': 345, 'end_node': 141},\n",
    "    {'start_time': 1481518900, 'start_node': 1, 'end_node': 132},\n",
    "    {'start_time': 1481514540, 'start_node': 116, 'end_node': 118},\n",
    "    {'start_time': 1481519640, 'start_node': 1, 'end_node': 50}, \n",
    "    {'start_time': 1481515900, 'start_node': 1, 'end_node': 51},\n",
    "    {'start_time': 1481515900, 'start_node': 1, 'end_node': 50}, \n",
    "    {'start_time': 1481571574, 'start_node': 146, 'end_node': 7}\n",
    "])\n",
    "for index, row in test_pairs.iterrows():\n",
    "    pathfinding = FCH(graph=ch_tg,\n",
    "                      start_time=row['start_time'],\n",
    "                      start_node=row['start_node'], \n",
    "                      end_node=row['end_node'])\n",
    "    path = pathfinding.shortest_path(60, geometrical_containers=False)\n",
    "    print('Path duration', datetime.timedelta(seconds=int(path['arrival'] - row['start_time'])))\n",
    "    print('Calculation duration', datetime.timedelta(seconds=int(path['duration'])))\n",
    "    print()"
   ]
  },
  {
   "cell_type": "markdown",
   "id": "a81304ed",
   "metadata": {},
   "source": [
    "# Compare 2 solutions"
   ]
  },
  {
   "cell_type": "code",
   "execution_count": null,
   "id": "745d3947",
   "metadata": {
    "scrolled": true
   },
   "outputs": [],
   "source": [
    "N = 1_000\n",
    "test_data = pd.DataFrame({'start_time': [random.randint(transport_connections['dep_time_ut'].min(), \n",
    "                                           transport_connections['dep_time_ut'].max()) for i in range(N)],\n",
    "             'start_node' : [random.sample(ch_tg.nodes, 1)[0] for i in range(N)], \n",
    "              'end_node' : [random.sample(ch_tg.nodes, 1)[0] for i in range(N)]\n",
    "             })\n",
    "new_duration = []\n",
    "optimal_duration = []\n",
    "for index, row in test_data.iterrows():\n",
    "    \n",
    "    # new search\n",
    "    pathfinding = FCH(graph=ch_tg,\n",
    "                      start_time=row['start_time'],\n",
    "                      start_node=row['start_node'], \n",
    "                      end_node=row['end_node'])\n",
    "    path = pathfinding.shortest_path(60, search_with_switching_graphs=True, geometrical_containers=False)\n",
    "    if path['path']:\n",
    "        new_duration.append(path['duration'])\n",
    "    new_arrival = path['arrival']\n",
    "    \n",
    "    # optimal_duration\n",
    "    pathfinding = FCH(graph=ch_tg_optimal,\n",
    "                      start_time=row['start_time'],\n",
    "                      start_node=row['start_node'], \n",
    "                      end_node=row['end_node'])\n",
    "    path = pathfinding.shortest_path(60, search_with_switching_graphs=False, geometrical_containers=True)\n",
    "    if path['path']:\n",
    "        optimal_duration.append(path['duration'])\n",
    "    optimal_arrival = path['arrival']\n",
    "    \n",
    "    # validate\n",
    "    assert new_arrival == optimal_arrival"
   ]
  },
  {
   "cell_type": "code",
   "execution_count": null,
   "id": "ef3a6644",
   "metadata": {},
   "outputs": [],
   "source": [
    "np.mean(optimal_duration), np.median(optimal_duration), np.std(optimal_duration)"
   ]
  },
  {
   "cell_type": "code",
   "execution_count": null,
   "id": "2dd09971",
   "metadata": {},
   "outputs": [],
   "source": [
    "np.mean(new_duration), np.median(new_duration), np.std(new_duration)"
   ]
  },
  {
   "cell_type": "markdown",
   "id": "1373dcfc",
   "metadata": {},
   "source": [
    "### Withoout geometrical containers"
   ]
  },
  {
   "cell_type": "code",
   "execution_count": null,
   "id": "9814b1ab",
   "metadata": {
    "scrolled": true
   },
   "outputs": [],
   "source": [
    "N = 1_000\n",
    "test_data = pd.DataFrame({'start_time': [random.randint(transport_connections['dep_time_ut'].min(), \n",
    "                                           transport_connections['dep_time_ut'].max()) for i in range(N)],\n",
    "             'start_node' : [random.sample(ch_tg.nodes, 1)[0] for i in range(N)], \n",
    "              'end_node' : [random.sample(ch_tg.nodes, 1)[0] for i in range(N)]\n",
    "             })\n",
    "new_duration = []\n",
    "optimal_duration = []\n",
    "for index, row in test_data.iterrows():\n",
    "    \n",
    "    # new search\n",
    "    pathfinding = FCH(graph=ch_tg,\n",
    "                      start_time=row['start_time'],\n",
    "                      start_node=row['start_node'], \n",
    "                      end_node=row['end_node'])\n",
    "    path = pathfinding.shortest_path(60, search_with_switching_graphs=True, geometrical_containers=False)\n",
    "    if path['path']:\n",
    "        new_duration.append(path['duration'])\n",
    "    new_arrival = path['arrival']\n",
    "    \n",
    "    # optimal_duration\n",
    "    pathfinding = FCH(graph=ch_tg_optimal,\n",
    "                      start_time=row['start_time'],\n",
    "                      start_node=row['start_node'], \n",
    "                      end_node=row['end_node'])\n",
    "    path = pathfinding.shortest_path(60, search_with_switching_graphs=False, geometrical_containers=False)\n",
    "    if path['path']:\n",
    "        optimal_duration.append(path['duration'])\n",
    "    optimal_arrival = path['arrival']\n",
    "    \n",
    "    # validate\n",
    "    assert new_arrival == optimal_arrival"
   ]
  },
  {
   "cell_type": "code",
   "execution_count": null,
   "id": "0dda7b92",
   "metadata": {},
   "outputs": [],
   "source": [
    "np.mean(optimal_duration), np.median(optimal_duration), np.std(optimal_duration)"
   ]
  },
  {
   "cell_type": "code",
   "execution_count": null,
   "id": "e15fc7d3",
   "metadata": {},
   "outputs": [],
   "source": [
    "np.mean(new_duration), np.median(new_duration), np.std(new_duration)"
   ]
  },
  {
   "cell_type": "markdown",
   "id": "d2634fbb",
   "metadata": {},
   "source": [
    "# Visualize path"
   ]
  },
  {
   "cell_type": "code",
   "execution_count": 8,
   "id": "8f719fd1",
   "metadata": {},
   "outputs": [
    {
     "name": "stdout",
     "output_type": "stream",
     "text": [
      "CPU times: user 4.06 ms, sys: 1.18 ms, total: 5.24 ms\n",
      "Wall time: 6.07 ms\n"
     ]
    }
   ],
   "source": [
    "%%time\n",
    "pathfinding = FCH(graph=ch_tg,\n",
    "                      start_time=1481519880,\n",
    "                      start_node=345, \n",
    "                      end_node=141)\n",
    "path = pathfinding.shortest_path(60)"
   ]
  },
  {
   "cell_type": "code",
   "execution_count": 9,
   "id": "84966fc9",
   "metadata": {},
   "outputs": [],
   "source": [
    "nodes = pd.read_csv(F'data/{CITY}/network_nodes.csv', sep=';')\n",
    "nodes_dict = nodes.set_index('stop_I').to_dict('index')"
   ]
  },
  {
   "cell_type": "code",
   "execution_count": 12,
   "id": "750c292a",
   "metadata": {
    "scrolled": true
   },
   "outputs": [
    {
     "name": "stdout",
     "output_type": "stream",
     "text": [
      "345 62.894633 27.645134 Canthia E\n",
      "114 62.891878 27.637245 Snellmania E\n",
      "116 62.88952 27.632591 Teknia E\n",
      "118 62.888191 27.630635 Technopolis E\n",
      "141 62.88333 27.61765 Neulamäentie 5 L\n"
     ]
    }
   ],
   "source": [
    "for station in path['path']:\n",
    "    print(station, nodes_dict[station]['lat'], nodes_dict[station]['lon'], nodes_dict[station]['name'])"
   ]
  },
  {
   "cell_type": "code",
   "execution_count": 13,
   "id": "2851b3b1",
   "metadata": {},
   "outputs": [
    {
     "data": {
      "application/vnd.plotly.v1+json": {
       "config": {
        "plotlyServerURL": "https://plot.ly"
       },
       "data": [
        {
         "lat": [
          62.894633,
          62.891878,
          62.88952,
          62.888191,
          62.88333
         ],
         "lon": [
          27.645134,
          27.637245,
          27.632591,
          27.630635,
          27.61765
         ],
         "marker": {
          "size": 10
         },
         "mode": "markers+lines",
         "name": "41",
         "text": [
          "(345, 'Canthia E')",
          "(114, 'Snellmania E')",
          "(116, 'Teknia E')",
          "(118, 'Technopolis E')",
          "(141, 'Neulamäentie 5 L')"
         ],
         "type": "scattermapbox"
        }
       ],
       "layout": {
        "mapbox": {
         "center": {
          "lat": 62.893025,
          "lon": 27.6761
         },
         "style": "stamen-terrain",
         "zoom": 9
        },
        "showlegend": true,
        "template": {
         "data": {
          "bar": [
           {
            "error_x": {
             "color": "#2a3f5f"
            },
            "error_y": {
             "color": "#2a3f5f"
            },
            "marker": {
             "line": {
              "color": "#E5ECF6",
              "width": 0.5
             },
             "pattern": {
              "fillmode": "overlay",
              "size": 10,
              "solidity": 0.2
             }
            },
            "type": "bar"
           }
          ],
          "barpolar": [
           {
            "marker": {
             "line": {
              "color": "#E5ECF6",
              "width": 0.5
             },
             "pattern": {
              "fillmode": "overlay",
              "size": 10,
              "solidity": 0.2
             }
            },
            "type": "barpolar"
           }
          ],
          "carpet": [
           {
            "aaxis": {
             "endlinecolor": "#2a3f5f",
             "gridcolor": "white",
             "linecolor": "white",
             "minorgridcolor": "white",
             "startlinecolor": "#2a3f5f"
            },
            "baxis": {
             "endlinecolor": "#2a3f5f",
             "gridcolor": "white",
             "linecolor": "white",
             "minorgridcolor": "white",
             "startlinecolor": "#2a3f5f"
            },
            "type": "carpet"
           }
          ],
          "choropleth": [
           {
            "colorbar": {
             "outlinewidth": 0,
             "ticks": ""
            },
            "type": "choropleth"
           }
          ],
          "contour": [
           {
            "colorbar": {
             "outlinewidth": 0,
             "ticks": ""
            },
            "colorscale": [
             [
              0,
              "#0d0887"
             ],
             [
              0.1111111111111111,
              "#46039f"
             ],
             [
              0.2222222222222222,
              "#7201a8"
             ],
             [
              0.3333333333333333,
              "#9c179e"
             ],
             [
              0.4444444444444444,
              "#bd3786"
             ],
             [
              0.5555555555555556,
              "#d8576b"
             ],
             [
              0.6666666666666666,
              "#ed7953"
             ],
             [
              0.7777777777777778,
              "#fb9f3a"
             ],
             [
              0.8888888888888888,
              "#fdca26"
             ],
             [
              1,
              "#f0f921"
             ]
            ],
            "type": "contour"
           }
          ],
          "contourcarpet": [
           {
            "colorbar": {
             "outlinewidth": 0,
             "ticks": ""
            },
            "type": "contourcarpet"
           }
          ],
          "heatmap": [
           {
            "colorbar": {
             "outlinewidth": 0,
             "ticks": ""
            },
            "colorscale": [
             [
              0,
              "#0d0887"
             ],
             [
              0.1111111111111111,
              "#46039f"
             ],
             [
              0.2222222222222222,
              "#7201a8"
             ],
             [
              0.3333333333333333,
              "#9c179e"
             ],
             [
              0.4444444444444444,
              "#bd3786"
             ],
             [
              0.5555555555555556,
              "#d8576b"
             ],
             [
              0.6666666666666666,
              "#ed7953"
             ],
             [
              0.7777777777777778,
              "#fb9f3a"
             ],
             [
              0.8888888888888888,
              "#fdca26"
             ],
             [
              1,
              "#f0f921"
             ]
            ],
            "type": "heatmap"
           }
          ],
          "heatmapgl": [
           {
            "colorbar": {
             "outlinewidth": 0,
             "ticks": ""
            },
            "colorscale": [
             [
              0,
              "#0d0887"
             ],
             [
              0.1111111111111111,
              "#46039f"
             ],
             [
              0.2222222222222222,
              "#7201a8"
             ],
             [
              0.3333333333333333,
              "#9c179e"
             ],
             [
              0.4444444444444444,
              "#bd3786"
             ],
             [
              0.5555555555555556,
              "#d8576b"
             ],
             [
              0.6666666666666666,
              "#ed7953"
             ],
             [
              0.7777777777777778,
              "#fb9f3a"
             ],
             [
              0.8888888888888888,
              "#fdca26"
             ],
             [
              1,
              "#f0f921"
             ]
            ],
            "type": "heatmapgl"
           }
          ],
          "histogram": [
           {
            "marker": {
             "pattern": {
              "fillmode": "overlay",
              "size": 10,
              "solidity": 0.2
             }
            },
            "type": "histogram"
           }
          ],
          "histogram2d": [
           {
            "colorbar": {
             "outlinewidth": 0,
             "ticks": ""
            },
            "colorscale": [
             [
              0,
              "#0d0887"
             ],
             [
              0.1111111111111111,
              "#46039f"
             ],
             [
              0.2222222222222222,
              "#7201a8"
             ],
             [
              0.3333333333333333,
              "#9c179e"
             ],
             [
              0.4444444444444444,
              "#bd3786"
             ],
             [
              0.5555555555555556,
              "#d8576b"
             ],
             [
              0.6666666666666666,
              "#ed7953"
             ],
             [
              0.7777777777777778,
              "#fb9f3a"
             ],
             [
              0.8888888888888888,
              "#fdca26"
             ],
             [
              1,
              "#f0f921"
             ]
            ],
            "type": "histogram2d"
           }
          ],
          "histogram2dcontour": [
           {
            "colorbar": {
             "outlinewidth": 0,
             "ticks": ""
            },
            "colorscale": [
             [
              0,
              "#0d0887"
             ],
             [
              0.1111111111111111,
              "#46039f"
             ],
             [
              0.2222222222222222,
              "#7201a8"
             ],
             [
              0.3333333333333333,
              "#9c179e"
             ],
             [
              0.4444444444444444,
              "#bd3786"
             ],
             [
              0.5555555555555556,
              "#d8576b"
             ],
             [
              0.6666666666666666,
              "#ed7953"
             ],
             [
              0.7777777777777778,
              "#fb9f3a"
             ],
             [
              0.8888888888888888,
              "#fdca26"
             ],
             [
              1,
              "#f0f921"
             ]
            ],
            "type": "histogram2dcontour"
           }
          ],
          "mesh3d": [
           {
            "colorbar": {
             "outlinewidth": 0,
             "ticks": ""
            },
            "type": "mesh3d"
           }
          ],
          "parcoords": [
           {
            "line": {
             "colorbar": {
              "outlinewidth": 0,
              "ticks": ""
             }
            },
            "type": "parcoords"
           }
          ],
          "pie": [
           {
            "automargin": true,
            "type": "pie"
           }
          ],
          "scatter": [
           {
            "fillpattern": {
             "fillmode": "overlay",
             "size": 10,
             "solidity": 0.2
            },
            "type": "scatter"
           }
          ],
          "scatter3d": [
           {
            "line": {
             "colorbar": {
              "outlinewidth": 0,
              "ticks": ""
             }
            },
            "marker": {
             "colorbar": {
              "outlinewidth": 0,
              "ticks": ""
             }
            },
            "type": "scatter3d"
           }
          ],
          "scattercarpet": [
           {
            "marker": {
             "colorbar": {
              "outlinewidth": 0,
              "ticks": ""
             }
            },
            "type": "scattercarpet"
           }
          ],
          "scattergeo": [
           {
            "marker": {
             "colorbar": {
              "outlinewidth": 0,
              "ticks": ""
             }
            },
            "type": "scattergeo"
           }
          ],
          "scattergl": [
           {
            "marker": {
             "colorbar": {
              "outlinewidth": 0,
              "ticks": ""
             }
            },
            "type": "scattergl"
           }
          ],
          "scattermapbox": [
           {
            "marker": {
             "colorbar": {
              "outlinewidth": 0,
              "ticks": ""
             }
            },
            "type": "scattermapbox"
           }
          ],
          "scatterpolar": [
           {
            "marker": {
             "colorbar": {
              "outlinewidth": 0,
              "ticks": ""
             }
            },
            "type": "scatterpolar"
           }
          ],
          "scatterpolargl": [
           {
            "marker": {
             "colorbar": {
              "outlinewidth": 0,
              "ticks": ""
             }
            },
            "type": "scatterpolargl"
           }
          ],
          "scatterternary": [
           {
            "marker": {
             "colorbar": {
              "outlinewidth": 0,
              "ticks": ""
             }
            },
            "type": "scatterternary"
           }
          ],
          "surface": [
           {
            "colorbar": {
             "outlinewidth": 0,
             "ticks": ""
            },
            "colorscale": [
             [
              0,
              "#0d0887"
             ],
             [
              0.1111111111111111,
              "#46039f"
             ],
             [
              0.2222222222222222,
              "#7201a8"
             ],
             [
              0.3333333333333333,
              "#9c179e"
             ],
             [
              0.4444444444444444,
              "#bd3786"
             ],
             [
              0.5555555555555556,
              "#d8576b"
             ],
             [
              0.6666666666666666,
              "#ed7953"
             ],
             [
              0.7777777777777778,
              "#fb9f3a"
             ],
             [
              0.8888888888888888,
              "#fdca26"
             ],
             [
              1,
              "#f0f921"
             ]
            ],
            "type": "surface"
           }
          ],
          "table": [
           {
            "cells": {
             "fill": {
              "color": "#EBF0F8"
             },
             "line": {
              "color": "white"
             }
            },
            "header": {
             "fill": {
              "color": "#C8D4E3"
             },
             "line": {
              "color": "white"
             }
            },
            "type": "table"
           }
          ]
         },
         "layout": {
          "annotationdefaults": {
           "arrowcolor": "#2a3f5f",
           "arrowhead": 0,
           "arrowwidth": 1
          },
          "autotypenumbers": "strict",
          "coloraxis": {
           "colorbar": {
            "outlinewidth": 0,
            "ticks": ""
           }
          },
          "colorscale": {
           "diverging": [
            [
             0,
             "#8e0152"
            ],
            [
             0.1,
             "#c51b7d"
            ],
            [
             0.2,
             "#de77ae"
            ],
            [
             0.3,
             "#f1b6da"
            ],
            [
             0.4,
             "#fde0ef"
            ],
            [
             0.5,
             "#f7f7f7"
            ],
            [
             0.6,
             "#e6f5d0"
            ],
            [
             0.7,
             "#b8e186"
            ],
            [
             0.8,
             "#7fbc41"
            ],
            [
             0.9,
             "#4d9221"
            ],
            [
             1,
             "#276419"
            ]
           ],
           "sequential": [
            [
             0,
             "#0d0887"
            ],
            [
             0.1111111111111111,
             "#46039f"
            ],
            [
             0.2222222222222222,
             "#7201a8"
            ],
            [
             0.3333333333333333,
             "#9c179e"
            ],
            [
             0.4444444444444444,
             "#bd3786"
            ],
            [
             0.5555555555555556,
             "#d8576b"
            ],
            [
             0.6666666666666666,
             "#ed7953"
            ],
            [
             0.7777777777777778,
             "#fb9f3a"
            ],
            [
             0.8888888888888888,
             "#fdca26"
            ],
            [
             1,
             "#f0f921"
            ]
           ],
           "sequentialminus": [
            [
             0,
             "#0d0887"
            ],
            [
             0.1111111111111111,
             "#46039f"
            ],
            [
             0.2222222222222222,
             "#7201a8"
            ],
            [
             0.3333333333333333,
             "#9c179e"
            ],
            [
             0.4444444444444444,
             "#bd3786"
            ],
            [
             0.5555555555555556,
             "#d8576b"
            ],
            [
             0.6666666666666666,
             "#ed7953"
            ],
            [
             0.7777777777777778,
             "#fb9f3a"
            ],
            [
             0.8888888888888888,
             "#fdca26"
            ],
            [
             1,
             "#f0f921"
            ]
           ]
          },
          "colorway": [
           "#636efa",
           "#EF553B",
           "#00cc96",
           "#ab63fa",
           "#FFA15A",
           "#19d3f3",
           "#FF6692",
           "#B6E880",
           "#FF97FF",
           "#FECB52"
          ],
          "font": {
           "color": "#2a3f5f"
          },
          "geo": {
           "bgcolor": "white",
           "lakecolor": "white",
           "landcolor": "#E5ECF6",
           "showlakes": true,
           "showland": true,
           "subunitcolor": "white"
          },
          "hoverlabel": {
           "align": "left"
          },
          "hovermode": "closest",
          "mapbox": {
           "style": "light"
          },
          "paper_bgcolor": "white",
          "plot_bgcolor": "#E5ECF6",
          "polar": {
           "angularaxis": {
            "gridcolor": "white",
            "linecolor": "white",
            "ticks": ""
           },
           "bgcolor": "#E5ECF6",
           "radialaxis": {
            "gridcolor": "white",
            "linecolor": "white",
            "ticks": ""
           }
          },
          "scene": {
           "xaxis": {
            "backgroundcolor": "#E5ECF6",
            "gridcolor": "white",
            "gridwidth": 2,
            "linecolor": "white",
            "showbackground": true,
            "ticks": "",
            "zerolinecolor": "white"
           },
           "yaxis": {
            "backgroundcolor": "#E5ECF6",
            "gridcolor": "white",
            "gridwidth": 2,
            "linecolor": "white",
            "showbackground": true,
            "ticks": "",
            "zerolinecolor": "white"
           },
           "zaxis": {
            "backgroundcolor": "#E5ECF6",
            "gridcolor": "white",
            "gridwidth": 2,
            "linecolor": "white",
            "showbackground": true,
            "ticks": "",
            "zerolinecolor": "white"
           }
          },
          "shapedefaults": {
           "line": {
            "color": "#2a3f5f"
           }
          },
          "ternary": {
           "aaxis": {
            "gridcolor": "white",
            "linecolor": "white",
            "ticks": ""
           },
           "baxis": {
            "gridcolor": "white",
            "linecolor": "white",
            "ticks": ""
           },
           "bgcolor": "#E5ECF6",
           "caxis": {
            "gridcolor": "white",
            "linecolor": "white",
            "ticks": ""
           }
          },
          "title": {
           "x": 0.05
          },
          "xaxis": {
           "automargin": true,
           "gridcolor": "white",
           "linecolor": "white",
           "ticks": "",
           "title": {
            "standoff": 15
           },
           "zerolinecolor": "white",
           "zerolinewidth": 2
          },
          "yaxis": {
           "automargin": true,
           "gridcolor": "white",
           "linecolor": "white",
           "ticks": "",
           "title": {
            "standoff": 15
           },
           "zerolinecolor": "white",
           "zerolinewidth": 2
          }
         }
        }
       }
      },
      "text/html": [
       "<div>                            <div id=\"048694fd-73b5-4c0c-b70e-9c63e08cb2b2\" class=\"plotly-graph-div\" style=\"height:525px; width:100%;\"></div>            <script type=\"text/javascript\">                require([\"plotly\"], function(Plotly) {                    window.PLOTLYENV=window.PLOTLYENV || {};                                    if (document.getElementById(\"048694fd-73b5-4c0c-b70e-9c63e08cb2b2\")) {                    Plotly.newPlot(                        \"048694fd-73b5-4c0c-b70e-9c63e08cb2b2\",                        [{\"lat\":[62.894633,62.891878,62.88952,62.888191,62.88333],\"lon\":[27.645134,27.637245,27.632591,27.630635,27.61765],\"marker\":{\"size\":10},\"mode\":\"markers+lines\",\"name\":\"41\",\"text\":[\"(345, 'Canthia E')\",\"(114, 'Snellmania E')\",\"(116, 'Teknia E')\",\"(118, 'Technopolis E')\",\"(141, 'Neulamäentie 5 L')\"],\"type\":\"scattermapbox\"}],                        {\"template\":{\"data\":{\"histogram2dcontour\":[{\"type\":\"histogram2dcontour\",\"colorbar\":{\"outlinewidth\":0,\"ticks\":\"\"},\"colorscale\":[[0.0,\"#0d0887\"],[0.1111111111111111,\"#46039f\"],[0.2222222222222222,\"#7201a8\"],[0.3333333333333333,\"#9c179e\"],[0.4444444444444444,\"#bd3786\"],[0.5555555555555556,\"#d8576b\"],[0.6666666666666666,\"#ed7953\"],[0.7777777777777778,\"#fb9f3a\"],[0.8888888888888888,\"#fdca26\"],[1.0,\"#f0f921\"]]}],\"choropleth\":[{\"type\":\"choropleth\",\"colorbar\":{\"outlinewidth\":0,\"ticks\":\"\"}}],\"histogram2d\":[{\"type\":\"histogram2d\",\"colorbar\":{\"outlinewidth\":0,\"ticks\":\"\"},\"colorscale\":[[0.0,\"#0d0887\"],[0.1111111111111111,\"#46039f\"],[0.2222222222222222,\"#7201a8\"],[0.3333333333333333,\"#9c179e\"],[0.4444444444444444,\"#bd3786\"],[0.5555555555555556,\"#d8576b\"],[0.6666666666666666,\"#ed7953\"],[0.7777777777777778,\"#fb9f3a\"],[0.8888888888888888,\"#fdca26\"],[1.0,\"#f0f921\"]]}],\"heatmap\":[{\"type\":\"heatmap\",\"colorbar\":{\"outlinewidth\":0,\"ticks\":\"\"},\"colorscale\":[[0.0,\"#0d0887\"],[0.1111111111111111,\"#46039f\"],[0.2222222222222222,\"#7201a8\"],[0.3333333333333333,\"#9c179e\"],[0.4444444444444444,\"#bd3786\"],[0.5555555555555556,\"#d8576b\"],[0.6666666666666666,\"#ed7953\"],[0.7777777777777778,\"#fb9f3a\"],[0.8888888888888888,\"#fdca26\"],[1.0,\"#f0f921\"]]}],\"heatmapgl\":[{\"type\":\"heatmapgl\",\"colorbar\":{\"outlinewidth\":0,\"ticks\":\"\"},\"colorscale\":[[0.0,\"#0d0887\"],[0.1111111111111111,\"#46039f\"],[0.2222222222222222,\"#7201a8\"],[0.3333333333333333,\"#9c179e\"],[0.4444444444444444,\"#bd3786\"],[0.5555555555555556,\"#d8576b\"],[0.6666666666666666,\"#ed7953\"],[0.7777777777777778,\"#fb9f3a\"],[0.8888888888888888,\"#fdca26\"],[1.0,\"#f0f921\"]]}],\"contourcarpet\":[{\"type\":\"contourcarpet\",\"colorbar\":{\"outlinewidth\":0,\"ticks\":\"\"}}],\"contour\":[{\"type\":\"contour\",\"colorbar\":{\"outlinewidth\":0,\"ticks\":\"\"},\"colorscale\":[[0.0,\"#0d0887\"],[0.1111111111111111,\"#46039f\"],[0.2222222222222222,\"#7201a8\"],[0.3333333333333333,\"#9c179e\"],[0.4444444444444444,\"#bd3786\"],[0.5555555555555556,\"#d8576b\"],[0.6666666666666666,\"#ed7953\"],[0.7777777777777778,\"#fb9f3a\"],[0.8888888888888888,\"#fdca26\"],[1.0,\"#f0f921\"]]}],\"surface\":[{\"type\":\"surface\",\"colorbar\":{\"outlinewidth\":0,\"ticks\":\"\"},\"colorscale\":[[0.0,\"#0d0887\"],[0.1111111111111111,\"#46039f\"],[0.2222222222222222,\"#7201a8\"],[0.3333333333333333,\"#9c179e\"],[0.4444444444444444,\"#bd3786\"],[0.5555555555555556,\"#d8576b\"],[0.6666666666666666,\"#ed7953\"],[0.7777777777777778,\"#fb9f3a\"],[0.8888888888888888,\"#fdca26\"],[1.0,\"#f0f921\"]]}],\"mesh3d\":[{\"type\":\"mesh3d\",\"colorbar\":{\"outlinewidth\":0,\"ticks\":\"\"}}],\"scatter\":[{\"fillpattern\":{\"fillmode\":\"overlay\",\"size\":10,\"solidity\":0.2},\"type\":\"scatter\"}],\"parcoords\":[{\"type\":\"parcoords\",\"line\":{\"colorbar\":{\"outlinewidth\":0,\"ticks\":\"\"}}}],\"scatterpolargl\":[{\"type\":\"scatterpolargl\",\"marker\":{\"colorbar\":{\"outlinewidth\":0,\"ticks\":\"\"}}}],\"bar\":[{\"error_x\":{\"color\":\"#2a3f5f\"},\"error_y\":{\"color\":\"#2a3f5f\"},\"marker\":{\"line\":{\"color\":\"#E5ECF6\",\"width\":0.5},\"pattern\":{\"fillmode\":\"overlay\",\"size\":10,\"solidity\":0.2}},\"type\":\"bar\"}],\"scattergeo\":[{\"type\":\"scattergeo\",\"marker\":{\"colorbar\":{\"outlinewidth\":0,\"ticks\":\"\"}}}],\"scatterpolar\":[{\"type\":\"scatterpolar\",\"marker\":{\"colorbar\":{\"outlinewidth\":0,\"ticks\":\"\"}}}],\"histogram\":[{\"marker\":{\"pattern\":{\"fillmode\":\"overlay\",\"size\":10,\"solidity\":0.2}},\"type\":\"histogram\"}],\"scattergl\":[{\"type\":\"scattergl\",\"marker\":{\"colorbar\":{\"outlinewidth\":0,\"ticks\":\"\"}}}],\"scatter3d\":[{\"type\":\"scatter3d\",\"line\":{\"colorbar\":{\"outlinewidth\":0,\"ticks\":\"\"}},\"marker\":{\"colorbar\":{\"outlinewidth\":0,\"ticks\":\"\"}}}],\"scattermapbox\":[{\"type\":\"scattermapbox\",\"marker\":{\"colorbar\":{\"outlinewidth\":0,\"ticks\":\"\"}}}],\"scatterternary\":[{\"type\":\"scatterternary\",\"marker\":{\"colorbar\":{\"outlinewidth\":0,\"ticks\":\"\"}}}],\"scattercarpet\":[{\"type\":\"scattercarpet\",\"marker\":{\"colorbar\":{\"outlinewidth\":0,\"ticks\":\"\"}}}],\"carpet\":[{\"aaxis\":{\"endlinecolor\":\"#2a3f5f\",\"gridcolor\":\"white\",\"linecolor\":\"white\",\"minorgridcolor\":\"white\",\"startlinecolor\":\"#2a3f5f\"},\"baxis\":{\"endlinecolor\":\"#2a3f5f\",\"gridcolor\":\"white\",\"linecolor\":\"white\",\"minorgridcolor\":\"white\",\"startlinecolor\":\"#2a3f5f\"},\"type\":\"carpet\"}],\"table\":[{\"cells\":{\"fill\":{\"color\":\"#EBF0F8\"},\"line\":{\"color\":\"white\"}},\"header\":{\"fill\":{\"color\":\"#C8D4E3\"},\"line\":{\"color\":\"white\"}},\"type\":\"table\"}],\"barpolar\":[{\"marker\":{\"line\":{\"color\":\"#E5ECF6\",\"width\":0.5},\"pattern\":{\"fillmode\":\"overlay\",\"size\":10,\"solidity\":0.2}},\"type\":\"barpolar\"}],\"pie\":[{\"automargin\":true,\"type\":\"pie\"}]},\"layout\":{\"autotypenumbers\":\"strict\",\"colorway\":[\"#636efa\",\"#EF553B\",\"#00cc96\",\"#ab63fa\",\"#FFA15A\",\"#19d3f3\",\"#FF6692\",\"#B6E880\",\"#FF97FF\",\"#FECB52\"],\"font\":{\"color\":\"#2a3f5f\"},\"hovermode\":\"closest\",\"hoverlabel\":{\"align\":\"left\"},\"paper_bgcolor\":\"white\",\"plot_bgcolor\":\"#E5ECF6\",\"polar\":{\"bgcolor\":\"#E5ECF6\",\"angularaxis\":{\"gridcolor\":\"white\",\"linecolor\":\"white\",\"ticks\":\"\"},\"radialaxis\":{\"gridcolor\":\"white\",\"linecolor\":\"white\",\"ticks\":\"\"}},\"ternary\":{\"bgcolor\":\"#E5ECF6\",\"aaxis\":{\"gridcolor\":\"white\",\"linecolor\":\"white\",\"ticks\":\"\"},\"baxis\":{\"gridcolor\":\"white\",\"linecolor\":\"white\",\"ticks\":\"\"},\"caxis\":{\"gridcolor\":\"white\",\"linecolor\":\"white\",\"ticks\":\"\"}},\"coloraxis\":{\"colorbar\":{\"outlinewidth\":0,\"ticks\":\"\"}},\"colorscale\":{\"sequential\":[[0.0,\"#0d0887\"],[0.1111111111111111,\"#46039f\"],[0.2222222222222222,\"#7201a8\"],[0.3333333333333333,\"#9c179e\"],[0.4444444444444444,\"#bd3786\"],[0.5555555555555556,\"#d8576b\"],[0.6666666666666666,\"#ed7953\"],[0.7777777777777778,\"#fb9f3a\"],[0.8888888888888888,\"#fdca26\"],[1.0,\"#f0f921\"]],\"sequentialminus\":[[0.0,\"#0d0887\"],[0.1111111111111111,\"#46039f\"],[0.2222222222222222,\"#7201a8\"],[0.3333333333333333,\"#9c179e\"],[0.4444444444444444,\"#bd3786\"],[0.5555555555555556,\"#d8576b\"],[0.6666666666666666,\"#ed7953\"],[0.7777777777777778,\"#fb9f3a\"],[0.8888888888888888,\"#fdca26\"],[1.0,\"#f0f921\"]],\"diverging\":[[0,\"#8e0152\"],[0.1,\"#c51b7d\"],[0.2,\"#de77ae\"],[0.3,\"#f1b6da\"],[0.4,\"#fde0ef\"],[0.5,\"#f7f7f7\"],[0.6,\"#e6f5d0\"],[0.7,\"#b8e186\"],[0.8,\"#7fbc41\"],[0.9,\"#4d9221\"],[1,\"#276419\"]]},\"xaxis\":{\"gridcolor\":\"white\",\"linecolor\":\"white\",\"ticks\":\"\",\"title\":{\"standoff\":15},\"zerolinecolor\":\"white\",\"automargin\":true,\"zerolinewidth\":2},\"yaxis\":{\"gridcolor\":\"white\",\"linecolor\":\"white\",\"ticks\":\"\",\"title\":{\"standoff\":15},\"zerolinecolor\":\"white\",\"automargin\":true,\"zerolinewidth\":2},\"scene\":{\"xaxis\":{\"backgroundcolor\":\"#E5ECF6\",\"gridcolor\":\"white\",\"linecolor\":\"white\",\"showbackground\":true,\"ticks\":\"\",\"zerolinecolor\":\"white\",\"gridwidth\":2},\"yaxis\":{\"backgroundcolor\":\"#E5ECF6\",\"gridcolor\":\"white\",\"linecolor\":\"white\",\"showbackground\":true,\"ticks\":\"\",\"zerolinecolor\":\"white\",\"gridwidth\":2},\"zaxis\":{\"backgroundcolor\":\"#E5ECF6\",\"gridcolor\":\"white\",\"linecolor\":\"white\",\"showbackground\":true,\"ticks\":\"\",\"zerolinecolor\":\"white\",\"gridwidth\":2}},\"shapedefaults\":{\"line\":{\"color\":\"#2a3f5f\"}},\"annotationdefaults\":{\"arrowcolor\":\"#2a3f5f\",\"arrowhead\":0,\"arrowwidth\":1},\"geo\":{\"bgcolor\":\"white\",\"landcolor\":\"#E5ECF6\",\"subunitcolor\":\"white\",\"showland\":true,\"showlakes\":true,\"lakecolor\":\"white\"},\"title\":{\"x\":0.05},\"mapbox\":{\"style\":\"light\"}}},\"mapbox\":{\"center\":{\"lon\":27.6761,\"lat\":62.893025},\"style\":\"stamen-terrain\",\"zoom\":9},\"showlegend\":true},                        {\"responsive\": true}                    ).then(function(){\n",
       "                            \n",
       "var gd = document.getElementById('048694fd-73b5-4c0c-b70e-9c63e08cb2b2');\n",
       "var x = new MutationObserver(function (mutations, observer) {{\n",
       "        var display = window.getComputedStyle(gd).display;\n",
       "        if (!display || display === 'none') {{\n",
       "            console.log([gd, 'removed!']);\n",
       "            Plotly.purge(gd);\n",
       "            observer.disconnect();\n",
       "        }}\n",
       "}});\n",
       "\n",
       "// Listen for the removal of the full notebook cells\n",
       "var notebookContainer = gd.closest('#notebook-container');\n",
       "if (notebookContainer) {{\n",
       "    x.observe(notebookContainer, {childList: true});\n",
       "}}\n",
       "\n",
       "// Listen for the clearing of the current output cell\n",
       "var outputEl = gd.closest('.output');\n",
       "if (outputEl) {{\n",
       "    x.observe(outputEl, {childList: true});\n",
       "}}\n",
       "\n",
       "                        })                };                });            </script>        </div>"
      ]
     },
     "metadata": {},
     "output_type": "display_data"
    }
   ],
   "source": [
    "i = 0\n",
    "k = 0\n",
    "while i < len(path['routes']):\n",
    "    x = path['routes'][i]\n",
    "    if k == 0:\n",
    "        i += 1\n",
    "        if i == len(path['routes']):\n",
    "            fig = go.Figure(go.Scattermapbox(\n",
    "            mode = \"markers+lines\",\n",
    "            lon = [nodes_dict[path['path'][j]]['lon'] for j in range(k, i+1)],\n",
    "            lat = [nodes_dict[path['path'][j]]['lat'] for j in range(k, i+1)],\n",
    "            text = [(path['path'][j], nodes_dict[path['path'][j]]['name']) for j in range(k, i+1)],\n",
    "            name = path['routes'][k],\n",
    "            marker = {'size': 10}))\n",
    "            k = i\n",
    "        elif x != path['routes'][i]:\n",
    "            fig = go.Figure(go.Scattermapbox(\n",
    "            mode = \"markers+lines\",\n",
    "            lon = [nodes_dict[path['path'][j]]['lon'] for j in range(k, i+1)],\n",
    "            lat = [nodes_dict[path['path'][j]]['lat'] for j in range(k, i+1)],\n",
    "            text = [(path['path'][j], nodes_dict[path['path'][j]]['name']) for j in range(k, i+1)],\n",
    "            name = path['routes'][k],\n",
    "            marker = {'size': 10}))\n",
    "            k = i\n",
    "    else:\n",
    "        i += 1\n",
    "        if i < len(path['routes']):\n",
    "            if x != path['routes'][i]:\n",
    "                fig.add_trace(go.Scattermapbox(\n",
    "                mode = \"markers+lines\",\n",
    "                lon = [nodes_dict[path['path'][j]]['lon'] for j in range(k, i+1)],\n",
    "                lat = [nodes_dict[path['path'][j]]['lat'] for j in range(k, i+1)],\n",
    "                text = [(path['path'][j], nodes_dict[path['path'][j]]['name']) for j in range(k, i+1)],\n",
    "                name = path['routes'][k],\n",
    "                marker = {'size': 10}))\n",
    "                k = i\n",
    "        else:\n",
    "            fig.add_trace(go.Scattermapbox(\n",
    "            mode = \"markers+lines\",\n",
    "            lon = [nodes_dict[path['path'][j]]['lon'] for j in range(k, i+1)],\n",
    "            lat = [nodes_dict[path['path'][j]]['lat'] for j in range(k, i+1)],\n",
    "            text = [(path['path'][j], nodes_dict[path['path'][j]]['name']) for j in range(k, i+1)],\n",
    "            name = path['routes'][k],\n",
    "            marker = {'size': 10}))\n",
    "            k = i\n",
    "        \n",
    "\n",
    "fig.update_layout(\n",
    "    mapbox = {\n",
    "        'style': \"stamen-terrain\",\n",
    "        'center': {'lon': nodes['lon'].iloc[0], 'lat': nodes['lat'].iloc[0]},\n",
    "        'zoom': 9}, \n",
    "    showlegend=True)\n",
    "\n",
    "fig.show()"
   ]
  },
  {
   "cell_type": "code",
   "execution_count": null,
   "id": "3ec77b56",
   "metadata": {},
   "outputs": [],
   "source": []
  },
  {
   "cell_type": "code",
   "execution_count": null,
   "id": "c4bdcc73",
   "metadata": {},
   "outputs": [],
   "source": []
  }
 ],
 "metadata": {
  "kernelspec": {
   "display_name": "Python 3 (ipykernel)",
   "language": "python",
   "name": "python3"
  },
  "language_info": {
   "codemirror_mode": {
    "name": "ipython",
    "version": 3
   },
   "file_extension": ".py",
   "mimetype": "text/x-python",
   "name": "python",
   "nbconvert_exporter": "python",
   "pygments_lexer": "ipython3",
   "version": "3.10.9"
  }
 },
 "nbformat": 4,
 "nbformat_minor": 5
}
