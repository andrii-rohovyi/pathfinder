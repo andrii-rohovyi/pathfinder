{
 "cells": [
  {
   "cell_type": "code",
   "execution_count": 1,
   "id": "e970afe4",
   "metadata": {},
   "outputs": [],
   "source": [
    "import pandas as pd\n",
    "import plotly.graph_objects as go\n",
    "import datetime\n",
    "import numpy as np\n",
    "import cProfile\n",
    "import sys\n",
    "import pickle\n",
    "import random\n",
    "\n",
    "from graph import TransportGraph\n",
    "from forward_search import FCH"
   ]
  },
  {
   "cell_type": "markdown",
   "id": "2a9e5e1c",
   "metadata": {},
   "source": [
    "# Build transport graph"
   ]
  },
  {
   "cell_type": "code",
   "execution_count": 2,
   "id": "4e3e04f4",
   "metadata": {},
   "outputs": [],
   "source": [
    "CITY = 'kuopio' #belfast, kuopio"
   ]
  },
  {
   "cell_type": "markdown",
   "id": "44cad3f3",
   "metadata": {},
   "source": [
    "## Optional \n",
    "### Add inverted road connections"
   ]
  },
  {
   "cell_type": "code",
   "execution_count": 4,
   "id": "8639e0a2",
   "metadata": {},
   "outputs": [],
   "source": [
    "transport_connections = pd.read_csv(F'data/{CITY}/network_temporal_day.csv', sep=';')\n",
    "walk_connections = pd.read_csv(F'data/{CITY}/network_walk.csv', sep=';')"
   ]
  },
  {
   "cell_type": "code",
   "execution_count": 4,
   "id": "6a43904e",
   "metadata": {},
   "outputs": [],
   "source": [
    "df_walk_invert = walk_connections.copy()\n",
    "df_walk_invert = df_walk_invert.rename(columns={'from_stop_I': 'to_stop_I', 'to_stop_I': 'from_stop_I'})\n",
    "walk_connections = pd.concat((walk_connections, df_walk_invert))"
   ]
  },
  {
   "cell_type": "code",
   "execution_count": 5,
   "id": "ec246f9f",
   "metadata": {
    "scrolled": false
   },
   "outputs": [],
   "source": [
    "tg = TransportGraph(transport_connections=transport_connections, walk_connections=walk_connections)"
   ]
  },
  {
   "cell_type": "code",
   "execution_count": 6,
   "id": "ea8040ed",
   "metadata": {},
   "outputs": [
    {
     "data": {
      "text/plain": [
       "549"
      ]
     },
     "execution_count": 6,
     "metadata": {},
     "output_type": "execute_result"
    }
   ],
   "source": [
    "len(tg.nodes)"
   ]
  },
  {
   "cell_type": "markdown",
   "id": "f8a0f3e7",
   "metadata": {},
   "source": [
    "# Build CH graph"
   ]
  },
  {
   "cell_type": "code",
   "execution_count": 7,
   "id": "661e42f6",
   "metadata": {},
   "outputs": [
    {
     "name": "stderr",
     "output_type": "stream",
     "text": [
      "100%|███████████████████████████████████████████████████████████████████████████████████████████████████████████████████████████████████████████████████████████████████████████████████| 549/549 [00:04<00:00, 128.97it/s]"
     ]
    },
    {
     "name": "stdout",
     "output_type": "stream",
     "text": [
      "         21405096 function calls (18668362 primitive calls) in 12.109 seconds\n",
      "\n",
      "   Ordered by: standard name\n",
      "\n",
      "   ncalls  tottime  percall  cumtime  percall filename:lineno(function)\n",
      "       20    0.000    0.000    0.000    0.000 <frozen importlib._bootstrap>:100(acquire)\n",
      "     10/3    0.000    0.000    0.019    0.006 <frozen importlib._bootstrap>:1022(_find_and_load)\n",
      "     14/7    0.000    0.000    0.009    0.001 <frozen importlib._bootstrap>:1053(_handle_fromlist)\n",
      "       20    0.000    0.000    0.000    0.000 <frozen importlib._bootstrap>:125(release)\n",
      "       10    0.000    0.000    0.000    0.000 <frozen importlib._bootstrap>:165(__init__)\n",
      "       10    0.000    0.000    0.000    0.000 <frozen importlib._bootstrap>:169(__enter__)\n",
      "       10    0.000    0.000    0.000    0.000 <frozen importlib._bootstrap>:173(__exit__)\n",
      "       20    0.000    0.000    0.000    0.000 <frozen importlib._bootstrap>:179(_get_module_lock)\n",
      "       10    0.000    0.000    0.000    0.000 <frozen importlib._bootstrap>:198(cb)\n",
      "       10    0.000    0.000    0.000    0.000 <frozen importlib._bootstrap>:216(_lock_unlock_module)\n",
      "     18/3    0.000    0.000    0.013    0.004 <frozen importlib._bootstrap>:233(_call_with_frames_removed)\n",
      "       85    0.000    0.000    0.000    0.000 <frozen importlib._bootstrap>:244(_verbose_message)\n",
      "       10    0.000    0.000    0.000    0.000 <frozen importlib._bootstrap>:357(__init__)\n",
      "       18    0.000    0.000    0.000    0.000 <frozen importlib._bootstrap>:391(cached)\n",
      "       26    0.000    0.000    0.000    0.000 <frozen importlib._bootstrap>:404(parent)\n",
      "       10    0.000    0.000    0.000    0.000 <frozen importlib._bootstrap>:412(has_location)\n",
      "        8    0.000    0.000    0.000    0.000 <frozen importlib._bootstrap>:48(_new_module)\n",
      "       10    0.000    0.000    0.000    0.000 <frozen importlib._bootstrap>:492(_init_module_attrs)\n",
      "       10    0.000    0.000    0.004    0.000 <frozen importlib._bootstrap>:564(module_from_spec)\n",
      "     10/3    0.000    0.000    0.018    0.006 <frozen importlib._bootstrap>:664(_load_unlocked)\n",
      "       10    0.000    0.000    0.000    0.000 <frozen importlib._bootstrap>:71(__init__)\n",
      "       10    0.000    0.000    0.000    0.000 <frozen importlib._bootstrap>:746(find_spec)\n",
      "       10    0.000    0.000    0.000    0.000 <frozen importlib._bootstrap>:826(find_spec)\n",
      "       40    0.000    0.000    0.000    0.000 <frozen importlib._bootstrap>:893(__enter__)\n",
      "       40    0.000    0.000    0.000    0.000 <frozen importlib._bootstrap>:897(__exit__)\n",
      "       10    0.000    0.000    0.004    0.000 <frozen importlib._bootstrap>:921(_find_spec)\n",
      "     10/3    0.000    0.000    0.019    0.006 <frozen importlib._bootstrap>:987(_find_and_load_unlocked)\n",
      "        8    0.000    0.000    0.000    0.000 <frozen importlib._bootstrap_external>:1040(__init__)\n",
      "        8    0.000    0.000    0.000    0.000 <frozen importlib._bootstrap_external>:1065(get_filename)\n",
      "        8    0.000    0.000    0.008    0.001 <frozen importlib._bootstrap_external>:1070(get_data)\n",
      "        8    0.000    0.000    0.000    0.000 <frozen importlib._bootstrap_external>:1089(path_stats)\n",
      "        2    0.000    0.000    0.000    0.000 <frozen importlib._bootstrap_external>:1163(__init__)\n",
      "        2    0.000    0.000    0.003    0.002 <frozen importlib._bootstrap_external>:1174(create_module)\n",
      "        2    0.000    0.000    0.000    0.000 <frozen importlib._bootstrap_external>:1182(exec_module)\n",
      "       76    0.000    0.000    0.000    0.000 <frozen importlib._bootstrap_external>:126(_path_join)\n",
      "       76    0.000    0.000    0.000    0.000 <frozen importlib._bootstrap_external>:128(<listcomp>)\n",
      "       16    0.000    0.000    0.000    0.000 <frozen importlib._bootstrap_external>:132(_path_split)\n",
      "       32    0.000    0.000    0.000    0.000 <frozen importlib._bootstrap_external>:134(<genexpr>)\n",
      "        1    0.000    0.000    0.000    0.000 <frozen importlib._bootstrap_external>:1343(_path_hooks)\n",
      "       18    0.000    0.000    0.000    0.000 <frozen importlib._bootstrap_external>:1356(_path_importer_cache)\n",
      "       10    0.000    0.000    0.003    0.000 <frozen importlib._bootstrap_external>:1399(_get_spec)\n",
      "       38    0.000    0.000    0.003    0.000 <frozen importlib._bootstrap_external>:140(_path_stat)\n",
      "       10    0.000    0.000    0.003    0.000 <frozen importlib._bootstrap_external>:1431(find_spec)\n",
      "        1    0.000    0.000    0.000    0.000 <frozen importlib._bootstrap_external>:1494(__init__)\n",
      "       14    0.000    0.000    0.002    0.000 <frozen importlib._bootstrap_external>:150(_path_is_mode_type)\n",
      "        8    0.000    0.000    0.000    0.000 <frozen importlib._bootstrap_external>:1500(<genexpr>)\n",
      "       10    0.000    0.000    0.000    0.000 <frozen importlib._bootstrap_external>:1531(_get_spec)\n",
      "       15    0.000    0.000    0.003    0.000 <frozen importlib._bootstrap_external>:1536(find_spec)\n",
      "        1    0.000    0.000    0.000    0.000 <frozen importlib._bootstrap_external>:1587(_fill_cache)\n",
      "       13    0.000    0.000    0.002    0.000 <frozen importlib._bootstrap_external>:159(_path_isfile)\n",
      "        1    0.000    0.000    0.000    0.000 <frozen importlib._bootstrap_external>:1616(<setcomp>)\n",
      "        1    0.000    0.000    0.000    0.000 <frozen importlib._bootstrap_external>:1628(path_hook_for_FileFinder)\n",
      "        1    0.000    0.000    0.000    0.000 <frozen importlib._bootstrap_external>:164(_path_isdir)\n",
      "       11    0.000    0.000    0.000    0.000 <frozen importlib._bootstrap_external>:180(_path_isabs)\n",
      "       16    0.000    0.000    0.000    0.000 <frozen importlib._bootstrap_external>:380(cache_from_source)\n",
      "       10    0.000    0.000    0.000    0.000 <frozen importlib._bootstrap_external>:510(_get_cached)\n",
      "        8    0.000    0.000    0.000    0.000 <frozen importlib._bootstrap_external>:542(_check_name_wrapper)\n",
      "        8    0.000    0.000    0.000    0.000 <frozen importlib._bootstrap_external>:585(_classify_pyc)\n",
      "        8    0.000    0.000    0.000    0.000 <frozen importlib._bootstrap_external>:618(_validate_timestamp_pyc)\n",
      "       15    0.000    0.000    0.000    0.000 <frozen importlib._bootstrap_external>:67(_relax_case)\n",
      "        8    0.000    0.000    0.001    0.000 <frozen importlib._bootstrap_external>:670(_compile_bytecode)\n",
      "       10    0.000    0.000    0.000    0.000 <frozen importlib._bootstrap_external>:721(spec_from_file_location)\n",
      "       24    0.000    0.000    0.000    0.000 <frozen importlib._bootstrap_external>:84(_unpack_uint32)\n",
      "        8    0.000    0.000    0.000    0.000 <frozen importlib._bootstrap_external>:874(create_module)\n",
      "      8/3    0.000    0.000    0.018    0.006 <frozen importlib._bootstrap_external>:877(exec_module)\n",
      "        8    0.000    0.000    0.009    0.001 <frozen importlib._bootstrap_external>:950(get_code)\n",
      "        1    0.000    0.000    0.000    0.000 <frozen zipimport>:64(__init__)\n",
      "        1    0.000    0.000   12.109   12.109 <string>:1(<module>)\n",
      "        1    0.000    0.000    0.005    0.005 __init__.py:1(<module>)\n",
      "        1    0.000    0.000    0.000    0.000 __init__.py:22(<listcomp>)\n",
      "       38    0.000    0.000    0.000    0.000 __init__.py:23(<genexpr>)\n",
      "       10    0.000    0.000    0.000    0.000 __init__.py:89(find_spec)\n",
      "        3    0.000    0.000    0.000    0.000 __init__.py:96(<lambda>)\n",
      "    18896    0.022    0.000    0.365    0.000 _collections_abc.py:957(pop)\n",
      "        1    0.000    0.000    0.000    0.000 _collections_abc.py:991(update)\n",
      "        1    0.000    0.000    0.001    0.001 _monitor.py:30(__init__)\n",
      "        1    0.000    0.000    0.000    0.000 _weakrefset.py:111(remove)\n",
      "        2    0.000    0.000    0.000    0.000 _weakrefset.py:17(__init__)\n",
      "        2    0.000    0.000    0.000    0.000 _weakrefset.py:21(__enter__)\n",
      "        2    0.000    0.000    0.000    0.000 _weakrefset.py:27(__exit__)\n",
      "        1    0.000    0.000    0.000    0.000 _weakrefset.py:37(__init__)\n",
      "        2    0.000    0.000    0.000    0.000 _weakrefset.py:53(_commit_removals)\n",
      "        3    0.000    0.000    0.000    0.000 _weakrefset.py:63(__iter__)\n",
      "        2    0.000    0.000    0.000    0.000 _weakrefset.py:86(add)\n",
      "        1    0.000    0.000    0.000    0.000 abc.py:105(__new__)\n",
      "        1    0.000    0.000    0.000    0.000 abc.py:117(__instancecheck__)\n",
      "   466373    0.194    0.000    0.242    0.000 atf.py:11(__init__)\n",
      "   238427    0.981    0.000    1.373    0.000 atf.py:121(composition_buses)\n",
      "   227946    0.385    0.000    1.492    0.000 atf.py:179(min_atf)\n",
      "   227946    0.547    0.000    0.640    0.000 atf.py:22(cut)\n",
      "        1    0.000    0.000    0.003    0.003 context.py:1(<module>)\n",
      "        1    0.000    0.000    0.000    0.000 context.py:14(ProcessError)\n",
      "        1    0.000    0.000    0.000    0.000 context.py:17(BufferTooShort)\n",
      "        1    0.000    0.000    0.000    0.000 context.py:197(get_start_method)\n",
      "        1    0.000    0.000    0.000    0.000 context.py:20(TimeoutError)\n",
      "        1    0.000    0.000    0.000    0.000 context.py:203(reducer)\n",
      "        1    0.000    0.000    0.000    0.000 context.py:220(Process)\n",
      "        1    0.000    0.000    0.000    0.000 context.py:23(AuthenticationError)\n",
      "        1    0.000    0.000    0.000    0.000 context.py:230(DefaultContext)\n",
      "        1    0.000    0.000    0.000    0.000 context.py:233(__init__)\n",
      "        1    0.000    0.000    0.000    0.000 context.py:237(get_context)\n",
      "        1    0.000    0.000    0.000    0.000 context.py:276(ForkProcess)\n",
      "        1    0.000    0.000    0.000    0.000 context.py:283(SpawnProcess)\n",
      "        1    0.000    0.000    0.000    0.000 context.py:295(ForkServerProcess)\n",
      "        1    0.000    0.000    0.000    0.000 context.py:30(BaseContext)\n",
      "        1    0.000    0.000    0.000    0.000 context.py:302(ForkContext)\n",
      "        1    0.000    0.000    0.000    0.000 context.py:306(SpawnContext)\n",
      "        1    0.000    0.000    0.000    0.000 context.py:310(ForkServerContext)\n",
      "        1    0.000    0.000    0.015    0.015 context.py:70(RLock)\n",
      "2224567/5    2.964    0.000    7.766    1.553 copy.py:128(deepcopy)\n",
      "  1470639    0.163    0.000    0.163    0.000 copy.py:182(_deepcopy_atomic)\n",
      "223497/106693    0.330    0.000    4.687    0.000 copy.py:201(_deepcopy_list)\n",
      "    35564    0.079    0.000    7.029    0.000 copy.py:210(_deepcopy_tuple)\n",
      "    35564    0.032    0.000    6.947    0.000 copy.py:211(<listcomp>)\n",
      "190126/2194    0.613    0.000    7.750    0.004 copy.py:227(_deepcopy_dict)\n",
      "   637124    0.334    0.000    0.480    0.000 copy.py:243(_keep_alive)\n",
      " 187937/5    1.238    0.000    7.766    1.553 copy.py:259(_reconstruct)\n",
      "   375874    0.104    0.000    0.409    0.000 copy.py:264(<genexpr>)\n",
      "   187932    0.076    0.000    0.104    0.000 copyreg.py:100(__newobj__)\n",
      "        3    0.000    0.000    0.000    0.000 copyreg.py:109(_slotnames)\n",
      "        2    0.000    0.000    0.000    0.000 enum.py:359(__call__)\n",
      "        2    0.000    0.000    0.000    0.000 enum.py:678(__new__)\n",
      "        1    0.024    0.024    3.927    3.927 graph.py:116(__init__)\n",
      "    19445    0.022    0.000    0.027    0.000 graph.py:49(edge_difference)\n",
      "        1    0.834    0.834   12.109   12.109 graph.py:64(contraction_hierarchy)\n",
      "    19445    0.007    0.000    0.009    0.000 heapdict.py:105(__len__)\n",
      "        1    0.000    0.000    0.000    0.000 heapdict.py:20(__init__)\n",
      "    19445    0.046    0.000    0.456    0.000 heapdict.py:30(__setitem__)\n",
      "    19443    0.130    0.000    0.180    0.000 heapdict.py:39(_min_heapify)\n",
      "    19445    0.017    0.000    0.022    0.000 heapdict.py:60(_decrease_key)\n",
      "   217499    0.098    0.000    0.098    0.000 heapdict.py:69(_swap)\n",
      "    18896    0.076    0.000    0.336    0.000 heapdict.py:75(__delitem__)\n",
      "    18896    0.008    0.000    0.008    0.000 heapdict.py:85(__getitem__)\n",
      "    19445    0.036    0.000    0.221    0.000 heapdict.py:93(popitem)\n",
      "       71    0.000    0.000    0.004    0.000 iostream.py:202(schedule)\n",
      "        2    0.000    0.000    0.000    0.000 iostream.py:304(fileno)\n",
      "       24    0.000    0.000    0.000    0.000 iostream.py:437(_is_master_process)\n",
      "       24    0.000    0.000    0.003    0.000 iostream.py:456(_schedule_flush)\n",
      "       24    0.000    0.000    0.017    0.001 iostream.py:471(flush)\n",
      "       24    0.000    0.000    0.003    0.000 iostream.py:526(write)\n",
      "       71    0.000    0.000    0.000    0.000 iostream.py:90(_event_pipe)\n",
      "        1    0.000    0.000    0.000    0.000 os.py:805(fsencode)\n",
      "        1    0.000    0.000    0.000    0.000 posixpath.py:337(normpath)\n",
      "        1    0.000    0.000    0.000    0.000 posixpath.py:376(abspath)\n",
      "        1    0.000    0.000    0.000    0.000 posixpath.py:41(_get_sep)\n",
      "        1    0.000    0.000    0.000    0.000 posixpath.py:60(isabs)\n",
      "        1    0.000    0.000    0.000    0.000 process.py:1(<module>)\n",
      "        1    0.000    0.000    0.000    0.000 process.py:349(AuthenticationString)\n",
      "        1    0.000    0.000    0.000    0.000 process.py:364(_ParentProcess)\n",
      "        1    0.000    0.000    0.000    0.000 process.py:37(current_process)\n",
      "        1    0.000    0.000    0.000    0.000 process.py:397(_MainProcess)\n",
      "        1    0.000    0.000    0.000    0.000 process.py:399(__init__)\n",
      "        1    0.000    0.000    0.000    0.000 process.py:71(BaseProcess)\n",
      "        1    0.000    0.000    0.000    0.000 random.py:119(__init__)\n",
      "        1    0.000    0.000    0.000    0.000 random.py:128(seed)\n",
      "        1    0.000    0.000    0.000    0.000 random.py:506(choices)\n",
      "        1    0.000    0.000    0.000    0.000 random.py:519(<listcomp>)\n",
      "        1    0.000    0.000    0.000    0.000 reduction.py:1(<module>)\n",
      "        1    0.000    0.000    0.000    0.000 reduction.py:211(_C)\n",
      "        1    0.000    0.000    0.000    0.000 reduction.py:251(AbstractReducer)\n",
      "        1    0.000    0.000    0.000    0.000 reduction.py:33(ForkingPickler)\n",
      "        5    0.000    0.000    0.000    0.000 reduction.py:43(register)\n",
      "        1    0.000    0.000    0.004    0.004 resource_tracker.py:1(<module>)\n",
      "        1    0.000    0.000    0.003    0.003 resource_tracker.py:153(register)\n",
      "        1    0.000    0.000    0.003    0.003 resource_tracker.py:161(_send)\n",
      "        1    0.000    0.000    0.000    0.000 resource_tracker.py:54(ResourceTracker)\n",
      "        1    0.000    0.000    0.000    0.000 resource_tracker.py:56(__init__)\n",
      "        1    0.000    0.000    0.003    0.003 resource_tracker.py:78(ensure_running)\n",
      "        2    0.000    0.000    0.000    0.000 signal.py:24(_int_to_enum)\n",
      "        2    0.000    0.000    0.000    0.000 signal.py:67(pthread_sigmask)\n",
      "        4    0.000    0.000    0.000    0.000 signal.py:70(<genexpr>)\n",
      "       71    0.003    0.000    0.003    0.000 socket.py:543(send)\n",
      "        1    0.000    0.000    0.000    0.000 spawn.py:1(<module>)\n",
      "        1    0.000    0.000    0.000    0.000 spawn.py:45(get_executable)\n",
      "        1    0.000    0.000    0.000    0.000 std.py:100(<listcomp>)\n",
      "       25    0.001    0.000    0.001    0.000 std.py:104(acquire)\n",
      "       25    0.000    0.000    0.000    0.000 std.py:108(release)\n",
      "        4    0.000    0.000    0.001    0.000 std.py:112(__enter__)\n",
      "        4    0.000    0.000    0.000    0.000 std.py:115(__exit__)\n",
      "        1    0.000    0.000    0.000    0.000 std.py:1161(__del__)\n",
      "       22    0.000    0.000    0.007    0.000 std.py:1164(__str__)\n",
      "        2    0.000    0.000    0.000    0.000 std.py:1167(_comparable)\n",
      "        2    0.000    0.000    0.000    0.000 std.py:1171(__hash__)\n",
      "      550    0.001    0.000    0.029    0.000 std.py:1174(__iter__)\n",
      "        1    0.000    0.000    0.023    0.023 std.py:118(create_mp_lock)\n",
      "       20    0.000    0.000    0.027    0.001 std.py:1212(update)\n",
      "        2    0.000    0.000    0.001    0.001 std.py:1279(close)\n",
      "        2    0.000    0.000    0.000    0.000 std.py:1300(fp_write)\n",
      "        1    0.000    0.000    0.000    0.000 std.py:1315(<lambda>)\n",
      "       21    0.000    0.000    0.029    0.001 std.py:1339(refresh)\n",
      "       22    0.000    0.000    0.000    0.000 std.py:1460(format_dict)\n",
      "       22    0.000    0.000    0.029    0.001 std.py:1478(display)\n",
      "       22    0.000    0.000    0.000    0.000 std.py:155(__init__)\n",
      "       22    0.000    0.000    0.000    0.000 std.py:165(colour)\n",
      "       22    0.000    0.000    0.000    0.000 std.py:169(colour)\n",
      "       22    0.000    0.000    0.000    0.000 std.py:188(__format__)\n",
      "        3    0.000    0.000    0.000    0.000 std.py:228(__init__)\n",
      "      121    0.000    0.000    0.000    0.000 std.py:233(__call__)\n",
      "       43    0.000    0.000    0.000    0.000 std.py:288(format_interval)\n",
      "        1    0.000    0.000    0.002    0.002 std.py:329(status_printer)\n",
      "       22    0.000    0.000    0.019    0.001 std.py:342(fp_write)\n",
      "       22    0.000    0.000    0.022    0.001 std.py:348(print_status)\n",
      "       22    0.001    0.000    0.007    0.000 std.py:355(format_meter)\n",
      "        1    0.000    0.000    0.026    0.026 std.py:560(__new__)\n",
      "        1    0.000    0.000    0.000    0.000 std.py:576(_get_free_pos)\n",
      "        1    0.000    0.000    0.000    0.000 std.py:579(<setcomp>)\n",
      "        1    0.000    0.000    0.000    0.000 std.py:583(_decr_instances)\n",
      "        1    0.000    0.000    0.024    0.024 std.py:657(get_lock)\n",
      "        1    0.000    0.000    0.006    0.006 std.py:846(__init__)\n",
      "        1    0.000    0.000    0.023    0.023 std.py:92(__init__)\n",
      "        1    0.000    0.000    0.000    0.000 subprocess.py:268(_optim_args_from_interpreter_flags)\n",
      "        1    0.000    0.000    0.000    0.000 subprocess.py:278(_args_from_interpreter_flags)\n",
      "        1    0.000    0.000    0.004    0.004 synchronize.py:1(<module>)\n",
      "        1    0.000    0.000    0.000    0.000 synchronize.py:114(_make_name)\n",
      "        1    0.000    0.000    0.000    0.000 synchronize.py:123(Semaphore)\n",
      "        1    0.000    0.000    0.000    0.000 synchronize.py:142(BoundedSemaphore)\n",
      "        1    0.000    0.000    0.000    0.000 synchronize.py:159(Lock)\n",
      "        1    0.000    0.000    0.000    0.000 synchronize.py:184(RLock)\n",
      "        1    0.000    0.000    0.009    0.009 synchronize.py:186(__init__)\n",
      "        1    0.000    0.000    0.000    0.000 synchronize.py:210(Condition)\n",
      "        1    0.000    0.000    0.000    0.000 synchronize.py:321(Event)\n",
      "        1    0.000    0.000    0.000    0.000 synchronize.py:360(Barrier)\n",
      "        1    0.000    0.000    0.000    0.000 synchronize.py:46(SemLock)\n",
      "        1    0.000    0.000    0.009    0.009 synchronize.py:50(__init__)\n",
      "        1    0.000    0.000    0.000    0.000 synchronize.py:90(_make_methods)\n",
      "        1    0.000    0.000    0.000    0.000 tempfile.py:142(rng)\n",
      "        1    0.000    0.000    0.000    0.000 tempfile.py:153(__next__)\n",
      "       95    0.000    0.000    0.000    0.000 threading.py:1102(_wait_for_tstate_lock)\n",
      "       48    0.000    0.000    0.000    0.000 threading.py:1145(ident)\n",
      "       95    0.000    0.000    0.000    0.000 threading.py:1169(is_alive)\n",
      "        1    0.000    0.000    0.000    0.000 threading.py:1183(daemon)\n",
      "        1    0.000    0.000    0.000    0.000 threading.py:1198(daemon)\n",
      "        1    0.000    0.000    0.000    0.000 threading.py:1301(_make_invoke_excepthook)\n",
      "       25    0.000    0.000    0.000    0.000 threading.py:1430(current_thread)\n",
      "       26    0.000    0.000    0.000    0.000 threading.py:236(__init__)\n",
      "       25    0.000    0.000    0.000    0.000 threading.py:264(__enter__)\n",
      "       25    0.000    0.000    0.000    0.000 threading.py:267(__exit__)\n",
      "       25    0.000    0.000    0.000    0.000 threading.py:273(_release_save)\n",
      "       25    0.000    0.000    0.000    0.000 threading.py:276(_acquire_restore)\n",
      "       25    0.000    0.000    0.000    0.000 threading.py:279(_is_owned)\n",
      "       25    0.000    0.000    0.016    0.001 threading.py:288(wait)\n",
      "       26    0.000    0.000    0.000    0.000 threading.py:545(__init__)\n",
      "       97    0.000    0.000    0.000    0.000 threading.py:553(is_set)\n",
      "       25    0.000    0.000    0.016    0.001 threading.py:589(wait)\n",
      "        1    0.000    0.000    0.000    0.000 threading.py:782(_newname)\n",
      "        1    0.000    0.000    0.001    0.001 threading.py:827(__init__)\n",
      "        1    0.000    0.000    0.001    0.001 threading.py:916(start)\n",
      "   695738    0.207    0.000    0.207    0.000 trip.py:15(__lt__)\n",
      "   238427    0.185    0.000    0.210    0.000 trip.py:24(__init__)\n",
      "    48055    0.053    0.000    0.053    0.000 trip.py:9(__init__)\n",
      "        1    0.000    0.000    0.000    0.000 util.py:1(<module>)\n",
      "        1    0.000    0.000    0.000    0.000 util.py:108(_platform_supports_abstract_sockets)\n",
      "        1    0.000    0.000    0.000    0.000 util.py:171(register_after_fork)\n",
      "        1    0.000    0.000    0.000    0.000 util.py:182(Finalize)\n",
      "        1    0.000    0.000    0.000    0.000 util.py:186(__init__)\n",
      "        1    0.000    0.000    0.000    0.000 util.py:368(ForkAwareThreadLock)\n",
      "        1    0.000    0.000    0.000    0.000 util.py:385(ForkAwareLocal)\n",
      "        1    0.000    0.000    0.003    0.003 util.py:447(spawnv_passfds)\n",
      "        1    0.000    0.000    0.000    0.000 util.py:48(debug)\n",
      "        3    0.000    0.000    0.000    0.000 utils.py:101(wrapper_setattr)\n",
      "        1    0.000    0.000    0.000    0.000 utils.py:105(__init__)\n",
      "        2    0.000    0.000    0.000    0.000 utils.py:136(disable_on_exception)\n",
      "       46    0.000    0.000    0.019    0.000 utils.py:143(inner)\n",
      "        1    0.000    0.000    0.000    0.000 utils.py:162(__init__)\n",
      "        2    0.000    0.000    0.000    0.000 utils.py:171(__eq__)\n",
      "        1    0.000    0.000    0.000    0.000 utils.py:201(_is_utf)\n",
      "        1    0.000    0.000    0.000    0.000 utils.py:215(_supports_unicode)\n",
      "       44    0.000    0.000    0.000    0.000 utils.py:222(_is_ascii)\n",
      "        1    0.000    0.000    0.000    0.000 utils.py:231(_screen_shape_wrapper)\n",
      "        1    0.000    0.000    0.001    0.001 utils.py:282(_screen_shape_linux)\n",
      "       66    0.000    0.000    0.007    0.000 utils.py:329(_text_width)\n",
      "    10560    0.003    0.000    0.005    0.000 utils.py:330(<genexpr>)\n",
      "       66    0.000    0.000    0.007    0.000 utils.py:333(disp_len)\n",
      "       22    0.000    0.000    0.003    0.000 utils.py:341(disp_trim)\n",
      "       22    0.000    0.000    0.000    0.000 utils.py:57(__init__)\n",
      "       22    0.000    0.000    0.000    0.000 utils.py:61(__format__)\n",
      "        1    0.000    0.000    0.000    0.000 utils.py:74(__eq__)\n",
      "        2    0.000    0.000    0.000    0.000 utils.py:88(__getattr__)\n",
      "        1    0.000    0.000    0.000    0.000 weakref.py:105(__init__)\n",
      "        1    0.000    0.000    0.000    0.000 weakref.py:165(__setitem__)\n",
      "        1    0.000    0.000    0.000    0.000 weakref.py:290(update)\n",
      "        1    0.000    0.000    0.000    0.000 weakref.py:348(__new__)\n",
      "        1    0.000    0.000    0.000    0.000 weakref.py:353(__init__)\n",
      "   187935    0.028    0.000    0.028    0.000 {built-in method __new__ of type object at 0x10a6d3920}\n",
      "        1    0.000    0.000    0.000    0.000 {built-in method _abc._abc_init}\n",
      "        1    0.000    0.000    0.000    0.000 {built-in method _abc._abc_instancecheck}\n",
      "        8    0.000    0.000    0.000    0.000 {built-in method _imp._fix_co_filename}\n",
      "       70    0.000    0.000    0.000    0.000 {built-in method _imp.acquire_lock}\n",
      "        2    0.003    0.002    0.003    0.002 {built-in method _imp.create_dynamic}\n",
      "        2    0.000    0.000    0.000    0.000 {built-in method _imp.exec_dynamic}\n",
      "        3    0.000    0.000    0.000    0.000 {built-in method _imp.is_builtin}\n",
      "       10    0.000    0.000    0.000    0.000 {built-in method _imp.is_frozen}\n",
      "       70    0.000    0.000    0.000    0.000 {built-in method _imp.release_lock}\n",
      "        1    0.002    0.002    0.002    0.002 {built-in method _posixsubprocess.fork_exec}\n",
      "        2    0.000    0.000    0.000    0.000 {built-in method _signal.pthread_sigmask}\n",
      "       72    0.000    0.000    0.000    0.000 {built-in method _thread.allocate_lock}\n",
      "       65    0.000    0.000    0.000    0.000 {built-in method _thread.get_ident}\n",
      "        1    0.000    0.000    0.000    0.000 {built-in method _thread.start_new_thread}\n",
      "        2    0.000    0.000    0.000    0.000 {built-in method _weakref.proxy}\n",
      "        2    0.000    0.000    0.000    0.000 {built-in method atexit.register}\n",
      "       32    0.001    0.000    0.001    0.000 {built-in method builtins.__build_class__}\n",
      "      6/3    0.000    0.000    0.009    0.003 {built-in method builtins.__import__}\n",
      "       24    0.000    0.000    0.000    0.000 {built-in method builtins.abs}\n",
      "        1    0.000    0.000    0.000    0.000 {built-in method builtins.dir}\n",
      "      108    0.000    0.000    0.000    0.000 {built-in method builtins.divmod}\n",
      "      9/1    0.000    0.000   12.109   12.109 {built-in method builtins.exec}\n",
      "   375994    0.069    0.000    0.069    0.000 {built-in method builtins.getattr}\n",
      "        2    0.000    0.000    0.000    0.000 {built-in method builtins.globals}\n",
      "   188042    0.029    0.000    0.029    0.000 {built-in method builtins.hasattr}\n",
      "  3498823    0.398    0.000    0.398    0.000 {built-in method builtins.id}\n",
      "   375995    0.060    0.000    0.060    0.000 {built-in method builtins.isinstance}\n",
      "   187937    0.026    0.000    0.026    0.000 {built-in method builtins.issubclass}\n",
      "1104529/1085084    0.123    0.000    0.130    0.000 {built-in method builtins.len}\n",
      "        3    0.000    0.000    0.000    0.000 {built-in method builtins.locals}\n",
      "    18956    0.009    0.000    0.009    0.000 {built-in method builtins.max}\n",
      "        1    0.000    0.000    0.000    0.000 {built-in method builtins.min}\n",
      "        3    0.000    0.000    0.000    0.000 {built-in method builtins.next}\n",
      "      462    0.000    0.000    0.000    0.000 {built-in method builtins.ord}\n",
      "   106699    0.018    0.000    0.018    0.000 {built-in method builtins.setattr}\n",
      "        1    0.000    0.000    0.000    0.000 {built-in method builtins.sorted}\n",
      "       66    0.001    0.000    0.007    0.000 {built-in method builtins.sum}\n",
      "        1    0.000    0.000    0.000    0.000 {built-in method fcntl.ioctl}\n",
      "       24    0.000    0.000    0.000    0.000 {built-in method from_bytes}\n",
      "        8    0.004    0.001    0.004    0.001 {built-in method io.open_code}\n",
      "        8    0.001    0.000    0.001    0.000 {built-in method marshal.loads}\n",
      "        8    0.000    0.000    0.000    0.000 {built-in method math.floor}\n",
      "       21    0.000    0.000    0.000    0.000 {built-in method now}\n",
      "        3    0.000    0.000    0.000    0.000 {built-in method posix.close}\n",
      "       30    0.000    0.000    0.000    0.000 {built-in method posix.fspath}\n",
      "        1    0.000    0.000    0.000    0.000 {built-in method posix.getcwd}\n",
      "       26    0.000    0.000    0.000    0.000 {built-in method posix.getpid}\n",
      "        1    0.000    0.000    0.000    0.000 {built-in method posix.listdir}\n",
      "        2    0.000    0.000    0.000    0.000 {built-in method posix.pipe}\n",
      "       38    0.003    0.000    0.003    0.000 {built-in method posix.stat}\n",
      "        1    0.000    0.000    0.000    0.000 {built-in method posix.sysconf}\n",
      "        1    0.000    0.000    0.000    0.000 {built-in method posix.urandom}\n",
      "        1    0.000    0.000    0.000    0.000 {built-in method posix.write}\n",
      "      196    0.000    0.000    0.000    0.000 {built-in method time.time}\n",
      "    10494    0.002    0.000    0.002    0.000 {built-in method unicodedata.east_asian_width}\n",
      "        1    0.000    0.000    0.000    0.000 {built-in method utcfromtimestamp}\n",
      "        1    0.000    0.000    0.000    0.000 {function Random.seed at 0x7fe2b7237b50}\n",
      "       25    0.000    0.000    0.000    0.000 {method '__enter__' of '_thread.lock' objects}\n",
      "        8    0.000    0.000    0.000    0.000 {method '__exit__' of '_io._IOBase' objects}\n",
      "       25    0.000    0.000    0.000    0.000 {method '__exit__' of '_thread.RLock' objects}\n",
      "       66    0.000    0.000    0.000    0.000 {method '__exit__' of '_thread.lock' objects}\n",
      "   187937    0.118    0.000    0.118    0.000 {method '__reduce_ex__' of 'object' objects}\n",
      "       25    0.000    0.000    0.000    0.000 {method 'acquire' of '_multiprocessing.SemLock' objects}\n",
      "       26    0.000    0.000    0.000    0.000 {method 'acquire' of '_thread.RLock' objects}\n",
      "      195    0.015    0.000    0.015    0.000 {method 'acquire' of '_thread.lock' objects}\n",
      "        4    0.000    0.000    0.000    0.000 {method 'add' of 'set' objects}\n",
      "       96    0.000    0.000    0.000    0.000 {method 'append' of 'collections.deque' objects}\n",
      "  1634660    0.194    0.000    0.194    0.000 {method 'append' of 'list' objects}\n",
      "        1    0.000    0.000    0.000    0.000 {method 'difference' of 'set' objects}\n",
      "        1    0.000    0.000    0.000    0.000 {method 'disable' of '_lsprof.Profiler' objects}\n",
      "        3    0.000    0.000    0.000    0.000 {method 'encode' of 'str' objects}\n",
      "       12    0.000    0.000    0.000    0.000 {method 'endswith' of 'str' objects}\n",
      "        3    0.000    0.000    0.000    0.000 {method 'extend' of 'list' objects}\n",
      "      183    0.000    0.000    0.001    0.000 {method 'format' of 'str' objects}\n",
      "  4758717    0.667    0.000    0.667    0.000 {method 'get' of 'dict' objects}\n",
      "        3    0.000    0.000    0.000    0.000 {method 'get' of 'mappingproxy' objects}\n",
      "   235932    0.306    0.000    0.306    0.000 {method 'items' of 'dict' objects}\n",
      "       94    0.000    0.000    0.000    0.000 {method 'join' of 'str' objects}\n",
      "       23    0.000    0.000    0.000    0.000 {method 'lower' of 'str' objects}\n",
      "       10    0.000    0.000    0.000    0.000 {method 'pop' of 'dict' objects}\n",
      "    32781    0.005    0.000    0.005    0.000 {method 'pop' of 'list' objects}\n",
      "        8    0.000    0.000    0.000    0.000 {method 'random' of '_random.Random' objects}\n",
      "        8    0.004    0.000    0.004    0.000 {method 'read' of '_io.BufferedReader' objects}\n",
      "       25    0.000    0.000    0.000    0.000 {method 'release' of '_multiprocessing.SemLock' objects}\n",
      "       26    0.000    0.000    0.000    0.000 {method 'release' of '_thread.RLock' objects}\n",
      "       25    0.000    0.000    0.000    0.000 {method 'release' of '_thread.lock' objects}\n",
      "        3    0.000    0.000    0.000    0.000 {method 'remove' of 'set' objects}\n",
      "       16    0.000    0.000    0.000    0.000 {method 'rfind' of 'str' objects}\n",
      "       72    0.000    0.000    0.000    0.000 {method 'rpartition' of 'str' objects}\n",
      "      168    0.000    0.000    0.000    0.000 {method 'rstrip' of 'str' objects}\n",
      "        6    0.000    0.000    0.000    0.000 {method 'setter' of 'property' objects}\n",
      "   227946    0.142    0.000    0.349    0.000 {method 'sort' of 'list' objects}\n",
      "        1    0.000    0.000    0.000    0.000 {method 'split' of 'str' objects}\n",
      "       92    0.000    0.000    0.000    0.000 {method 'startswith' of 'str' objects}\n",
      "       66    0.000    0.000    0.000    0.000 {method 'sub' of 're.Pattern' objects}\n",
      "   152393    0.053    0.000    0.053    0.000 {method 'update' of 'dict' objects}\n",
      "       24    0.000    0.000    0.000    0.000 {method 'write' of '_io.StringIO' objects}\n",
      "\n",
      "\n",
      "CPU times: user 11.9 s, sys: 161 ms, total: 12.1 s\n",
      "Wall time: 12.1 s\n"
     ]
    },
    {
     "name": "stderr",
     "output_type": "stream",
     "text": [
      "\n"
     ]
    }
   ],
   "source": [
    "%%time\n",
    "cProfile.run('ch_tg = tg.contraction_hierarchy(just_buses=True)')"
   ]
  },
  {
   "cell_type": "markdown",
   "id": "018ab6c9",
   "metadata": {},
   "source": [
    "### Calculate Full-CH"
   ]
  },
  {
   "cell_type": "code",
   "execution_count": 9,
   "id": "26755ad6",
   "metadata": {},
   "outputs": [
    {
     "name": "stderr",
     "output_type": "stream",
     "text": [
      "100%|████████████████████████████████████████████████████████████████████████████████████████████████████████████████████████████████████████████████████████████████████████████████████| 549/549 [05:21<00:00,  1.71it/s]"
     ]
    },
    {
     "name": "stdout",
     "output_type": "stream",
     "text": [
      "         393666588 function calls (390929913 primitive calls) in 330.574 seconds\n",
      "\n",
      "   Ordered by: standard name\n",
      "\n",
      "   ncalls  tottime  percall  cumtime  percall filename:lineno(function)\n",
      "        1    0.000    0.000  330.573  330.573 <string>:1(<module>)\n",
      "    18896    0.034    0.000    0.441    0.000 _collections_abc.py:957(pop)\n",
      "        1    0.000    0.000    0.000    0.000 _collections_abc.py:991(update)\n",
      "        1    0.000    0.000    0.000    0.000 _monitor.py:94(report)\n",
      "        1    0.000    0.000    0.000    0.000 _weakrefset.py:111(remove)\n",
      "        2    0.000    0.000    0.000    0.000 _weakrefset.py:17(__init__)\n",
      "        2    0.000    0.000    0.000    0.000 _weakrefset.py:21(__enter__)\n",
      "        2    0.000    0.000    0.000    0.000 _weakrefset.py:27(__exit__)\n",
      "        2    0.000    0.000    0.000    0.000 _weakrefset.py:53(_commit_removals)\n",
      "        3    0.000    0.000    0.000    0.000 _weakrefset.py:63(__iter__)\n",
      "        1    0.000    0.000    0.000    0.000 _weakrefset.py:86(add)\n",
      "        1    0.000    0.000    0.000    0.000 abc.py:117(__instancecheck__)\n",
      "   466373    0.353    0.000    0.437    0.000 atf.py:11(__init__)\n",
      "   227946    1.289    0.000   69.134    0.000 atf.py:179(min_atf)\n",
      "   466373   62.611    0.000   73.692    0.000 atf.py:22(cut)\n",
      "   238427  157.925    0.001  237.760    0.001 atf.py:40(composition)\n",
      "2224567/5    3.104    0.000    8.804    1.761 copy.py:128(deepcopy)\n",
      "  1470639    0.176    0.000    0.176    0.000 copy.py:182(_deepcopy_atomic)\n",
      "223497/106693    1.125    0.000    5.817    0.000 copy.py:201(_deepcopy_list)\n",
      "    35564    0.089    0.000    7.989    0.000 copy.py:210(_deepcopy_tuple)\n",
      "    35564    0.035    0.000    7.896    0.000 copy.py:211(<listcomp>)\n",
      "190126/2194    0.981    0.000    8.787    0.004 copy.py:227(_deepcopy_dict)\n",
      "   637124    0.368    0.000    0.527    0.000 copy.py:243(_keep_alive)\n",
      " 187937/5    0.964    0.000    8.804    1.761 copy.py:259(_reconstruct)\n",
      "   375874    0.114    0.000    0.456    0.000 copy.py:264(<genexpr>)\n",
      "   187932    0.085    0.000    0.116    0.000 copyreg.py:100(__newobj__)\n",
      "        1    0.028    0.028    4.547    4.547 graph.py:116(__init__)\n",
      "    19445    0.032    0.000    0.038    0.000 graph.py:49(edge_difference)\n",
      "        1   13.816   13.816  330.573  330.573 graph.py:64(contraction_hierarchy)\n",
      "    19445    0.009    0.000    0.011    0.000 heapdict.py:105(__len__)\n",
      "        1    0.000    0.000    0.000    0.000 heapdict.py:20(__init__)\n",
      "    19445    0.065    0.000    0.560    0.000 heapdict.py:30(__setitem__)\n",
      "    19443    0.161    0.000    0.205    0.000 heapdict.py:39(_min_heapify)\n",
      "    19445    0.021    0.000    0.025    0.000 heapdict.py:60(_decrease_key)\n",
      "   217499    0.093    0.000    0.093    0.000 heapdict.py:69(_swap)\n",
      "    18896    0.097    0.000    0.393    0.000 heapdict.py:75(__delitem__)\n",
      "    18896    0.014    0.000    0.014    0.000 heapdict.py:85(__getitem__)\n",
      "    19445    0.047    0.000    0.258    0.000 heapdict.py:93(popitem)\n",
      "      899    0.003    0.000    0.037    0.000 iostream.py:202(schedule)\n",
      "        1    0.000    0.000    0.000    0.000 iostream.py:304(fileno)\n",
      "      300    0.001    0.000    0.001    0.000 iostream.py:437(_is_master_process)\n",
      "      300    0.001    0.000    0.031    0.000 iostream.py:456(_schedule_flush)\n",
      "      300    0.003    0.000    0.147    0.000 iostream.py:471(flush)\n",
      "      300    0.003    0.000    0.035    0.000 iostream.py:526(write)\n",
      "      899    0.001    0.000    0.001    0.000 iostream.py:90(_event_pipe)\n",
      "      899    0.030    0.000    0.030    0.000 socket.py:543(send)\n",
      "      301    0.001    0.000    0.004    0.000 std.py:104(acquire)\n",
      "      301    0.001    0.000    0.002    0.000 std.py:108(release)\n",
      "        4    0.000    0.000    0.000    0.000 std.py:112(__enter__)\n",
      "        4    0.000    0.000    0.000    0.000 std.py:115(__exit__)\n",
      "        1    0.000    0.000    0.000    0.000 std.py:1161(__del__)\n",
      "      298    0.002    0.000    0.071    0.000 std.py:1164(__str__)\n",
      "        2    0.000    0.000    0.000    0.000 std.py:1167(_comparable)\n",
      "        2    0.000    0.000    0.000    0.000 std.py:1171(__hash__)\n",
      "      550    0.002    0.000    0.305    0.001 std.py:1174(__iter__)\n",
      "      296    0.004    0.000    0.301    0.001 std.py:1212(update)\n",
      "        2    0.000    0.000    0.001    0.001 std.py:1279(close)\n",
      "        2    0.000    0.000    0.000    0.000 std.py:1300(fp_write)\n",
      "        1    0.000    0.000    0.000    0.000 std.py:1315(<lambda>)\n",
      "      297    0.002    0.000    0.295    0.001 std.py:1339(refresh)\n",
      "      298    0.002    0.000    0.003    0.000 std.py:1460(format_dict)\n",
      "      298    0.002    0.000    0.289    0.001 std.py:1478(display)\n",
      "      298    0.001    0.000    0.001    0.000 std.py:155(__init__)\n",
      "      298    0.000    0.000    0.000    0.000 std.py:165(colour)\n",
      "      298    0.000    0.000    0.000    0.000 std.py:169(colour)\n",
      "      298    0.002    0.000    0.002    0.000 std.py:188(__format__)\n",
      "        3    0.000    0.000    0.000    0.000 std.py:228(__init__)\n",
      "     1777    0.003    0.000    0.003    0.000 std.py:233(__call__)\n",
      "      595    0.001    0.000    0.003    0.000 std.py:288(format_interval)\n",
      "        1    0.000    0.000    0.001    0.001 std.py:329(status_printer)\n",
      "      298    0.001    0.000    0.184    0.001 std.py:342(fp_write)\n",
      "      298    0.001    0.000    0.216    0.001 std.py:348(print_status)\n",
      "      298    0.011    0.000    0.066    0.000 std.py:355(format_meter)\n",
      "        1    0.000    0.000    0.000    0.000 std.py:560(__new__)\n",
      "        1    0.000    0.000    0.000    0.000 std.py:576(_get_free_pos)\n",
      "        1    0.000    0.000    0.000    0.000 std.py:579(<setcomp>)\n",
      "        1    0.000    0.000    0.000    0.000 std.py:583(_decr_instances)\n",
      "        1    0.000    0.000    0.000    0.000 std.py:657(get_lock)\n",
      "        1    0.000    0.000    0.002    0.002 std.py:846(__init__)\n",
      "     1199    0.001    0.000    0.002    0.000 threading.py:1102(_wait_for_tstate_lock)\n",
      "      600    0.000    0.000    0.000    0.000 threading.py:1145(ident)\n",
      "     1199    0.002    0.000    0.004    0.000 threading.py:1169(is_alive)\n",
      "      300    0.000    0.000    0.001    0.000 threading.py:1430(current_thread)\n",
      "      300    0.003    0.000    0.003    0.000 threading.py:236(__init__)\n",
      "      300    0.000    0.000    0.000    0.000 threading.py:264(__enter__)\n",
      "      300    0.000    0.000    0.001    0.000 threading.py:267(__exit__)\n",
      "      299    0.000    0.000    0.000    0.000 threading.py:273(_release_save)\n",
      "      299    0.000    0.000    0.000    0.000 threading.py:276(_acquire_restore)\n",
      "      299    0.000    0.000    0.000    0.000 threading.py:279(_is_owned)\n",
      "      299    0.002    0.000    0.129    0.000 threading.py:288(wait)\n",
      "      300    0.001    0.000    0.004    0.000 threading.py:545(__init__)\n",
      "     1200    0.000    0.000    0.000    0.000 threading.py:553(is_set)\n",
      "      300    0.002    0.000    0.131    0.000 threading.py:589(wait)\n",
      "179513180   29.878    0.000   29.878    0.000 trip.py:15(__lt__)\n",
      "   238427    0.316    0.000    0.345    0.000 trip.py:24(__init__)\n",
      " 38311646   14.659    0.000   14.659    0.000 trip.py:9(__init__)\n",
      "        3    0.000    0.000    0.000    0.000 utils.py:101(wrapper_setattr)\n",
      "        1    0.000    0.000    0.000    0.000 utils.py:105(__init__)\n",
      "        2    0.000    0.000    0.000    0.000 utils.py:136(disable_on_exception)\n",
      "      598    0.002    0.000    0.183    0.000 utils.py:143(inner)\n",
      "        1    0.000    0.000    0.000    0.000 utils.py:162(__init__)\n",
      "        2    0.000    0.000    0.000    0.000 utils.py:171(__eq__)\n",
      "        1    0.000    0.000    0.000    0.000 utils.py:201(_is_utf)\n",
      "        1    0.000    0.000    0.000    0.000 utils.py:215(_supports_unicode)\n",
      "      596    0.002    0.000    0.003    0.000 utils.py:222(_is_ascii)\n",
      "        1    0.000    0.000    0.000    0.000 utils.py:231(_screen_shape_wrapper)\n",
      "        1    0.000    0.000    0.000    0.000 utils.py:282(_screen_shape_linux)\n",
      "      894    0.001    0.000    0.068    0.000 utils.py:329(_text_width)\n",
      "   143031    0.037    0.000    0.051    0.000 utils.py:330(<genexpr>)\n",
      "      894    0.001    0.000    0.070    0.000 utils.py:333(disp_len)\n",
      "      298    0.000    0.000    0.031    0.000 utils.py:341(disp_trim)\n",
      "      298    0.000    0.000    0.000    0.000 utils.py:57(__init__)\n",
      "      298    0.000    0.000    0.000    0.000 utils.py:61(__format__)\n",
      "        1    0.000    0.000    0.000    0.000 utils.py:74(__eq__)\n",
      "        2    0.000    0.000    0.000    0.000 utils.py:88(__getattr__)\n",
      "   187933    0.031    0.000    0.031    0.000 {built-in method __new__ of type object at 0x10a6d3920}\n",
      "        1    0.000    0.000    0.000    0.000 {built-in method _abc._abc_instancecheck}\n",
      "      599    0.001    0.000    0.001    0.000 {built-in method _thread.allocate_lock}\n",
      "      300    0.000    0.000    0.000    0.000 {built-in method _thread.get_ident}\n",
      "        2    0.000    0.000    0.000    0.000 {built-in method _weakref.proxy}\n",
      "      300    0.000    0.000    0.000    0.000 {built-in method builtins.abs}\n",
      "     1488    0.000    0.000    0.000    0.000 {built-in method builtins.divmod}\n",
      "        1    0.000    0.000  330.574  330.574 {built-in method builtins.exec}\n",
      "   375885    0.077    0.000    0.077    0.000 {built-in method builtins.getattr}\n",
      "   188533    0.033    0.000    0.033    0.000 {built-in method builtins.hasattr}\n",
      "  3498822    0.434    0.000    0.434    0.000 {built-in method builtins.id}\n",
      "   376766    0.067    0.000    0.067    0.000 {built-in method builtins.isinstance}\n",
      "   187937    0.030    0.000    0.030    0.000 {built-in method builtins.issubclass}\n",
      "1343749/1324304    0.204    0.000    0.213    0.000 {built-in method builtins.len}\n",
      "    19492    0.019    0.000    0.019    0.000 {built-in method builtins.max}\n",
      "        1    0.000    0.000    0.000    0.000 {built-in method builtins.min}\n",
      "     6258    0.001    0.000    0.001    0.000 {built-in method builtins.ord}\n",
      "   106692    0.020    0.000    0.020    0.000 {built-in method builtins.setattr}\n",
      "      894    0.015    0.000    0.067    0.000 {built-in method builtins.sum}\n",
      "        1    0.000    0.000    0.000    0.000 {built-in method fcntl.ioctl}\n",
      "      297    0.002    0.000    0.002    0.000 {built-in method now}\n",
      "      300    0.000    0.000    0.000    0.000 {built-in method posix.getpid}\n",
      "     1272    0.001    0.000    0.001    0.000 {built-in method time.time}\n",
      "   142137    0.015    0.000    0.015    0.000 {built-in method unicodedata.east_asian_width}\n",
      "        1    0.000    0.000    0.000    0.000 {built-in method utcfromtimestamp}\n",
      "      300    0.000    0.000    0.000    0.000 {method '__enter__' of '_thread.lock' objects}\n",
      "      300    0.000    0.000    0.000    0.000 {method '__exit__' of '_thread.RLock' objects}\n",
      "      300    0.000    0.000    0.000    0.000 {method '__exit__' of '_thread.lock' objects}\n",
      "   187937    0.137    0.000    0.137    0.000 {method '__reduce_ex__' of 'object' objects}\n",
      "      301    0.002    0.000    0.002    0.000 {method 'acquire' of '_multiprocessing.SemLock' objects}\n",
      "      301    0.000    0.000    0.000    0.000 {method 'acquire' of '_thread.RLock' objects}\n",
      "     2395    0.127    0.000    0.127    0.000 {method 'acquire' of '_thread.lock' objects}\n",
      "        3    0.000    0.000    0.000    0.000 {method 'add' of 'set' objects}\n",
      "     1198    0.000    0.000    0.000    0.000 {method 'append' of 'collections.deque' objects}\n",
      "119834167   12.010    0.000   12.010    0.000 {method 'append' of 'list' objects}\n",
      "        1    0.000    0.000    0.000    0.000 {method 'difference' of 'set' objects}\n",
      "        1    0.000    0.000    0.000    0.000 {method 'disable' of '_lsprof.Profiler' objects}\n",
      "        1    0.000    0.000    0.000    0.000 {method 'encode' of 'str' objects}\n",
      "     2381    0.005    0.000    0.007    0.000 {method 'format' of 'str' objects}\n",
      "  4758694    0.774    0.000    0.774    0.000 {method 'get' of 'dict' objects}\n",
      "   235928    0.073    0.000    0.073    0.000 {method 'items' of 'dict' objects}\n",
      " 35994371    3.293    0.000    3.293    0.000 {method 'pop' of 'list' objects}\n",
      "      301    0.001    0.000    0.001    0.000 {method 'release' of '_multiprocessing.SemLock' objects}\n",
      "      301    0.000    0.000    0.000    0.000 {method 'release' of '_thread.RLock' objects}\n",
      "      299    0.000    0.000    0.000    0.000 {method 'release' of '_thread.lock' objects}\n",
      "        3    0.000    0.000    0.000    0.000 {method 'remove' of 'set' objects}\n",
      "   466373   24.522    0.000   54.400    0.000 {method 'sort' of 'list' objects}\n",
      "      894    0.001    0.000    0.001    0.000 {method 'sub' of 're.Pattern' objects}\n",
      "   152666    0.055    0.000    0.055    0.000 {method 'update' of 'dict' objects}\n",
      "      300    0.000    0.000    0.000    0.000 {method 'write' of '_io.StringIO' objects}\n",
      "\n",
      "\n",
      "CPU times: user 5min 26s, sys: 1.9 s, total: 5min 27s\n",
      "Wall time: 5min 30s\n"
     ]
    },
    {
     "name": "stderr",
     "output_type": "stream",
     "text": [
      "\n"
     ]
    }
   ],
   "source": [
    "%%time\n",
    "cProfile.run('ch_tg_optimal = tg.contraction_hierarchy(just_buses=False)')"
   ]
  },
  {
   "cell_type": "markdown",
   "id": "a4922fc2",
   "metadata": {},
   "source": [
    "%%time\n",
    "cProfile.run('ch_tg = tg.contraction_hierarchy')"
   ]
  },
  {
   "cell_type": "markdown",
   "id": "12610952",
   "metadata": {},
   "source": [
    "# Precalculate Geometrical containers for FCH"
   ]
  },
  {
   "cell_type": "code",
   "execution_count": 10,
   "id": "d71ece71",
   "metadata": {
    "scrolled": true
   },
   "outputs": [
    {
     "name": "stderr",
     "output_type": "stream",
     "text": [
      "100%|██████████████████████████████████████████████████████████████████████████████████████████████████████████████████████████████████████████████████████████████████████████████████| 549/549 [00:00<00:00, 1699.95it/s]"
     ]
    },
    {
     "name": "stdout",
     "output_type": "stream",
     "text": [
      "CPU times: user 215 ms, sys: 42.5 ms, total: 257 ms\n",
      "Wall time: 333 ms\n"
     ]
    },
    {
     "name": "stderr",
     "output_type": "stream",
     "text": [
      "\n"
     ]
    }
   ],
   "source": [
    "%%time\n",
    "ch_tg_optimal.geometrical_container()"
   ]
  },
  {
   "cell_type": "code",
   "execution_count": 11,
   "id": "f8bdec92",
   "metadata": {},
   "outputs": [],
   "source": [
    "pickle.dump(ch_tg_optimal, open(F'kuopio_original.pkl', 'wb'), \n",
    "            pickle.HIGHEST_PROTOCOL)"
   ]
  },
  {
   "cell_type": "code",
   "execution_count": 12,
   "id": "fb870e5a",
   "metadata": {},
   "outputs": [],
   "source": [
    "pickle.dump(ch_tg, open(F'kuopio_trunc.pkl', 'wb'), \n",
    "            pickle.HIGHEST_PROTOCOL)"
   ]
  },
  {
   "cell_type": "code",
   "execution_count": 7,
   "id": "892bbe5a",
   "metadata": {},
   "outputs": [],
   "source": [
    "ch_tg = pickle.load(open(F'kuopio_trunc.pkl', 'rb'))\n",
    "ch_tg_optimal = pickle.load(open(F'kuopio_original.pkl', 'rb'))"
   ]
  },
  {
   "cell_type": "markdown",
   "id": "25731a5d",
   "metadata": {},
   "source": [
    "# Pathfinding"
   ]
  },
  {
   "cell_type": "code",
   "execution_count": 8,
   "id": "2686e568",
   "metadata": {},
   "outputs": [
    {
     "data": {
      "text/plain": [
       "(1481511600, 1481585460)"
      ]
     },
     "execution_count": 8,
     "metadata": {},
     "output_type": "execute_result"
    }
   ],
   "source": [
    "transport_connections['dep_time_ut'].min(), transport_connections['dep_time_ut'].max()"
   ]
  },
  {
   "cell_type": "code",
   "execution_count": 10,
   "id": "c44b3a2f",
   "metadata": {},
   "outputs": [
    {
     "name": "stdout",
     "output_type": "stream",
     "text": [
      "Path duration 0:55:37\n",
      "Calculation duration 0:00:34\n",
      "\n",
      "Path duration 0:05:00\n",
      "Calculation duration 0:00:06\n",
      "\n",
      "Path duration 0:27:20\n",
      "Calculation duration 0:01:10\n",
      "\n",
      "Path duration 0:00:00\n",
      "Calculation duration 0:00:00\n",
      "\n",
      "Path duration 0:07:00\n",
      "Calculation duration 0:00:08\n",
      "\n",
      "Path duration 0:05:55\n",
      "Calculation duration 0:00:04\n",
      "\n",
      "Path duration 0:04:20\n",
      "Calculation duration 0:00:03\n",
      "\n",
      "Path duration 0:22:26\n",
      "Calculation duration 0:00:34\n",
      "\n"
     ]
    }
   ],
   "source": [
    "test_pairs = pd.DataFrame([\n",
    "    {'start_time': 1481514083, 'start_node': 330, 'end_node': 54},\n",
    "    {'start_time': 1481519880, 'start_node': 345, 'end_node': 141},\n",
    "    {'start_time': 1481518900, 'start_node': 1, 'end_node': 132},\n",
    "    {'start_time': 1481514540, 'start_node': 116, 'end_node': 118},\n",
    "    {'start_time': 1481519640, 'start_node': 1, 'end_node': 50}, \n",
    "    {'start_time': 1481515900, 'start_node': 1, 'end_node': 51},\n",
    "    {'start_time': 1481515900, 'start_node': 1, 'end_node': 50}, \n",
    "    {'start_time': 1481571574, 'start_node': 146, 'end_node': 7}\n",
    "])\n",
    "for index, row in test_pairs.iterrows():\n",
    "    pathfinding = FCH(graph=ch_tg_optimal,\n",
    "                      start_time=row['start_time'],\n",
    "                      start_node=row['start_node'], \n",
    "                      end_node=row['end_node'])\n",
    "    path = pathfinding.shortest_path(60)\n",
    "    print('Path duration', datetime.timedelta(seconds=int(path['arrival'] - row['start_time'])))\n",
    "    print('Calculation duration', datetime.timedelta(seconds=int(path['duration'])))\n",
    "    print()"
   ]
  },
  {
   "cell_type": "code",
   "execution_count": 9,
   "id": "4beb6b53",
   "metadata": {},
   "outputs": [
    {
     "name": "stdout",
     "output_type": "stream",
     "text": [
      "Path duration 0:55:37\n",
      "Calculation duration 0:00:42\n",
      "\n",
      "Path duration 0:05:00\n",
      "Calculation duration 0:00:05\n",
      "\n",
      "Path duration 0:27:20\n",
      "Calculation duration 0:00:44\n",
      "\n",
      "Path duration 0:00:00\n",
      "Calculation duration 0:00:00\n",
      "\n",
      "Path duration 0:07:00\n",
      "Calculation duration 0:00:08\n",
      "\n",
      "Path duration 0:05:55\n",
      "Calculation duration 0:00:04\n",
      "\n",
      "Path duration 0:04:20\n",
      "Calculation duration 0:00:03\n",
      "\n",
      "Path duration 0:22:26\n",
      "Calculation duration 0:00:20\n",
      "\n"
     ]
    }
   ],
   "source": [
    "test_pairs = pd.DataFrame([\n",
    "    {'start_time': 1481514083, 'start_node': 330, 'end_node': 54},\n",
    "    {'start_time': 1481519880, 'start_node': 345, 'end_node': 141},\n",
    "    {'start_time': 1481518900, 'start_node': 1, 'end_node': 132},\n",
    "    {'start_time': 1481514540, 'start_node': 116, 'end_node': 118},\n",
    "    {'start_time': 1481519640, 'start_node': 1, 'end_node': 50}, \n",
    "    {'start_time': 1481515900, 'start_node': 1, 'end_node': 51},\n",
    "    {'start_time': 1481515900, 'start_node': 1, 'end_node': 50}, \n",
    "    {'start_time': 1481571574, 'start_node': 146, 'end_node': 7}\n",
    "])\n",
    "for index, row in test_pairs.iterrows():\n",
    "    pathfinding = FCH(graph=ch_tg,\n",
    "                      start_time=row['start_time'],\n",
    "                      start_node=row['start_node'], \n",
    "                      end_node=row['end_node'])\n",
    "    path = pathfinding.shortest_path(60, geometrical_containers=False)\n",
    "    print('Path duration', datetime.timedelta(seconds=int(path['arrival'] - row['start_time'])))\n",
    "    print('Calculation duration', datetime.timedelta(seconds=int(path['duration'])))\n",
    "    print()"
   ]
  },
  {
   "cell_type": "markdown",
   "id": "a81304ed",
   "metadata": {},
   "source": [
    "# Compare 2 solutions"
   ]
  },
  {
   "cell_type": "code",
   "execution_count": 41,
   "id": "745d3947",
   "metadata": {
    "scrolled": true
   },
   "outputs": [
    {
     "name": "stderr",
     "output_type": "stream",
     "text": [
      "/var/folders/y3/4nz44bj52pz9p2mrm1s72mxc0000gn/T/ipykernel_96783/912335882.py:4: DeprecationWarning: Sampling from a set deprecated\n",
      "since Python 3.9 and will be removed in a subsequent version.\n",
      "  'start_node' : [random.sample(ch_tg.nodes, 1)[0] for i in range(N)],\n",
      "/var/folders/y3/4nz44bj52pz9p2mrm1s72mxc0000gn/T/ipykernel_96783/912335882.py:5: DeprecationWarning: Sampling from a set deprecated\n",
      "since Python 3.9 and will be removed in a subsequent version.\n",
      "  'end_node' : [random.sample(ch_tg.nodes, 1)[0] for i in range(N)]\n",
      "WARNING:root:Target 818 not reachable from node 759\n",
      "WARNING:root:Target 818 not reachable from node 759\n",
      "WARNING:root:Target 140 not reachable from node 759\n",
      "WARNING:root:Target 140 not reachable from node 759\n",
      "WARNING:root:Target 382 not reachable from node 1198\n",
      "WARNING:root:Target 382 not reachable from node 1198\n",
      "WARNING:root:Target 129 not reachable from node 770\n",
      "WARNING:root:Target 129 not reachable from node 770\n",
      "WARNING:root:Target 309 not reachable from node 766\n",
      "WARNING:root:Target 309 not reachable from node 766\n",
      "WARNING:root:Target 1056 not reachable from node 388\n",
      "WARNING:root:Target 1056 not reachable from node 388\n",
      "WARNING:root:Target 353 not reachable from node 768\n",
      "WARNING:root:Target 353 not reachable from node 768\n",
      "WARNING:root:Target 773 not reachable from node 194\n",
      "WARNING:root:Target 773 not reachable from node 194\n",
      "WARNING:root:Target 79 not reachable from node 765\n",
      "WARNING:root:Target 79 not reachable from node 765\n",
      "WARNING:root:Target 226 not reachable from node 769\n",
      "WARNING:root:Target 226 not reachable from node 769\n",
      "WARNING:root:Target 350 not reachable from node 767\n",
      "WARNING:root:Target 350 not reachable from node 767\n",
      "WARNING:root:Target 1198 not reachable from node 130\n",
      "WARNING:root:Target 1198 not reachable from node 130\n",
      "WARNING:root:Target 774 not reachable from node 55\n",
      "WARNING:root:Target 774 not reachable from node 55\n",
      "WARNING:root:Target 770 not reachable from node 1354\n",
      "WARNING:root:Target 770 not reachable from node 1354\n",
      "WARNING:root:Target 165 not reachable from node 760\n",
      "WARNING:root:Target 165 not reachable from node 760\n",
      "WARNING:root:Target 766 not reachable from node 180\n",
      "WARNING:root:Target 766 not reachable from node 180\n",
      "WARNING:root:Target 762 not reachable from node 424\n",
      "WARNING:root:Target 762 not reachable from node 424\n",
      "WARNING:root:Target 845 not reachable from node 770\n",
      "WARNING:root:Target 845 not reachable from node 770\n",
      "WARNING:root:Target 464 not reachable from node 467\n",
      "WARNING:root:Target 464 not reachable from node 467\n",
      "WARNING:root:Target 290 not reachable from node 758\n",
      "WARNING:root:Target 290 not reachable from node 758\n",
      "WARNING:root:Target 107 not reachable from node 1323\n",
      "WARNING:root:Target 107 not reachable from node 1323\n",
      "WARNING:root:Target 759 not reachable from node 815\n",
      "WARNING:root:Target 759 not reachable from node 815\n",
      "WARNING:root:Target 762 not reachable from node 1332\n",
      "WARNING:root:Target 762 not reachable from node 1332\n",
      "WARNING:root:Target 233 not reachable from node 774\n",
      "WARNING:root:Target 233 not reachable from node 774\n",
      "WARNING:root:Target 1224 not reachable from node 117\n",
      "WARNING:root:Target 1224 not reachable from node 117\n",
      "WARNING:root:Target 149 not reachable from node 478\n",
      "WARNING:root:Target 149 not reachable from node 478\n",
      "WARNING:root:Target 817 not reachable from node 814\n",
      "WARNING:root:Target 817 not reachable from node 814\n",
      "WARNING:root:Target 379 not reachable from node 455\n",
      "WARNING:root:Target 379 not reachable from node 455\n",
      "WARNING:root:Target 441 not reachable from node 767\n",
      "WARNING:root:Target 441 not reachable from node 767\n",
      "WARNING:root:Target 758 not reachable from node 340\n",
      "WARNING:root:Target 758 not reachable from node 340\n",
      "WARNING:root:Target 435 not reachable from node 762\n",
      "WARNING:root:Target 435 not reachable from node 762\n",
      "WARNING:root:Target 152 not reachable from node 767\n",
      "WARNING:root:Target 152 not reachable from node 767\n",
      "WARNING:root:Target 151 not reachable from node 773\n",
      "WARNING:root:Target 151 not reachable from node 773\n",
      "WARNING:root:Target 773 not reachable from node 183\n",
      "WARNING:root:Target 773 not reachable from node 183\n",
      "WARNING:root:Target 357 not reachable from node 767\n",
      "WARNING:root:Target 357 not reachable from node 767\n",
      "WARNING:root:Target 768 not reachable from node 342\n",
      "WARNING:root:Target 768 not reachable from node 342\n",
      "WARNING:root:Target 175 not reachable from node 816\n",
      "WARNING:root:Target 175 not reachable from node 816\n",
      "WARNING:root:Target 768 not reachable from node 352\n",
      "WARNING:root:Target 768 not reachable from node 352\n",
      "WARNING:root:Target 1054 not reachable from node 182\n",
      "WARNING:root:Target 1054 not reachable from node 182\n",
      "WARNING:root:Target 1242 not reachable from node 348\n",
      "WARNING:root:Target 1242 not reachable from node 348\n",
      "WARNING:root:Target 432 not reachable from node 1053\n",
      "WARNING:root:Target 432 not reachable from node 1053\n",
      "WARNING:root:Target 1336 not reachable from node 771\n",
      "WARNING:root:Target 1336 not reachable from node 771\n",
      "WARNING:root:Target 774 not reachable from node 101\n",
      "WARNING:root:Target 774 not reachable from node 101\n",
      "WARNING:root:Target 764 not reachable from node 375\n",
      "WARNING:root:Target 764 not reachable from node 375\n",
      "WARNING:root:Target 1052 not reachable from node 243\n",
      "WARNING:root:Target 1052 not reachable from node 243\n",
      "WARNING:root:Target 332 not reachable from node 760\n",
      "WARNING:root:Target 332 not reachable from node 760\n",
      "WARNING:root:Target 318 not reachable from node 765\n",
      "WARNING:root:Target 318 not reachable from node 765\n",
      "WARNING:root:Target 45 not reachable from node 481\n",
      "WARNING:root:Target 45 not reachable from node 481\n",
      "WARNING:root:Target 228 not reachable from node 763\n",
      "WARNING:root:Target 228 not reachable from node 763\n",
      "WARNING:root:Target 771 not reachable from node 268\n",
      "WARNING:root:Target 771 not reachable from node 268\n",
      "WARNING:root:Target 457 not reachable from node 426\n",
      "WARNING:root:Target 457 not reachable from node 426\n",
      "WARNING:root:Target 769 not reachable from node 70\n",
      "WARNING:root:Target 769 not reachable from node 70\n",
      "WARNING:root:Target 480 not reachable from node 300\n",
      "WARNING:root:Target 480 not reachable from node 300\n",
      "WARNING:root:Target 1056 not reachable from node 16\n",
      "WARNING:root:Target 1056 not reachable from node 16\n",
      "WARNING:root:Target 769 not reachable from node 226\n",
      "WARNING:root:Target 769 not reachable from node 226\n",
      "WARNING:root:Target 768 not reachable from node 249\n",
      "WARNING:root:Target 768 not reachable from node 249\n",
      "WARNING:root:Target 766 not reachable from node 279\n",
      "WARNING:root:Target 766 not reachable from node 279\n",
      "WARNING:root:Target 772 not reachable from node 97\n",
      "WARNING:root:Target 772 not reachable from node 97\n",
      "WARNING:root:Target 119 not reachable from node 764\n",
      "WARNING:root:Target 119 not reachable from node 764\n",
      "WARNING:root:Target 759 not reachable from node 92\n",
      "WARNING:root:Target 759 not reachable from node 92\n",
      "WARNING:root:Target 772 not reachable from node 166\n",
      "WARNING:root:Target 772 not reachable from node 166\n",
      "WARNING:root:Target 758 not reachable from node 1055\n",
      "WARNING:root:Target 758 not reachable from node 1055\n",
      "WARNING:root:Target 1269 not reachable from node 760\n",
      "WARNING:root:Target 1269 not reachable from node 760\n",
      "WARNING:root:Target 763 not reachable from node 445\n",
      "WARNING:root:Target 763 not reachable from node 445\n",
      "WARNING:root:Target 757 not reachable from node 192\n",
      "WARNING:root:Target 757 not reachable from node 192\n",
      "WARNING:root:Target 322 not reachable from node 1323\n",
      "WARNING:root:Target 322 not reachable from node 1323\n",
      "WARNING:root:Target 180 not reachable from node 774\n",
      "WARNING:root:Target 180 not reachable from node 774\n",
      "WARNING:root:Target 852 not reachable from node 766\n",
      "WARNING:root:Target 852 not reachable from node 766\n",
      "WARNING:root:Target 760 not reachable from node 189\n",
      "WARNING:root:Target 760 not reachable from node 189\n",
      "WARNING:root:Target 761 not reachable from node 138\n",
      "WARNING:root:Target 761 not reachable from node 138\n",
      "WARNING:root:Target 320 not reachable from node 1051\n",
      "WARNING:root:Target 320 not reachable from node 1051\n",
      "WARNING:root:Target 411 not reachable from node 768\n",
      "WARNING:root:Target 411 not reachable from node 768\n",
      "WARNING:root:Target 1323 not reachable from node 451\n",
      "WARNING:root:Target 1323 not reachable from node 451\n",
      "WARNING:root:Target 383 not reachable from node 1224\n"
     ]
    },
    {
     "name": "stderr",
     "output_type": "stream",
     "text": [
      "WARNING:root:Target 383 not reachable from node 1224\n",
      "WARNING:root:Target 122 not reachable from node 775\n",
      "WARNING:root:Target 122 not reachable from node 775\n",
      "WARNING:root:Target 758 not reachable from node 226\n",
      "WARNING:root:Target 758 not reachable from node 226\n",
      "WARNING:root:Target 1323 not reachable from node 221\n",
      "WARNING:root:Target 1323 not reachable from node 221\n",
      "WARNING:root:Target 761 not reachable from node 98\n",
      "WARNING:root:Target 761 not reachable from node 98\n",
      "WARNING:root:Target 181 not reachable from node 773\n",
      "WARNING:root:Target 181 not reachable from node 773\n",
      "WARNING:root:Target 51 not reachable from node 774\n",
      "WARNING:root:Target 51 not reachable from node 774\n",
      "WARNING:root:Target 287 not reachable from node 760\n",
      "WARNING:root:Target 287 not reachable from node 760\n",
      "WARNING:root:Target 137 not reachable from node 758\n",
      "WARNING:root:Target 137 not reachable from node 758\n",
      "WARNING:root:Target 1330 not reachable from node 765\n",
      "WARNING:root:Target 1330 not reachable from node 765\n",
      "WARNING:root:Target 406 not reachable from node 817\n",
      "WARNING:root:Target 406 not reachable from node 817\n",
      "WARNING:root:Target 1051 not reachable from node 372\n",
      "WARNING:root:Target 1051 not reachable from node 372\n",
      "WARNING:root:Target 1055 not reachable from node 298\n",
      "WARNING:root:Target 1055 not reachable from node 298\n",
      "WARNING:root:Target 773 not reachable from node 4\n",
      "WARNING:root:Target 773 not reachable from node 4\n",
      "WARNING:root:Target 47 not reachable from node 775\n",
      "WARNING:root:Target 47 not reachable from node 775\n",
      "WARNING:root:Target 1055 not reachable from node 71\n",
      "WARNING:root:Target 1055 not reachable from node 71\n",
      "WARNING:root:Target 405 not reachable from node 763\n",
      "WARNING:root:Target 405 not reachable from node 763\n",
      "WARNING:root:Target 766 not reachable from node 92\n",
      "WARNING:root:Target 766 not reachable from node 92\n",
      "WARNING:root:Target 818 not reachable from node 381\n",
      "WARNING:root:Target 818 not reachable from node 381\n",
      "WARNING:root:Target 759 not reachable from node 153\n",
      "WARNING:root:Target 759 not reachable from node 153\n",
      "WARNING:root:Target 458 not reachable from node 198\n",
      "WARNING:root:Target 458 not reachable from node 198\n",
      "WARNING:root:Target 758 not reachable from node 109\n",
      "WARNING:root:Target 758 not reachable from node 109\n"
     ]
    }
   ],
   "source": [
    "N = 1_000\n",
    "test_data = pd.DataFrame({'start_time': [random.randint(transport_connections['dep_time_ut'].min(), \n",
    "                                           transport_connections['dep_time_ut'].max()) for i in range(N)],\n",
    "             'start_node' : [random.sample(ch_tg.nodes, 1)[0] for i in range(N)], \n",
    "              'end_node' : [random.sample(ch_tg.nodes, 1)[0] for i in range(N)]\n",
    "             })\n",
    "new_duration = []\n",
    "optimal_duration = []\n",
    "for index, row in test_data.iterrows():\n",
    "    \n",
    "    # new search\n",
    "    pathfinding = FCH(graph=ch_tg,\n",
    "                      start_time=row['start_time'],\n",
    "                      start_node=row['start_node'], \n",
    "                      end_node=row['end_node'])\n",
    "    path = pathfinding.shortest_path(60, search_with_switching_graphs=True, geometrical_containers=False)\n",
    "    if path['path']:\n",
    "        new_duration.append(path['duration'])\n",
    "    new_arrival = path['arrival']\n",
    "    \n",
    "    # optimal_duration\n",
    "    pathfinding = FCH(graph=ch_tg_optimal,\n",
    "                      start_time=row['start_time'],\n",
    "                      start_node=row['start_node'], \n",
    "                      end_node=row['end_node'])\n",
    "    path = pathfinding.shortest_path(60, search_with_switching_graphs=False, geometrical_containers=True)\n",
    "    if path['path']:\n",
    "        optimal_duration.append(path['duration'])\n",
    "    optimal_arrival = path['arrival']\n",
    "    \n",
    "    # validate\n",
    "    assert new_arrival == optimal_arrival"
   ]
  },
  {
   "cell_type": "code",
   "execution_count": 42,
   "id": "ef3a6644",
   "metadata": {},
   "outputs": [
    {
     "data": {
      "text/plain": [
       "(12.350276243093923, 12.0, 6.819533403048331)"
      ]
     },
     "execution_count": 42,
     "metadata": {},
     "output_type": "execute_result"
    }
   ],
   "source": [
    "np.mean(optimal_duration), np.median(optimal_duration), np.std(optimal_duration)"
   ]
  },
  {
   "cell_type": "code",
   "execution_count": 43,
   "id": "2dd09971",
   "metadata": {},
   "outputs": [
    {
     "data": {
      "text/plain": [
       "(30.609944751381214, 33.0, 15.269776977651762)"
      ]
     },
     "execution_count": 43,
     "metadata": {},
     "output_type": "execute_result"
    }
   ],
   "source": [
    "np.mean(new_duration), np.median(new_duration), np.std(new_duration)"
   ]
  },
  {
   "cell_type": "markdown",
   "id": "1373dcfc",
   "metadata": {},
   "source": [
    "### Withoout geometrical containers"
   ]
  },
  {
   "cell_type": "code",
   "execution_count": 44,
   "id": "9814b1ab",
   "metadata": {
    "scrolled": true
   },
   "outputs": [
    {
     "name": "stderr",
     "output_type": "stream",
     "text": [
      "/var/folders/y3/4nz44bj52pz9p2mrm1s72mxc0000gn/T/ipykernel_96783/2655839994.py:4: DeprecationWarning: Sampling from a set deprecated\n",
      "since Python 3.9 and will be removed in a subsequent version.\n",
      "  'start_node' : [random.sample(ch_tg.nodes, 1)[0] for i in range(N)],\n",
      "/var/folders/y3/4nz44bj52pz9p2mrm1s72mxc0000gn/T/ipykernel_96783/2655839994.py:5: DeprecationWarning: Sampling from a set deprecated\n",
      "since Python 3.9 and will be removed in a subsequent version.\n",
      "  'end_node' : [random.sample(ch_tg.nodes, 1)[0] for i in range(N)]\n",
      "WARNING:root:Target 408 not reachable from node 458\n",
      "WARNING:root:Target 408 not reachable from node 458\n",
      "WARNING:root:Target 2 not reachable from node 469\n",
      "WARNING:root:Target 2 not reachable from node 469\n",
      "WARNING:root:Target 767 not reachable from node 187\n",
      "WARNING:root:Target 767 not reachable from node 187\n",
      "WARNING:root:Target 453 not reachable from node 1051\n",
      "WARNING:root:Target 453 not reachable from node 1051\n",
      "WARNING:root:Target 762 not reachable from node 341\n",
      "WARNING:root:Target 762 not reachable from node 341\n",
      "WARNING:root:Target 5 not reachable from node 760\n",
      "WARNING:root:Target 5 not reachable from node 760\n",
      "WARNING:root:Target 772 not reachable from node 32\n",
      "WARNING:root:Target 772 not reachable from node 32\n",
      "WARNING:root:Target 762 not reachable from node 400\n",
      "WARNING:root:Target 762 not reachable from node 400\n",
      "WARNING:root:Target 756 not reachable from node 849\n",
      "WARNING:root:Target 756 not reachable from node 849\n",
      "WARNING:root:Target 1143 not reachable from node 766\n",
      "WARNING:root:Target 1143 not reachable from node 766\n",
      "WARNING:root:Target 428 not reachable from node 757\n",
      "WARNING:root:Target 428 not reachable from node 757\n",
      "WARNING:root:Target 436 not reachable from node 763\n",
      "WARNING:root:Target 436 not reachable from node 763\n",
      "WARNING:root:Target 172 not reachable from node 770\n",
      "WARNING:root:Target 172 not reachable from node 770\n",
      "WARNING:root:Target 286 not reachable from node 1242\n",
      "WARNING:root:Target 286 not reachable from node 1242\n",
      "WARNING:root:Target 295 not reachable from node 767\n",
      "WARNING:root:Target 295 not reachable from node 767\n",
      "WARNING:root:Target 128 not reachable from node 1323\n",
      "WARNING:root:Target 128 not reachable from node 1323\n",
      "WARNING:root:Target 167 not reachable from node 774\n",
      "WARNING:root:Target 167 not reachable from node 774\n",
      "WARNING:root:Target 57 not reachable from node 756\n",
      "WARNING:root:Target 57 not reachable from node 756\n",
      "WARNING:root:Target 772 not reachable from node 424\n",
      "WARNING:root:Target 772 not reachable from node 424\n",
      "WARNING:root:Target 774 not reachable from node 294\n",
      "WARNING:root:Target 774 not reachable from node 294\n",
      "WARNING:root:Target 39 not reachable from node 1323\n",
      "WARNING:root:Target 39 not reachable from node 1323\n",
      "WARNING:root:Target 367 not reachable from node 479\n",
      "WARNING:root:Target 367 not reachable from node 479\n",
      "WARNING:root:Target 1267 not reachable from node 757\n",
      "WARNING:root:Target 1267 not reachable from node 757\n",
      "WARNING:root:Target 756 not reachable from node 252\n",
      "WARNING:root:Target 756 not reachable from node 252\n",
      "WARNING:root:Target 185 not reachable from node 760\n",
      "WARNING:root:Target 185 not reachable from node 760\n",
      "WARNING:root:Target 1132 not reachable from node 760\n",
      "WARNING:root:Target 1132 not reachable from node 760\n",
      "WARNING:root:Target 1053 not reachable from node 59\n",
      "WARNING:root:Target 1053 not reachable from node 59\n",
      "WARNING:root:Target 759 not reachable from node 216\n",
      "WARNING:root:Target 759 not reachable from node 216\n",
      "WARNING:root:Target 1224 not reachable from node 413\n",
      "WARNING:root:Target 1224 not reachable from node 413\n",
      "WARNING:root:Target 14 not reachable from node 816\n",
      "WARNING:root:Target 14 not reachable from node 816\n",
      "WARNING:root:Target 2 not reachable from node 759\n",
      "WARNING:root:Target 2 not reachable from node 759\n",
      "WARNING:root:Target 226 not reachable from node 1053\n",
      "WARNING:root:Target 226 not reachable from node 1053\n",
      "WARNING:root:Target 389 not reachable from node 1051\n",
      "WARNING:root:Target 389 not reachable from node 1051\n",
      "WARNING:root:Target 363 not reachable from node 757\n",
      "WARNING:root:Target 363 not reachable from node 757\n",
      "WARNING:root:Target 760 not reachable from node 1242\n",
      "WARNING:root:Target 760 not reachable from node 1242\n",
      "WARNING:root:Target 763 not reachable from node 95\n",
      "WARNING:root:Target 763 not reachable from node 95\n",
      "WARNING:root:Target 771 not reachable from node 308\n",
      "WARNING:root:Target 771 not reachable from node 308\n",
      "WARNING:root:Target 764 not reachable from node 281\n",
      "WARNING:root:Target 764 not reachable from node 281\n",
      "WARNING:root:Target 315 not reachable from node 1223\n",
      "WARNING:root:Target 315 not reachable from node 1223\n",
      "WARNING:root:Target 1223 not reachable from node 53\n",
      "WARNING:root:Target 1223 not reachable from node 53\n",
      "WARNING:root:Target 273 not reachable from node 469\n",
      "WARNING:root:Target 273 not reachable from node 469\n",
      "WARNING:root:Target 218 not reachable from node 1198\n",
      "WARNING:root:Target 218 not reachable from node 1198\n",
      "WARNING:root:Target 761 not reachable from node 147\n",
      "WARNING:root:Target 761 not reachable from node 147\n",
      "WARNING:root:Target 246 not reachable from node 469\n",
      "WARNING:root:Target 246 not reachable from node 469\n",
      "WARNING:root:Target 773 not reachable from node 1187\n",
      "WARNING:root:Target 773 not reachable from node 1187\n",
      "WARNING:root:Target 468 not reachable from node 179\n",
      "WARNING:root:Target 468 not reachable from node 179\n",
      "WARNING:root:Target 771 not reachable from node 213\n",
      "WARNING:root:Target 771 not reachable from node 213\n",
      "WARNING:root:Target 775 not reachable from node 10\n",
      "WARNING:root:Target 775 not reachable from node 10\n",
      "WARNING:root:Target 774 not reachable from node 468\n",
      "WARNING:root:Target 774 not reachable from node 468\n",
      "WARNING:root:Target 10 not reachable from node 757\n",
      "WARNING:root:Target 10 not reachable from node 757\n",
      "WARNING:root:Target 251 not reachable from node 1055\n",
      "WARNING:root:Target 251 not reachable from node 1055\n",
      "WARNING:root:Target 761 not reachable from node 65\n",
      "WARNING:root:Target 761 not reachable from node 65\n",
      "WARNING:root:Target 280 not reachable from node 764\n",
      "WARNING:root:Target 280 not reachable from node 764\n",
      "WARNING:root:Target 769 not reachable from node 1330\n",
      "WARNING:root:Target 769 not reachable from node 1330\n",
      "WARNING:root:Target 756 not reachable from node 414\n",
      "WARNING:root:Target 756 not reachable from node 414\n",
      "WARNING:root:Target 758 not reachable from node 215\n",
      "WARNING:root:Target 758 not reachable from node 215\n",
      "WARNING:root:Target 756 not reachable from node 232\n",
      "WARNING:root:Target 756 not reachable from node 232\n",
      "WARNING:root:Target 767 not reachable from node 71\n",
      "WARNING:root:Target 767 not reachable from node 71\n",
      "WARNING:root:Target 172 not reachable from node 770\n",
      "WARNING:root:Target 172 not reachable from node 770\n",
      "WARNING:root:Target 455 not reachable from node 1198\n",
      "WARNING:root:Target 455 not reachable from node 1198\n",
      "WARNING:root:Target 760 not reachable from node 1329\n",
      "WARNING:root:Target 760 not reachable from node 1329\n",
      "WARNING:root:Target 1051 not reachable from node 103\n",
      "WARNING:root:Target 1051 not reachable from node 103\n",
      "WARNING:root:Target 766 not reachable from node 25\n",
      "WARNING:root:Target 766 not reachable from node 25\n",
      "WARNING:root:Target 64 not reachable from node 765\n",
      "WARNING:root:Target 64 not reachable from node 765\n",
      "WARNING:root:Target 139 not reachable from node 761\n",
      "WARNING:root:Target 139 not reachable from node 761\n",
      "WARNING:root:Target 1133 not reachable from node 101\n",
      "WARNING:root:Target 1133 not reachable from node 101\n",
      "WARNING:root:Target 411 not reachable from node 762\n",
      "WARNING:root:Target 411 not reachable from node 762\n",
      "WARNING:root:Target 756 not reachable from node 1337\n",
      "WARNING:root:Target 756 not reachable from node 1337\n",
      "WARNING:root:Target 268 not reachable from node 1055\n",
      "WARNING:root:Target 268 not reachable from node 1055\n",
      "WARNING:root:Target 760 not reachable from node 206\n",
      "WARNING:root:Target 760 not reachable from node 206\n",
      "WARNING:root:Target 124 not reachable from node 775\n",
      "WARNING:root:Target 124 not reachable from node 775\n",
      "WARNING:root:Target 309 not reachable from node 773\n",
      "WARNING:root:Target 309 not reachable from node 773\n",
      "WARNING:root:Target 164 not reachable from node 1323\n",
      "WARNING:root:Target 164 not reachable from node 1323\n",
      "WARNING:root:Target 760 not reachable from node 128\n",
      "WARNING:root:Target 760 not reachable from node 128\n"
     ]
    },
    {
     "name": "stderr",
     "output_type": "stream",
     "text": [
      "WARNING:root:Target 178 not reachable from node 773\n",
      "WARNING:root:Target 178 not reachable from node 773\n",
      "WARNING:root:Target 223 not reachable from node 772\n",
      "WARNING:root:Target 223 not reachable from node 772\n",
      "WARNING:root:Target 410 not reachable from node 775\n",
      "WARNING:root:Target 410 not reachable from node 775\n",
      "WARNING:root:Target 769 not reachable from node 139\n",
      "WARNING:root:Target 769 not reachable from node 139\n",
      "WARNING:root:Target 25 not reachable from node 467\n",
      "WARNING:root:Target 25 not reachable from node 467\n",
      "WARNING:root:Target 467 not reachable from node 765\n",
      "WARNING:root:Target 467 not reachable from node 765\n",
      "WARNING:root:Target 1223 not reachable from node 95\n",
      "WARNING:root:Target 1223 not reachable from node 95\n",
      "WARNING:root:Target 112 not reachable from node 762\n",
      "WARNING:root:Target 112 not reachable from node 762\n",
      "WARNING:root:Target 1354 not reachable from node 455\n",
      "WARNING:root:Target 1354 not reachable from node 455\n",
      "WARNING:root:Target 1336 not reachable from node 1056\n",
      "WARNING:root:Target 1336 not reachable from node 1056\n",
      "WARNING:root:Target 370 not reachable from node 772\n",
      "WARNING:root:Target 370 not reachable from node 772\n",
      "WARNING:root:Target 1348 not reachable from node 775\n",
      "WARNING:root:Target 1348 not reachable from node 775\n",
      "WARNING:root:Target 34 not reachable from node 774\n",
      "WARNING:root:Target 34 not reachable from node 774\n",
      "WARNING:root:Target 437 not reachable from node 762\n",
      "WARNING:root:Target 437 not reachable from node 762\n",
      "WARNING:root:Target 314 not reachable from node 1054\n",
      "WARNING:root:Target 314 not reachable from node 1054\n",
      "WARNING:root:Target 761 not reachable from node 283\n",
      "WARNING:root:Target 761 not reachable from node 283\n",
      "WARNING:root:Target 758 not reachable from node 68\n",
      "WARNING:root:Target 758 not reachable from node 68\n",
      "WARNING:root:Target 340 not reachable from node 771\n",
      "WARNING:root:Target 340 not reachable from node 771\n",
      "WARNING:root:Target 767 not reachable from node 816\n",
      "WARNING:root:Target 767 not reachable from node 816\n",
      "WARNING:root:Target 460 not reachable from node 765\n",
      "WARNING:root:Target 460 not reachable from node 765\n",
      "WARNING:root:Target 766 not reachable from node 384\n",
      "WARNING:root:Target 766 not reachable from node 384\n",
      "WARNING:root:Target 767 not reachable from node 481\n",
      "WARNING:root:Target 767 not reachable from node 481\n",
      "WARNING:root:Target 1198 not reachable from node 756\n",
      "WARNING:root:Target 1198 not reachable from node 756\n",
      "WARNING:root:Target 768 not reachable from node 136\n",
      "WARNING:root:Target 768 not reachable from node 136\n",
      "WARNING:root:Target 1332 not reachable from node 775\n",
      "WARNING:root:Target 1332 not reachable from node 775\n",
      "WARNING:root:Target 1323 not reachable from node 1217\n",
      "WARNING:root:Target 1323 not reachable from node 1217\n",
      "WARNING:root:Target 141 not reachable from node 771\n",
      "WARNING:root:Target 141 not reachable from node 771\n",
      "WARNING:root:Target 479 not reachable from node 83\n",
      "WARNING:root:Target 479 not reachable from node 83\n",
      "WARNING:root:Target 151 not reachable from node 775\n",
      "WARNING:root:Target 151 not reachable from node 775\n",
      "WARNING:root:Target 83 not reachable from node 775\n",
      "WARNING:root:Target 83 not reachable from node 775\n",
      "WARNING:root:Target 13 not reachable from node 761\n",
      "WARNING:root:Target 13 not reachable from node 761\n",
      "WARNING:root:Target 376 not reachable from node 775\n",
      "WARNING:root:Target 376 not reachable from node 775\n",
      "WARNING:root:Target 433 not reachable from node 761\n",
      "WARNING:root:Target 433 not reachable from node 761\n",
      "WARNING:root:Target 817 not reachable from node 3\n",
      "WARNING:root:Target 817 not reachable from node 3\n",
      "WARNING:root:Target 216 not reachable from node 769\n",
      "WARNING:root:Target 216 not reachable from node 769\n"
     ]
    }
   ],
   "source": [
    "N = 1_000\n",
    "test_data = pd.DataFrame({'start_time': [random.randint(transport_connections['dep_time_ut'].min(), \n",
    "                                           transport_connections['dep_time_ut'].max()) for i in range(N)],\n",
    "             'start_node' : [random.sample(ch_tg.nodes, 1)[0] for i in range(N)], \n",
    "              'end_node' : [random.sample(ch_tg.nodes, 1)[0] for i in range(N)]\n",
    "             })\n",
    "new_duration = []\n",
    "optimal_duration = []\n",
    "for index, row in test_data.iterrows():\n",
    "    \n",
    "    # new search\n",
    "    pathfinding = FCH(graph=ch_tg,\n",
    "                      start_time=row['start_time'],\n",
    "                      start_node=row['start_node'], \n",
    "                      end_node=row['end_node'])\n",
    "    path = pathfinding.shortest_path(60, search_with_switching_graphs=True, geometrical_containers=False)\n",
    "    if path['path']:\n",
    "        new_duration.append(path['duration'])\n",
    "    new_arrival = path['arrival']\n",
    "    \n",
    "    # optimal_duration\n",
    "    pathfinding = FCH(graph=ch_tg_optimal,\n",
    "                      start_time=row['start_time'],\n",
    "                      start_node=row['start_node'], \n",
    "                      end_node=row['end_node'])\n",
    "    path = pathfinding.shortest_path(60, search_with_switching_graphs=False, geometrical_containers=False)\n",
    "    if path['path']:\n",
    "        optimal_duration.append(path['duration'])\n",
    "    optimal_arrival = path['arrival']\n",
    "    \n",
    "    # validate\n",
    "    assert new_arrival == optimal_arrival"
   ]
  },
  {
   "cell_type": "code",
   "execution_count": 45,
   "id": "f4fe3752",
   "metadata": {},
   "outputs": [
    {
     "data": {
      "text/plain": [
       "(35.20987654320987, 37.0, 17.954917764400847)"
      ]
     },
     "execution_count": 45,
     "metadata": {},
     "output_type": "execute_result"
    }
   ],
   "source": [
    "np.mean(optimal_duration), np.median(optimal_duration), np.std(optimal_duration)"
   ]
  },
  {
   "cell_type": "code",
   "execution_count": 46,
   "id": "e15fc7d3",
   "metadata": {},
   "outputs": [
    {
     "data": {
      "text/plain": [
       "(33.57575757575758, 35.0, 17.665225669064796)"
      ]
     },
     "execution_count": 46,
     "metadata": {},
     "output_type": "execute_result"
    }
   ],
   "source": [
    "np.mean(new_duration), np.median(new_duration), np.std(new_duration)"
   ]
  },
  {
   "cell_type": "markdown",
   "id": "d2634fbb",
   "metadata": {},
   "source": [
    "# Visualize path"
   ]
  },
  {
   "cell_type": "code",
   "execution_count": 8,
   "id": "8f719fd1",
   "metadata": {},
   "outputs": [
    {
     "name": "stdout",
     "output_type": "stream",
     "text": [
      "CPU times: user 4.06 ms, sys: 1.18 ms, total: 5.24 ms\n",
      "Wall time: 6.07 ms\n"
     ]
    }
   ],
   "source": [
    "%%time\n",
    "pathfinding = FCH(graph=ch_tg,\n",
    "                      start_time=1481519880,\n",
    "                      start_node=345, \n",
    "                      end_node=141)\n",
    "path = pathfinding.shortest_path(60)"
   ]
  },
  {
   "cell_type": "code",
   "execution_count": 9,
   "id": "84966fc9",
   "metadata": {},
   "outputs": [],
   "source": [
    "nodes = pd.read_csv(F'data/{CITY}/network_nodes.csv', sep=';')\n",
    "nodes_dict = nodes.set_index('stop_I').to_dict('index')"
   ]
  },
  {
   "cell_type": "code",
   "execution_count": 12,
   "id": "750c292a",
   "metadata": {
    "scrolled": true
   },
   "outputs": [
    {
     "name": "stdout",
     "output_type": "stream",
     "text": [
      "345 62.894633 27.645134 Canthia E\n",
      "114 62.891878 27.637245 Snellmania E\n",
      "116 62.88952 27.632591 Teknia E\n",
      "118 62.888191 27.630635 Technopolis E\n",
      "141 62.88333 27.61765 Neulamäentie 5 L\n"
     ]
    }
   ],
   "source": [
    "for station in path['path']:\n",
    "    print(station, nodes_dict[station]['lat'], nodes_dict[station]['lon'], nodes_dict[station]['name'])"
   ]
  },
  {
   "cell_type": "code",
   "execution_count": 13,
   "id": "2851b3b1",
   "metadata": {},
   "outputs": [
    {
     "data": {
      "application/vnd.plotly.v1+json": {
       "config": {
        "plotlyServerURL": "https://plot.ly"
       },
       "data": [
        {
         "lat": [
          62.894633,
          62.891878,
          62.88952,
          62.888191,
          62.88333
         ],
         "lon": [
          27.645134,
          27.637245,
          27.632591,
          27.630635,
          27.61765
         ],
         "marker": {
          "size": 10
         },
         "mode": "markers+lines",
         "name": "41",
         "text": [
          "(345, 'Canthia E')",
          "(114, 'Snellmania E')",
          "(116, 'Teknia E')",
          "(118, 'Technopolis E')",
          "(141, 'Neulamäentie 5 L')"
         ],
         "type": "scattermapbox"
        }
       ],
       "layout": {
        "mapbox": {
         "center": {
          "lat": 62.893025,
          "lon": 27.6761
         },
         "style": "stamen-terrain",
         "zoom": 9
        },
        "showlegend": true,
        "template": {
         "data": {
          "bar": [
           {
            "error_x": {
             "color": "#2a3f5f"
            },
            "error_y": {
             "color": "#2a3f5f"
            },
            "marker": {
             "line": {
              "color": "#E5ECF6",
              "width": 0.5
             },
             "pattern": {
              "fillmode": "overlay",
              "size": 10,
              "solidity": 0.2
             }
            },
            "type": "bar"
           }
          ],
          "barpolar": [
           {
            "marker": {
             "line": {
              "color": "#E5ECF6",
              "width": 0.5
             },
             "pattern": {
              "fillmode": "overlay",
              "size": 10,
              "solidity": 0.2
             }
            },
            "type": "barpolar"
           }
          ],
          "carpet": [
           {
            "aaxis": {
             "endlinecolor": "#2a3f5f",
             "gridcolor": "white",
             "linecolor": "white",
             "minorgridcolor": "white",
             "startlinecolor": "#2a3f5f"
            },
            "baxis": {
             "endlinecolor": "#2a3f5f",
             "gridcolor": "white",
             "linecolor": "white",
             "minorgridcolor": "white",
             "startlinecolor": "#2a3f5f"
            },
            "type": "carpet"
           }
          ],
          "choropleth": [
           {
            "colorbar": {
             "outlinewidth": 0,
             "ticks": ""
            },
            "type": "choropleth"
           }
          ],
          "contour": [
           {
            "colorbar": {
             "outlinewidth": 0,
             "ticks": ""
            },
            "colorscale": [
             [
              0,
              "#0d0887"
             ],
             [
              0.1111111111111111,
              "#46039f"
             ],
             [
              0.2222222222222222,
              "#7201a8"
             ],
             [
              0.3333333333333333,
              "#9c179e"
             ],
             [
              0.4444444444444444,
              "#bd3786"
             ],
             [
              0.5555555555555556,
              "#d8576b"
             ],
             [
              0.6666666666666666,
              "#ed7953"
             ],
             [
              0.7777777777777778,
              "#fb9f3a"
             ],
             [
              0.8888888888888888,
              "#fdca26"
             ],
             [
              1,
              "#f0f921"
             ]
            ],
            "type": "contour"
           }
          ],
          "contourcarpet": [
           {
            "colorbar": {
             "outlinewidth": 0,
             "ticks": ""
            },
            "type": "contourcarpet"
           }
          ],
          "heatmap": [
           {
            "colorbar": {
             "outlinewidth": 0,
             "ticks": ""
            },
            "colorscale": [
             [
              0,
              "#0d0887"
             ],
             [
              0.1111111111111111,
              "#46039f"
             ],
             [
              0.2222222222222222,
              "#7201a8"
             ],
             [
              0.3333333333333333,
              "#9c179e"
             ],
             [
              0.4444444444444444,
              "#bd3786"
             ],
             [
              0.5555555555555556,
              "#d8576b"
             ],
             [
              0.6666666666666666,
              "#ed7953"
             ],
             [
              0.7777777777777778,
              "#fb9f3a"
             ],
             [
              0.8888888888888888,
              "#fdca26"
             ],
             [
              1,
              "#f0f921"
             ]
            ],
            "type": "heatmap"
           }
          ],
          "heatmapgl": [
           {
            "colorbar": {
             "outlinewidth": 0,
             "ticks": ""
            },
            "colorscale": [
             [
              0,
              "#0d0887"
             ],
             [
              0.1111111111111111,
              "#46039f"
             ],
             [
              0.2222222222222222,
              "#7201a8"
             ],
             [
              0.3333333333333333,
              "#9c179e"
             ],
             [
              0.4444444444444444,
              "#bd3786"
             ],
             [
              0.5555555555555556,
              "#d8576b"
             ],
             [
              0.6666666666666666,
              "#ed7953"
             ],
             [
              0.7777777777777778,
              "#fb9f3a"
             ],
             [
              0.8888888888888888,
              "#fdca26"
             ],
             [
              1,
              "#f0f921"
             ]
            ],
            "type": "heatmapgl"
           }
          ],
          "histogram": [
           {
            "marker": {
             "pattern": {
              "fillmode": "overlay",
              "size": 10,
              "solidity": 0.2
             }
            },
            "type": "histogram"
           }
          ],
          "histogram2d": [
           {
            "colorbar": {
             "outlinewidth": 0,
             "ticks": ""
            },
            "colorscale": [
             [
              0,
              "#0d0887"
             ],
             [
              0.1111111111111111,
              "#46039f"
             ],
             [
              0.2222222222222222,
              "#7201a8"
             ],
             [
              0.3333333333333333,
              "#9c179e"
             ],
             [
              0.4444444444444444,
              "#bd3786"
             ],
             [
              0.5555555555555556,
              "#d8576b"
             ],
             [
              0.6666666666666666,
              "#ed7953"
             ],
             [
              0.7777777777777778,
              "#fb9f3a"
             ],
             [
              0.8888888888888888,
              "#fdca26"
             ],
             [
              1,
              "#f0f921"
             ]
            ],
            "type": "histogram2d"
           }
          ],
          "histogram2dcontour": [
           {
            "colorbar": {
             "outlinewidth": 0,
             "ticks": ""
            },
            "colorscale": [
             [
              0,
              "#0d0887"
             ],
             [
              0.1111111111111111,
              "#46039f"
             ],
             [
              0.2222222222222222,
              "#7201a8"
             ],
             [
              0.3333333333333333,
              "#9c179e"
             ],
             [
              0.4444444444444444,
              "#bd3786"
             ],
             [
              0.5555555555555556,
              "#d8576b"
             ],
             [
              0.6666666666666666,
              "#ed7953"
             ],
             [
              0.7777777777777778,
              "#fb9f3a"
             ],
             [
              0.8888888888888888,
              "#fdca26"
             ],
             [
              1,
              "#f0f921"
             ]
            ],
            "type": "histogram2dcontour"
           }
          ],
          "mesh3d": [
           {
            "colorbar": {
             "outlinewidth": 0,
             "ticks": ""
            },
            "type": "mesh3d"
           }
          ],
          "parcoords": [
           {
            "line": {
             "colorbar": {
              "outlinewidth": 0,
              "ticks": ""
             }
            },
            "type": "parcoords"
           }
          ],
          "pie": [
           {
            "automargin": true,
            "type": "pie"
           }
          ],
          "scatter": [
           {
            "fillpattern": {
             "fillmode": "overlay",
             "size": 10,
             "solidity": 0.2
            },
            "type": "scatter"
           }
          ],
          "scatter3d": [
           {
            "line": {
             "colorbar": {
              "outlinewidth": 0,
              "ticks": ""
             }
            },
            "marker": {
             "colorbar": {
              "outlinewidth": 0,
              "ticks": ""
             }
            },
            "type": "scatter3d"
           }
          ],
          "scattercarpet": [
           {
            "marker": {
             "colorbar": {
              "outlinewidth": 0,
              "ticks": ""
             }
            },
            "type": "scattercarpet"
           }
          ],
          "scattergeo": [
           {
            "marker": {
             "colorbar": {
              "outlinewidth": 0,
              "ticks": ""
             }
            },
            "type": "scattergeo"
           }
          ],
          "scattergl": [
           {
            "marker": {
             "colorbar": {
              "outlinewidth": 0,
              "ticks": ""
             }
            },
            "type": "scattergl"
           }
          ],
          "scattermapbox": [
           {
            "marker": {
             "colorbar": {
              "outlinewidth": 0,
              "ticks": ""
             }
            },
            "type": "scattermapbox"
           }
          ],
          "scatterpolar": [
           {
            "marker": {
             "colorbar": {
              "outlinewidth": 0,
              "ticks": ""
             }
            },
            "type": "scatterpolar"
           }
          ],
          "scatterpolargl": [
           {
            "marker": {
             "colorbar": {
              "outlinewidth": 0,
              "ticks": ""
             }
            },
            "type": "scatterpolargl"
           }
          ],
          "scatterternary": [
           {
            "marker": {
             "colorbar": {
              "outlinewidth": 0,
              "ticks": ""
             }
            },
            "type": "scatterternary"
           }
          ],
          "surface": [
           {
            "colorbar": {
             "outlinewidth": 0,
             "ticks": ""
            },
            "colorscale": [
             [
              0,
              "#0d0887"
             ],
             [
              0.1111111111111111,
              "#46039f"
             ],
             [
              0.2222222222222222,
              "#7201a8"
             ],
             [
              0.3333333333333333,
              "#9c179e"
             ],
             [
              0.4444444444444444,
              "#bd3786"
             ],
             [
              0.5555555555555556,
              "#d8576b"
             ],
             [
              0.6666666666666666,
              "#ed7953"
             ],
             [
              0.7777777777777778,
              "#fb9f3a"
             ],
             [
              0.8888888888888888,
              "#fdca26"
             ],
             [
              1,
              "#f0f921"
             ]
            ],
            "type": "surface"
           }
          ],
          "table": [
           {
            "cells": {
             "fill": {
              "color": "#EBF0F8"
             },
             "line": {
              "color": "white"
             }
            },
            "header": {
             "fill": {
              "color": "#C8D4E3"
             },
             "line": {
              "color": "white"
             }
            },
            "type": "table"
           }
          ]
         },
         "layout": {
          "annotationdefaults": {
           "arrowcolor": "#2a3f5f",
           "arrowhead": 0,
           "arrowwidth": 1
          },
          "autotypenumbers": "strict",
          "coloraxis": {
           "colorbar": {
            "outlinewidth": 0,
            "ticks": ""
           }
          },
          "colorscale": {
           "diverging": [
            [
             0,
             "#8e0152"
            ],
            [
             0.1,
             "#c51b7d"
            ],
            [
             0.2,
             "#de77ae"
            ],
            [
             0.3,
             "#f1b6da"
            ],
            [
             0.4,
             "#fde0ef"
            ],
            [
             0.5,
             "#f7f7f7"
            ],
            [
             0.6,
             "#e6f5d0"
            ],
            [
             0.7,
             "#b8e186"
            ],
            [
             0.8,
             "#7fbc41"
            ],
            [
             0.9,
             "#4d9221"
            ],
            [
             1,
             "#276419"
            ]
           ],
           "sequential": [
            [
             0,
             "#0d0887"
            ],
            [
             0.1111111111111111,
             "#46039f"
            ],
            [
             0.2222222222222222,
             "#7201a8"
            ],
            [
             0.3333333333333333,
             "#9c179e"
            ],
            [
             0.4444444444444444,
             "#bd3786"
            ],
            [
             0.5555555555555556,
             "#d8576b"
            ],
            [
             0.6666666666666666,
             "#ed7953"
            ],
            [
             0.7777777777777778,
             "#fb9f3a"
            ],
            [
             0.8888888888888888,
             "#fdca26"
            ],
            [
             1,
             "#f0f921"
            ]
           ],
           "sequentialminus": [
            [
             0,
             "#0d0887"
            ],
            [
             0.1111111111111111,
             "#46039f"
            ],
            [
             0.2222222222222222,
             "#7201a8"
            ],
            [
             0.3333333333333333,
             "#9c179e"
            ],
            [
             0.4444444444444444,
             "#bd3786"
            ],
            [
             0.5555555555555556,
             "#d8576b"
            ],
            [
             0.6666666666666666,
             "#ed7953"
            ],
            [
             0.7777777777777778,
             "#fb9f3a"
            ],
            [
             0.8888888888888888,
             "#fdca26"
            ],
            [
             1,
             "#f0f921"
            ]
           ]
          },
          "colorway": [
           "#636efa",
           "#EF553B",
           "#00cc96",
           "#ab63fa",
           "#FFA15A",
           "#19d3f3",
           "#FF6692",
           "#B6E880",
           "#FF97FF",
           "#FECB52"
          ],
          "font": {
           "color": "#2a3f5f"
          },
          "geo": {
           "bgcolor": "white",
           "lakecolor": "white",
           "landcolor": "#E5ECF6",
           "showlakes": true,
           "showland": true,
           "subunitcolor": "white"
          },
          "hoverlabel": {
           "align": "left"
          },
          "hovermode": "closest",
          "mapbox": {
           "style": "light"
          },
          "paper_bgcolor": "white",
          "plot_bgcolor": "#E5ECF6",
          "polar": {
           "angularaxis": {
            "gridcolor": "white",
            "linecolor": "white",
            "ticks": ""
           },
           "bgcolor": "#E5ECF6",
           "radialaxis": {
            "gridcolor": "white",
            "linecolor": "white",
            "ticks": ""
           }
          },
          "scene": {
           "xaxis": {
            "backgroundcolor": "#E5ECF6",
            "gridcolor": "white",
            "gridwidth": 2,
            "linecolor": "white",
            "showbackground": true,
            "ticks": "",
            "zerolinecolor": "white"
           },
           "yaxis": {
            "backgroundcolor": "#E5ECF6",
            "gridcolor": "white",
            "gridwidth": 2,
            "linecolor": "white",
            "showbackground": true,
            "ticks": "",
            "zerolinecolor": "white"
           },
           "zaxis": {
            "backgroundcolor": "#E5ECF6",
            "gridcolor": "white",
            "gridwidth": 2,
            "linecolor": "white",
            "showbackground": true,
            "ticks": "",
            "zerolinecolor": "white"
           }
          },
          "shapedefaults": {
           "line": {
            "color": "#2a3f5f"
           }
          },
          "ternary": {
           "aaxis": {
            "gridcolor": "white",
            "linecolor": "white",
            "ticks": ""
           },
           "baxis": {
            "gridcolor": "white",
            "linecolor": "white",
            "ticks": ""
           },
           "bgcolor": "#E5ECF6",
           "caxis": {
            "gridcolor": "white",
            "linecolor": "white",
            "ticks": ""
           }
          },
          "title": {
           "x": 0.05
          },
          "xaxis": {
           "automargin": true,
           "gridcolor": "white",
           "linecolor": "white",
           "ticks": "",
           "title": {
            "standoff": 15
           },
           "zerolinecolor": "white",
           "zerolinewidth": 2
          },
          "yaxis": {
           "automargin": true,
           "gridcolor": "white",
           "linecolor": "white",
           "ticks": "",
           "title": {
            "standoff": 15
           },
           "zerolinecolor": "white",
           "zerolinewidth": 2
          }
         }
        }
       }
      },
      "text/html": [
       "<div>                            <div id=\"048694fd-73b5-4c0c-b70e-9c63e08cb2b2\" class=\"plotly-graph-div\" style=\"height:525px; width:100%;\"></div>            <script type=\"text/javascript\">                require([\"plotly\"], function(Plotly) {                    window.PLOTLYENV=window.PLOTLYENV || {};                                    if (document.getElementById(\"048694fd-73b5-4c0c-b70e-9c63e08cb2b2\")) {                    Plotly.newPlot(                        \"048694fd-73b5-4c0c-b70e-9c63e08cb2b2\",                        [{\"lat\":[62.894633,62.891878,62.88952,62.888191,62.88333],\"lon\":[27.645134,27.637245,27.632591,27.630635,27.61765],\"marker\":{\"size\":10},\"mode\":\"markers+lines\",\"name\":\"41\",\"text\":[\"(345, 'Canthia E')\",\"(114, 'Snellmania E')\",\"(116, 'Teknia E')\",\"(118, 'Technopolis E')\",\"(141, 'Neulamäentie 5 L')\"],\"type\":\"scattermapbox\"}],                        {\"template\":{\"data\":{\"histogram2dcontour\":[{\"type\":\"histogram2dcontour\",\"colorbar\":{\"outlinewidth\":0,\"ticks\":\"\"},\"colorscale\":[[0.0,\"#0d0887\"],[0.1111111111111111,\"#46039f\"],[0.2222222222222222,\"#7201a8\"],[0.3333333333333333,\"#9c179e\"],[0.4444444444444444,\"#bd3786\"],[0.5555555555555556,\"#d8576b\"],[0.6666666666666666,\"#ed7953\"],[0.7777777777777778,\"#fb9f3a\"],[0.8888888888888888,\"#fdca26\"],[1.0,\"#f0f921\"]]}],\"choropleth\":[{\"type\":\"choropleth\",\"colorbar\":{\"outlinewidth\":0,\"ticks\":\"\"}}],\"histogram2d\":[{\"type\":\"histogram2d\",\"colorbar\":{\"outlinewidth\":0,\"ticks\":\"\"},\"colorscale\":[[0.0,\"#0d0887\"],[0.1111111111111111,\"#46039f\"],[0.2222222222222222,\"#7201a8\"],[0.3333333333333333,\"#9c179e\"],[0.4444444444444444,\"#bd3786\"],[0.5555555555555556,\"#d8576b\"],[0.6666666666666666,\"#ed7953\"],[0.7777777777777778,\"#fb9f3a\"],[0.8888888888888888,\"#fdca26\"],[1.0,\"#f0f921\"]]}],\"heatmap\":[{\"type\":\"heatmap\",\"colorbar\":{\"outlinewidth\":0,\"ticks\":\"\"},\"colorscale\":[[0.0,\"#0d0887\"],[0.1111111111111111,\"#46039f\"],[0.2222222222222222,\"#7201a8\"],[0.3333333333333333,\"#9c179e\"],[0.4444444444444444,\"#bd3786\"],[0.5555555555555556,\"#d8576b\"],[0.6666666666666666,\"#ed7953\"],[0.7777777777777778,\"#fb9f3a\"],[0.8888888888888888,\"#fdca26\"],[1.0,\"#f0f921\"]]}],\"heatmapgl\":[{\"type\":\"heatmapgl\",\"colorbar\":{\"outlinewidth\":0,\"ticks\":\"\"},\"colorscale\":[[0.0,\"#0d0887\"],[0.1111111111111111,\"#46039f\"],[0.2222222222222222,\"#7201a8\"],[0.3333333333333333,\"#9c179e\"],[0.4444444444444444,\"#bd3786\"],[0.5555555555555556,\"#d8576b\"],[0.6666666666666666,\"#ed7953\"],[0.7777777777777778,\"#fb9f3a\"],[0.8888888888888888,\"#fdca26\"],[1.0,\"#f0f921\"]]}],\"contourcarpet\":[{\"type\":\"contourcarpet\",\"colorbar\":{\"outlinewidth\":0,\"ticks\":\"\"}}],\"contour\":[{\"type\":\"contour\",\"colorbar\":{\"outlinewidth\":0,\"ticks\":\"\"},\"colorscale\":[[0.0,\"#0d0887\"],[0.1111111111111111,\"#46039f\"],[0.2222222222222222,\"#7201a8\"],[0.3333333333333333,\"#9c179e\"],[0.4444444444444444,\"#bd3786\"],[0.5555555555555556,\"#d8576b\"],[0.6666666666666666,\"#ed7953\"],[0.7777777777777778,\"#fb9f3a\"],[0.8888888888888888,\"#fdca26\"],[1.0,\"#f0f921\"]]}],\"surface\":[{\"type\":\"surface\",\"colorbar\":{\"outlinewidth\":0,\"ticks\":\"\"},\"colorscale\":[[0.0,\"#0d0887\"],[0.1111111111111111,\"#46039f\"],[0.2222222222222222,\"#7201a8\"],[0.3333333333333333,\"#9c179e\"],[0.4444444444444444,\"#bd3786\"],[0.5555555555555556,\"#d8576b\"],[0.6666666666666666,\"#ed7953\"],[0.7777777777777778,\"#fb9f3a\"],[0.8888888888888888,\"#fdca26\"],[1.0,\"#f0f921\"]]}],\"mesh3d\":[{\"type\":\"mesh3d\",\"colorbar\":{\"outlinewidth\":0,\"ticks\":\"\"}}],\"scatter\":[{\"fillpattern\":{\"fillmode\":\"overlay\",\"size\":10,\"solidity\":0.2},\"type\":\"scatter\"}],\"parcoords\":[{\"type\":\"parcoords\",\"line\":{\"colorbar\":{\"outlinewidth\":0,\"ticks\":\"\"}}}],\"scatterpolargl\":[{\"type\":\"scatterpolargl\",\"marker\":{\"colorbar\":{\"outlinewidth\":0,\"ticks\":\"\"}}}],\"bar\":[{\"error_x\":{\"color\":\"#2a3f5f\"},\"error_y\":{\"color\":\"#2a3f5f\"},\"marker\":{\"line\":{\"color\":\"#E5ECF6\",\"width\":0.5},\"pattern\":{\"fillmode\":\"overlay\",\"size\":10,\"solidity\":0.2}},\"type\":\"bar\"}],\"scattergeo\":[{\"type\":\"scattergeo\",\"marker\":{\"colorbar\":{\"outlinewidth\":0,\"ticks\":\"\"}}}],\"scatterpolar\":[{\"type\":\"scatterpolar\",\"marker\":{\"colorbar\":{\"outlinewidth\":0,\"ticks\":\"\"}}}],\"histogram\":[{\"marker\":{\"pattern\":{\"fillmode\":\"overlay\",\"size\":10,\"solidity\":0.2}},\"type\":\"histogram\"}],\"scattergl\":[{\"type\":\"scattergl\",\"marker\":{\"colorbar\":{\"outlinewidth\":0,\"ticks\":\"\"}}}],\"scatter3d\":[{\"type\":\"scatter3d\",\"line\":{\"colorbar\":{\"outlinewidth\":0,\"ticks\":\"\"}},\"marker\":{\"colorbar\":{\"outlinewidth\":0,\"ticks\":\"\"}}}],\"scattermapbox\":[{\"type\":\"scattermapbox\",\"marker\":{\"colorbar\":{\"outlinewidth\":0,\"ticks\":\"\"}}}],\"scatterternary\":[{\"type\":\"scatterternary\",\"marker\":{\"colorbar\":{\"outlinewidth\":0,\"ticks\":\"\"}}}],\"scattercarpet\":[{\"type\":\"scattercarpet\",\"marker\":{\"colorbar\":{\"outlinewidth\":0,\"ticks\":\"\"}}}],\"carpet\":[{\"aaxis\":{\"endlinecolor\":\"#2a3f5f\",\"gridcolor\":\"white\",\"linecolor\":\"white\",\"minorgridcolor\":\"white\",\"startlinecolor\":\"#2a3f5f\"},\"baxis\":{\"endlinecolor\":\"#2a3f5f\",\"gridcolor\":\"white\",\"linecolor\":\"white\",\"minorgridcolor\":\"white\",\"startlinecolor\":\"#2a3f5f\"},\"type\":\"carpet\"}],\"table\":[{\"cells\":{\"fill\":{\"color\":\"#EBF0F8\"},\"line\":{\"color\":\"white\"}},\"header\":{\"fill\":{\"color\":\"#C8D4E3\"},\"line\":{\"color\":\"white\"}},\"type\":\"table\"}],\"barpolar\":[{\"marker\":{\"line\":{\"color\":\"#E5ECF6\",\"width\":0.5},\"pattern\":{\"fillmode\":\"overlay\",\"size\":10,\"solidity\":0.2}},\"type\":\"barpolar\"}],\"pie\":[{\"automargin\":true,\"type\":\"pie\"}]},\"layout\":{\"autotypenumbers\":\"strict\",\"colorway\":[\"#636efa\",\"#EF553B\",\"#00cc96\",\"#ab63fa\",\"#FFA15A\",\"#19d3f3\",\"#FF6692\",\"#B6E880\",\"#FF97FF\",\"#FECB52\"],\"font\":{\"color\":\"#2a3f5f\"},\"hovermode\":\"closest\",\"hoverlabel\":{\"align\":\"left\"},\"paper_bgcolor\":\"white\",\"plot_bgcolor\":\"#E5ECF6\",\"polar\":{\"bgcolor\":\"#E5ECF6\",\"angularaxis\":{\"gridcolor\":\"white\",\"linecolor\":\"white\",\"ticks\":\"\"},\"radialaxis\":{\"gridcolor\":\"white\",\"linecolor\":\"white\",\"ticks\":\"\"}},\"ternary\":{\"bgcolor\":\"#E5ECF6\",\"aaxis\":{\"gridcolor\":\"white\",\"linecolor\":\"white\",\"ticks\":\"\"},\"baxis\":{\"gridcolor\":\"white\",\"linecolor\":\"white\",\"ticks\":\"\"},\"caxis\":{\"gridcolor\":\"white\",\"linecolor\":\"white\",\"ticks\":\"\"}},\"coloraxis\":{\"colorbar\":{\"outlinewidth\":0,\"ticks\":\"\"}},\"colorscale\":{\"sequential\":[[0.0,\"#0d0887\"],[0.1111111111111111,\"#46039f\"],[0.2222222222222222,\"#7201a8\"],[0.3333333333333333,\"#9c179e\"],[0.4444444444444444,\"#bd3786\"],[0.5555555555555556,\"#d8576b\"],[0.6666666666666666,\"#ed7953\"],[0.7777777777777778,\"#fb9f3a\"],[0.8888888888888888,\"#fdca26\"],[1.0,\"#f0f921\"]],\"sequentialminus\":[[0.0,\"#0d0887\"],[0.1111111111111111,\"#46039f\"],[0.2222222222222222,\"#7201a8\"],[0.3333333333333333,\"#9c179e\"],[0.4444444444444444,\"#bd3786\"],[0.5555555555555556,\"#d8576b\"],[0.6666666666666666,\"#ed7953\"],[0.7777777777777778,\"#fb9f3a\"],[0.8888888888888888,\"#fdca26\"],[1.0,\"#f0f921\"]],\"diverging\":[[0,\"#8e0152\"],[0.1,\"#c51b7d\"],[0.2,\"#de77ae\"],[0.3,\"#f1b6da\"],[0.4,\"#fde0ef\"],[0.5,\"#f7f7f7\"],[0.6,\"#e6f5d0\"],[0.7,\"#b8e186\"],[0.8,\"#7fbc41\"],[0.9,\"#4d9221\"],[1,\"#276419\"]]},\"xaxis\":{\"gridcolor\":\"white\",\"linecolor\":\"white\",\"ticks\":\"\",\"title\":{\"standoff\":15},\"zerolinecolor\":\"white\",\"automargin\":true,\"zerolinewidth\":2},\"yaxis\":{\"gridcolor\":\"white\",\"linecolor\":\"white\",\"ticks\":\"\",\"title\":{\"standoff\":15},\"zerolinecolor\":\"white\",\"automargin\":true,\"zerolinewidth\":2},\"scene\":{\"xaxis\":{\"backgroundcolor\":\"#E5ECF6\",\"gridcolor\":\"white\",\"linecolor\":\"white\",\"showbackground\":true,\"ticks\":\"\",\"zerolinecolor\":\"white\",\"gridwidth\":2},\"yaxis\":{\"backgroundcolor\":\"#E5ECF6\",\"gridcolor\":\"white\",\"linecolor\":\"white\",\"showbackground\":true,\"ticks\":\"\",\"zerolinecolor\":\"white\",\"gridwidth\":2},\"zaxis\":{\"backgroundcolor\":\"#E5ECF6\",\"gridcolor\":\"white\",\"linecolor\":\"white\",\"showbackground\":true,\"ticks\":\"\",\"zerolinecolor\":\"white\",\"gridwidth\":2}},\"shapedefaults\":{\"line\":{\"color\":\"#2a3f5f\"}},\"annotationdefaults\":{\"arrowcolor\":\"#2a3f5f\",\"arrowhead\":0,\"arrowwidth\":1},\"geo\":{\"bgcolor\":\"white\",\"landcolor\":\"#E5ECF6\",\"subunitcolor\":\"white\",\"showland\":true,\"showlakes\":true,\"lakecolor\":\"white\"},\"title\":{\"x\":0.05},\"mapbox\":{\"style\":\"light\"}}},\"mapbox\":{\"center\":{\"lon\":27.6761,\"lat\":62.893025},\"style\":\"stamen-terrain\",\"zoom\":9},\"showlegend\":true},                        {\"responsive\": true}                    ).then(function(){\n",
       "                            \n",
       "var gd = document.getElementById('048694fd-73b5-4c0c-b70e-9c63e08cb2b2');\n",
       "var x = new MutationObserver(function (mutations, observer) {{\n",
       "        var display = window.getComputedStyle(gd).display;\n",
       "        if (!display || display === 'none') {{\n",
       "            console.log([gd, 'removed!']);\n",
       "            Plotly.purge(gd);\n",
       "            observer.disconnect();\n",
       "        }}\n",
       "}});\n",
       "\n",
       "// Listen for the removal of the full notebook cells\n",
       "var notebookContainer = gd.closest('#notebook-container');\n",
       "if (notebookContainer) {{\n",
       "    x.observe(notebookContainer, {childList: true});\n",
       "}}\n",
       "\n",
       "// Listen for the clearing of the current output cell\n",
       "var outputEl = gd.closest('.output');\n",
       "if (outputEl) {{\n",
       "    x.observe(outputEl, {childList: true});\n",
       "}}\n",
       "\n",
       "                        })                };                });            </script>        </div>"
      ]
     },
     "metadata": {},
     "output_type": "display_data"
    }
   ],
   "source": [
    "i = 0\n",
    "k = 0\n",
    "while i < len(path['routes']):\n",
    "    x = path['routes'][i]\n",
    "    if k == 0:\n",
    "        i += 1\n",
    "        if i == len(path['routes']):\n",
    "            fig = go.Figure(go.Scattermapbox(\n",
    "            mode = \"markers+lines\",\n",
    "            lon = [nodes_dict[path['path'][j]]['lon'] for j in range(k, i+1)],\n",
    "            lat = [nodes_dict[path['path'][j]]['lat'] for j in range(k, i+1)],\n",
    "            text = [(path['path'][j], nodes_dict[path['path'][j]]['name']) for j in range(k, i+1)],\n",
    "            name = path['routes'][k],\n",
    "            marker = {'size': 10}))\n",
    "            k = i\n",
    "        elif x != path['routes'][i]:\n",
    "            fig = go.Figure(go.Scattermapbox(\n",
    "            mode = \"markers+lines\",\n",
    "            lon = [nodes_dict[path['path'][j]]['lon'] for j in range(k, i+1)],\n",
    "            lat = [nodes_dict[path['path'][j]]['lat'] for j in range(k, i+1)],\n",
    "            text = [(path['path'][j], nodes_dict[path['path'][j]]['name']) for j in range(k, i+1)],\n",
    "            name = path['routes'][k],\n",
    "            marker = {'size': 10}))\n",
    "            k = i\n",
    "    else:\n",
    "        i += 1\n",
    "        if i < len(path['routes']):\n",
    "            if x != path['routes'][i]:\n",
    "                fig.add_trace(go.Scattermapbox(\n",
    "                mode = \"markers+lines\",\n",
    "                lon = [nodes_dict[path['path'][j]]['lon'] for j in range(k, i+1)],\n",
    "                lat = [nodes_dict[path['path'][j]]['lat'] for j in range(k, i+1)],\n",
    "                text = [(path['path'][j], nodes_dict[path['path'][j]]['name']) for j in range(k, i+1)],\n",
    "                name = path['routes'][k],\n",
    "                marker = {'size': 10}))\n",
    "                k = i\n",
    "        else:\n",
    "            fig.add_trace(go.Scattermapbox(\n",
    "            mode = \"markers+lines\",\n",
    "            lon = [nodes_dict[path['path'][j]]['lon'] for j in range(k, i+1)],\n",
    "            lat = [nodes_dict[path['path'][j]]['lat'] for j in range(k, i+1)],\n",
    "            text = [(path['path'][j], nodes_dict[path['path'][j]]['name']) for j in range(k, i+1)],\n",
    "            name = path['routes'][k],\n",
    "            marker = {'size': 10}))\n",
    "            k = i\n",
    "        \n",
    "\n",
    "fig.update_layout(\n",
    "    mapbox = {\n",
    "        'style': \"stamen-terrain\",\n",
    "        'center': {'lon': nodes['lon'].iloc[0], 'lat': nodes['lat'].iloc[0]},\n",
    "        'zoom': 9}, \n",
    "    showlegend=True)\n",
    "\n",
    "fig.show()"
   ]
  },
  {
   "cell_type": "code",
   "execution_count": null,
   "id": "3ec77b56",
   "metadata": {},
   "outputs": [],
   "source": []
  },
  {
   "cell_type": "code",
   "execution_count": null,
   "id": "c4bdcc73",
   "metadata": {},
   "outputs": [],
   "source": []
  }
 ],
 "metadata": {
  "kernelspec": {
   "display_name": "Python 3 (ipykernel)",
   "language": "python",
   "name": "python3"
  },
  "language_info": {
   "codemirror_mode": {
    "name": "ipython",
    "version": 3
   },
   "file_extension": ".py",
   "mimetype": "text/x-python",
   "name": "python",
   "nbconvert_exporter": "python",
   "pygments_lexer": "ipython3",
   "version": "3.10.9"
  }
 },
 "nbformat": 4,
 "nbformat_minor": 5
}
