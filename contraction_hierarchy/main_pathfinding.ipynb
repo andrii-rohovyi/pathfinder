{
 "cells": [
  {
   "cell_type": "code",
   "execution_count": 1,
   "id": "e970afe4",
   "metadata": {},
   "outputs": [],
   "source": [
    "import pandas as pd\n",
    "import plotly.graph_objects as go\n",
    "import datetime\n",
    "import numpy as np\n",
    "import cProfile\n",
    "import sys\n",
    "import pickle\n",
    "import random\n",
    "\n",
    "from graph import TransportGraph\n",
    "from forward_search import FCH"
   ]
  },
  {
   "cell_type": "markdown",
   "id": "2a9e5e1c",
   "metadata": {},
   "source": [
    "# Build transport graph"
   ]
  },
  {
   "cell_type": "code",
   "execution_count": 2,
   "id": "4e3e04f4",
   "metadata": {},
   "outputs": [],
   "source": [
    "CITY = 'kuopio' #belfast, kuopio"
   ]
  },
  {
   "cell_type": "markdown",
   "id": "44cad3f3",
   "metadata": {},
   "source": [
    "## Optional \n",
    "### Add inverted road connections"
   ]
  },
  {
   "cell_type": "code",
   "execution_count": 3,
   "id": "8639e0a2",
   "metadata": {},
   "outputs": [],
   "source": [
    "transport_connections = pd.read_csv(F'data/{CITY}/network_temporal_day.csv', sep=';')\n",
    "walk_connections = pd.read_csv(F'data/{CITY}/network_walk.csv', sep=';')"
   ]
  },
  {
   "cell_type": "code",
   "execution_count": 4,
   "id": "6a43904e",
   "metadata": {},
   "outputs": [],
   "source": [
    "df_walk_invert = walk_connections.copy()\n",
    "df_walk_invert = df_walk_invert.rename(columns={'from_stop_I': 'to_stop_I', 'to_stop_I': 'from_stop_I'})\n",
    "walk_connections = pd.concat((walk_connections, df_walk_invert))"
   ]
  },
  {
   "cell_type": "code",
   "execution_count": 5,
   "id": "ec246f9f",
   "metadata": {
    "scrolled": false
   },
   "outputs": [],
   "source": [
    "tg = TransportGraph(transport_connections=transport_connections, walk_connections=walk_connections)"
   ]
  },
  {
   "cell_type": "code",
   "execution_count": 6,
   "id": "fb30be11",
   "metadata": {},
   "outputs": [
    {
     "data": {
      "text/plain": [
       "8891"
      ]
     },
     "execution_count": 6,
     "metadata": {},
     "output_type": "execute_result"
    }
   ],
   "source": [
    "edges_sum = 0\n",
    "for i, v in tg.graph.items():\n",
    "    edges_sum += len(v)\n",
    "edges_sum"
   ]
  },
  {
   "cell_type": "code",
   "execution_count": 7,
   "id": "ea8040ed",
   "metadata": {},
   "outputs": [
    {
     "data": {
      "text/plain": [
       "549"
      ]
     },
     "execution_count": 7,
     "metadata": {},
     "output_type": "execute_result"
    }
   ],
   "source": [
    "len(tg.nodes)"
   ]
  },
  {
   "cell_type": "markdown",
   "id": "f8a0f3e7",
   "metadata": {},
   "source": [
    "# Build CH graph"
   ]
  },
  {
   "cell_type": "markdown",
   "id": "3a841342",
   "metadata": {},
   "source": [
    "### Calculate Sparce-CH"
   ]
  },
  {
   "cell_type": "code",
   "execution_count": null,
   "id": "661e42f6",
   "metadata": {},
   "outputs": [],
   "source": [
    "%%time\n",
    "cProfile.run('ch_tg = tg.contraction_hierarchy(just_buses=True)')"
   ]
  },
  {
   "cell_type": "code",
   "execution_count": 13,
   "id": "8c43a304",
   "metadata": {},
   "outputs": [
    {
     "data": {
      "text/plain": [
       "range(0, 4)"
      ]
     },
     "execution_count": 13,
     "metadata": {},
     "output_type": "execute_result"
    }
   ],
   "source": [
    "d = ch_tg.hierarchy\n",
    "d."
   ]
  },
  {
   "cell_type": "markdown",
   "id": "10254ae1",
   "metadata": {},
   "source": [
    "### Calculate Full-CH"
   ]
  },
  {
   "cell_type": "code",
   "execution_count": 9,
   "id": "26755ad6",
   "metadata": {},
   "outputs": [
    {
     "name": "stderr",
     "output_type": "stream",
     "text": [
      "100%|████████████████████████████████████████████████████████████████████████████████████████████████████████████████████████████████████████████████████████████████████████████████████| 549/549 [05:21<00:00,  1.71it/s]"
     ]
    },
    {
     "name": "stdout",
     "output_type": "stream",
     "text": [
      "         393666588 function calls (390929913 primitive calls) in 330.574 seconds\n",
      "\n",
      "   Ordered by: standard name\n",
      "\n",
      "   ncalls  tottime  percall  cumtime  percall filename:lineno(function)\n",
      "        1    0.000    0.000  330.573  330.573 <string>:1(<module>)\n",
      "    18896    0.034    0.000    0.441    0.000 _collections_abc.py:957(pop)\n",
      "        1    0.000    0.000    0.000    0.000 _collections_abc.py:991(update)\n",
      "        1    0.000    0.000    0.000    0.000 _monitor.py:94(report)\n",
      "        1    0.000    0.000    0.000    0.000 _weakrefset.py:111(remove)\n",
      "        2    0.000    0.000    0.000    0.000 _weakrefset.py:17(__init__)\n",
      "        2    0.000    0.000    0.000    0.000 _weakrefset.py:21(__enter__)\n",
      "        2    0.000    0.000    0.000    0.000 _weakrefset.py:27(__exit__)\n",
      "        2    0.000    0.000    0.000    0.000 _weakrefset.py:53(_commit_removals)\n",
      "        3    0.000    0.000    0.000    0.000 _weakrefset.py:63(__iter__)\n",
      "        1    0.000    0.000    0.000    0.000 _weakrefset.py:86(add)\n",
      "        1    0.000    0.000    0.000    0.000 abc.py:117(__instancecheck__)\n",
      "   466373    0.353    0.000    0.437    0.000 atf.py:11(__init__)\n",
      "   227946    1.289    0.000   69.134    0.000 atf.py:179(min_atf)\n",
      "   466373   62.611    0.000   73.692    0.000 atf.py:22(cut)\n",
      "   238427  157.925    0.001  237.760    0.001 atf.py:40(composition)\n",
      "2224567/5    3.104    0.000    8.804    1.761 copy.py:128(deepcopy)\n",
      "  1470639    0.176    0.000    0.176    0.000 copy.py:182(_deepcopy_atomic)\n",
      "223497/106693    1.125    0.000    5.817    0.000 copy.py:201(_deepcopy_list)\n",
      "    35564    0.089    0.000    7.989    0.000 copy.py:210(_deepcopy_tuple)\n",
      "    35564    0.035    0.000    7.896    0.000 copy.py:211(<listcomp>)\n",
      "190126/2194    0.981    0.000    8.787    0.004 copy.py:227(_deepcopy_dict)\n",
      "   637124    0.368    0.000    0.527    0.000 copy.py:243(_keep_alive)\n",
      " 187937/5    0.964    0.000    8.804    1.761 copy.py:259(_reconstruct)\n",
      "   375874    0.114    0.000    0.456    0.000 copy.py:264(<genexpr>)\n",
      "   187932    0.085    0.000    0.116    0.000 copyreg.py:100(__newobj__)\n",
      "        1    0.028    0.028    4.547    4.547 graph.py:116(__init__)\n",
      "    19445    0.032    0.000    0.038    0.000 graph.py:49(edge_difference)\n",
      "        1   13.816   13.816  330.573  330.573 graph.py:64(contraction_hierarchy)\n",
      "    19445    0.009    0.000    0.011    0.000 heapdict.py:105(__len__)\n",
      "        1    0.000    0.000    0.000    0.000 heapdict.py:20(__init__)\n",
      "    19445    0.065    0.000    0.560    0.000 heapdict.py:30(__setitem__)\n",
      "    19443    0.161    0.000    0.205    0.000 heapdict.py:39(_min_heapify)\n",
      "    19445    0.021    0.000    0.025    0.000 heapdict.py:60(_decrease_key)\n",
      "   217499    0.093    0.000    0.093    0.000 heapdict.py:69(_swap)\n",
      "    18896    0.097    0.000    0.393    0.000 heapdict.py:75(__delitem__)\n",
      "    18896    0.014    0.000    0.014    0.000 heapdict.py:85(__getitem__)\n",
      "    19445    0.047    0.000    0.258    0.000 heapdict.py:93(popitem)\n",
      "      899    0.003    0.000    0.037    0.000 iostream.py:202(schedule)\n",
      "        1    0.000    0.000    0.000    0.000 iostream.py:304(fileno)\n",
      "      300    0.001    0.000    0.001    0.000 iostream.py:437(_is_master_process)\n",
      "      300    0.001    0.000    0.031    0.000 iostream.py:456(_schedule_flush)\n",
      "      300    0.003    0.000    0.147    0.000 iostream.py:471(flush)\n",
      "      300    0.003    0.000    0.035    0.000 iostream.py:526(write)\n",
      "      899    0.001    0.000    0.001    0.000 iostream.py:90(_event_pipe)\n",
      "      899    0.030    0.000    0.030    0.000 socket.py:543(send)\n",
      "      301    0.001    0.000    0.004    0.000 std.py:104(acquire)\n",
      "      301    0.001    0.000    0.002    0.000 std.py:108(release)\n",
      "        4    0.000    0.000    0.000    0.000 std.py:112(__enter__)\n",
      "        4    0.000    0.000    0.000    0.000 std.py:115(__exit__)\n",
      "        1    0.000    0.000    0.000    0.000 std.py:1161(__del__)\n",
      "      298    0.002    0.000    0.071    0.000 std.py:1164(__str__)\n",
      "        2    0.000    0.000    0.000    0.000 std.py:1167(_comparable)\n",
      "        2    0.000    0.000    0.000    0.000 std.py:1171(__hash__)\n",
      "      550    0.002    0.000    0.305    0.001 std.py:1174(__iter__)\n",
      "      296    0.004    0.000    0.301    0.001 std.py:1212(update)\n",
      "        2    0.000    0.000    0.001    0.001 std.py:1279(close)\n",
      "        2    0.000    0.000    0.000    0.000 std.py:1300(fp_write)\n",
      "        1    0.000    0.000    0.000    0.000 std.py:1315(<lambda>)\n",
      "      297    0.002    0.000    0.295    0.001 std.py:1339(refresh)\n",
      "      298    0.002    0.000    0.003    0.000 std.py:1460(format_dict)\n",
      "      298    0.002    0.000    0.289    0.001 std.py:1478(display)\n",
      "      298    0.001    0.000    0.001    0.000 std.py:155(__init__)\n",
      "      298    0.000    0.000    0.000    0.000 std.py:165(colour)\n",
      "      298    0.000    0.000    0.000    0.000 std.py:169(colour)\n",
      "      298    0.002    0.000    0.002    0.000 std.py:188(__format__)\n",
      "        3    0.000    0.000    0.000    0.000 std.py:228(__init__)\n",
      "     1777    0.003    0.000    0.003    0.000 std.py:233(__call__)\n",
      "      595    0.001    0.000    0.003    0.000 std.py:288(format_interval)\n",
      "        1    0.000    0.000    0.001    0.001 std.py:329(status_printer)\n",
      "      298    0.001    0.000    0.184    0.001 std.py:342(fp_write)\n",
      "      298    0.001    0.000    0.216    0.001 std.py:348(print_status)\n",
      "      298    0.011    0.000    0.066    0.000 std.py:355(format_meter)\n",
      "        1    0.000    0.000    0.000    0.000 std.py:560(__new__)\n",
      "        1    0.000    0.000    0.000    0.000 std.py:576(_get_free_pos)\n",
      "        1    0.000    0.000    0.000    0.000 std.py:579(<setcomp>)\n",
      "        1    0.000    0.000    0.000    0.000 std.py:583(_decr_instances)\n",
      "        1    0.000    0.000    0.000    0.000 std.py:657(get_lock)\n",
      "        1    0.000    0.000    0.002    0.002 std.py:846(__init__)\n",
      "     1199    0.001    0.000    0.002    0.000 threading.py:1102(_wait_for_tstate_lock)\n",
      "      600    0.000    0.000    0.000    0.000 threading.py:1145(ident)\n",
      "     1199    0.002    0.000    0.004    0.000 threading.py:1169(is_alive)\n",
      "      300    0.000    0.000    0.001    0.000 threading.py:1430(current_thread)\n",
      "      300    0.003    0.000    0.003    0.000 threading.py:236(__init__)\n",
      "      300    0.000    0.000    0.000    0.000 threading.py:264(__enter__)\n",
      "      300    0.000    0.000    0.001    0.000 threading.py:267(__exit__)\n",
      "      299    0.000    0.000    0.000    0.000 threading.py:273(_release_save)\n",
      "      299    0.000    0.000    0.000    0.000 threading.py:276(_acquire_restore)\n",
      "      299    0.000    0.000    0.000    0.000 threading.py:279(_is_owned)\n",
      "      299    0.002    0.000    0.129    0.000 threading.py:288(wait)\n",
      "      300    0.001    0.000    0.004    0.000 threading.py:545(__init__)\n",
      "     1200    0.000    0.000    0.000    0.000 threading.py:553(is_set)\n",
      "      300    0.002    0.000    0.131    0.000 threading.py:589(wait)\n",
      "179513180   29.878    0.000   29.878    0.000 trip.py:15(__lt__)\n",
      "   238427    0.316    0.000    0.345    0.000 trip.py:24(__init__)\n",
      " 38311646   14.659    0.000   14.659    0.000 trip.py:9(__init__)\n",
      "        3    0.000    0.000    0.000    0.000 utils.py:101(wrapper_setattr)\n",
      "        1    0.000    0.000    0.000    0.000 utils.py:105(__init__)\n",
      "        2    0.000    0.000    0.000    0.000 utils.py:136(disable_on_exception)\n",
      "      598    0.002    0.000    0.183    0.000 utils.py:143(inner)\n",
      "        1    0.000    0.000    0.000    0.000 utils.py:162(__init__)\n",
      "        2    0.000    0.000    0.000    0.000 utils.py:171(__eq__)\n",
      "        1    0.000    0.000    0.000    0.000 utils.py:201(_is_utf)\n",
      "        1    0.000    0.000    0.000    0.000 utils.py:215(_supports_unicode)\n",
      "      596    0.002    0.000    0.003    0.000 utils.py:222(_is_ascii)\n",
      "        1    0.000    0.000    0.000    0.000 utils.py:231(_screen_shape_wrapper)\n",
      "        1    0.000    0.000    0.000    0.000 utils.py:282(_screen_shape_linux)\n",
      "      894    0.001    0.000    0.068    0.000 utils.py:329(_text_width)\n",
      "   143031    0.037    0.000    0.051    0.000 utils.py:330(<genexpr>)\n",
      "      894    0.001    0.000    0.070    0.000 utils.py:333(disp_len)\n",
      "      298    0.000    0.000    0.031    0.000 utils.py:341(disp_trim)\n",
      "      298    0.000    0.000    0.000    0.000 utils.py:57(__init__)\n",
      "      298    0.000    0.000    0.000    0.000 utils.py:61(__format__)\n",
      "        1    0.000    0.000    0.000    0.000 utils.py:74(__eq__)\n",
      "        2    0.000    0.000    0.000    0.000 utils.py:88(__getattr__)\n",
      "   187933    0.031    0.000    0.031    0.000 {built-in method __new__ of type object at 0x10a6d3920}\n",
      "        1    0.000    0.000    0.000    0.000 {built-in method _abc._abc_instancecheck}\n",
      "      599    0.001    0.000    0.001    0.000 {built-in method _thread.allocate_lock}\n",
      "      300    0.000    0.000    0.000    0.000 {built-in method _thread.get_ident}\n",
      "        2    0.000    0.000    0.000    0.000 {built-in method _weakref.proxy}\n",
      "      300    0.000    0.000    0.000    0.000 {built-in method builtins.abs}\n",
      "     1488    0.000    0.000    0.000    0.000 {built-in method builtins.divmod}\n",
      "        1    0.000    0.000  330.574  330.574 {built-in method builtins.exec}\n",
      "   375885    0.077    0.000    0.077    0.000 {built-in method builtins.getattr}\n",
      "   188533    0.033    0.000    0.033    0.000 {built-in method builtins.hasattr}\n",
      "  3498822    0.434    0.000    0.434    0.000 {built-in method builtins.id}\n",
      "   376766    0.067    0.000    0.067    0.000 {built-in method builtins.isinstance}\n",
      "   187937    0.030    0.000    0.030    0.000 {built-in method builtins.issubclass}\n",
      "1343749/1324304    0.204    0.000    0.213    0.000 {built-in method builtins.len}\n",
      "    19492    0.019    0.000    0.019    0.000 {built-in method builtins.max}\n",
      "        1    0.000    0.000    0.000    0.000 {built-in method builtins.min}\n",
      "     6258    0.001    0.000    0.001    0.000 {built-in method builtins.ord}\n",
      "   106692    0.020    0.000    0.020    0.000 {built-in method builtins.setattr}\n",
      "      894    0.015    0.000    0.067    0.000 {built-in method builtins.sum}\n",
      "        1    0.000    0.000    0.000    0.000 {built-in method fcntl.ioctl}\n",
      "      297    0.002    0.000    0.002    0.000 {built-in method now}\n",
      "      300    0.000    0.000    0.000    0.000 {built-in method posix.getpid}\n",
      "     1272    0.001    0.000    0.001    0.000 {built-in method time.time}\n",
      "   142137    0.015    0.000    0.015    0.000 {built-in method unicodedata.east_asian_width}\n",
      "        1    0.000    0.000    0.000    0.000 {built-in method utcfromtimestamp}\n",
      "      300    0.000    0.000    0.000    0.000 {method '__enter__' of '_thread.lock' objects}\n",
      "      300    0.000    0.000    0.000    0.000 {method '__exit__' of '_thread.RLock' objects}\n",
      "      300    0.000    0.000    0.000    0.000 {method '__exit__' of '_thread.lock' objects}\n",
      "   187937    0.137    0.000    0.137    0.000 {method '__reduce_ex__' of 'object' objects}\n",
      "      301    0.002    0.000    0.002    0.000 {method 'acquire' of '_multiprocessing.SemLock' objects}\n",
      "      301    0.000    0.000    0.000    0.000 {method 'acquire' of '_thread.RLock' objects}\n",
      "     2395    0.127    0.000    0.127    0.000 {method 'acquire' of '_thread.lock' objects}\n",
      "        3    0.000    0.000    0.000    0.000 {method 'add' of 'set' objects}\n",
      "     1198    0.000    0.000    0.000    0.000 {method 'append' of 'collections.deque' objects}\n",
      "119834167   12.010    0.000   12.010    0.000 {method 'append' of 'list' objects}\n",
      "        1    0.000    0.000    0.000    0.000 {method 'difference' of 'set' objects}\n",
      "        1    0.000    0.000    0.000    0.000 {method 'disable' of '_lsprof.Profiler' objects}\n",
      "        1    0.000    0.000    0.000    0.000 {method 'encode' of 'str' objects}\n",
      "     2381    0.005    0.000    0.007    0.000 {method 'format' of 'str' objects}\n",
      "  4758694    0.774    0.000    0.774    0.000 {method 'get' of 'dict' objects}\n",
      "   235928    0.073    0.000    0.073    0.000 {method 'items' of 'dict' objects}\n",
      " 35994371    3.293    0.000    3.293    0.000 {method 'pop' of 'list' objects}\n",
      "      301    0.001    0.000    0.001    0.000 {method 'release' of '_multiprocessing.SemLock' objects}\n",
      "      301    0.000    0.000    0.000    0.000 {method 'release' of '_thread.RLock' objects}\n",
      "      299    0.000    0.000    0.000    0.000 {method 'release' of '_thread.lock' objects}\n",
      "        3    0.000    0.000    0.000    0.000 {method 'remove' of 'set' objects}\n",
      "   466373   24.522    0.000   54.400    0.000 {method 'sort' of 'list' objects}\n",
      "      894    0.001    0.000    0.001    0.000 {method 'sub' of 're.Pattern' objects}\n",
      "   152666    0.055    0.000    0.055    0.000 {method 'update' of 'dict' objects}\n",
      "      300    0.000    0.000    0.000    0.000 {method 'write' of '_io.StringIO' objects}\n",
      "\n",
      "\n",
      "CPU times: user 5min 26s, sys: 1.9 s, total: 5min 27s\n",
      "Wall time: 5min 30s\n"
     ]
    },
    {
     "name": "stderr",
     "output_type": "stream",
     "text": [
      "\n"
     ]
    }
   ],
   "source": [
    "%%time\n",
    "cProfile.run('ch_tg_optimal = tg.contraction_hierarchy(just_buses=False)')"
   ]
  },
  {
   "cell_type": "markdown",
   "id": "984b3839",
   "metadata": {},
   "source": [
    "%%time\n",
    "cProfile.run('ch_tg = tg.contraction_hierarchy')"
   ]
  },
  {
   "cell_type": "markdown",
   "id": "12610952",
   "metadata": {},
   "source": [
    "# Precalculate Geometrical containers for FCH"
   ]
  },
  {
   "cell_type": "code",
   "execution_count": 10,
   "id": "d71ece71",
   "metadata": {
    "scrolled": true
   },
   "outputs": [
    {
     "name": "stderr",
     "output_type": "stream",
     "text": [
      "100%|██████████████████████████████████████████████████████████████████████████████████████████████████████████████████████████████████████████████████████████████████████████████████| 549/549 [00:00<00:00, 1699.95it/s]"
     ]
    },
    {
     "name": "stdout",
     "output_type": "stream",
     "text": [
      "CPU times: user 215 ms, sys: 42.5 ms, total: 257 ms\n",
      "Wall time: 333 ms\n"
     ]
    },
    {
     "name": "stderr",
     "output_type": "stream",
     "text": [
      "\n"
     ]
    }
   ],
   "source": [
    "%%time\n",
    "ch_tg_optimal.geometrical_container()"
   ]
  },
  {
   "cell_type": "code",
   "execution_count": 11,
   "id": "f8bdec92",
   "metadata": {},
   "outputs": [],
   "source": [
    "pickle.dump(ch_tg_optimal, open(F'kuopio_original.pkl', 'wb'), \n",
    "            pickle.HIGHEST_PROTOCOL)"
   ]
  },
  {
   "cell_type": "code",
   "execution_count": 12,
   "id": "fb870e5a",
   "metadata": {},
   "outputs": [],
   "source": [
    "pickle.dump(ch_tg, open(F'kuopio_trunc.pkl', 'wb'), \n",
    "            pickle.HIGHEST_PROTOCOL)"
   ]
  },
  {
   "cell_type": "code",
   "execution_count": 9,
   "id": "7b1c7f0f",
   "metadata": {},
   "outputs": [],
   "source": [
    "ch_tg_optimal = pickle.load(open(F'kuopio_trunc.pkl', 'rb'))"
   ]
  },
  {
   "cell_type": "code",
   "execution_count": 7,
   "id": "892bbe5a",
   "metadata": {},
   "outputs": [],
   "source": [
    "ch_tg = pickle.load(open(F'kuopio_trunc.pkl', 'rb'))\n",
    "ch_tg_optimal = pickle.load(open(F'kuopio_original.pkl', 'rb'))"
   ]
  },
  {
   "cell_type": "code",
   "execution_count": 16,
   "id": "95630422",
   "metadata": {},
   "outputs": [
    {
     "data": {
      "text/plain": [
       "313"
      ]
     },
     "execution_count": 16,
     "metadata": {},
     "output_type": "execute_result"
    }
   ],
   "source": [
    "ch_tg_optimal.hierarchy[334]"
   ]
  },
  {
   "cell_type": "code",
   "execution_count": 18,
   "id": "7ff99211",
   "metadata": {},
   "outputs": [
    {
     "data": {
      "text/plain": [
       "{1198: 0,\n",
       " 818: 1,\n",
       " 458: 2,\n",
       " 173: 3,\n",
       " 447: 4,\n",
       " 845: 5,\n",
       " 815: 6,\n",
       " 448: 7,\n",
       " 1223: 8,\n",
       " 456: 9,\n",
       " 1224: 10,\n",
       " 1330: 11,\n",
       " 132: 12,\n",
       " 182: 13,\n",
       " 463: 14,\n",
       " 775: 15,\n",
       " 1329: 16,\n",
       " 846: 17,\n",
       " 172: 18,\n",
       " 443: 19,\n",
       " 816: 20,\n",
       " 457: 21,\n",
       " 1054: 22,\n",
       " 1351: 23,\n",
       " 370: 24,\n",
       " 462: 25,\n",
       " 1243: 26,\n",
       " 478: 27,\n",
       " 757: 28,\n",
       " 460: 29,\n",
       " 759: 30,\n",
       " 455: 31,\n",
       " 774: 32,\n",
       " 133: 33,\n",
       " 371: 34,\n",
       " 1332: 35,\n",
       " 758: 36,\n",
       " 756: 37,\n",
       " 1323: 38,\n",
       " 418: 39,\n",
       " 817: 40,\n",
       " 444: 41,\n",
       " 849: 42,\n",
       " 764: 43,\n",
       " 477: 44,\n",
       " 131: 45,\n",
       " 1242: 46,\n",
       " 765: 47,\n",
       " 171: 48,\n",
       " 1331: 49,\n",
       " 465: 50,\n",
       " 464: 51,\n",
       " 228: 52,\n",
       " 261: 53,\n",
       " 158: 54,\n",
       " 255: 55,\n",
       " 224: 56,\n",
       " 768: 57,\n",
       " 769: 58,\n",
       " 1349: 59,\n",
       " 223: 60,\n",
       " 254: 61,\n",
       " 1055: 62,\n",
       " 850: 63,\n",
       " 480: 64,\n",
       " 481: 65,\n",
       " 1133: 66,\n",
       " 1056: 67,\n",
       " 1269: 68,\n",
       " 761: 69,\n",
       " 760: 70,\n",
       " 479: 71,\n",
       " 321: 72,\n",
       " 1271: 73,\n",
       " 404: 74,\n",
       " 1051: 75,\n",
       " 1053: 76,\n",
       " 467: 77,\n",
       " 762: 78,\n",
       " 103: 79,\n",
       " 302: 80,\n",
       " 45: 81,\n",
       " 181: 82,\n",
       " 303: 83,\n",
       " 322: 84,\n",
       " 1347: 85,\n",
       " 770: 86,\n",
       " 1348: 87,\n",
       " 848: 88,\n",
       " 361: 89,\n",
       " 466: 90,\n",
       " 763: 91,\n",
       " 461: 92,\n",
       " 381: 93,\n",
       " 430: 94,\n",
       " 429: 95,\n",
       " 102: 96,\n",
       " 227: 97,\n",
       " 222: 98,\n",
       " 221: 99,\n",
       " 771: 100,\n",
       " 134: 101,\n",
       " 441: 102,\n",
       " 442: 103,\n",
       " 772: 104,\n",
       " 773: 105,\n",
       " 847: 106,\n",
       " 1217: 107,\n",
       " 403: 108,\n",
       " 406: 109,\n",
       " 1143: 110,\n",
       " 10: 111,\n",
       " 360: 112,\n",
       " 314: 113,\n",
       " 1268: 114,\n",
       " 333: 115,\n",
       " 260: 116,\n",
       " 380: 117,\n",
       " 362: 118,\n",
       " 1333: 119,\n",
       " 469: 120,\n",
       " 468: 121,\n",
       " 116: 122,\n",
       " 108: 123,\n",
       " 43: 124,\n",
       " 156: 125,\n",
       " 180: 126,\n",
       " 157: 127,\n",
       " 229: 128,\n",
       " 391: 129,\n",
       " 252: 130,\n",
       " 426: 131,\n",
       " 44: 132,\n",
       " 169: 133,\n",
       " 230: 134,\n",
       " 427: 135,\n",
       " 253: 136,\n",
       " 428: 137,\n",
       " 425: 138,\n",
       " 58: 139,\n",
       " 405: 140,\n",
       " 199: 141,\n",
       " 439: 142,\n",
       " 210: 143,\n",
       " 267: 144,\n",
       " 284: 145,\n",
       " 400: 146,\n",
       " 323: 147,\n",
       " 126: 148,\n",
       " 401: 149,\n",
       " 209: 150,\n",
       " 72: 151,\n",
       " 304: 152,\n",
       " 305: 153,\n",
       " 363: 154,\n",
       " 231: 155,\n",
       " 767: 156,\n",
       " 766: 157,\n",
       " 1052: 158,\n",
       " 178: 159,\n",
       " 212: 160,\n",
       " 211: 161,\n",
       " 285: 162,\n",
       " 125: 163,\n",
       " 336: 164,\n",
       " 324: 165,\n",
       " 118: 166,\n",
       " 1267: 167,\n",
       " 57: 168,\n",
       " 155: 169,\n",
       " 392: 170,\n",
       " 167: 171,\n",
       " 154: 172,\n",
       " 130: 173,\n",
       " 423: 174,\n",
       " 389: 175,\n",
       " 1186: 176,\n",
       " 390: 177,\n",
       " 435: 178,\n",
       " 436: 179,\n",
       " 275: 180,\n",
       " 394: 181,\n",
       " 359: 182,\n",
       " 11: 183,\n",
       " 335: 184,\n",
       " 119: 185,\n",
       " 307: 186,\n",
       " 440: 187,\n",
       " 168: 188,\n",
       " 306: 189,\n",
       " 1129: 190,\n",
       " 854: 191,\n",
       " 64: 192,\n",
       " 203: 193,\n",
       " 84: 194,\n",
       " 63: 195,\n",
       " 215: 196,\n",
       " 216: 197,\n",
       " 365: 198,\n",
       " 136: 199,\n",
       " 364: 200,\n",
       " 109: 201,\n",
       " 110: 202,\n",
       " 137: 203,\n",
       " 170: 204,\n",
       " 424: 205,\n",
       " 55: 206,\n",
       " 151: 207,\n",
       " 233: 208,\n",
       " 232: 209,\n",
       " 129: 210,\n",
       " 234: 211,\n",
       " 128: 212,\n",
       " 127: 213,\n",
       " 357: 214,\n",
       " 56: 215,\n",
       " 176: 216,\n",
       " 379: 217,\n",
       " 411: 218,\n",
       " 338: 219,\n",
       " 41: 220,\n",
       " 42: 221,\n",
       " 420: 222,\n",
       " 138: 223,\n",
       " 358: 224,\n",
       " 319: 225,\n",
       " 71: 226,\n",
       " 320: 227,\n",
       " 393: 228,\n",
       " 266: 229,\n",
       " 177: 230,\n",
       " 410: 231,\n",
       " 297: 232,\n",
       " 296: 233,\n",
       " 388: 234,\n",
       " 419: 235,\n",
       " 387: 236,\n",
       " 813: 237,\n",
       " 1335: 238,\n",
       " 378: 239,\n",
       " 1334: 240,\n",
       " 183: 241,\n",
       " 337: 242,\n",
       " 61: 243,\n",
       " 117: 244,\n",
       " 62: 245,\n",
       " 185: 246,\n",
       " 1132: 247,\n",
       " 386: 248,\n",
       " 135: 249,\n",
       " 431: 250,\n",
       " 432: 251,\n",
       " 85: 252,\n",
       " 9: 253,\n",
       " 152: 254,\n",
       " 153: 255,\n",
       " 340: 256,\n",
       " 187: 257,\n",
       " 98: 258,\n",
       " 188: 259,\n",
       " 257: 260,\n",
       " 397: 261,\n",
       " 81: 262,\n",
       " 339: 263,\n",
       " 80: 264,\n",
       " 165: 265,\n",
       " 184: 266,\n",
       " 166: 267,\n",
       " 350: 268,\n",
       " 256: 269,\n",
       " 414: 270,\n",
       " 412: 271,\n",
       " 115: 272,\n",
       " 114: 273,\n",
       " 437: 274,\n",
       " 300: 275,\n",
       " 438: 276,\n",
       " 218: 277,\n",
       " 301: 278,\n",
       " 217: 279,\n",
       " 47: 280,\n",
       " 277: 281,\n",
       " 46: 282,\n",
       " 274: 283,\n",
       " 206: 284,\n",
       " 207: 285,\n",
       " 19: 286,\n",
       " 276: 287,\n",
       " 205: 288,\n",
       " 413: 289,\n",
       " 208: 290,\n",
       " 445: 291,\n",
       " 446: 292,\n",
       " 385: 293,\n",
       " 852: 294,\n",
       " 312: 295,\n",
       " 313: 296,\n",
       " 20: 297,\n",
       " 295: 298,\n",
       " 294: 299,\n",
       " 243: 300,\n",
       " 149: 301,\n",
       " 341: 302,\n",
       " 268: 303,\n",
       " 269: 304,\n",
       " 220: 305,\n",
       " 219: 306,\n",
       " 383: 307,\n",
       " 851: 308,\n",
       " 449: 309,\n",
       " 17: 310,\n",
       " 150: 311,\n",
       " 240: 312,\n",
       " 334: 313,\n",
       " 259: 314,\n",
       " 384: 315,\n",
       " 1187: 316,\n",
       " 258: 317,\n",
       " 60: 318,\n",
       " 454: 319,\n",
       " 241: 320,\n",
       " 37: 321,\n",
       " 40: 322,\n",
       " 39: 323,\n",
       " 112: 324,\n",
       " 407: 325,\n",
       " 408: 326,\n",
       " 111: 327,\n",
       " 113: 328,\n",
       " 15: 329,\n",
       " 18: 330,\n",
       " 16: 331,\n",
       " 94: 332,\n",
       " 422: 333,\n",
       " 421: 334,\n",
       " 99: 335,\n",
       " 75: 336,\n",
       " 38: 337,\n",
       " 369: 338,\n",
       " 368: 339,\n",
       " 95: 340,\n",
       " 433: 341,\n",
       " 375: 342,\n",
       " 374: 343,\n",
       " 853: 344,\n",
       " 279: 345,\n",
       " 74: 346,\n",
       " 8: 347,\n",
       " 281: 348,\n",
       " 278: 349,\n",
       " 434: 350,\n",
       " 141: 351,\n",
       " 142: 352,\n",
       " 311: 353,\n",
       " 366: 354,\n",
       " 90: 355,\n",
       " 86: 356,\n",
       " 91: 357,\n",
       " 87: 358,\n",
       " 286: 359,\n",
       " 88: 360,\n",
       " 310: 361,\n",
       " 287: 362,\n",
       " 89: 363,\n",
       " 145: 364,\n",
       " 367: 365,\n",
       " 351: 366,\n",
       " 318: 367,\n",
       " 317: 368,\n",
       " 59: 369,\n",
       " 251: 370,\n",
       " 250: 371,\n",
       " 325: 372,\n",
       " 346: 373,\n",
       " 3: 374,\n",
       " 93: 375,\n",
       " 148: 376,\n",
       " 164: 377,\n",
       " 1320: 378,\n",
       " 161: 379,\n",
       " 92: 380,\n",
       " 140: 381,\n",
       " 348: 382,\n",
       " 349: 383,\n",
       " 68: 384,\n",
       " 67: 385,\n",
       " 147: 386,\n",
       " 69: 387,\n",
       " 70: 388,\n",
       " 402: 389,\n",
       " 160: 390,\n",
       " 376: 391,\n",
       " 377: 392,\n",
       " 159: 393,\n",
       " 242: 394,\n",
       " 291: 395,\n",
       " 290: 396,\n",
       " 292: 397,\n",
       " 293: 398,\n",
       " 248: 399,\n",
       " 249: 400,\n",
       " 35: 401,\n",
       " 120: 402,\n",
       " 36: 403,\n",
       " 271: 404,\n",
       " 270: 405,\n",
       " 246: 406,\n",
       " 1337: 407,\n",
       " 247: 408,\n",
       " 1336: 409,\n",
       " 280: 410,\n",
       " 299: 411,\n",
       " 1350: 412,\n",
       " 298: 413,\n",
       " 245: 414,\n",
       " 244: 415,\n",
       " 179: 416,\n",
       " 417: 417,\n",
       " 396: 418,\n",
       " 2: 419,\n",
       " 25: 420,\n",
       " 186: 421,\n",
       " 213: 422,\n",
       " 395: 423,\n",
       " 214: 424,\n",
       " 1131: 425,\n",
       " 12: 426,\n",
       " 239: 427,\n",
       " 13: 428,\n",
       " 14: 429,\n",
       " 121: 430,\n",
       " 26: 431,\n",
       " 399: 432,\n",
       " 373: 433,\n",
       " 372: 434,\n",
       " 814: 435,\n",
       " 175: 436,\n",
       " 27: 437,\n",
       " 342: 438,\n",
       " 273: 439,\n",
       " 272: 440,\n",
       " 204: 441,\n",
       " 33: 442,\n",
       " 34: 443,\n",
       " 289: 444,\n",
       " 262: 445,\n",
       " 264: 446,\n",
       " 288: 447,\n",
       " 265: 448,\n",
       " 263: 449,\n",
       " 28: 450,\n",
       " 122: 451,\n",
       " 124: 452,\n",
       " 202: 453,\n",
       " 123: 454,\n",
       " 31: 455,\n",
       " 29: 456,\n",
       " 146: 457,\n",
       " 30: 458,\n",
       " 48: 459,\n",
       " 32: 460,\n",
       " 326: 461,\n",
       " 451: 462,\n",
       " 328: 463,\n",
       " 355: 464,\n",
       " 327: 465,\n",
       " 332: 466,\n",
       " 331: 467,\n",
       " 236: 468,\n",
       " 450: 469,\n",
       " 198: 470,\n",
       " 162: 471,\n",
       " 163: 472,\n",
       " 144: 473,\n",
       " 143: 474,\n",
       " 174: 475,\n",
       " 329: 476,\n",
       " 235: 477,\n",
       " 330: 478,\n",
       " 356: 479,\n",
       " 1: 480,\n",
       " 24: 481,\n",
       " 352: 482,\n",
       " 343: 483,\n",
       " 353: 484,\n",
       " 354: 485,\n",
       " 23: 486,\n",
       " 21: 487,\n",
       " 22: 488,\n",
       " 452: 489,\n",
       " 190: 490,\n",
       " 6: 491,\n",
       " 189: 492,\n",
       " 453: 493,\n",
       " 50: 494,\n",
       " 1354: 495,\n",
       " 73: 496,\n",
       " 5: 497,\n",
       " 51: 498,\n",
       " 238: 499,\n",
       " 237: 500,\n",
       " 347: 501,\n",
       " 96: 502,\n",
       " 7: 503,\n",
       " 65: 504,\n",
       " 66: 505,\n",
       " 49: 506,\n",
       " 382: 507,\n",
       " 201: 508,\n",
       " 200: 509,\n",
       " 4: 510,\n",
       " 226: 511,\n",
       " 225: 512,\n",
       " 192: 513,\n",
       " 191: 514,\n",
       " 139: 515,\n",
       " 97: 516,\n",
       " 53: 517,\n",
       " 193: 518,\n",
       " 194: 519,\n",
       " 83: 520,\n",
       " 82: 521,\n",
       " 101: 522,\n",
       " 415: 523,\n",
       " 100: 524,\n",
       " 416: 525,\n",
       " 195: 526,\n",
       " 196: 527,\n",
       " 197: 528,\n",
       " 104: 529,\n",
       " 105: 530,\n",
       " 309: 531,\n",
       " 308: 532,\n",
       " 316: 533,\n",
       " 315: 534,\n",
       " 52: 535,\n",
       " 107: 536,\n",
       " 106: 537,\n",
       " 283: 538,\n",
       " 282: 539,\n",
       " 54: 540,\n",
       " 344: 541,\n",
       " 79: 542,\n",
       " 345: 543,\n",
       " 78: 544,\n",
       " 76: 545,\n",
       " 77: 546,\n",
       " 1130: 547,\n",
       " 409: 548}"
      ]
     },
     "execution_count": 18,
     "metadata": {},
     "output_type": "execute_result"
    }
   ],
   "source": [
    "ch_tg_optimal.hierarchy"
   ]
  },
  {
   "cell_type": "code",
   "execution_count": 17,
   "id": "46c4013d",
   "metadata": {},
   "outputs": [
    {
     "data": {
      "text/plain": [
       "{1198: 0,\n",
       " 818: 97,\n",
       " 458: 407,\n",
       " 173: 115,\n",
       " 447: 391,\n",
       " 845: 133,\n",
       " 815: 283,\n",
       " 448: 390,\n",
       " 1223: 426,\n",
       " 456: 408,\n",
       " 443: 392,\n",
       " 1224: 427,\n",
       " 182: 461,\n",
       " 1330: 385,\n",
       " 132: 365,\n",
       " 457: 409,\n",
       " 463: 285,\n",
       " 775: 377,\n",
       " 1329: 384,\n",
       " 172: 114,\n",
       " 846: 134,\n",
       " 444: 393,\n",
       " 816: 429,\n",
       " 455: 410,\n",
       " 1054: 430,\n",
       " 1243: 411,\n",
       " 370: 477,\n",
       " 1351: 274,\n",
       " 462: 442,\n",
       " 758: 234,\n",
       " 478: 535,\n",
       " 460: 254,\n",
       " 774: 378,\n",
       " 371: 506,\n",
       " 757: 342,\n",
       " 133: 366,\n",
       " 1332: 386,\n",
       " 1055: 428,\n",
       " 756: 511,\n",
       " 759: 235,\n",
       " 1323: 490,\n",
       " 418: 441,\n",
       " 762: 353,\n",
       " 1051: 431,\n",
       " 1242: 534,\n",
       " 848: 253,\n",
       " 465: 284,\n",
       " 435: 396,\n",
       " 477: 540,\n",
       " 764: 492,\n",
       " 765: 491,\n",
       " 817: 433,\n",
       " 849: 255,\n",
       " 131: 367,\n",
       " 1331: 387,\n",
       " 171: 112,\n",
       " 1133: 412,\n",
       " 461: 256,\n",
       " 814: 314,\n",
       " 847: 257,\n",
       " 1052: 432,\n",
       " 225: 467,\n",
       " 261: 455,\n",
       " 769: 494,\n",
       " 158: 149,\n",
       " 255: 527,\n",
       " 254: 528,\n",
       " 1349: 275,\n",
       " 404: 437,\n",
       " 224: 357,\n",
       " 228: 480,\n",
       " 768: 493,\n",
       " 480: 542,\n",
       " 223: 358,\n",
       " 467: 536,\n",
       " 372: 504,\n",
       " 481: 537,\n",
       " 479: 538,\n",
       " 1269: 541,\n",
       " 1271: 530,\n",
       " 373: 505,\n",
       " 322: 513,\n",
       " 850: 193,\n",
       " 760: 354,\n",
       " 321: 514,\n",
       " 442: 394,\n",
       " 773: 380,\n",
       " 441: 395,\n",
       " 761: 355,\n",
       " 466: 539,\n",
       " 302: 457,\n",
       " 103: 318,\n",
       " 45: 546,\n",
       " 181: 462,\n",
       " 303: 458,\n",
       " 417: 438,\n",
       " 1348: 276,\n",
       " 226: 468,\n",
       " 362: 476,\n",
       " 1347: 273,\n",
       " 464: 424,\n",
       " 772: 486,\n",
       " 770: 495,\n",
       " 381: 472,\n",
       " 425: 507,\n",
       " 1217: 531,\n",
       " 426: 508,\n",
       " 102: 317,\n",
       " 230: 469,\n",
       " 406: 440,\n",
       " 361: 388,\n",
       " 229: 470,\n",
       " 222: 368,\n",
       " 763: 488,\n",
       " 221: 356,\n",
       " 436: 361,\n",
       " 134: 364,\n",
       " 771: 510,\n",
       " 1333: 383,\n",
       " 183: 397,\n",
       " 1143: 543,\n",
       " 1053: 416,\n",
       " 403: 434,\n",
       " 314: 443,\n",
       " 360: 444,\n",
       " 11: 459,\n",
       " 333: 446,\n",
       " 1268: 515,\n",
       " 380: 479,\n",
       " 1186: 532,\n",
       " 10: 453,\n",
       " 260: 533,\n",
       " 305: 456,\n",
       " 180: 460,\n",
       " 252: 463,\n",
       " 227: 466,\n",
       " 391: 471,\n",
       " 363: 473,\n",
       " 767: 481,\n",
       " 430: 509,\n",
       " 429: 503,\n",
       " 854: 512,\n",
       " 468: 516,\n",
       " 256: 526,\n",
       " 1129: 529,\n",
       " 116: 544,\n",
       " 44: 545,\n",
       " 108: 547,\n",
       " 157: 548}"
      ]
     },
     "execution_count": 17,
     "metadata": {},
     "output_type": "execute_result"
    }
   ],
   "source": [
    "ch_tg.hierarchy"
   ]
  },
  {
   "cell_type": "markdown",
   "id": "25731a5d",
   "metadata": {},
   "source": [
    "# Pathfinding"
   ]
  },
  {
   "cell_type": "code",
   "execution_count": 8,
   "id": "2686e568",
   "metadata": {},
   "outputs": [
    {
     "data": {
      "text/plain": [
       "(1481511600, 1481585460)"
      ]
     },
     "execution_count": 8,
     "metadata": {},
     "output_type": "execute_result"
    }
   ],
   "source": [
    "transport_connections['dep_time_ut'].min(), transport_connections['dep_time_ut'].max()"
   ]
  },
  {
   "cell_type": "code",
   "execution_count": 10,
   "id": "c44b3a2f",
   "metadata": {},
   "outputs": [
    {
     "name": "stdout",
     "output_type": "stream",
     "text": [
      "Path duration 0:55:37\n",
      "Calculation duration 0:00:36\n",
      "\n",
      "Path duration 0:05:00\n",
      "Calculation duration 0:00:05\n",
      "\n",
      "Path duration 0:27:20\n",
      "Calculation duration 0:00:39\n",
      "\n",
      "Path duration 0:00:00\n",
      "Calculation duration 0:00:00\n",
      "\n",
      "Path duration 0:07:00\n",
      "Calculation duration 0:00:07\n",
      "\n",
      "Path duration 0:05:55\n",
      "Calculation duration 0:00:04\n",
      "\n",
      "Path duration 0:04:20\n",
      "Calculation duration 0:00:03\n",
      "\n",
      "Path duration 0:22:26\n",
      "Calculation duration 0:00:19\n",
      "\n"
     ]
    }
   ],
   "source": [
    "test_pairs = pd.DataFrame([\n",
    "    {'start_time': 1481514083, 'start_node': 330, 'end_node': 54},\n",
    "    {'start_time': 1481519880, 'start_node': 345, 'end_node': 141},\n",
    "    {'start_time': 1481518900, 'start_node': 1, 'end_node': 132},\n",
    "    {'start_time': 1481514540, 'start_node': 116, 'end_node': 118},\n",
    "    {'start_time': 1481519640, 'start_node': 1, 'end_node': 50}, \n",
    "    {'start_time': 1481515900, 'start_node': 1, 'end_node': 51},\n",
    "    {'start_time': 1481515900, 'start_node': 1, 'end_node': 50}, \n",
    "    {'start_time': 1481571574, 'start_node': 146, 'end_node': 7}\n",
    "])\n",
    "for index, row in test_pairs.iterrows():\n",
    "    pathfinding = FCH(graph=ch_tg_optimal,\n",
    "                      start_time=row['start_time'],\n",
    "                      start_node=row['start_node'], \n",
    "                      end_node=row['end_node'])\n",
    "    path = pathfinding.shortest_path(60)\n",
    "    print('Path duration', datetime.timedelta(seconds=int(path['arrival'] - row['start_time'])))\n",
    "    print('Calculation duration', datetime.timedelta(seconds=int(path['duration'])))\n",
    "    print()"
   ]
  },
  {
   "cell_type": "code",
   "execution_count": 11,
   "id": "4beb6b53",
   "metadata": {},
   "outputs": [
    {
     "ename": "KeyError",
     "evalue": "334",
     "output_type": "error",
     "traceback": [
      "\u001b[0;31m---------------------------------------------------------------------------\u001b[0m",
      "\u001b[0;31mKeyError\u001b[0m                                  Traceback (most recent call last)",
      "Cell \u001b[0;32mIn[11], line 16\u001b[0m\n\u001b[1;32m     11\u001b[0m \u001b[38;5;28;01mfor\u001b[39;00m index, row \u001b[38;5;129;01min\u001b[39;00m test_pairs\u001b[38;5;241m.\u001b[39miterrows():\n\u001b[1;32m     12\u001b[0m     pathfinding \u001b[38;5;241m=\u001b[39m FCH(graph\u001b[38;5;241m=\u001b[39mch_tg,\n\u001b[1;32m     13\u001b[0m                       start_time\u001b[38;5;241m=\u001b[39mrow[\u001b[38;5;124m'\u001b[39m\u001b[38;5;124mstart_time\u001b[39m\u001b[38;5;124m'\u001b[39m],\n\u001b[1;32m     14\u001b[0m                       start_node\u001b[38;5;241m=\u001b[39mrow[\u001b[38;5;124m'\u001b[39m\u001b[38;5;124mstart_node\u001b[39m\u001b[38;5;124m'\u001b[39m], \n\u001b[1;32m     15\u001b[0m                       end_node\u001b[38;5;241m=\u001b[39mrow[\u001b[38;5;124m'\u001b[39m\u001b[38;5;124mend_node\u001b[39m\u001b[38;5;124m'\u001b[39m])\n\u001b[0;32m---> 16\u001b[0m     path \u001b[38;5;241m=\u001b[39m \u001b[43mpathfinding\u001b[49m\u001b[38;5;241;43m.\u001b[39;49m\u001b[43mshortest_path\u001b[49m\u001b[43m(\u001b[49m\u001b[38;5;241;43m60\u001b[39;49m\u001b[43m,\u001b[49m\u001b[43m \u001b[49m\u001b[43mgeometrical_containers\u001b[49m\u001b[38;5;241;43m=\u001b[39;49m\u001b[38;5;28;43;01mFalse\u001b[39;49;00m\u001b[43m)\u001b[49m\n\u001b[1;32m     17\u001b[0m     \u001b[38;5;28mprint\u001b[39m(\u001b[38;5;124m'\u001b[39m\u001b[38;5;124mPath duration\u001b[39m\u001b[38;5;124m'\u001b[39m, datetime\u001b[38;5;241m.\u001b[39mtimedelta(seconds\u001b[38;5;241m=\u001b[39m\u001b[38;5;28mint\u001b[39m(path[\u001b[38;5;124m'\u001b[39m\u001b[38;5;124marrival\u001b[39m\u001b[38;5;124m'\u001b[39m] \u001b[38;5;241m-\u001b[39m row[\u001b[38;5;124m'\u001b[39m\u001b[38;5;124mstart_time\u001b[39m\u001b[38;5;124m'\u001b[39m])))\n\u001b[1;32m     18\u001b[0m     \u001b[38;5;28mprint\u001b[39m(\u001b[38;5;124m'\u001b[39m\u001b[38;5;124mCalculation duration\u001b[39m\u001b[38;5;124m'\u001b[39m, datetime\u001b[38;5;241m.\u001b[39mtimedelta(seconds\u001b[38;5;241m=\u001b[39m\u001b[38;5;28mint\u001b[39m(path[\u001b[38;5;124m'\u001b[39m\u001b[38;5;124mduration\u001b[39m\u001b[38;5;124m'\u001b[39m])))\n",
      "File \u001b[0;32m~/dev/unsw/pathfinder/contraction_hierarchy/forward_search.py:45\u001b[0m, in \u001b[0;36mFCH.shortest_path\u001b[0;34m(self, duration, search_with_switching_graphs, geometrical_containers)\u001b[0m\n\u001b[1;32m     43\u001b[0m \u001b[38;5;28;01mfor\u001b[39;00m node \u001b[38;5;129;01min\u001b[39;00m \u001b[38;5;28mself\u001b[39m\u001b[38;5;241m.\u001b[39mgraph\u001b[38;5;241m.\u001b[39mgraph[winner_node]:\n\u001b[1;32m     44\u001b[0m     \u001b[38;5;28;01mif\u001b[39;00m \u001b[38;5;129;01mnot\u001b[39;00m \u001b[38;5;28mself\u001b[39m\u001b[38;5;241m.\u001b[39mcandidate_down_move[winner_node]:\n\u001b[0;32m---> 45\u001b[0m         \u001b[38;5;28;01mif\u001b[39;00m \u001b[38;5;28;43mself\u001b[39;49m\u001b[38;5;241;43m.\u001b[39;49m\u001b[43mgraph\u001b[49m\u001b[38;5;241;43m.\u001b[39;49m\u001b[43mhierarchy\u001b[49m\u001b[43m[\u001b[49m\u001b[43mnode\u001b[49m\u001b[43m]\u001b[49m \u001b[38;5;241m>\u001b[39m \u001b[38;5;28mself\u001b[39m\u001b[38;5;241m.\u001b[39mgraph\u001b[38;5;241m.\u001b[39mhierarchy[winner_node]:\n\u001b[1;32m     46\u001b[0m             \u001b[38;5;28mself\u001b[39m\u001b[38;5;241m.\u001b[39m_update_vertex_with_mode(node, winner_node, winner_weight, \u001b[38;5;28;01mFalse\u001b[39;00m, mode\u001b[38;5;241m=\u001b[39m\u001b[38;5;124m'\u001b[39m\u001b[38;5;124mall\u001b[39m\u001b[38;5;124m'\u001b[39m)\n\u001b[1;32m     47\u001b[0m         \u001b[38;5;28;01melse\u001b[39;00m:\n",
      "\u001b[0;31mKeyError\u001b[0m: 334"
     ]
    }
   ],
   "source": [
    "test_pairs = pd.DataFrame([\n",
    "    {'start_time': 1481514083, 'start_node': 330, 'end_node': 54},\n",
    "    {'start_time': 1481519880, 'start_node': 345, 'end_node': 141},\n",
    "    {'start_time': 1481518900, 'start_node': 1, 'end_node': 132},\n",
    "    {'start_time': 1481514540, 'start_node': 116, 'end_node': 118},\n",
    "    {'start_time': 1481519640, 'start_node': 1, 'end_node': 50}, \n",
    "    {'start_time': 1481515900, 'start_node': 1, 'end_node': 51},\n",
    "    {'start_time': 1481515900, 'start_node': 1, 'end_node': 50}, \n",
    "    {'start_time': 1481571574, 'start_node': 146, 'end_node': 7}\n",
    "])\n",
    "for index, row in test_pairs.iterrows():\n",
    "    pathfinding = FCH(graph=ch_tg,\n",
    "                      start_time=row['start_time'],\n",
    "                      start_node=row['start_node'], \n",
    "                      end_node=row['end_node'])\n",
    "    path = pathfinding.shortest_path(60, geometrical_containers=False)\n",
    "    print('Path duration', datetime.timedelta(seconds=int(path['arrival'] - row['start_time'])))\n",
    "    print('Calculation duration', datetime.timedelta(seconds=int(path['duration'])))\n",
    "    print()"
   ]
  },
  {
   "cell_type": "markdown",
   "id": "a81304ed",
   "metadata": {},
   "source": [
    "# Compare 2 solutions"
   ]
  },
  {
   "cell_type": "code",
   "execution_count": 41,
   "id": "745d3947",
   "metadata": {
    "scrolled": true
   },
   "outputs": [
    {
     "name": "stderr",
     "output_type": "stream",
     "text": [
      "/var/folders/y3/4nz44bj52pz9p2mrm1s72mxc0000gn/T/ipykernel_96783/912335882.py:4: DeprecationWarning: Sampling from a set deprecated\n",
      "since Python 3.9 and will be removed in a subsequent version.\n",
      "  'start_node' : [random.sample(ch_tg.nodes, 1)[0] for i in range(N)],\n",
      "/var/folders/y3/4nz44bj52pz9p2mrm1s72mxc0000gn/T/ipykernel_96783/912335882.py:5: DeprecationWarning: Sampling from a set deprecated\n",
      "since Python 3.9 and will be removed in a subsequent version.\n",
      "  'end_node' : [random.sample(ch_tg.nodes, 1)[0] for i in range(N)]\n",
      "WARNING:root:Target 818 not reachable from node 759\n",
      "WARNING:root:Target 818 not reachable from node 759\n",
      "WARNING:root:Target 140 not reachable from node 759\n",
      "WARNING:root:Target 140 not reachable from node 759\n",
      "WARNING:root:Target 382 not reachable from node 1198\n",
      "WARNING:root:Target 382 not reachable from node 1198\n",
      "WARNING:root:Target 129 not reachable from node 770\n",
      "WARNING:root:Target 129 not reachable from node 770\n",
      "WARNING:root:Target 309 not reachable from node 766\n",
      "WARNING:root:Target 309 not reachable from node 766\n",
      "WARNING:root:Target 1056 not reachable from node 388\n",
      "WARNING:root:Target 1056 not reachable from node 388\n",
      "WARNING:root:Target 353 not reachable from node 768\n",
      "WARNING:root:Target 353 not reachable from node 768\n",
      "WARNING:root:Target 773 not reachable from node 194\n",
      "WARNING:root:Target 773 not reachable from node 194\n",
      "WARNING:root:Target 79 not reachable from node 765\n",
      "WARNING:root:Target 79 not reachable from node 765\n",
      "WARNING:root:Target 226 not reachable from node 769\n",
      "WARNING:root:Target 226 not reachable from node 769\n",
      "WARNING:root:Target 350 not reachable from node 767\n",
      "WARNING:root:Target 350 not reachable from node 767\n",
      "WARNING:root:Target 1198 not reachable from node 130\n",
      "WARNING:root:Target 1198 not reachable from node 130\n",
      "WARNING:root:Target 774 not reachable from node 55\n",
      "WARNING:root:Target 774 not reachable from node 55\n",
      "WARNING:root:Target 770 not reachable from node 1354\n",
      "WARNING:root:Target 770 not reachable from node 1354\n",
      "WARNING:root:Target 165 not reachable from node 760\n",
      "WARNING:root:Target 165 not reachable from node 760\n",
      "WARNING:root:Target 766 not reachable from node 180\n",
      "WARNING:root:Target 766 not reachable from node 180\n",
      "WARNING:root:Target 762 not reachable from node 424\n",
      "WARNING:root:Target 762 not reachable from node 424\n",
      "WARNING:root:Target 845 not reachable from node 770\n",
      "WARNING:root:Target 845 not reachable from node 770\n",
      "WARNING:root:Target 464 not reachable from node 467\n",
      "WARNING:root:Target 464 not reachable from node 467\n",
      "WARNING:root:Target 290 not reachable from node 758\n",
      "WARNING:root:Target 290 not reachable from node 758\n",
      "WARNING:root:Target 107 not reachable from node 1323\n",
      "WARNING:root:Target 107 not reachable from node 1323\n",
      "WARNING:root:Target 759 not reachable from node 815\n",
      "WARNING:root:Target 759 not reachable from node 815\n",
      "WARNING:root:Target 762 not reachable from node 1332\n",
      "WARNING:root:Target 762 not reachable from node 1332\n",
      "WARNING:root:Target 233 not reachable from node 774\n",
      "WARNING:root:Target 233 not reachable from node 774\n",
      "WARNING:root:Target 1224 not reachable from node 117\n",
      "WARNING:root:Target 1224 not reachable from node 117\n",
      "WARNING:root:Target 149 not reachable from node 478\n",
      "WARNING:root:Target 149 not reachable from node 478\n",
      "WARNING:root:Target 817 not reachable from node 814\n",
      "WARNING:root:Target 817 not reachable from node 814\n",
      "WARNING:root:Target 379 not reachable from node 455\n",
      "WARNING:root:Target 379 not reachable from node 455\n",
      "WARNING:root:Target 441 not reachable from node 767\n",
      "WARNING:root:Target 441 not reachable from node 767\n",
      "WARNING:root:Target 758 not reachable from node 340\n",
      "WARNING:root:Target 758 not reachable from node 340\n",
      "WARNING:root:Target 435 not reachable from node 762\n",
      "WARNING:root:Target 435 not reachable from node 762\n",
      "WARNING:root:Target 152 not reachable from node 767\n",
      "WARNING:root:Target 152 not reachable from node 767\n",
      "WARNING:root:Target 151 not reachable from node 773\n",
      "WARNING:root:Target 151 not reachable from node 773\n",
      "WARNING:root:Target 773 not reachable from node 183\n",
      "WARNING:root:Target 773 not reachable from node 183\n",
      "WARNING:root:Target 357 not reachable from node 767\n",
      "WARNING:root:Target 357 not reachable from node 767\n",
      "WARNING:root:Target 768 not reachable from node 342\n",
      "WARNING:root:Target 768 not reachable from node 342\n",
      "WARNING:root:Target 175 not reachable from node 816\n",
      "WARNING:root:Target 175 not reachable from node 816\n",
      "WARNING:root:Target 768 not reachable from node 352\n",
      "WARNING:root:Target 768 not reachable from node 352\n",
      "WARNING:root:Target 1054 not reachable from node 182\n",
      "WARNING:root:Target 1054 not reachable from node 182\n",
      "WARNING:root:Target 1242 not reachable from node 348\n",
      "WARNING:root:Target 1242 not reachable from node 348\n",
      "WARNING:root:Target 432 not reachable from node 1053\n",
      "WARNING:root:Target 432 not reachable from node 1053\n",
      "WARNING:root:Target 1336 not reachable from node 771\n",
      "WARNING:root:Target 1336 not reachable from node 771\n",
      "WARNING:root:Target 774 not reachable from node 101\n",
      "WARNING:root:Target 774 not reachable from node 101\n",
      "WARNING:root:Target 764 not reachable from node 375\n",
      "WARNING:root:Target 764 not reachable from node 375\n",
      "WARNING:root:Target 1052 not reachable from node 243\n",
      "WARNING:root:Target 1052 not reachable from node 243\n",
      "WARNING:root:Target 332 not reachable from node 760\n",
      "WARNING:root:Target 332 not reachable from node 760\n",
      "WARNING:root:Target 318 not reachable from node 765\n",
      "WARNING:root:Target 318 not reachable from node 765\n",
      "WARNING:root:Target 45 not reachable from node 481\n",
      "WARNING:root:Target 45 not reachable from node 481\n",
      "WARNING:root:Target 228 not reachable from node 763\n",
      "WARNING:root:Target 228 not reachable from node 763\n",
      "WARNING:root:Target 771 not reachable from node 268\n",
      "WARNING:root:Target 771 not reachable from node 268\n",
      "WARNING:root:Target 457 not reachable from node 426\n",
      "WARNING:root:Target 457 not reachable from node 426\n",
      "WARNING:root:Target 769 not reachable from node 70\n",
      "WARNING:root:Target 769 not reachable from node 70\n",
      "WARNING:root:Target 480 not reachable from node 300\n",
      "WARNING:root:Target 480 not reachable from node 300\n",
      "WARNING:root:Target 1056 not reachable from node 16\n",
      "WARNING:root:Target 1056 not reachable from node 16\n",
      "WARNING:root:Target 769 not reachable from node 226\n",
      "WARNING:root:Target 769 not reachable from node 226\n",
      "WARNING:root:Target 768 not reachable from node 249\n",
      "WARNING:root:Target 768 not reachable from node 249\n",
      "WARNING:root:Target 766 not reachable from node 279\n",
      "WARNING:root:Target 766 not reachable from node 279\n",
      "WARNING:root:Target 772 not reachable from node 97\n",
      "WARNING:root:Target 772 not reachable from node 97\n",
      "WARNING:root:Target 119 not reachable from node 764\n",
      "WARNING:root:Target 119 not reachable from node 764\n",
      "WARNING:root:Target 759 not reachable from node 92\n",
      "WARNING:root:Target 759 not reachable from node 92\n",
      "WARNING:root:Target 772 not reachable from node 166\n",
      "WARNING:root:Target 772 not reachable from node 166\n",
      "WARNING:root:Target 758 not reachable from node 1055\n",
      "WARNING:root:Target 758 not reachable from node 1055\n",
      "WARNING:root:Target 1269 not reachable from node 760\n",
      "WARNING:root:Target 1269 not reachable from node 760\n",
      "WARNING:root:Target 763 not reachable from node 445\n",
      "WARNING:root:Target 763 not reachable from node 445\n",
      "WARNING:root:Target 757 not reachable from node 192\n",
      "WARNING:root:Target 757 not reachable from node 192\n",
      "WARNING:root:Target 322 not reachable from node 1323\n",
      "WARNING:root:Target 322 not reachable from node 1323\n",
      "WARNING:root:Target 180 not reachable from node 774\n",
      "WARNING:root:Target 180 not reachable from node 774\n",
      "WARNING:root:Target 852 not reachable from node 766\n",
      "WARNING:root:Target 852 not reachable from node 766\n",
      "WARNING:root:Target 760 not reachable from node 189\n",
      "WARNING:root:Target 760 not reachable from node 189\n",
      "WARNING:root:Target 761 not reachable from node 138\n",
      "WARNING:root:Target 761 not reachable from node 138\n",
      "WARNING:root:Target 320 not reachable from node 1051\n",
      "WARNING:root:Target 320 not reachable from node 1051\n",
      "WARNING:root:Target 411 not reachable from node 768\n",
      "WARNING:root:Target 411 not reachable from node 768\n",
      "WARNING:root:Target 1323 not reachable from node 451\n",
      "WARNING:root:Target 1323 not reachable from node 451\n",
      "WARNING:root:Target 383 not reachable from node 1224\n"
     ]
    },
    {
     "name": "stderr",
     "output_type": "stream",
     "text": [
      "WARNING:root:Target 383 not reachable from node 1224\n",
      "WARNING:root:Target 122 not reachable from node 775\n",
      "WARNING:root:Target 122 not reachable from node 775\n",
      "WARNING:root:Target 758 not reachable from node 226\n",
      "WARNING:root:Target 758 not reachable from node 226\n",
      "WARNING:root:Target 1323 not reachable from node 221\n",
      "WARNING:root:Target 1323 not reachable from node 221\n",
      "WARNING:root:Target 761 not reachable from node 98\n",
      "WARNING:root:Target 761 not reachable from node 98\n",
      "WARNING:root:Target 181 not reachable from node 773\n",
      "WARNING:root:Target 181 not reachable from node 773\n",
      "WARNING:root:Target 51 not reachable from node 774\n",
      "WARNING:root:Target 51 not reachable from node 774\n",
      "WARNING:root:Target 287 not reachable from node 760\n",
      "WARNING:root:Target 287 not reachable from node 760\n",
      "WARNING:root:Target 137 not reachable from node 758\n",
      "WARNING:root:Target 137 not reachable from node 758\n",
      "WARNING:root:Target 1330 not reachable from node 765\n",
      "WARNING:root:Target 1330 not reachable from node 765\n",
      "WARNING:root:Target 406 not reachable from node 817\n",
      "WARNING:root:Target 406 not reachable from node 817\n",
      "WARNING:root:Target 1051 not reachable from node 372\n",
      "WARNING:root:Target 1051 not reachable from node 372\n",
      "WARNING:root:Target 1055 not reachable from node 298\n",
      "WARNING:root:Target 1055 not reachable from node 298\n",
      "WARNING:root:Target 773 not reachable from node 4\n",
      "WARNING:root:Target 773 not reachable from node 4\n",
      "WARNING:root:Target 47 not reachable from node 775\n",
      "WARNING:root:Target 47 not reachable from node 775\n",
      "WARNING:root:Target 1055 not reachable from node 71\n",
      "WARNING:root:Target 1055 not reachable from node 71\n",
      "WARNING:root:Target 405 not reachable from node 763\n",
      "WARNING:root:Target 405 not reachable from node 763\n",
      "WARNING:root:Target 766 not reachable from node 92\n",
      "WARNING:root:Target 766 not reachable from node 92\n",
      "WARNING:root:Target 818 not reachable from node 381\n",
      "WARNING:root:Target 818 not reachable from node 381\n",
      "WARNING:root:Target 759 not reachable from node 153\n",
      "WARNING:root:Target 759 not reachable from node 153\n",
      "WARNING:root:Target 458 not reachable from node 198\n",
      "WARNING:root:Target 458 not reachable from node 198\n",
      "WARNING:root:Target 758 not reachable from node 109\n",
      "WARNING:root:Target 758 not reachable from node 109\n"
     ]
    }
   ],
   "source": [
    "N = 1_000\n",
    "test_data = pd.DataFrame({'start_time': [random.randint(transport_connections['dep_time_ut'].min(), \n",
    "                                           transport_connections['dep_time_ut'].max()) for i in range(N)],\n",
    "             'start_node' : [random.sample(ch_tg.nodes, 1)[0] for i in range(N)], \n",
    "              'end_node' : [random.sample(ch_tg.nodes, 1)[0] for i in range(N)]\n",
    "             })\n",
    "new_duration = []\n",
    "optimal_duration = []\n",
    "for index, row in test_data.iterrows():\n",
    "    \n",
    "    # new search\n",
    "    pathfinding = FCH(graph=ch_tg,\n",
    "                      start_time=row['start_time'],\n",
    "                      start_node=row['start_node'], \n",
    "                      end_node=row['end_node'])\n",
    "    path = pathfinding.shortest_path(60, search_with_switching_graphs=True, geometrical_containers=False)\n",
    "    if path['path']:\n",
    "        new_duration.append(path['duration'])\n",
    "    new_arrival = path['arrival']\n",
    "    \n",
    "    # optimal_duration\n",
    "    pathfinding = FCH(graph=ch_tg_optimal,\n",
    "                      start_time=row['start_time'],\n",
    "                      start_node=row['start_node'], \n",
    "                      end_node=row['end_node'])\n",
    "    path = pathfinding.shortest_path(60, search_with_switching_graphs=False, geometrical_containers=True)\n",
    "    if path['path']:\n",
    "        optimal_duration.append(path['duration'])\n",
    "    optimal_arrival = path['arrival']\n",
    "    \n",
    "    # validate\n",
    "    assert new_arrival == optimal_arrival"
   ]
  },
  {
   "cell_type": "code",
   "execution_count": 42,
   "id": "ef3a6644",
   "metadata": {},
   "outputs": [
    {
     "data": {
      "text/plain": [
       "(12.350276243093923, 12.0, 6.819533403048331)"
      ]
     },
     "execution_count": 42,
     "metadata": {},
     "output_type": "execute_result"
    }
   ],
   "source": [
    "np.mean(optimal_duration), np.median(optimal_duration), np.std(optimal_duration)"
   ]
  },
  {
   "cell_type": "code",
   "execution_count": 43,
   "id": "2dd09971",
   "metadata": {},
   "outputs": [
    {
     "data": {
      "text/plain": [
       "(30.609944751381214, 33.0, 15.269776977651762)"
      ]
     },
     "execution_count": 43,
     "metadata": {},
     "output_type": "execute_result"
    }
   ],
   "source": [
    "np.mean(new_duration), np.median(new_duration), np.std(new_duration)"
   ]
  },
  {
   "cell_type": "markdown",
   "id": "1373dcfc",
   "metadata": {},
   "source": [
    "### Withoout geometrical containers"
   ]
  },
  {
   "cell_type": "code",
   "execution_count": 44,
   "id": "9814b1ab",
   "metadata": {
    "scrolled": true
   },
   "outputs": [
    {
     "name": "stderr",
     "output_type": "stream",
     "text": [
      "/var/folders/y3/4nz44bj52pz9p2mrm1s72mxc0000gn/T/ipykernel_96783/2655839994.py:4: DeprecationWarning: Sampling from a set deprecated\n",
      "since Python 3.9 and will be removed in a subsequent version.\n",
      "  'start_node' : [random.sample(ch_tg.nodes, 1)[0] for i in range(N)],\n",
      "/var/folders/y3/4nz44bj52pz9p2mrm1s72mxc0000gn/T/ipykernel_96783/2655839994.py:5: DeprecationWarning: Sampling from a set deprecated\n",
      "since Python 3.9 and will be removed in a subsequent version.\n",
      "  'end_node' : [random.sample(ch_tg.nodes, 1)[0] for i in range(N)]\n",
      "WARNING:root:Target 408 not reachable from node 458\n",
      "WARNING:root:Target 408 not reachable from node 458\n",
      "WARNING:root:Target 2 not reachable from node 469\n",
      "WARNING:root:Target 2 not reachable from node 469\n",
      "WARNING:root:Target 767 not reachable from node 187\n",
      "WARNING:root:Target 767 not reachable from node 187\n",
      "WARNING:root:Target 453 not reachable from node 1051\n",
      "WARNING:root:Target 453 not reachable from node 1051\n",
      "WARNING:root:Target 762 not reachable from node 341\n",
      "WARNING:root:Target 762 not reachable from node 341\n",
      "WARNING:root:Target 5 not reachable from node 760\n",
      "WARNING:root:Target 5 not reachable from node 760\n",
      "WARNING:root:Target 772 not reachable from node 32\n",
      "WARNING:root:Target 772 not reachable from node 32\n",
      "WARNING:root:Target 762 not reachable from node 400\n",
      "WARNING:root:Target 762 not reachable from node 400\n",
      "WARNING:root:Target 756 not reachable from node 849\n",
      "WARNING:root:Target 756 not reachable from node 849\n",
      "WARNING:root:Target 1143 not reachable from node 766\n",
      "WARNING:root:Target 1143 not reachable from node 766\n",
      "WARNING:root:Target 428 not reachable from node 757\n",
      "WARNING:root:Target 428 not reachable from node 757\n",
      "WARNING:root:Target 436 not reachable from node 763\n",
      "WARNING:root:Target 436 not reachable from node 763\n",
      "WARNING:root:Target 172 not reachable from node 770\n",
      "WARNING:root:Target 172 not reachable from node 770\n",
      "WARNING:root:Target 286 not reachable from node 1242\n",
      "WARNING:root:Target 286 not reachable from node 1242\n",
      "WARNING:root:Target 295 not reachable from node 767\n",
      "WARNING:root:Target 295 not reachable from node 767\n",
      "WARNING:root:Target 128 not reachable from node 1323\n",
      "WARNING:root:Target 128 not reachable from node 1323\n",
      "WARNING:root:Target 167 not reachable from node 774\n",
      "WARNING:root:Target 167 not reachable from node 774\n",
      "WARNING:root:Target 57 not reachable from node 756\n",
      "WARNING:root:Target 57 not reachable from node 756\n",
      "WARNING:root:Target 772 not reachable from node 424\n",
      "WARNING:root:Target 772 not reachable from node 424\n",
      "WARNING:root:Target 774 not reachable from node 294\n",
      "WARNING:root:Target 774 not reachable from node 294\n",
      "WARNING:root:Target 39 not reachable from node 1323\n",
      "WARNING:root:Target 39 not reachable from node 1323\n",
      "WARNING:root:Target 367 not reachable from node 479\n",
      "WARNING:root:Target 367 not reachable from node 479\n",
      "WARNING:root:Target 1267 not reachable from node 757\n",
      "WARNING:root:Target 1267 not reachable from node 757\n",
      "WARNING:root:Target 756 not reachable from node 252\n",
      "WARNING:root:Target 756 not reachable from node 252\n",
      "WARNING:root:Target 185 not reachable from node 760\n",
      "WARNING:root:Target 185 not reachable from node 760\n",
      "WARNING:root:Target 1132 not reachable from node 760\n",
      "WARNING:root:Target 1132 not reachable from node 760\n",
      "WARNING:root:Target 1053 not reachable from node 59\n",
      "WARNING:root:Target 1053 not reachable from node 59\n",
      "WARNING:root:Target 759 not reachable from node 216\n",
      "WARNING:root:Target 759 not reachable from node 216\n",
      "WARNING:root:Target 1224 not reachable from node 413\n",
      "WARNING:root:Target 1224 not reachable from node 413\n",
      "WARNING:root:Target 14 not reachable from node 816\n",
      "WARNING:root:Target 14 not reachable from node 816\n",
      "WARNING:root:Target 2 not reachable from node 759\n",
      "WARNING:root:Target 2 not reachable from node 759\n",
      "WARNING:root:Target 226 not reachable from node 1053\n",
      "WARNING:root:Target 226 not reachable from node 1053\n",
      "WARNING:root:Target 389 not reachable from node 1051\n",
      "WARNING:root:Target 389 not reachable from node 1051\n",
      "WARNING:root:Target 363 not reachable from node 757\n",
      "WARNING:root:Target 363 not reachable from node 757\n",
      "WARNING:root:Target 760 not reachable from node 1242\n",
      "WARNING:root:Target 760 not reachable from node 1242\n",
      "WARNING:root:Target 763 not reachable from node 95\n",
      "WARNING:root:Target 763 not reachable from node 95\n",
      "WARNING:root:Target 771 not reachable from node 308\n",
      "WARNING:root:Target 771 not reachable from node 308\n",
      "WARNING:root:Target 764 not reachable from node 281\n",
      "WARNING:root:Target 764 not reachable from node 281\n",
      "WARNING:root:Target 315 not reachable from node 1223\n",
      "WARNING:root:Target 315 not reachable from node 1223\n",
      "WARNING:root:Target 1223 not reachable from node 53\n",
      "WARNING:root:Target 1223 not reachable from node 53\n",
      "WARNING:root:Target 273 not reachable from node 469\n",
      "WARNING:root:Target 273 not reachable from node 469\n",
      "WARNING:root:Target 218 not reachable from node 1198\n",
      "WARNING:root:Target 218 not reachable from node 1198\n",
      "WARNING:root:Target 761 not reachable from node 147\n",
      "WARNING:root:Target 761 not reachable from node 147\n",
      "WARNING:root:Target 246 not reachable from node 469\n",
      "WARNING:root:Target 246 not reachable from node 469\n",
      "WARNING:root:Target 773 not reachable from node 1187\n",
      "WARNING:root:Target 773 not reachable from node 1187\n",
      "WARNING:root:Target 468 not reachable from node 179\n",
      "WARNING:root:Target 468 not reachable from node 179\n",
      "WARNING:root:Target 771 not reachable from node 213\n",
      "WARNING:root:Target 771 not reachable from node 213\n",
      "WARNING:root:Target 775 not reachable from node 10\n",
      "WARNING:root:Target 775 not reachable from node 10\n",
      "WARNING:root:Target 774 not reachable from node 468\n",
      "WARNING:root:Target 774 not reachable from node 468\n",
      "WARNING:root:Target 10 not reachable from node 757\n",
      "WARNING:root:Target 10 not reachable from node 757\n",
      "WARNING:root:Target 251 not reachable from node 1055\n",
      "WARNING:root:Target 251 not reachable from node 1055\n",
      "WARNING:root:Target 761 not reachable from node 65\n",
      "WARNING:root:Target 761 not reachable from node 65\n",
      "WARNING:root:Target 280 not reachable from node 764\n",
      "WARNING:root:Target 280 not reachable from node 764\n",
      "WARNING:root:Target 769 not reachable from node 1330\n",
      "WARNING:root:Target 769 not reachable from node 1330\n",
      "WARNING:root:Target 756 not reachable from node 414\n",
      "WARNING:root:Target 756 not reachable from node 414\n",
      "WARNING:root:Target 758 not reachable from node 215\n",
      "WARNING:root:Target 758 not reachable from node 215\n",
      "WARNING:root:Target 756 not reachable from node 232\n",
      "WARNING:root:Target 756 not reachable from node 232\n",
      "WARNING:root:Target 767 not reachable from node 71\n",
      "WARNING:root:Target 767 not reachable from node 71\n",
      "WARNING:root:Target 172 not reachable from node 770\n",
      "WARNING:root:Target 172 not reachable from node 770\n",
      "WARNING:root:Target 455 not reachable from node 1198\n",
      "WARNING:root:Target 455 not reachable from node 1198\n",
      "WARNING:root:Target 760 not reachable from node 1329\n",
      "WARNING:root:Target 760 not reachable from node 1329\n",
      "WARNING:root:Target 1051 not reachable from node 103\n",
      "WARNING:root:Target 1051 not reachable from node 103\n",
      "WARNING:root:Target 766 not reachable from node 25\n",
      "WARNING:root:Target 766 not reachable from node 25\n",
      "WARNING:root:Target 64 not reachable from node 765\n",
      "WARNING:root:Target 64 not reachable from node 765\n",
      "WARNING:root:Target 139 not reachable from node 761\n",
      "WARNING:root:Target 139 not reachable from node 761\n",
      "WARNING:root:Target 1133 not reachable from node 101\n",
      "WARNING:root:Target 1133 not reachable from node 101\n",
      "WARNING:root:Target 411 not reachable from node 762\n",
      "WARNING:root:Target 411 not reachable from node 762\n",
      "WARNING:root:Target 756 not reachable from node 1337\n",
      "WARNING:root:Target 756 not reachable from node 1337\n",
      "WARNING:root:Target 268 not reachable from node 1055\n",
      "WARNING:root:Target 268 not reachable from node 1055\n",
      "WARNING:root:Target 760 not reachable from node 206\n",
      "WARNING:root:Target 760 not reachable from node 206\n",
      "WARNING:root:Target 124 not reachable from node 775\n",
      "WARNING:root:Target 124 not reachable from node 775\n",
      "WARNING:root:Target 309 not reachable from node 773\n",
      "WARNING:root:Target 309 not reachable from node 773\n",
      "WARNING:root:Target 164 not reachable from node 1323\n",
      "WARNING:root:Target 164 not reachable from node 1323\n",
      "WARNING:root:Target 760 not reachable from node 128\n",
      "WARNING:root:Target 760 not reachable from node 128\n"
     ]
    },
    {
     "name": "stderr",
     "output_type": "stream",
     "text": [
      "WARNING:root:Target 178 not reachable from node 773\n",
      "WARNING:root:Target 178 not reachable from node 773\n",
      "WARNING:root:Target 223 not reachable from node 772\n",
      "WARNING:root:Target 223 not reachable from node 772\n",
      "WARNING:root:Target 410 not reachable from node 775\n",
      "WARNING:root:Target 410 not reachable from node 775\n",
      "WARNING:root:Target 769 not reachable from node 139\n",
      "WARNING:root:Target 769 not reachable from node 139\n",
      "WARNING:root:Target 25 not reachable from node 467\n",
      "WARNING:root:Target 25 not reachable from node 467\n",
      "WARNING:root:Target 467 not reachable from node 765\n",
      "WARNING:root:Target 467 not reachable from node 765\n",
      "WARNING:root:Target 1223 not reachable from node 95\n",
      "WARNING:root:Target 1223 not reachable from node 95\n",
      "WARNING:root:Target 112 not reachable from node 762\n",
      "WARNING:root:Target 112 not reachable from node 762\n",
      "WARNING:root:Target 1354 not reachable from node 455\n",
      "WARNING:root:Target 1354 not reachable from node 455\n",
      "WARNING:root:Target 1336 not reachable from node 1056\n",
      "WARNING:root:Target 1336 not reachable from node 1056\n",
      "WARNING:root:Target 370 not reachable from node 772\n",
      "WARNING:root:Target 370 not reachable from node 772\n",
      "WARNING:root:Target 1348 not reachable from node 775\n",
      "WARNING:root:Target 1348 not reachable from node 775\n",
      "WARNING:root:Target 34 not reachable from node 774\n",
      "WARNING:root:Target 34 not reachable from node 774\n",
      "WARNING:root:Target 437 not reachable from node 762\n",
      "WARNING:root:Target 437 not reachable from node 762\n",
      "WARNING:root:Target 314 not reachable from node 1054\n",
      "WARNING:root:Target 314 not reachable from node 1054\n",
      "WARNING:root:Target 761 not reachable from node 283\n",
      "WARNING:root:Target 761 not reachable from node 283\n",
      "WARNING:root:Target 758 not reachable from node 68\n",
      "WARNING:root:Target 758 not reachable from node 68\n",
      "WARNING:root:Target 340 not reachable from node 771\n",
      "WARNING:root:Target 340 not reachable from node 771\n",
      "WARNING:root:Target 767 not reachable from node 816\n",
      "WARNING:root:Target 767 not reachable from node 816\n",
      "WARNING:root:Target 460 not reachable from node 765\n",
      "WARNING:root:Target 460 not reachable from node 765\n",
      "WARNING:root:Target 766 not reachable from node 384\n",
      "WARNING:root:Target 766 not reachable from node 384\n",
      "WARNING:root:Target 767 not reachable from node 481\n",
      "WARNING:root:Target 767 not reachable from node 481\n",
      "WARNING:root:Target 1198 not reachable from node 756\n",
      "WARNING:root:Target 1198 not reachable from node 756\n",
      "WARNING:root:Target 768 not reachable from node 136\n",
      "WARNING:root:Target 768 not reachable from node 136\n",
      "WARNING:root:Target 1332 not reachable from node 775\n",
      "WARNING:root:Target 1332 not reachable from node 775\n",
      "WARNING:root:Target 1323 not reachable from node 1217\n",
      "WARNING:root:Target 1323 not reachable from node 1217\n",
      "WARNING:root:Target 141 not reachable from node 771\n",
      "WARNING:root:Target 141 not reachable from node 771\n",
      "WARNING:root:Target 479 not reachable from node 83\n",
      "WARNING:root:Target 479 not reachable from node 83\n",
      "WARNING:root:Target 151 not reachable from node 775\n",
      "WARNING:root:Target 151 not reachable from node 775\n",
      "WARNING:root:Target 83 not reachable from node 775\n",
      "WARNING:root:Target 83 not reachable from node 775\n",
      "WARNING:root:Target 13 not reachable from node 761\n",
      "WARNING:root:Target 13 not reachable from node 761\n",
      "WARNING:root:Target 376 not reachable from node 775\n",
      "WARNING:root:Target 376 not reachable from node 775\n",
      "WARNING:root:Target 433 not reachable from node 761\n",
      "WARNING:root:Target 433 not reachable from node 761\n",
      "WARNING:root:Target 817 not reachable from node 3\n",
      "WARNING:root:Target 817 not reachable from node 3\n",
      "WARNING:root:Target 216 not reachable from node 769\n",
      "WARNING:root:Target 216 not reachable from node 769\n"
     ]
    }
   ],
   "source": [
    "N = 1_000\n",
    "test_data = pd.DataFrame({'start_time': [random.randint(transport_connections['dep_time_ut'].min(), \n",
    "                                           transport_connections['dep_time_ut'].max()) for i in range(N)],\n",
    "             'start_node' : [random.sample(ch_tg.nodes, 1)[0] for i in range(N)], \n",
    "              'end_node' : [random.sample(ch_tg.nodes, 1)[0] for i in range(N)]\n",
    "             })\n",
    "new_duration = []\n",
    "optimal_duration = []\n",
    "for index, row in test_data.iterrows():\n",
    "    \n",
    "    # new search\n",
    "    pathfinding = FCH(graph=ch_tg,\n",
    "                      start_time=row['start_time'],\n",
    "                      start_node=row['start_node'], \n",
    "                      end_node=row['end_node'])\n",
    "    path = pathfinding.shortest_path(60, search_with_switching_graphs=True, geometrical_containers=False)\n",
    "    if path['path']:\n",
    "        new_duration.append(path['duration'])\n",
    "    new_arrival = path['arrival']\n",
    "    \n",
    "    # optimal_duration\n",
    "    pathfinding = FCH(graph=ch_tg_optimal,\n",
    "                      start_time=row['start_time'],\n",
    "                      start_node=row['start_node'], \n",
    "                      end_node=row['end_node'])\n",
    "    path = pathfinding.shortest_path(60, search_with_switching_graphs=False, geometrical_containers=False)\n",
    "    if path['path']:\n",
    "        optimal_duration.append(path['duration'])\n",
    "    optimal_arrival = path['arrival']\n",
    "    \n",
    "    # validate\n",
    "    assert new_arrival == optimal_arrival"
   ]
  },
  {
   "cell_type": "code",
   "execution_count": 45,
   "id": "f4fe3752",
   "metadata": {},
   "outputs": [
    {
     "data": {
      "text/plain": [
       "(35.20987654320987, 37.0, 17.954917764400847)"
      ]
     },
     "execution_count": 45,
     "metadata": {},
     "output_type": "execute_result"
    }
   ],
   "source": [
    "np.mean(optimal_duration), np.median(optimal_duration), np.std(optimal_duration)"
   ]
  },
  {
   "cell_type": "code",
   "execution_count": 46,
   "id": "e15fc7d3",
   "metadata": {},
   "outputs": [
    {
     "data": {
      "text/plain": [
       "(33.57575757575758, 35.0, 17.665225669064796)"
      ]
     },
     "execution_count": 46,
     "metadata": {},
     "output_type": "execute_result"
    }
   ],
   "source": [
    "np.mean(new_duration), np.median(new_duration), np.std(new_duration)"
   ]
  },
  {
   "cell_type": "markdown",
   "id": "d2634fbb",
   "metadata": {},
   "source": [
    "# Visualize path"
   ]
  },
  {
   "cell_type": "code",
   "execution_count": 8,
   "id": "8f719fd1",
   "metadata": {},
   "outputs": [
    {
     "name": "stdout",
     "output_type": "stream",
     "text": [
      "CPU times: user 4.06 ms, sys: 1.18 ms, total: 5.24 ms\n",
      "Wall time: 6.07 ms\n"
     ]
    }
   ],
   "source": [
    "%%time\n",
    "pathfinding = FCH(graph=ch_tg,\n",
    "                      start_time=1481519880,\n",
    "                      start_node=345, \n",
    "                      end_node=141)\n",
    "path = pathfinding.shortest_path(60)"
   ]
  },
  {
   "cell_type": "code",
   "execution_count": 9,
   "id": "84966fc9",
   "metadata": {},
   "outputs": [],
   "source": [
    "nodes = pd.read_csv(F'data/{CITY}/network_nodes.csv', sep=';')\n",
    "nodes_dict = nodes.set_index('stop_I').to_dict('index')"
   ]
  },
  {
   "cell_type": "code",
   "execution_count": 12,
   "id": "750c292a",
   "metadata": {
    "scrolled": true
   },
   "outputs": [
    {
     "name": "stdout",
     "output_type": "stream",
     "text": [
      "345 62.894633 27.645134 Canthia E\n",
      "114 62.891878 27.637245 Snellmania E\n",
      "116 62.88952 27.632591 Teknia E\n",
      "118 62.888191 27.630635 Technopolis E\n",
      "141 62.88333 27.61765 Neulamäentie 5 L\n"
     ]
    }
   ],
   "source": [
    "for station in path['path']:\n",
    "    print(station, nodes_dict[station]['lat'], nodes_dict[station]['lon'], nodes_dict[station]['name'])"
   ]
  },
  {
   "cell_type": "code",
   "execution_count": 13,
   "id": "2851b3b1",
   "metadata": {},
   "outputs": [
    {
     "data": {
      "application/vnd.plotly.v1+json": {
       "config": {
        "plotlyServerURL": "https://plot.ly"
       },
       "data": [
        {
         "lat": [
          62.894633,
          62.891878,
          62.88952,
          62.888191,
          62.88333
         ],
         "lon": [
          27.645134,
          27.637245,
          27.632591,
          27.630635,
          27.61765
         ],
         "marker": {
          "size": 10
         },
         "mode": "markers+lines",
         "name": "41",
         "text": [
          "(345, 'Canthia E')",
          "(114, 'Snellmania E')",
          "(116, 'Teknia E')",
          "(118, 'Technopolis E')",
          "(141, 'Neulamäentie 5 L')"
         ],
         "type": "scattermapbox"
        }
       ],
       "layout": {
        "mapbox": {
         "center": {
          "lat": 62.893025,
          "lon": 27.6761
         },
         "style": "stamen-terrain",
         "zoom": 9
        },
        "showlegend": true,
        "template": {
         "data": {
          "bar": [
           {
            "error_x": {
             "color": "#2a3f5f"
            },
            "error_y": {
             "color": "#2a3f5f"
            },
            "marker": {
             "line": {
              "color": "#E5ECF6",
              "width": 0.5
             },
             "pattern": {
              "fillmode": "overlay",
              "size": 10,
              "solidity": 0.2
             }
            },
            "type": "bar"
           }
          ],
          "barpolar": [
           {
            "marker": {
             "line": {
              "color": "#E5ECF6",
              "width": 0.5
             },
             "pattern": {
              "fillmode": "overlay",
              "size": 10,
              "solidity": 0.2
             }
            },
            "type": "barpolar"
           }
          ],
          "carpet": [
           {
            "aaxis": {
             "endlinecolor": "#2a3f5f",
             "gridcolor": "white",
             "linecolor": "white",
             "minorgridcolor": "white",
             "startlinecolor": "#2a3f5f"
            },
            "baxis": {
             "endlinecolor": "#2a3f5f",
             "gridcolor": "white",
             "linecolor": "white",
             "minorgridcolor": "white",
             "startlinecolor": "#2a3f5f"
            },
            "type": "carpet"
           }
          ],
          "choropleth": [
           {
            "colorbar": {
             "outlinewidth": 0,
             "ticks": ""
            },
            "type": "choropleth"
           }
          ],
          "contour": [
           {
            "colorbar": {
             "outlinewidth": 0,
             "ticks": ""
            },
            "colorscale": [
             [
              0,
              "#0d0887"
             ],
             [
              0.1111111111111111,
              "#46039f"
             ],
             [
              0.2222222222222222,
              "#7201a8"
             ],
             [
              0.3333333333333333,
              "#9c179e"
             ],
             [
              0.4444444444444444,
              "#bd3786"
             ],
             [
              0.5555555555555556,
              "#d8576b"
             ],
             [
              0.6666666666666666,
              "#ed7953"
             ],
             [
              0.7777777777777778,
              "#fb9f3a"
             ],
             [
              0.8888888888888888,
              "#fdca26"
             ],
             [
              1,
              "#f0f921"
             ]
            ],
            "type": "contour"
           }
          ],
          "contourcarpet": [
           {
            "colorbar": {
             "outlinewidth": 0,
             "ticks": ""
            },
            "type": "contourcarpet"
           }
          ],
          "heatmap": [
           {
            "colorbar": {
             "outlinewidth": 0,
             "ticks": ""
            },
            "colorscale": [
             [
              0,
              "#0d0887"
             ],
             [
              0.1111111111111111,
              "#46039f"
             ],
             [
              0.2222222222222222,
              "#7201a8"
             ],
             [
              0.3333333333333333,
              "#9c179e"
             ],
             [
              0.4444444444444444,
              "#bd3786"
             ],
             [
              0.5555555555555556,
              "#d8576b"
             ],
             [
              0.6666666666666666,
              "#ed7953"
             ],
             [
              0.7777777777777778,
              "#fb9f3a"
             ],
             [
              0.8888888888888888,
              "#fdca26"
             ],
             [
              1,
              "#f0f921"
             ]
            ],
            "type": "heatmap"
           }
          ],
          "heatmapgl": [
           {
            "colorbar": {
             "outlinewidth": 0,
             "ticks": ""
            },
            "colorscale": [
             [
              0,
              "#0d0887"
             ],
             [
              0.1111111111111111,
              "#46039f"
             ],
             [
              0.2222222222222222,
              "#7201a8"
             ],
             [
              0.3333333333333333,
              "#9c179e"
             ],
             [
              0.4444444444444444,
              "#bd3786"
             ],
             [
              0.5555555555555556,
              "#d8576b"
             ],
             [
              0.6666666666666666,
              "#ed7953"
             ],
             [
              0.7777777777777778,
              "#fb9f3a"
             ],
             [
              0.8888888888888888,
              "#fdca26"
             ],
             [
              1,
              "#f0f921"
             ]
            ],
            "type": "heatmapgl"
           }
          ],
          "histogram": [
           {
            "marker": {
             "pattern": {
              "fillmode": "overlay",
              "size": 10,
              "solidity": 0.2
             }
            },
            "type": "histogram"
           }
          ],
          "histogram2d": [
           {
            "colorbar": {
             "outlinewidth": 0,
             "ticks": ""
            },
            "colorscale": [
             [
              0,
              "#0d0887"
             ],
             [
              0.1111111111111111,
              "#46039f"
             ],
             [
              0.2222222222222222,
              "#7201a8"
             ],
             [
              0.3333333333333333,
              "#9c179e"
             ],
             [
              0.4444444444444444,
              "#bd3786"
             ],
             [
              0.5555555555555556,
              "#d8576b"
             ],
             [
              0.6666666666666666,
              "#ed7953"
             ],
             [
              0.7777777777777778,
              "#fb9f3a"
             ],
             [
              0.8888888888888888,
              "#fdca26"
             ],
             [
              1,
              "#f0f921"
             ]
            ],
            "type": "histogram2d"
           }
          ],
          "histogram2dcontour": [
           {
            "colorbar": {
             "outlinewidth": 0,
             "ticks": ""
            },
            "colorscale": [
             [
              0,
              "#0d0887"
             ],
             [
              0.1111111111111111,
              "#46039f"
             ],
             [
              0.2222222222222222,
              "#7201a8"
             ],
             [
              0.3333333333333333,
              "#9c179e"
             ],
             [
              0.4444444444444444,
              "#bd3786"
             ],
             [
              0.5555555555555556,
              "#d8576b"
             ],
             [
              0.6666666666666666,
              "#ed7953"
             ],
             [
              0.7777777777777778,
              "#fb9f3a"
             ],
             [
              0.8888888888888888,
              "#fdca26"
             ],
             [
              1,
              "#f0f921"
             ]
            ],
            "type": "histogram2dcontour"
           }
          ],
          "mesh3d": [
           {
            "colorbar": {
             "outlinewidth": 0,
             "ticks": ""
            },
            "type": "mesh3d"
           }
          ],
          "parcoords": [
           {
            "line": {
             "colorbar": {
              "outlinewidth": 0,
              "ticks": ""
             }
            },
            "type": "parcoords"
           }
          ],
          "pie": [
           {
            "automargin": true,
            "type": "pie"
           }
          ],
          "scatter": [
           {
            "fillpattern": {
             "fillmode": "overlay",
             "size": 10,
             "solidity": 0.2
            },
            "type": "scatter"
           }
          ],
          "scatter3d": [
           {
            "line": {
             "colorbar": {
              "outlinewidth": 0,
              "ticks": ""
             }
            },
            "marker": {
             "colorbar": {
              "outlinewidth": 0,
              "ticks": ""
             }
            },
            "type": "scatter3d"
           }
          ],
          "scattercarpet": [
           {
            "marker": {
             "colorbar": {
              "outlinewidth": 0,
              "ticks": ""
             }
            },
            "type": "scattercarpet"
           }
          ],
          "scattergeo": [
           {
            "marker": {
             "colorbar": {
              "outlinewidth": 0,
              "ticks": ""
             }
            },
            "type": "scattergeo"
           }
          ],
          "scattergl": [
           {
            "marker": {
             "colorbar": {
              "outlinewidth": 0,
              "ticks": ""
             }
            },
            "type": "scattergl"
           }
          ],
          "scattermapbox": [
           {
            "marker": {
             "colorbar": {
              "outlinewidth": 0,
              "ticks": ""
             }
            },
            "type": "scattermapbox"
           }
          ],
          "scatterpolar": [
           {
            "marker": {
             "colorbar": {
              "outlinewidth": 0,
              "ticks": ""
             }
            },
            "type": "scatterpolar"
           }
          ],
          "scatterpolargl": [
           {
            "marker": {
             "colorbar": {
              "outlinewidth": 0,
              "ticks": ""
             }
            },
            "type": "scatterpolargl"
           }
          ],
          "scatterternary": [
           {
            "marker": {
             "colorbar": {
              "outlinewidth": 0,
              "ticks": ""
             }
            },
            "type": "scatterternary"
           }
          ],
          "surface": [
           {
            "colorbar": {
             "outlinewidth": 0,
             "ticks": ""
            },
            "colorscale": [
             [
              0,
              "#0d0887"
             ],
             [
              0.1111111111111111,
              "#46039f"
             ],
             [
              0.2222222222222222,
              "#7201a8"
             ],
             [
              0.3333333333333333,
              "#9c179e"
             ],
             [
              0.4444444444444444,
              "#bd3786"
             ],
             [
              0.5555555555555556,
              "#d8576b"
             ],
             [
              0.6666666666666666,
              "#ed7953"
             ],
             [
              0.7777777777777778,
              "#fb9f3a"
             ],
             [
              0.8888888888888888,
              "#fdca26"
             ],
             [
              1,
              "#f0f921"
             ]
            ],
            "type": "surface"
           }
          ],
          "table": [
           {
            "cells": {
             "fill": {
              "color": "#EBF0F8"
             },
             "line": {
              "color": "white"
             }
            },
            "header": {
             "fill": {
              "color": "#C8D4E3"
             },
             "line": {
              "color": "white"
             }
            },
            "type": "table"
           }
          ]
         },
         "layout": {
          "annotationdefaults": {
           "arrowcolor": "#2a3f5f",
           "arrowhead": 0,
           "arrowwidth": 1
          },
          "autotypenumbers": "strict",
          "coloraxis": {
           "colorbar": {
            "outlinewidth": 0,
            "ticks": ""
           }
          },
          "colorscale": {
           "diverging": [
            [
             0,
             "#8e0152"
            ],
            [
             0.1,
             "#c51b7d"
            ],
            [
             0.2,
             "#de77ae"
            ],
            [
             0.3,
             "#f1b6da"
            ],
            [
             0.4,
             "#fde0ef"
            ],
            [
             0.5,
             "#f7f7f7"
            ],
            [
             0.6,
             "#e6f5d0"
            ],
            [
             0.7,
             "#b8e186"
            ],
            [
             0.8,
             "#7fbc41"
            ],
            [
             0.9,
             "#4d9221"
            ],
            [
             1,
             "#276419"
            ]
           ],
           "sequential": [
            [
             0,
             "#0d0887"
            ],
            [
             0.1111111111111111,
             "#46039f"
            ],
            [
             0.2222222222222222,
             "#7201a8"
            ],
            [
             0.3333333333333333,
             "#9c179e"
            ],
            [
             0.4444444444444444,
             "#bd3786"
            ],
            [
             0.5555555555555556,
             "#d8576b"
            ],
            [
             0.6666666666666666,
             "#ed7953"
            ],
            [
             0.7777777777777778,
             "#fb9f3a"
            ],
            [
             0.8888888888888888,
             "#fdca26"
            ],
            [
             1,
             "#f0f921"
            ]
           ],
           "sequentialminus": [
            [
             0,
             "#0d0887"
            ],
            [
             0.1111111111111111,
             "#46039f"
            ],
            [
             0.2222222222222222,
             "#7201a8"
            ],
            [
             0.3333333333333333,
             "#9c179e"
            ],
            [
             0.4444444444444444,
             "#bd3786"
            ],
            [
             0.5555555555555556,
             "#d8576b"
            ],
            [
             0.6666666666666666,
             "#ed7953"
            ],
            [
             0.7777777777777778,
             "#fb9f3a"
            ],
            [
             0.8888888888888888,
             "#fdca26"
            ],
            [
             1,
             "#f0f921"
            ]
           ]
          },
          "colorway": [
           "#636efa",
           "#EF553B",
           "#00cc96",
           "#ab63fa",
           "#FFA15A",
           "#19d3f3",
           "#FF6692",
           "#B6E880",
           "#FF97FF",
           "#FECB52"
          ],
          "font": {
           "color": "#2a3f5f"
          },
          "geo": {
           "bgcolor": "white",
           "lakecolor": "white",
           "landcolor": "#E5ECF6",
           "showlakes": true,
           "showland": true,
           "subunitcolor": "white"
          },
          "hoverlabel": {
           "align": "left"
          },
          "hovermode": "closest",
          "mapbox": {
           "style": "light"
          },
          "paper_bgcolor": "white",
          "plot_bgcolor": "#E5ECF6",
          "polar": {
           "angularaxis": {
            "gridcolor": "white",
            "linecolor": "white",
            "ticks": ""
           },
           "bgcolor": "#E5ECF6",
           "radialaxis": {
            "gridcolor": "white",
            "linecolor": "white",
            "ticks": ""
           }
          },
          "scene": {
           "xaxis": {
            "backgroundcolor": "#E5ECF6",
            "gridcolor": "white",
            "gridwidth": 2,
            "linecolor": "white",
            "showbackground": true,
            "ticks": "",
            "zerolinecolor": "white"
           },
           "yaxis": {
            "backgroundcolor": "#E5ECF6",
            "gridcolor": "white",
            "gridwidth": 2,
            "linecolor": "white",
            "showbackground": true,
            "ticks": "",
            "zerolinecolor": "white"
           },
           "zaxis": {
            "backgroundcolor": "#E5ECF6",
            "gridcolor": "white",
            "gridwidth": 2,
            "linecolor": "white",
            "showbackground": true,
            "ticks": "",
            "zerolinecolor": "white"
           }
          },
          "shapedefaults": {
           "line": {
            "color": "#2a3f5f"
           }
          },
          "ternary": {
           "aaxis": {
            "gridcolor": "white",
            "linecolor": "white",
            "ticks": ""
           },
           "baxis": {
            "gridcolor": "white",
            "linecolor": "white",
            "ticks": ""
           },
           "bgcolor": "#E5ECF6",
           "caxis": {
            "gridcolor": "white",
            "linecolor": "white",
            "ticks": ""
           }
          },
          "title": {
           "x": 0.05
          },
          "xaxis": {
           "automargin": true,
           "gridcolor": "white",
           "linecolor": "white",
           "ticks": "",
           "title": {
            "standoff": 15
           },
           "zerolinecolor": "white",
           "zerolinewidth": 2
          },
          "yaxis": {
           "automargin": true,
           "gridcolor": "white",
           "linecolor": "white",
           "ticks": "",
           "title": {
            "standoff": 15
           },
           "zerolinecolor": "white",
           "zerolinewidth": 2
          }
         }
        }
       }
      },
      "text/html": [
       "<div>                            <div id=\"048694fd-73b5-4c0c-b70e-9c63e08cb2b2\" class=\"plotly-graph-div\" style=\"height:525px; width:100%;\"></div>            <script type=\"text/javascript\">                require([\"plotly\"], function(Plotly) {                    window.PLOTLYENV=window.PLOTLYENV || {};                                    if (document.getElementById(\"048694fd-73b5-4c0c-b70e-9c63e08cb2b2\")) {                    Plotly.newPlot(                        \"048694fd-73b5-4c0c-b70e-9c63e08cb2b2\",                        [{\"lat\":[62.894633,62.891878,62.88952,62.888191,62.88333],\"lon\":[27.645134,27.637245,27.632591,27.630635,27.61765],\"marker\":{\"size\":10},\"mode\":\"markers+lines\",\"name\":\"41\",\"text\":[\"(345, 'Canthia E')\",\"(114, 'Snellmania E')\",\"(116, 'Teknia E')\",\"(118, 'Technopolis E')\",\"(141, 'Neulamäentie 5 L')\"],\"type\":\"scattermapbox\"}],                        {\"template\":{\"data\":{\"histogram2dcontour\":[{\"type\":\"histogram2dcontour\",\"colorbar\":{\"outlinewidth\":0,\"ticks\":\"\"},\"colorscale\":[[0.0,\"#0d0887\"],[0.1111111111111111,\"#46039f\"],[0.2222222222222222,\"#7201a8\"],[0.3333333333333333,\"#9c179e\"],[0.4444444444444444,\"#bd3786\"],[0.5555555555555556,\"#d8576b\"],[0.6666666666666666,\"#ed7953\"],[0.7777777777777778,\"#fb9f3a\"],[0.8888888888888888,\"#fdca26\"],[1.0,\"#f0f921\"]]}],\"choropleth\":[{\"type\":\"choropleth\",\"colorbar\":{\"outlinewidth\":0,\"ticks\":\"\"}}],\"histogram2d\":[{\"type\":\"histogram2d\",\"colorbar\":{\"outlinewidth\":0,\"ticks\":\"\"},\"colorscale\":[[0.0,\"#0d0887\"],[0.1111111111111111,\"#46039f\"],[0.2222222222222222,\"#7201a8\"],[0.3333333333333333,\"#9c179e\"],[0.4444444444444444,\"#bd3786\"],[0.5555555555555556,\"#d8576b\"],[0.6666666666666666,\"#ed7953\"],[0.7777777777777778,\"#fb9f3a\"],[0.8888888888888888,\"#fdca26\"],[1.0,\"#f0f921\"]]}],\"heatmap\":[{\"type\":\"heatmap\",\"colorbar\":{\"outlinewidth\":0,\"ticks\":\"\"},\"colorscale\":[[0.0,\"#0d0887\"],[0.1111111111111111,\"#46039f\"],[0.2222222222222222,\"#7201a8\"],[0.3333333333333333,\"#9c179e\"],[0.4444444444444444,\"#bd3786\"],[0.5555555555555556,\"#d8576b\"],[0.6666666666666666,\"#ed7953\"],[0.7777777777777778,\"#fb9f3a\"],[0.8888888888888888,\"#fdca26\"],[1.0,\"#f0f921\"]]}],\"heatmapgl\":[{\"type\":\"heatmapgl\",\"colorbar\":{\"outlinewidth\":0,\"ticks\":\"\"},\"colorscale\":[[0.0,\"#0d0887\"],[0.1111111111111111,\"#46039f\"],[0.2222222222222222,\"#7201a8\"],[0.3333333333333333,\"#9c179e\"],[0.4444444444444444,\"#bd3786\"],[0.5555555555555556,\"#d8576b\"],[0.6666666666666666,\"#ed7953\"],[0.7777777777777778,\"#fb9f3a\"],[0.8888888888888888,\"#fdca26\"],[1.0,\"#f0f921\"]]}],\"contourcarpet\":[{\"type\":\"contourcarpet\",\"colorbar\":{\"outlinewidth\":0,\"ticks\":\"\"}}],\"contour\":[{\"type\":\"contour\",\"colorbar\":{\"outlinewidth\":0,\"ticks\":\"\"},\"colorscale\":[[0.0,\"#0d0887\"],[0.1111111111111111,\"#46039f\"],[0.2222222222222222,\"#7201a8\"],[0.3333333333333333,\"#9c179e\"],[0.4444444444444444,\"#bd3786\"],[0.5555555555555556,\"#d8576b\"],[0.6666666666666666,\"#ed7953\"],[0.7777777777777778,\"#fb9f3a\"],[0.8888888888888888,\"#fdca26\"],[1.0,\"#f0f921\"]]}],\"surface\":[{\"type\":\"surface\",\"colorbar\":{\"outlinewidth\":0,\"ticks\":\"\"},\"colorscale\":[[0.0,\"#0d0887\"],[0.1111111111111111,\"#46039f\"],[0.2222222222222222,\"#7201a8\"],[0.3333333333333333,\"#9c179e\"],[0.4444444444444444,\"#bd3786\"],[0.5555555555555556,\"#d8576b\"],[0.6666666666666666,\"#ed7953\"],[0.7777777777777778,\"#fb9f3a\"],[0.8888888888888888,\"#fdca26\"],[1.0,\"#f0f921\"]]}],\"mesh3d\":[{\"type\":\"mesh3d\",\"colorbar\":{\"outlinewidth\":0,\"ticks\":\"\"}}],\"scatter\":[{\"fillpattern\":{\"fillmode\":\"overlay\",\"size\":10,\"solidity\":0.2},\"type\":\"scatter\"}],\"parcoords\":[{\"type\":\"parcoords\",\"line\":{\"colorbar\":{\"outlinewidth\":0,\"ticks\":\"\"}}}],\"scatterpolargl\":[{\"type\":\"scatterpolargl\",\"marker\":{\"colorbar\":{\"outlinewidth\":0,\"ticks\":\"\"}}}],\"bar\":[{\"error_x\":{\"color\":\"#2a3f5f\"},\"error_y\":{\"color\":\"#2a3f5f\"},\"marker\":{\"line\":{\"color\":\"#E5ECF6\",\"width\":0.5},\"pattern\":{\"fillmode\":\"overlay\",\"size\":10,\"solidity\":0.2}},\"type\":\"bar\"}],\"scattergeo\":[{\"type\":\"scattergeo\",\"marker\":{\"colorbar\":{\"outlinewidth\":0,\"ticks\":\"\"}}}],\"scatterpolar\":[{\"type\":\"scatterpolar\",\"marker\":{\"colorbar\":{\"outlinewidth\":0,\"ticks\":\"\"}}}],\"histogram\":[{\"marker\":{\"pattern\":{\"fillmode\":\"overlay\",\"size\":10,\"solidity\":0.2}},\"type\":\"histogram\"}],\"scattergl\":[{\"type\":\"scattergl\",\"marker\":{\"colorbar\":{\"outlinewidth\":0,\"ticks\":\"\"}}}],\"scatter3d\":[{\"type\":\"scatter3d\",\"line\":{\"colorbar\":{\"outlinewidth\":0,\"ticks\":\"\"}},\"marker\":{\"colorbar\":{\"outlinewidth\":0,\"ticks\":\"\"}}}],\"scattermapbox\":[{\"type\":\"scattermapbox\",\"marker\":{\"colorbar\":{\"outlinewidth\":0,\"ticks\":\"\"}}}],\"scatterternary\":[{\"type\":\"scatterternary\",\"marker\":{\"colorbar\":{\"outlinewidth\":0,\"ticks\":\"\"}}}],\"scattercarpet\":[{\"type\":\"scattercarpet\",\"marker\":{\"colorbar\":{\"outlinewidth\":0,\"ticks\":\"\"}}}],\"carpet\":[{\"aaxis\":{\"endlinecolor\":\"#2a3f5f\",\"gridcolor\":\"white\",\"linecolor\":\"white\",\"minorgridcolor\":\"white\",\"startlinecolor\":\"#2a3f5f\"},\"baxis\":{\"endlinecolor\":\"#2a3f5f\",\"gridcolor\":\"white\",\"linecolor\":\"white\",\"minorgridcolor\":\"white\",\"startlinecolor\":\"#2a3f5f\"},\"type\":\"carpet\"}],\"table\":[{\"cells\":{\"fill\":{\"color\":\"#EBF0F8\"},\"line\":{\"color\":\"white\"}},\"header\":{\"fill\":{\"color\":\"#C8D4E3\"},\"line\":{\"color\":\"white\"}},\"type\":\"table\"}],\"barpolar\":[{\"marker\":{\"line\":{\"color\":\"#E5ECF6\",\"width\":0.5},\"pattern\":{\"fillmode\":\"overlay\",\"size\":10,\"solidity\":0.2}},\"type\":\"barpolar\"}],\"pie\":[{\"automargin\":true,\"type\":\"pie\"}]},\"layout\":{\"autotypenumbers\":\"strict\",\"colorway\":[\"#636efa\",\"#EF553B\",\"#00cc96\",\"#ab63fa\",\"#FFA15A\",\"#19d3f3\",\"#FF6692\",\"#B6E880\",\"#FF97FF\",\"#FECB52\"],\"font\":{\"color\":\"#2a3f5f\"},\"hovermode\":\"closest\",\"hoverlabel\":{\"align\":\"left\"},\"paper_bgcolor\":\"white\",\"plot_bgcolor\":\"#E5ECF6\",\"polar\":{\"bgcolor\":\"#E5ECF6\",\"angularaxis\":{\"gridcolor\":\"white\",\"linecolor\":\"white\",\"ticks\":\"\"},\"radialaxis\":{\"gridcolor\":\"white\",\"linecolor\":\"white\",\"ticks\":\"\"}},\"ternary\":{\"bgcolor\":\"#E5ECF6\",\"aaxis\":{\"gridcolor\":\"white\",\"linecolor\":\"white\",\"ticks\":\"\"},\"baxis\":{\"gridcolor\":\"white\",\"linecolor\":\"white\",\"ticks\":\"\"},\"caxis\":{\"gridcolor\":\"white\",\"linecolor\":\"white\",\"ticks\":\"\"}},\"coloraxis\":{\"colorbar\":{\"outlinewidth\":0,\"ticks\":\"\"}},\"colorscale\":{\"sequential\":[[0.0,\"#0d0887\"],[0.1111111111111111,\"#46039f\"],[0.2222222222222222,\"#7201a8\"],[0.3333333333333333,\"#9c179e\"],[0.4444444444444444,\"#bd3786\"],[0.5555555555555556,\"#d8576b\"],[0.6666666666666666,\"#ed7953\"],[0.7777777777777778,\"#fb9f3a\"],[0.8888888888888888,\"#fdca26\"],[1.0,\"#f0f921\"]],\"sequentialminus\":[[0.0,\"#0d0887\"],[0.1111111111111111,\"#46039f\"],[0.2222222222222222,\"#7201a8\"],[0.3333333333333333,\"#9c179e\"],[0.4444444444444444,\"#bd3786\"],[0.5555555555555556,\"#d8576b\"],[0.6666666666666666,\"#ed7953\"],[0.7777777777777778,\"#fb9f3a\"],[0.8888888888888888,\"#fdca26\"],[1.0,\"#f0f921\"]],\"diverging\":[[0,\"#8e0152\"],[0.1,\"#c51b7d\"],[0.2,\"#de77ae\"],[0.3,\"#f1b6da\"],[0.4,\"#fde0ef\"],[0.5,\"#f7f7f7\"],[0.6,\"#e6f5d0\"],[0.7,\"#b8e186\"],[0.8,\"#7fbc41\"],[0.9,\"#4d9221\"],[1,\"#276419\"]]},\"xaxis\":{\"gridcolor\":\"white\",\"linecolor\":\"white\",\"ticks\":\"\",\"title\":{\"standoff\":15},\"zerolinecolor\":\"white\",\"automargin\":true,\"zerolinewidth\":2},\"yaxis\":{\"gridcolor\":\"white\",\"linecolor\":\"white\",\"ticks\":\"\",\"title\":{\"standoff\":15},\"zerolinecolor\":\"white\",\"automargin\":true,\"zerolinewidth\":2},\"scene\":{\"xaxis\":{\"backgroundcolor\":\"#E5ECF6\",\"gridcolor\":\"white\",\"linecolor\":\"white\",\"showbackground\":true,\"ticks\":\"\",\"zerolinecolor\":\"white\",\"gridwidth\":2},\"yaxis\":{\"backgroundcolor\":\"#E5ECF6\",\"gridcolor\":\"white\",\"linecolor\":\"white\",\"showbackground\":true,\"ticks\":\"\",\"zerolinecolor\":\"white\",\"gridwidth\":2},\"zaxis\":{\"backgroundcolor\":\"#E5ECF6\",\"gridcolor\":\"white\",\"linecolor\":\"white\",\"showbackground\":true,\"ticks\":\"\",\"zerolinecolor\":\"white\",\"gridwidth\":2}},\"shapedefaults\":{\"line\":{\"color\":\"#2a3f5f\"}},\"annotationdefaults\":{\"arrowcolor\":\"#2a3f5f\",\"arrowhead\":0,\"arrowwidth\":1},\"geo\":{\"bgcolor\":\"white\",\"landcolor\":\"#E5ECF6\",\"subunitcolor\":\"white\",\"showland\":true,\"showlakes\":true,\"lakecolor\":\"white\"},\"title\":{\"x\":0.05},\"mapbox\":{\"style\":\"light\"}}},\"mapbox\":{\"center\":{\"lon\":27.6761,\"lat\":62.893025},\"style\":\"stamen-terrain\",\"zoom\":9},\"showlegend\":true},                        {\"responsive\": true}                    ).then(function(){\n",
       "                            \n",
       "var gd = document.getElementById('048694fd-73b5-4c0c-b70e-9c63e08cb2b2');\n",
       "var x = new MutationObserver(function (mutations, observer) {{\n",
       "        var display = window.getComputedStyle(gd).display;\n",
       "        if (!display || display === 'none') {{\n",
       "            console.log([gd, 'removed!']);\n",
       "            Plotly.purge(gd);\n",
       "            observer.disconnect();\n",
       "        }}\n",
       "}});\n",
       "\n",
       "// Listen for the removal of the full notebook cells\n",
       "var notebookContainer = gd.closest('#notebook-container');\n",
       "if (notebookContainer) {{\n",
       "    x.observe(notebookContainer, {childList: true});\n",
       "}}\n",
       "\n",
       "// Listen for the clearing of the current output cell\n",
       "var outputEl = gd.closest('.output');\n",
       "if (outputEl) {{\n",
       "    x.observe(outputEl, {childList: true});\n",
       "}}\n",
       "\n",
       "                        })                };                });            </script>        </div>"
      ]
     },
     "metadata": {},
     "output_type": "display_data"
    }
   ],
   "source": [
    "i = 0\n",
    "k = 0\n",
    "while i < len(path['routes']):\n",
    "    x = path['routes'][i]\n",
    "    if k == 0:\n",
    "        i += 1\n",
    "        if i == len(path['routes']):\n",
    "            fig = go.Figure(go.Scattermapbox(\n",
    "            mode = \"markers+lines\",\n",
    "            lon = [nodes_dict[path['path'][j]]['lon'] for j in range(k, i+1)],\n",
    "            lat = [nodes_dict[path['path'][j]]['lat'] for j in range(k, i+1)],\n",
    "            text = [(path['path'][j], nodes_dict[path['path'][j]]['name']) for j in range(k, i+1)],\n",
    "            name = path['routes'][k],\n",
    "            marker = {'size': 10}))\n",
    "            k = i\n",
    "        elif x != path['routes'][i]:\n",
    "            fig = go.Figure(go.Scattermapbox(\n",
    "            mode = \"markers+lines\",\n",
    "            lon = [nodes_dict[path['path'][j]]['lon'] for j in range(k, i+1)],\n",
    "            lat = [nodes_dict[path['path'][j]]['lat'] for j in range(k, i+1)],\n",
    "            text = [(path['path'][j], nodes_dict[path['path'][j]]['name']) for j in range(k, i+1)],\n",
    "            name = path['routes'][k],\n",
    "            marker = {'size': 10}))\n",
    "            k = i\n",
    "    else:\n",
    "        i += 1\n",
    "        if i < len(path['routes']):\n",
    "            if x != path['routes'][i]:\n",
    "                fig.add_trace(go.Scattermapbox(\n",
    "                mode = \"markers+lines\",\n",
    "                lon = [nodes_dict[path['path'][j]]['lon'] for j in range(k, i+1)],\n",
    "                lat = [nodes_dict[path['path'][j]]['lat'] for j in range(k, i+1)],\n",
    "                text = [(path['path'][j], nodes_dict[path['path'][j]]['name']) for j in range(k, i+1)],\n",
    "                name = path['routes'][k],\n",
    "                marker = {'size': 10}))\n",
    "                k = i\n",
    "        else:\n",
    "            fig.add_trace(go.Scattermapbox(\n",
    "            mode = \"markers+lines\",\n",
    "            lon = [nodes_dict[path['path'][j]]['lon'] for j in range(k, i+1)],\n",
    "            lat = [nodes_dict[path['path'][j]]['lat'] for j in range(k, i+1)],\n",
    "            text = [(path['path'][j], nodes_dict[path['path'][j]]['name']) for j in range(k, i+1)],\n",
    "            name = path['routes'][k],\n",
    "            marker = {'size': 10}))\n",
    "            k = i\n",
    "        \n",
    "\n",
    "fig.update_layout(\n",
    "    mapbox = {\n",
    "        'style': \"stamen-terrain\",\n",
    "        'center': {'lon': nodes['lon'].iloc[0], 'lat': nodes['lat'].iloc[0]},\n",
    "        'zoom': 9}, \n",
    "    showlegend=True)\n",
    "\n",
    "fig.show()"
   ]
  },
  {
   "cell_type": "code",
   "execution_count": null,
   "id": "3ec77b56",
   "metadata": {},
   "outputs": [],
   "source": []
  },
  {
   "cell_type": "code",
   "execution_count": null,
   "id": "c4bdcc73",
   "metadata": {},
   "outputs": [],
   "source": []
  }
 ],
 "metadata": {
  "kernelspec": {
   "display_name": "Python 3 (ipykernel)",
   "language": "python",
   "name": "python3"
  },
  "language_info": {
   "codemirror_mode": {
    "name": "ipython",
    "version": 3
   },
   "file_extension": ".py",
   "mimetype": "text/x-python",
   "name": "python",
   "nbconvert_exporter": "python",
   "pygments_lexer": "ipython3",
   "version": "3.10.9"
  }
 },
 "nbformat": 4,
 "nbformat_minor": 5
}
