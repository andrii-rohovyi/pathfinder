{
 "cells": [
  {
   "cell_type": "code",
   "execution_count": null,
   "id": "e970afe4",
   "metadata": {},
   "outputs": [],
   "source": [
    "import pandas as pd\n",
    "import plotly.graph_objects as go\n",
    "import datetime\n",
    "import numpy as np\n",
    "from copy import deepcopy\n",
    "import cProfile\n",
    "import sys\n",
    "from collections import defaultdict\n",
    "from tqdm import tqdm \n",
    "import pickle\n",
    "from bisect import bisect_left\n",
    "import random\n",
    "from tqdm import tqdm\n",
    "import random\n",
    "import logging\n",
    "\n",
    "\n",
    "from graph import TransportGraph, ContactionTransportGraph\n",
    "from ttf import TTF\n",
    "from forward_search import FCH\n",
    "from dijkstra import Dijkstra"
   ]
  },
  {
   "cell_type": "markdown",
   "id": "2a9e5e1c",
   "metadata": {},
   "source": [
    "# Build transport graph"
   ]
  },
  {
   "cell_type": "code",
   "execution_count": null,
   "id": "4e3e04f4",
   "metadata": {},
   "outputs": [],
   "source": [
    "CITY = 'kuopio'"
   ]
  },
  {
   "cell_type": "markdown",
   "id": "44cad3f3",
   "metadata": {},
   "source": [
    "## Build Transport Graph"
   ]
  },
  {
   "cell_type": "code",
   "execution_count": null,
   "id": "8639e0a2",
   "metadata": {},
   "outputs": [],
   "source": [
    "transport_connections = pd.read_csv(F'data/{CITY}/network_temporal_day.csv', sep=';')\n",
    "walk_connections = pd.read_csv(F'data/{CITY}/network_walk.csv', sep=';')"
   ]
  },
  {
   "cell_type": "code",
   "execution_count": null,
   "id": "6a43904e",
   "metadata": {},
   "outputs": [],
   "source": [
    "df_walk_invert = walk_connections.copy()\n",
    "df_walk_invert = df_walk_invert.rename(columns={'from_stop_I': 'to_stop_I', 'to_stop_I': 'from_stop_I'})\n",
    "walk_connections = pd.concat((walk_connections, df_walk_invert))"
   ]
  },
  {
   "cell_type": "code",
   "execution_count": null,
   "id": "ec246f9f",
   "metadata": {},
   "outputs": [],
   "source": [
    "tg = TransportGraph(transport_connections=transport_connections, walk_connections=walk_connections)"
   ]
  },
  {
   "cell_type": "markdown",
   "id": "999d4ae7-1d74-45a5-a577-9ce83275dde5",
   "metadata": {},
   "source": [
    "# Convert ATF to TTF"
   ]
  },
  {
   "cell_type": "code",
   "execution_count": null,
   "id": "e1faf0c1-a040-4f05-90f2-afbaae3339dd",
   "metadata": {},
   "outputs": [],
   "source": [
    "tg_ttf = deepcopy(tg)\n",
    "for node1, out in tg_ttf.graph.items():\n",
    "    for node2, f in out.items():\n",
    "        tg_ttf.graph[node1][node2] = TTF(f)"
   ]
  },
  {
   "cell_type": "markdown",
   "id": "d5c5a0c8-4086-4034-91e4-d66a1e44c562",
   "metadata": {},
   "source": [
    "## Graph statistics"
   ]
  },
  {
   "cell_type": "code",
   "execution_count": null,
   "id": "1617976b-dfac-4bdd-998a-859b626cdc44",
   "metadata": {},
   "outputs": [],
   "source": [
    "tg.edges_cnt, tg.nodes_cnt, tg.timetable_stats"
   ]
  },
  {
   "cell_type": "markdown",
   "id": "1a1152e8-de2b-4e12-9af4-aeb2ce409d69",
   "metadata": {},
   "source": [
    "### Save TG with ATF and TG with TTF"
   ]
  },
  {
   "cell_type": "code",
   "execution_count": null,
   "id": "2922a764-2358-4637-9174-1b53111e8794",
   "metadata": {},
   "outputs": [],
   "source": [
    "pickle.dump(tg, open(F'{CITY}.pkl', 'wb'), \n",
    "            pickle.HIGHEST_PROTOCOL)\n",
    "pickle.dump(tg_ttf, open(F'{CITY}_ttf.pkl', 'wb'), \n",
    "            pickle.HIGHEST_PROTOCOL)"
   ]
  },
  {
   "cell_type": "markdown",
   "id": "f8a0f3e7",
   "metadata": {},
   "source": [
    "# Build CH graph"
   ]
  },
  {
   "cell_type": "code",
   "execution_count": null,
   "id": "05889d34-6dee-4cc4-93fa-2bf623a6c810",
   "metadata": {},
   "outputs": [],
   "source": [
    "%%time\n",
    "cProfile.run('ch_tg = tg.contraction_hierarchy()')"
   ]
  },
  {
   "cell_type": "markdown",
   "id": "5301d25b-a4db-4427-94f6-86eeec4e7e56",
   "metadata": {},
   "source": [
    "## Graph statistics"
   ]
  },
  {
   "cell_type": "code",
   "execution_count": null,
   "id": "2302b46a-a560-41cd-b3ce-14688c704269",
   "metadata": {},
   "outputs": [],
   "source": [
    "ch_tg.edges_cnt, ch_tg.nodes_cnt, ch_tg.timetable_stats"
   ]
  },
  {
   "cell_type": "markdown",
   "id": "8470de47-2d85-4986-aeaf-b2c01162bbed",
   "metadata": {},
   "source": [
    "### Calculate Geometrical Containers for speed up future search"
   ]
  },
  {
   "cell_type": "code",
   "execution_count": null,
   "id": "7bae88cc-348f-406d-bb4f-0f9bb91328c7",
   "metadata": {},
   "outputs": [],
   "source": [
    "ch_tg.geometrical_container()"
   ]
  },
  {
   "cell_type": "markdown",
   "id": "a3d0f3b8-695e-4650-a3a9-9ce4f4915d3f",
   "metadata": {},
   "source": [
    "# Convert ATF to TTF in CH-graph"
   ]
  },
  {
   "cell_type": "code",
   "execution_count": null,
   "id": "8185e936-8be8-496d-abf8-f1874b7d4fc6",
   "metadata": {},
   "outputs": [],
   "source": [
    "ch_tg_ttf = deepcopy(ch_tg)\n",
    "for node1, out in ch_tg_ttf.graph.items():\n",
    "    for node2, f in out.items():\n",
    "        ch_tg_ttf.graph[node1][node2] = TTF(f)"
   ]
  },
  {
   "cell_type": "markdown",
   "id": "65b971a3-add2-442d-a2ba-36012da19cc7",
   "metadata": {},
   "source": [
    "## Save graph"
   ]
  },
  {
   "cell_type": "code",
   "execution_count": null,
   "id": "bad00ded-c74d-49d3-a4a5-a4679d21b4bb",
   "metadata": {},
   "outputs": [],
   "source": [
    "pickle.dump(ch_tg, open(F'{CITY}_ch.pkl', 'wb'), \n",
    "            pickle.HIGHEST_PROTOCOL)\n",
    "pickle.dump(ch_tg, open(F'{CITY}_ch_ttf.pkl', 'wb'), \n",
    "            pickle.HIGHEST_PROTOCOL)"
   ]
  },
  {
   "cell_type": "markdown",
   "id": "7038987a-2751-42bb-9618-21647de39847",
   "metadata": {},
   "source": [
    "# Calulate TTN for TG AND CH-graph"
   ]
  },
  {
   "cell_type": "code",
   "execution_count": null,
   "id": "cde22d88-3de3-4af6-bb1a-5ecc0543c322",
   "metadata": {},
   "outputs": [],
   "source": [
    "tg.optimize_binary_search()"
   ]
  },
  {
   "cell_type": "code",
   "execution_count": null,
   "id": "9fd9644b-4c4b-4954-b06a-7c42cc1e5c95",
   "metadata": {},
   "outputs": [],
   "source": [
    "ch_tg.optimize_binary_search()"
   ]
  },
  {
   "cell_type": "markdown",
   "id": "3f4230f2-e174-4886-9d61-abb13a7fbdee",
   "metadata": {},
   "source": [
    "# Compare solutions"
   ]
  },
  {
   "cell_type": "code",
   "execution_count": null,
   "id": "289e22f2-f432-4217-b6d0-f98cec63b2cd",
   "metadata": {
    "scrolled": true
   },
   "outputs": [],
   "source": [
    "N = 1000\n",
    "test_data = pd.DataFrame({'start_time': [random.randint(transport_connections['dep_time_ut'].min(), \n",
    "                                           transport_connections['dep_time_ut'].max()) for i in range(N)],\n",
    "             'start_node' : [random.sample(tg.nodes, 1)[0] for i in range(N)], \n",
    "              'end_node' : [random.sample(tg.nodes, 1)[0] for i in range(N)]\n",
    "             })\n",
    "\n",
    "algorithms = ['fch', 'fch_ttf', 'fch_binary_duration', 'dijkstra', 'dijkstra_binary_duration', 'dijkstra_ttf']\n",
    "duration = {x: [] for x in algorithms}\n",
    "arrival = {x: 0 for x in algorithms}\n",
    "for index, row in test_data.iterrows():\n",
    "    random.shuffle(algorithms)\n",
    "    for algorithm in algorithms:\n",
    "        if algorithm == 'fch':\n",
    "            pathfinding = FCH(graph=ch_tg,\n",
    "                      start_time=row['start_time'],\n",
    "                      start_node=row['start_node'], \n",
    "                      end_node=row['end_node'])\n",
    "            path = pathfinding.shortest_path(60, optimized_binary_search=False, \n",
    "                                             next_index_optimization=False)\n",
    "            if path['path']:\n",
    "                duration[algorithm].append(path['duration'])\n",
    "            arrival[algorithm] = path['arrival']\n",
    "        elif algorithm == 'fch_ttf':\n",
    "            pathfinding = FCH(graph=ch_tg_ttf,\n",
    "                      start_time=row['start_time'],\n",
    "                      start_node=row['start_node'], \n",
    "                      end_node=row['end_node'])\n",
    "            path = pathfinding.shortest_path(60, optimized_binary_search=False, \n",
    "                                             next_index_optimization=False)\n",
    "            if path['path']:\n",
    "                duration[algorithm].append(path['duration'])\n",
    "            arrival[algorithm] = path['arrival']\n",
    "        elif algorithm == 'fch_binary_duration':\n",
    "            pathfinding = FCH(graph=ch_tg,\n",
    "                      start_time=row['start_time'],\n",
    "                      start_node=row['start_node'], \n",
    "                      end_node=row['end_node'])\n",
    "            path = pathfinding.shortest_path(60, optimized_binary_search=True,\n",
    "                                             next_index_optimization=False)\n",
    "            if path['path']:\n",
    "                duration[algorithm].append(path['duration'])\n",
    "            arrival[algorithm] = path['arrival']\n",
    "            \n",
    "        elif algorithm == 'dijkstra':\n",
    "            pathfinding = Dijkstra(graph=tg,\n",
    "                      start_time=row['start_time'],\n",
    "                      start_node=row['start_node'], \n",
    "                      end_node=row['end_node'])\n",
    "            path = pathfinding.shortest_path(60, optimized_binary_search=False)\n",
    "            if path['path']:\n",
    "                duration[algorithm].append(path['duration'])\n",
    "            arrival[algorithm] = path['arrival']\n",
    "        elif algorithm == 'dijkstra_ttf':\n",
    "            pathfinding = Dijkstra(graph=tg_ttf,\n",
    "                      start_time=row['start_time'],\n",
    "                      start_node=row['start_node'], \n",
    "                      end_node=row['end_node'])\n",
    "            path = pathfinding.shortest_path(60, optimized_binary_search=False)\n",
    "            if path['path']:\n",
    "                duration[algorithm].append(path['duration'])\n",
    "            arrival[algorithm] = path['arrival']\n",
    "        elif algorithm == 'dijkstra_binary_duration':\n",
    "            pathfinding = Dijkstra(graph=tg,\n",
    "                      start_time=row['start_time'],\n",
    "                      start_node=row['start_node'], \n",
    "                      end_node=row['end_node'])\n",
    "            path = pathfinding.shortest_path(60, optimized_binary_search=True)\n",
    "            if path['path']:\n",
    "                duration[algorithm].append(path['duration'])\n",
    "            arrival[algorithm] = path['arrival']\n",
    "    arr = arrival[algorithms[0]]        \n",
    "    for i in range(1, len(algorithms)):\n",
    "        assert arr == arrival[algorithms[i]]  "
   ]
  },
  {
   "cell_type": "code",
   "execution_count": null,
   "id": "d082f917-a905-4e94-8965-790a976860a5",
   "metadata": {},
   "outputs": [],
   "source": [
    "for algorithm in algorithms:\n",
    "    print(algorithm, np.mean(duration[algorithm]), np.median(duration[algorithm]), np.std(duration[algorithm]))"
   ]
  },
  {
   "cell_type": "code",
   "execution_count": null,
   "id": "2049759a-48f7-4944-8c59-763c70b55061",
   "metadata": {},
   "outputs": [],
   "source": [
    "from bisect import bisect_left\n",
    "\n",
    "for node1, out in tqdm(ch_tg.graph.items()):\n",
    "    for node2, f in out.items():\n",
    "        if ch_tg.hierarchy[node2] > ch_tg.hierarchy[node2]:\n",
    "            for i, bus in enumerate(f.buses):\n",
    "                \n",
    "                upper_index = bisect_left(ch_tg.nodes_schedule[node2], bus.a)\n",
    "    \n",
    "                if i == 0:\n",
    "                    bus.lower_index = 0\n",
    "                else:\n",
    "                   bus.lower_index = bisect_left(ch_tg.nodes_schedule[node2], f.buses[i - 1].a)\n",
    "\n",
    "                bus.next_nodes_schedule = ch_tg.nodes_schedule[node2][bus.lower_index:upper_index]\n",
    "        else:\n",
    "            for i, bus in enumerate(f.buses):\n",
    "                upper_index = bisect_left(ch_tg.nodes_schedule_down[node2], bus.a)\n",
    "    \n",
    "                if i == 0:\n",
    "                    bus.lower_index = 0\n",
    "                else:\n",
    "                   bus.lower_index = bisect_left(ch_tg.nodes_schedule_down[node2], f.buses[i - 1].a)\n",
    "\n",
    "                bus.next_nodes_schedule = ch_tg.nodes_schedule_down[node2][bus.lower_index:upper_index]"
   ]
  },
  {
   "cell_type": "markdown",
   "id": "e25c57a9-b068-4c1f-8e4a-b1af351ffa22",
   "metadata": {},
   "source": [
    "# Results"
   ]
  },
  {
   "cell_type": "code",
   "execution_count": null,
   "id": "3a2d8d08-328b-4897-a9ee-85d33d687746",
   "metadata": {},
   "outputs": [],
   "source": [
    "for algorithm in algorithms:\n",
    "    print(algorithm, np.mean(duration[algorithm]), np.median(duration[algorithm]), np.std(duration[algorithm]))"
   ]
  },
  {
   "cell_type": "code",
   "execution_count": null,
   "id": "3ec77b56",
   "metadata": {},
   "outputs": [],
   "source": []
  },
  {
   "cell_type": "code",
   "execution_count": null,
   "id": "c4bdcc73",
   "metadata": {},
   "outputs": [],
   "source": []
  }
 ],
 "metadata": {
  "kernelspec": {
   "display_name": "Python 3 (ipykernel)",
   "language": "python",
   "name": "python3"
  },
  "language_info": {
   "codemirror_mode": {
    "name": "ipython",
    "version": 3
   },
   "file_extension": ".py",
   "mimetype": "text/x-python",
   "name": "python",
   "nbconvert_exporter": "python",
   "pygments_lexer": "ipython3",
   "version": "3.10.8"
  }
 },
 "nbformat": 4,
 "nbformat_minor": 5
}
